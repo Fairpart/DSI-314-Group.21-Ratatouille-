{
 "cells": [
  {
   "cell_type": "code",
   "execution_count": 1,
   "id": "6291f010",
   "metadata": {},
   "outputs": [
    {
     "name": "stdout",
     "output_type": "stream",
     "text": [
      "Requirement already satisfied: selenium in c:\\users\\fair\\anaconda3\\lib\\site-packages (4.6.0)\n",
      "Requirement already satisfied: certifi>=2021.10.8 in c:\\users\\fair\\anaconda3\\lib\\site-packages (from selenium) (2022.9.14)\n",
      "Requirement already satisfied: urllib3[socks]~=1.26 in c:\\users\\fair\\anaconda3\\lib\\site-packages (from selenium) (1.26.11)\n",
      "Requirement already satisfied: trio~=0.17 in c:\\users\\fair\\anaconda3\\lib\\site-packages (from selenium) (0.22.0)\n",
      "Requirement already satisfied: trio-websocket~=0.9 in c:\\users\\fair\\anaconda3\\lib\\site-packages (from selenium) (0.9.2)\n",
      "Requirement already satisfied: outcome in c:\\users\\fair\\anaconda3\\lib\\site-packages (from trio~=0.17->selenium) (1.2.0)\n",
      "Requirement already satisfied: attrs>=19.2.0 in c:\\users\\fair\\anaconda3\\lib\\site-packages (from trio~=0.17->selenium) (21.4.0)\n",
      "Requirement already satisfied: sortedcontainers in c:\\users\\fair\\anaconda3\\lib\\site-packages (from trio~=0.17->selenium) (2.4.0)\n",
      "Requirement already satisfied: idna in c:\\users\\fair\\anaconda3\\lib\\site-packages (from trio~=0.17->selenium) (3.3)\n",
      "Requirement already satisfied: cffi>=1.14 in c:\\users\\fair\\anaconda3\\lib\\site-packages (from trio~=0.17->selenium) (1.15.1)\n",
      "Requirement already satisfied: exceptiongroup>=1.0.0rc9 in c:\\users\\fair\\anaconda3\\lib\\site-packages (from trio~=0.17->selenium) (1.0.4)\n",
      "Requirement already satisfied: sniffio in c:\\users\\fair\\anaconda3\\lib\\site-packages (from trio~=0.17->selenium) (1.2.0)\n",
      "Requirement already satisfied: async-generator>=1.9 in c:\\users\\fair\\anaconda3\\lib\\site-packages (from trio~=0.17->selenium) (1.10)\n",
      "Requirement already satisfied: wsproto>=0.14 in c:\\users\\fair\\anaconda3\\lib\\site-packages (from trio-websocket~=0.9->selenium) (1.2.0)\n",
      "Requirement already satisfied: PySocks!=1.5.7,<2.0,>=1.5.6 in c:\\users\\fair\\anaconda3\\lib\\site-packages (from urllib3[socks]~=1.26->selenium) (1.7.1)\n",
      "Requirement already satisfied: pycparser in c:\\users\\fair\\anaconda3\\lib\\site-packages (from cffi>=1.14->trio~=0.17->selenium) (2.21)\n",
      "Requirement already satisfied: h11<1,>=0.9.0 in c:\\users\\fair\\anaconda3\\lib\\site-packages (from wsproto>=0.14->trio-websocket~=0.9->selenium) (0.14.0)\n"
     ]
    },
    {
     "name": "stderr",
     "output_type": "stream",
     "text": [
      "WARNING: Ignoring invalid distribution -ookiecutter (c:\\users\\fair\\anaconda3\\lib\\site-packages)\n",
      "WARNING: Ignoring invalid distribution -ookiecutter (c:\\users\\fair\\anaconda3\\lib\\site-packages)\n",
      "WARNING: Ignoring invalid distribution -ookiecutter (c:\\users\\fair\\anaconda3\\lib\\site-packages)\n",
      "WARNING: Ignoring invalid distribution -ookiecutter (c:\\users\\fair\\anaconda3\\lib\\site-packages)\n",
      "WARNING: Ignoring invalid distribution -ookiecutter (c:\\users\\fair\\anaconda3\\lib\\site-packages)\n",
      "WARNING: Ignoring invalid distribution -ookiecutter (c:\\users\\fair\\anaconda3\\lib\\site-packages)\n"
     ]
    }
   ],
   "source": [
    "!pip install selenium"
   ]
  },
  {
   "cell_type": "markdown",
   "id": "ad15bdd9",
   "metadata": {},
   "source": [
    "# Def & Scraping Methods"
   ]
  },
  {
   "cell_type": "code",
   "execution_count": 2,
   "id": "b5022015",
   "metadata": {},
   "outputs": [],
   "source": [
    "def save_comment2mainList(main_comment_List,sub_comment_List):\n",
    "    for item in sub_comment_List:\n",
    "        main_comment_List.append(str(item))\n",
    "        \n",
    "def save_rating2mainList(main_rating_List,sub_rating_List):\n",
    "    for item in sub_rating_List:\n",
    "        main_rating_List.append(str(item))"
   ]
  },
  {
   "cell_type": "code",
   "execution_count": 3,
   "id": "ff8ea950",
   "metadata": {},
   "outputs": [],
   "source": [
    "def check_list_size(list_1,list_2):\n",
    "    if len(list_1) != len(list_2):\n",
    "        if len(list_1) > len(list_2):\n",
    "            list_1.pop(len(list_1)-1)\n",
    "        else:\n",
    "            list_2.pop(len(list_2)-1)\n",
    "    else:\n",
    "      return list_1,list_2"
   ]
  },
  {
   "cell_type": "code",
   "execution_count": 4,
   "id": "0ef53a5a",
   "metadata": {},
   "outputs": [],
   "source": [
    "def NextPages():\n",
    "    running = True\n",
    "    while running:\n",
    "        try:\n",
    "            try:\n",
    "                running = driver.find_element(By.XPATH,'/html/body/div[1]/div[5]/div[2]/div/div/div[1]/div/div/div[8]/div/div[7]').click()\n",
    "            except:\n",
    "                try:\n",
    "                    running = driver.find_element(By.XPATH,'/html/body/div[1]/div[5]/div[2]/div/div/div[1]/div/div/div[8]/div/div[8]').click()   \n",
    "                except:\n",
    "                    running = driver.find_elementh(By.XPATH,'/html/body/div[1]/div[5]/div[2]/div/div/div[1]/div/div/div[8]/div/div[9]').click() \n",
    "        except:\n",
    "             running = False\n",
    "        print('-----------------------------------------------------------','\\n')"
   ]
  },
  {
   "cell_type": "code",
   "execution_count": 5,
   "id": "7e351618",
   "metadata": {},
   "outputs": [],
   "source": [
    "def scraping_reviews(l_x1,l_x2,l_y1,l_y2): #scraping_reviews(ratings_list,reviews_list,Ratings_list,Reviews_list)\n",
    "    driver.execute_script(\"window.scrollTo(0,7770)\")\n",
    "    for review in driver.find_elements(By.CSS_SELECTOR,'div.css-1dbjc4n.r-1guathk.r-1yzf0co'):\n",
    "        for score in review.find_elements(By.CSS_SELECTOR,'div.css-901oao.r-1i6uqv8.r-1sixt3s.r-ubezar.r-majxgm.r-135wba7.r-fdjqy7'):\n",
    "            rate = score.text\n",
    "            print(rate)\n",
    "            l_x1.append(rate)\n",
    "\n",
    "        for comment in review.find_elements(By.CSS_SELECTOR,'div.css-1dbjc4n.r-1wzrnnt.r-1udh08x'):\n",
    "            criticism = comment.text\n",
    "            print(criticism)\n",
    "            l_x2.append(criticism)\n",
    "    \n",
    "        check_list_size(l_x1,l_x2)\n",
    "    save_comment2mainList(l_y1, l_x1)\n",
    "    save_rating2mainList(l_y2, l_x2)"
   ]
  },
  {
   "cell_type": "code",
   "execution_count": 6,
   "id": "df1083aa",
   "metadata": {},
   "outputs": [],
   "source": [
    "def clear_list(l_1,l_2):\n",
    "    reviews_list.clear()\n",
    "    ratings_list.clear()"
   ]
  },
  {
   "cell_type": "code",
   "execution_count": 7,
   "id": "49be123d",
   "metadata": {},
   "outputs": [],
   "source": [
    "#ลบ ข้อความส่วนไม่ต้องการออก รีวิว\n",
    "def abstract_review(review_ls):\n",
    "    for i in review_ls:\n",
    "        lenght = 0\n",
    "        for j in i.split():\n",
    "            if j == 'รีวิว':\n",
    "                sentence = ' '.join(i.split()[0:lenght])\n",
    "            lenght +=1\n",
    "        Reviews_list.append(sentence)\n",
    "    return Reviews_list"
   ]
  },
  {
   "cell_type": "code",
   "execution_count": 8,
   "id": "3f193c05",
   "metadata": {},
   "outputs": [],
   "source": [
    "#ลบ ข้อความส่วนไม่ต้องการออก /5\n",
    "def abstract_rating(rating_ls):\n",
    "    for i in ratings_list:\n",
    "        lenght = 0\n",
    "        for j in i.split():\n",
    "            if j == '/5':\n",
    "                rating = ' '.join(i.split()[0:lenght])\n",
    "            lenght +=1\n",
    "        Ratings_list.append(rating)\n",
    "    return Ratings_list"
   ]
  },
  {
   "cell_type": "markdown",
   "id": "3c9a43da",
   "metadata": {},
   "source": [
    "# Code Working"
   ]
  },
  {
   "cell_type": "code",
   "execution_count": 31,
   "id": "8d08c5ba",
   "metadata": {},
   "outputs": [
    {
     "name": "stderr",
     "output_type": "stream",
     "text": [
      "C:\\Users\\FAIR\\AppData\\Local\\Temp\\ipykernel_3676\\3727042862.py:8: DeprecationWarning: executable_path has been deprecated, please pass in a Service object\n",
      "  driver = webdriver.Edge(executable_path = path)\n"
     ]
    }
   ],
   "source": [
    "from selenium import webdriver\n",
    "from selenium.webdriver.common.by import By\n",
    "import time\n",
    "from selenium.webdriver.support.select import Select\n",
    "\n",
    "path = \"D:\\python\\Selenium\\edgedriver_win64\\msedgedriver.exe\"\n",
    "url = 'https://th.trip.com/hotels/detail/?cityId=359&hotelId=996752&checkIn=2022-12-11&checkOut=2022-12-12&adult=2&children=0&subStamp=480&crn=1&ages=&travelpurpose=0&curr=THB&link=button&hoteluniquekey=H4sIAAAAAAAAAOP6ysjFJMEkxMTBKPWKkWP--9ePWIQ4jc1NTAwNjIBwC6vFQm1Hj4dVIuuulzl4Hv6qEdP_qMohgKeQAQQcghwmMdpyLimw5bouHOQgKN_6OnDHPB8HJUUFFk2YCkMYw-IZZxAbx905TBIsUQxObBxHVvFLsMxgnPDaZiPjm8Adcq3aAQ47GJkOMP6HAcYTjAv5FjD1tvSJ72KCajgEZCz5wyjBcoqJ4RITwy0mhkdMUFNfMTF8YmL4BVPZxMzQxcwwiRmqfhYzVNkiZgYp3rRUS0ujRLNkA8M0AwsFIY23L67OYTOSmcTIFOJxilHE0MzM3MTc1MLAHEjpGeWZ5RrnWzFLMbp5MAaxuZoaWxoZR2lxMYcGuwgKf3I8n3ZV2kGKOcTDSdH4yEa9vMUn7bVAPEMYL4m1JEM3xCNjAXcBYxcjhwCjB2MEYwXjK0aQKgCqVPZkhQEAAA&subChannel=&masterhotelid_tracelogid=fe992a6c01f08&barcurr=THB'\n",
    "driver = webdriver.Edge(executable_path = path)\n",
    "driver.get(url)\n",
    "\n",
    "Reviews_list, reviews_list = [],[]\n",
    "Ratings_list, ratings_list = [],[]\n"
   ]
  },
  {
   "cell_type": "code",
   "execution_count": 32,
   "id": "00450a45",
   "metadata": {},
   "outputs": [
    {
     "data": {
      "text/plain": [
       "'รีวิววิค ทรี แบงคอก (SHA Plus+) - โปรโมชั่นโรงแรม 4 ดาวในกรุงเทพฯ | Trip.com'"
      ]
     },
     "execution_count": 32,
     "metadata": {},
     "output_type": "execute_result"
    }
   ],
   "source": [
    "driver.title"
   ]
  },
  {
   "cell_type": "code",
   "execution_count": 33,
   "id": "b9c348fe",
   "metadata": {},
   "outputs": [],
   "source": [
    "driver.execute_script(\"window.scrollTo(0,1650)\")"
   ]
  },
  {
   "cell_type": "code",
   "execution_count": 34,
   "id": "05217a71",
   "metadata": {},
   "outputs": [],
   "source": [
    "#Click all Review\n",
    "sel = driver.find_element(By.XPATH,\"/html/body/div[3]/section/article/div/div[5]/div[5]/section[1]/div/div/ul[2]/li/div/div[2]/div[1]/div[2]/div/button[1]\")\n",
    "sel.click()"
   ]
  },
  {
   "cell_type": "code",
   "execution_count": 35,
   "id": "e6f59dcb",
   "metadata": {},
   "outputs": [],
   "source": [
    "driver.execute_script(\"window.scrollTo(0,5400)\")"
   ]
  },
  {
   "cell_type": "code",
   "execution_count": 36,
   "id": "da8a43b8",
   "metadata": {},
   "outputs": [
    {
     "name": "stdout",
     "output_type": "stream",
     "text": [
      "มาพักเป็นครั้งที่ 3 แล้วค่ะ ประทับใจตั้งแต่ทำเลของโรงแรม การบริการ ห้องพัก ความสะอาด\n",
      "รีวิว 6 ธันวาคม 2022\n",
      "บริการดี ประทับใจ เดินทางสะดวกครับ ใกล้แหล่งของกิน ใกล้รถไฟฟ้า มาพัก 2 ครั้งแล้ว\n",
      "รีวิว 1 ธันวาคม 2022\n",
      "การบริการดีเเละห้องสวยงามห้องน้ำสะอาดมีที่จอดรถใต้ดินสองชั้น\n",
      "รีวิว 12 พฤศจิกายน 2022\n",
      "ทำเลโรงแรมดีมากค่ะ ห้องกว้างห้องน้ำก็กว้างสมราคา ทางเดินห้องอาจจะมืดๆไปหน่อย แต่ภายในห้องสวยค่ะไม่ได้แย่เลย พนักงานบริการดีพูดจาเพราะไม่เหวี่ยง ไปไหนสะดวกมาคนเดียวก็ไม่น่ากลัวค่ะ ใกล้สถานที่ คาเฟ่ ร้านอาหารต่างๆ *ติดตรงเข้าพักคืนแรกที่นอนมีฝุ่นนิดหน่อย เหมือนไม่ได้ใช้งาน แต่คืนต่อไปแม่บ้านทำความสะอาดคือดีมากค่ะ ทุกอย่างสะอาดเอื่ยม *แต่เสียดายสัญญาณเน็ตภายในโรงแรมไม่แรง นอกนั้นดีหมด\n",
      "รีวิว 20 กรกฎาคม 2022\n",
      "ห้องดีมากสะอาดห้องน้ำสะอาดเเอร์เย็นฉ่ำพนักงานบริการดีติดรถไฟฟ้าBTS\n",
      "รีวิว 22 สิงหาคม 2022\n",
      "ห้องสะอาด แอร์เย็นไม่หนาวมาก อากาศปลอดกลิ่นบุหรี่ ปลอดภัย\n",
      "รีวิว 29 สิงหาคม 2022\n",
      "ใกล้bts เดินไม่นานก็ถึง พนักงานบริการดี สะดวกสบายชอบมาก\n",
      "รีวิว 13 กรกฎาคม 2022\n",
      "ใช่บริการประจำห้องสะอาดเตียงนุ่มมีที่จอดรถ มีร้านอาหารเดินทางสะดวกใกล้บีทีเอส ❤️❤️❤️❤️❤️❤️❤️❤️❤️❤️❤️❤️🍂🍂🍂🍂🍂🍂🍂❤️❤️❤️❤️❤️❤️❤️❤️❤️❤️❤️❤️❤️❤️❤️❤️❤️ชอบมากๆค่ะ ประทับใจจจจจจจ ❤️❤️❤️❤️❤️❤️❤️❤️❤️❤️❤️❤️\n",
      "รีวิว 22 กุมภาพันธ์ 2022\n",
      "โดยรวมดีมากคะ ห้องสะอาด หองกว้าง เตียงนอนหลับสบาย แอร์เย็นการเดินทางมารร.สะดวกและไม่ไกล แนะนำเลยคะว่าควรกลับมาพักอีก\n",
      "รีวิว 20 กุมภาพันธ์ 2022\n",
      "อยากให้ขยายที่จอดรถเพิ่มขึ้น ที่จอดน้อยไป ทุกอย่างดี ยกเว้น ที่จอดรถ\n",
      "มีประโยชน์\n",
      "รีวิว 2 ธันวาคม 2022\n",
      "4.5\n",
      "/5\n",
      "5.0\n",
      "/5\n",
      "3.7\n",
      "/5\n",
      "4.7\n",
      "/5\n",
      "5.0\n",
      "/5\n",
      "5.0\n",
      "/5\n",
      "5.0\n",
      "/5\n",
      "5.0\n",
      "/5\n",
      "4.5\n",
      "/5\n",
      "3.7\n",
      "/5\n"
     ]
    },
    {
     "data": {
      "text/plain": [
       "['4.5', '5.0', '3.7', '4.7', '5.0', '5.0', '5.0', '5.0', '4.5', '3.7']"
      ]
     },
     "execution_count": 36,
     "metadata": {},
     "output_type": "execute_result"
    }
   ],
   "source": [
    "for comement in driver.find_elements(By.CLASS_NAME,'comment'):\n",
    "    reviews = comement.text\n",
    "    print(reviews)\n",
    "    reviews_list.append(reviews)\n",
    "    \n",
    "for score in driver.find_elements(By.CLASS_NAME,'m-score_single'):\n",
    "    scores = score.text\n",
    "    print(scores)\n",
    "    ratings_list.append(scores)\n",
    "\n",
    "check_list_size(ratings_list,reviews_list)\n",
    "abstract_review(reviews_list)\n",
    "abstract_rating(ratings_list)"
   ]
  },
  {
   "cell_type": "code",
   "execution_count": 37,
   "id": "9b5858cd",
   "metadata": {},
   "outputs": [],
   "source": [
    "next_page = driver.find_element(By.XPATH,'/html/body/div[3]/section/article/div/div[5]/div[5]/section[1]/div/div/ul[2]/li/div/div[2]/div[2]/div[12]/ul/li[3]/a')\n",
    "next_page.click()"
   ]
  },
  {
   "cell_type": "code",
   "execution_count": 49,
   "id": "b299590f",
   "metadata": {},
   "outputs": [
    {
     "name": "stdout",
     "output_type": "stream",
     "text": [
      "ทำเลดีมาก สถานี MRT อยู่ห่างจากซอยโรงแรมเพียงสองก้าว การตกแต่งห้องเก่าเกินไปและการทำความสะอาดไม่ค่อยสะอาด การออกแบบตู้โต๊ะไม่เหมาะสม และที่นอนสองข้างไม่เหมือนกัน ? ค่าห้องแพงกว่านิดหน่อย 😄\n",
      "ข้อความเดิม\n",
      "แปลโดย Google\n",
      "รีวิว 6 กรกฎาคม 2021\n",
      "สวัสดี สวัสดี พรุ่งนี้คุณเป็นอย่างไร\n",
      "ข้อความเดิม\n",
      "แปลโดย Google\n",
      "รีวิว 31 กรกฎาคม 2022\n",
      "โรงแรมที่ดีเยี่ยม\n",
      "ข้อความเดิม\n",
      "แปลโดย Google\n",
      "รีวิว 11 สิงหาคม 2022\n",
      "สถานที่ที่ดี. ใกล้ bts.\n",
      "ข้อความเดิม\n",
      "แปลโดย Google\n",
      "รีวิว 5 ธันวาคม 2021\n",
      "โรงแรมนี้สะดวกสบายมาก เพิ่งเปิดใหม่. สิ่งอำนวยความสะดวกใหม่มาก ของครบ แน่นอน ห้องเล็กมาก เปิดหน้าต่างระบายอากาศไม่ได้ ประตูเป็น ราวลอยฟ้า รอบๆไม่มีของกินต้องเดินไกล\n",
      "ข้อความเดิม\n",
      "แปลโดย Google\n",
      "รีวิว 5 กุมภาพันธ์ 2020\n",
      "คนที่ไปกรุงเทพบ่อยต้องพักร้านนี้ ฉันไม่ได้ไม่พอใจ ทำเล ห้องพัก และสิ่งอำนวยความสะดวกดีมาก จุดสำคัญคือมีข้าวมันไก่และข้าวหมูแบบไทยหน้าร้านอาหารตอนเที่ยง แม่ค้าข้างทางอร่อยมาก!\n",
      "ข้อความเดิม\n",
      "แปลโดย Google\n",
      "รีวิว 25 ธันวาคม 2019\n",
      "โรงแรมโปรดของฉันในกรุงเทพฯ ฉันต้องเลือก VIC3 ทุกครั้งที่ไปกรุงเทพ พนักงานเคาน์เตอร์เอาใจใส่และสุภาพมาก ทำเลที่ตั้งดีมาก ใกล้มาก ๆ กับ MRT สนามยิงปืน! ดันใหญ่~\n",
      "ข้อความเดิม\n",
      "แปลโดย Google\n",
      "รีวิว 25 ธันวาคม 2019\n",
      "สนามบินสุวรรณภูมิ มาโดยรถไฟใต้ดิน ประมาณสี่สิบห้านาที ขึ้นรถไฟสายสนามบินมาลงที่สถานี Piete ออกจากสถานีแล้วซื้อเลย ออกจากทางออกที่ 2 ของสนามยิงปืนสำเภา แล้วตรงไป 50 เมตร แล้วเลี้ยวซ้าย ทำเลที่สะดวกสำหรับการเดินทางเพื่อธุรกิจ\n",
      "ข้อความเดิม\n",
      "แปลโดย Google\n",
      "รีวิว 15 ธันวาคม 2019\n",
      "ทำเลสะดวก ห่างจาก MRT และสถานีขนส่งเพียง 2 นาที นำแปรงสีฟันมาเอง\n",
      "ข้อความเดิม\n",
      "แปลโดย Google\n",
      "รีวิว 3 กุมภาพันธ์ 2020\n",
      "เพื่อเพิ่มความคิดเห็นก่อนหน้านี้โรงแรมอยู่ห่างจากร้านปลอดภาษี Wangquan เพียงสถานีเดียวและเดินไปได้ไม่ถึง 1 กม. เพื่อน ๆ ที่มีอิสระเดินทางในกรุงเทพหนึ่งวันสามารถแวะไปที่ Wangquan เพื่อรับ 200 บัตรกำนัลอาหารหมูสำหรับอาหารค่ำฟรีแล้วกลับไปที่โรงแรมอะไร\n",
      "ข้อความเดิม\n",
      "แปลโดย Google\n",
      "รีวิว 14 ธันวาคม 2019\n",
      "3.2\n",
      "/5\n",
      "5.0\n",
      "/5\n",
      "4.2\n",
      "/5\n",
      "5.0\n",
      "/5\n",
      "5.0\n",
      "/5\n",
      "5.0\n",
      "/5\n",
      "5.0\n",
      "/5\n",
      "4.0\n",
      "/5\n",
      "5.0\n",
      "/5\n",
      "4.5\n",
      "/5\n"
     ]
    },
    {
     "data": {
      "text/plain": [
       "['4.5',\n",
       " '5.0',\n",
       " '3.7',\n",
       " '4.7',\n",
       " '5.0',\n",
       " '5.0',\n",
       " '5.0',\n",
       " '5.0',\n",
       " '4.5',\n",
       " '3.7',\n",
       " '5.0',\n",
       " '5.0',\n",
       " '5.0',\n",
       " '4.5',\n",
       " '4.0',\n",
       " '3.5',\n",
       " '4.5',\n",
       " '4.2',\n",
       " '5.0',\n",
       " '5.0',\n",
       " '5.0',\n",
       " '5.0',\n",
       " '4.5',\n",
       " '3.2',\n",
       " '4.0',\n",
       " '5.0',\n",
       " '5.0',\n",
       " '4.0',\n",
       " '4.0',\n",
       " '4.5',\n",
       " '4.7',\n",
       " '4.0',\n",
       " '3.5',\n",
       " '4.5',\n",
       " '4.2',\n",
       " '4.0',\n",
       " '5.0',\n",
       " '4.0',\n",
       " '4.0',\n",
       " '5.0',\n",
       " '4.0',\n",
       " '5.0',\n",
       " '5.0',\n",
       " '5.0',\n",
       " '5.0',\n",
       " '4.5',\n",
       " '4.7',\n",
       " '3.2',\n",
       " '4.5',\n",
       " '4.0',\n",
       " '4.2',\n",
       " '5.0',\n",
       " '4.5',\n",
       " '1.2',\n",
       " '4.2',\n",
       " '3.0',\n",
       " '4.7',\n",
       " '4.2',\n",
       " '4.0',\n",
       " '3.5',\n",
       " '3.2',\n",
       " '5.0',\n",
       " '4.2',\n",
       " '5.0',\n",
       " '5.0',\n",
       " '5.0',\n",
       " '5.0',\n",
       " '4.0',\n",
       " '5.0',\n",
       " '4.5']"
      ]
     },
     "execution_count": 49,
     "metadata": {},
     "output_type": "execute_result"
    }
   ],
   "source": [
    "driver.execute_script(\"window.scrollTo(0,4100)\")\n",
    "clear_list(ratings_list,reviews_list)\n",
    "\n",
    "time.sleep(3)\n",
    "for comement in driver.find_elements(By.CLASS_NAME,'comment'):\n",
    "    reviews = comement.text\n",
    "    print(reviews)\n",
    "    reviews_list.append(reviews)\n",
    "    \n",
    "for score in driver.find_elements(By.CLASS_NAME,'m-score_single'):\n",
    "    scores = score.text\n",
    "    print(scores)\n",
    "    ratings_list.append(scores)\n",
    "\n",
    "check_list_size(ratings_list,reviews_list)\n",
    "abstract_review(reviews_list)\n",
    "abstract_rating(ratings_list)\n"
   ]
  },
  {
   "cell_type": "code",
   "execution_count": 47,
   "id": "1c39a833",
   "metadata": {},
   "outputs": [],
   "source": [
    "time.sleep(3)\n",
    "next_page = driver.find_element(By.XPATH,'/html/body/div[3]/section/article/div/div[5]/div[5]/section[1]/div/div/ul[2]/li/div/div[2]/div[2]/div[12]/ul/li[3]/a')\n",
    "next_page.click()"
   ]
  },
  {
   "cell_type": "code",
   "execution_count": 50,
   "id": "c2e2a225",
   "metadata": {},
   "outputs": [
    {
     "name": "stdout",
     "output_type": "stream",
     "text": [
      "Ratings_list : 70\n",
      "Reviews_list : 70\n"
     ]
    }
   ],
   "source": [
    "print('Ratings_list :',len(Ratings_list))\n",
    "print('Reviews_list :',len(Reviews_list))"
   ]
  },
  {
   "cell_type": "markdown",
   "id": "bc68ba69",
   "metadata": {},
   "source": [
    "# Implement Data To Pandas"
   ]
  },
  {
   "cell_type": "code",
   "execution_count": 51,
   "id": "27364384",
   "metadata": {},
   "outputs": [],
   "source": [
    "import pandas as pd\n",
    "import numpy as np\n",
    "\n",
    "table = pd.DataFrame([Reviews_list,Ratings_list]).T"
   ]
  },
  {
   "cell_type": "code",
   "execution_count": 52,
   "id": "d90998ff",
   "metadata": {},
   "outputs": [],
   "source": [
    "table.columns = ['Review', 'Rating']"
   ]
  },
  {
   "cell_type": "code",
   "execution_count": 53,
   "id": "e9b956ed",
   "metadata": {},
   "outputs": [],
   "source": [
    "table['Review'].replace('', np.nan, inplace=True)"
   ]
  },
  {
   "cell_type": "code",
   "execution_count": 54,
   "id": "ba849aa2",
   "metadata": {},
   "outputs": [
    {
     "data": {
      "text/html": [
       "<div>\n",
       "<style scoped>\n",
       "    .dataframe tbody tr th:only-of-type {\n",
       "        vertical-align: middle;\n",
       "    }\n",
       "\n",
       "    .dataframe tbody tr th {\n",
       "        vertical-align: top;\n",
       "    }\n",
       "\n",
       "    .dataframe thead th {\n",
       "        text-align: right;\n",
       "    }\n",
       "</style>\n",
       "<table border=\"1\" class=\"dataframe\">\n",
       "  <thead>\n",
       "    <tr style=\"text-align: right;\">\n",
       "      <th></th>\n",
       "      <th>Review</th>\n",
       "      <th>Rating</th>\n",
       "    </tr>\n",
       "  </thead>\n",
       "  <tbody>\n",
       "    <tr>\n",
       "      <th>0</th>\n",
       "      <td>มาพักเป็นครั้งที่ 3 แล้วค่ะ ประทับใจตั้งแต่ทำเ...</td>\n",
       "      <td>4.5</td>\n",
       "    </tr>\n",
       "    <tr>\n",
       "      <th>1</th>\n",
       "      <td>บริการดี ประทับใจ เดินทางสะดวกครับ ใกล้แหล่งขอ...</td>\n",
       "      <td>5.0</td>\n",
       "    </tr>\n",
       "    <tr>\n",
       "      <th>2</th>\n",
       "      <td>การบริการดีเเละห้องสวยงามห้องน้ำสะอาดมีที่จอดร...</td>\n",
       "      <td>3.7</td>\n",
       "    </tr>\n",
       "    <tr>\n",
       "      <th>3</th>\n",
       "      <td>ทำเลโรงแรมดีมากค่ะ ห้องกว้างห้องน้ำก็กว้างสมรา...</td>\n",
       "      <td>4.7</td>\n",
       "    </tr>\n",
       "    <tr>\n",
       "      <th>4</th>\n",
       "      <td>ห้องดีมากสะอาดห้องน้ำสะอาดเเอร์เย็นฉ่ำพนักงานบ...</td>\n",
       "      <td>5.0</td>\n",
       "    </tr>\n",
       "    <tr>\n",
       "      <th>...</th>\n",
       "      <td>...</td>\n",
       "      <td>...</td>\n",
       "    </tr>\n",
       "    <tr>\n",
       "      <th>65</th>\n",
       "      <td>คนที่ไปกรุงเทพบ่อยต้องพักร้านนี้ ฉันไม่ได้ไม่พ...</td>\n",
       "      <td>5.0</td>\n",
       "    </tr>\n",
       "    <tr>\n",
       "      <th>66</th>\n",
       "      <td>โรงแรมโปรดของฉันในกรุงเทพฯ ฉันต้องเลือก VIC3 ท...</td>\n",
       "      <td>5.0</td>\n",
       "    </tr>\n",
       "    <tr>\n",
       "      <th>67</th>\n",
       "      <td>สนามบินสุวรรณภูมิ มาโดยรถไฟใต้ดิน ประมาณสี่สิบ...</td>\n",
       "      <td>4.0</td>\n",
       "    </tr>\n",
       "    <tr>\n",
       "      <th>68</th>\n",
       "      <td>ทำเลสะดวก ห่างจาก MRT และสถานีขนส่งเพียง 2 นาท...</td>\n",
       "      <td>5.0</td>\n",
       "    </tr>\n",
       "    <tr>\n",
       "      <th>69</th>\n",
       "      <td>เพื่อเพิ่มความคิดเห็นก่อนหน้านี้โรงแรมอยู่ห่าง...</td>\n",
       "      <td>4.5</td>\n",
       "    </tr>\n",
       "  </tbody>\n",
       "</table>\n",
       "<p>70 rows × 2 columns</p>\n",
       "</div>"
      ],
      "text/plain": [
       "                                               Review Rating\n",
       "0   มาพักเป็นครั้งที่ 3 แล้วค่ะ ประทับใจตั้งแต่ทำเ...    4.5\n",
       "1   บริการดี ประทับใจ เดินทางสะดวกครับ ใกล้แหล่งขอ...    5.0\n",
       "2   การบริการดีเเละห้องสวยงามห้องน้ำสะอาดมีที่จอดร...    3.7\n",
       "3   ทำเลโรงแรมดีมากค่ะ ห้องกว้างห้องน้ำก็กว้างสมรา...    4.7\n",
       "4   ห้องดีมากสะอาดห้องน้ำสะอาดเเอร์เย็นฉ่ำพนักงานบ...    5.0\n",
       "..                                                ...    ...\n",
       "65  คนที่ไปกรุงเทพบ่อยต้องพักร้านนี้ ฉันไม่ได้ไม่พ...    5.0\n",
       "66  โรงแรมโปรดของฉันในกรุงเทพฯ ฉันต้องเลือก VIC3 ท...    5.0\n",
       "67  สนามบินสุวรรณภูมิ มาโดยรถไฟใต้ดิน ประมาณสี่สิบ...    4.0\n",
       "68  ทำเลสะดวก ห่างจาก MRT และสถานีขนส่งเพียง 2 นาท...    5.0\n",
       "69  เพื่อเพิ่มความคิดเห็นก่อนหน้านี้โรงแรมอยู่ห่าง...    4.5\n",
       "\n",
       "[70 rows x 2 columns]"
      ]
     },
     "execution_count": 54,
     "metadata": {},
     "output_type": "execute_result"
    }
   ],
   "source": [
    "table"
   ]
  },
  {
   "cell_type": "code",
   "execution_count": 55,
   "id": "dad3a755",
   "metadata": {},
   "outputs": [
    {
     "data": {
      "text/html": [
       "<div>\n",
       "<style scoped>\n",
       "    .dataframe tbody tr th:only-of-type {\n",
       "        vertical-align: middle;\n",
       "    }\n",
       "\n",
       "    .dataframe tbody tr th {\n",
       "        vertical-align: top;\n",
       "    }\n",
       "\n",
       "    .dataframe thead th {\n",
       "        text-align: right;\n",
       "    }\n",
       "</style>\n",
       "<table border=\"1\" class=\"dataframe\">\n",
       "  <thead>\n",
       "    <tr style=\"text-align: right;\">\n",
       "      <th></th>\n",
       "      <th>index</th>\n",
       "      <th>Review</th>\n",
       "      <th>Rating</th>\n",
       "    </tr>\n",
       "  </thead>\n",
       "  <tbody>\n",
       "    <tr>\n",
       "      <th>0</th>\n",
       "      <td>0</td>\n",
       "      <td>มาพักเป็นครั้งที่ 3 แล้วค่ะ ประทับใจตั้งแต่ทำเ...</td>\n",
       "      <td>4.5</td>\n",
       "    </tr>\n",
       "    <tr>\n",
       "      <th>1</th>\n",
       "      <td>1</td>\n",
       "      <td>บริการดี ประทับใจ เดินทางสะดวกครับ ใกล้แหล่งขอ...</td>\n",
       "      <td>5.0</td>\n",
       "    </tr>\n",
       "    <tr>\n",
       "      <th>2</th>\n",
       "      <td>2</td>\n",
       "      <td>การบริการดีเเละห้องสวยงามห้องน้ำสะอาดมีที่จอดร...</td>\n",
       "      <td>3.7</td>\n",
       "    </tr>\n",
       "    <tr>\n",
       "      <th>3</th>\n",
       "      <td>3</td>\n",
       "      <td>ทำเลโรงแรมดีมากค่ะ ห้องกว้างห้องน้ำก็กว้างสมรา...</td>\n",
       "      <td>4.7</td>\n",
       "    </tr>\n",
       "    <tr>\n",
       "      <th>4</th>\n",
       "      <td>4</td>\n",
       "      <td>ห้องดีมากสะอาดห้องน้ำสะอาดเเอร์เย็นฉ่ำพนักงานบ...</td>\n",
       "      <td>5.0</td>\n",
       "    </tr>\n",
       "    <tr>\n",
       "      <th>...</th>\n",
       "      <td>...</td>\n",
       "      <td>...</td>\n",
       "      <td>...</td>\n",
       "    </tr>\n",
       "    <tr>\n",
       "      <th>65</th>\n",
       "      <td>65</td>\n",
       "      <td>คนที่ไปกรุงเทพบ่อยต้องพักร้านนี้ ฉันไม่ได้ไม่พ...</td>\n",
       "      <td>5.0</td>\n",
       "    </tr>\n",
       "    <tr>\n",
       "      <th>66</th>\n",
       "      <td>66</td>\n",
       "      <td>โรงแรมโปรดของฉันในกรุงเทพฯ ฉันต้องเลือก VIC3 ท...</td>\n",
       "      <td>5.0</td>\n",
       "    </tr>\n",
       "    <tr>\n",
       "      <th>67</th>\n",
       "      <td>67</td>\n",
       "      <td>สนามบินสุวรรณภูมิ มาโดยรถไฟใต้ดิน ประมาณสี่สิบ...</td>\n",
       "      <td>4.0</td>\n",
       "    </tr>\n",
       "    <tr>\n",
       "      <th>68</th>\n",
       "      <td>68</td>\n",
       "      <td>ทำเลสะดวก ห่างจาก MRT และสถานีขนส่งเพียง 2 นาท...</td>\n",
       "      <td>5.0</td>\n",
       "    </tr>\n",
       "    <tr>\n",
       "      <th>69</th>\n",
       "      <td>69</td>\n",
       "      <td>เพื่อเพิ่มความคิดเห็นก่อนหน้านี้โรงแรมอยู่ห่าง...</td>\n",
       "      <td>4.5</td>\n",
       "    </tr>\n",
       "  </tbody>\n",
       "</table>\n",
       "<p>70 rows × 3 columns</p>\n",
       "</div>"
      ],
      "text/plain": [
       "    index                                             Review Rating\n",
       "0       0  มาพักเป็นครั้งที่ 3 แล้วค่ะ ประทับใจตั้งแต่ทำเ...    4.5\n",
       "1       1  บริการดี ประทับใจ เดินทางสะดวกครับ ใกล้แหล่งขอ...    5.0\n",
       "2       2  การบริการดีเเละห้องสวยงามห้องน้ำสะอาดมีที่จอดร...    3.7\n",
       "3       3  ทำเลโรงแรมดีมากค่ะ ห้องกว้างห้องน้ำก็กว้างสมรา...    4.7\n",
       "4       4  ห้องดีมากสะอาดห้องน้ำสะอาดเเอร์เย็นฉ่ำพนักงานบ...    5.0\n",
       "..    ...                                                ...    ...\n",
       "65     65  คนที่ไปกรุงเทพบ่อยต้องพักร้านนี้ ฉันไม่ได้ไม่พ...    5.0\n",
       "66     66  โรงแรมโปรดของฉันในกรุงเทพฯ ฉันต้องเลือก VIC3 ท...    5.0\n",
       "67     67  สนามบินสุวรรณภูมิ มาโดยรถไฟใต้ดิน ประมาณสี่สิบ...    4.0\n",
       "68     68  ทำเลสะดวก ห่างจาก MRT และสถานีขนส่งเพียง 2 นาท...    5.0\n",
       "69     69  เพื่อเพิ่มความคิดเห็นก่อนหน้านี้โรงแรมอยู่ห่าง...    4.5\n",
       "\n",
       "[70 rows x 3 columns]"
      ]
     },
     "execution_count": 55,
     "metadata": {},
     "output_type": "execute_result"
    }
   ],
   "source": [
    "table = table.dropna()\n",
    "table.reset_index(inplace=True)\n",
    "table"
   ]
  },
  {
   "cell_type": "code",
   "execution_count": 56,
   "id": "dff0423a",
   "metadata": {},
   "outputs": [],
   "source": [
    "table = table.drop(['index'],axis=1)"
   ]
  },
  {
   "cell_type": "code",
   "execution_count": 57,
   "id": "18265b8e",
   "metadata": {},
   "outputs": [
    {
     "data": {
      "text/html": [
       "<div>\n",
       "<style scoped>\n",
       "    .dataframe tbody tr th:only-of-type {\n",
       "        vertical-align: middle;\n",
       "    }\n",
       "\n",
       "    .dataframe tbody tr th {\n",
       "        vertical-align: top;\n",
       "    }\n",
       "\n",
       "    .dataframe thead th {\n",
       "        text-align: right;\n",
       "    }\n",
       "</style>\n",
       "<table border=\"1\" class=\"dataframe\">\n",
       "  <thead>\n",
       "    <tr style=\"text-align: right;\">\n",
       "      <th></th>\n",
       "      <th>Review</th>\n",
       "      <th>Rating</th>\n",
       "    </tr>\n",
       "  </thead>\n",
       "  <tbody>\n",
       "    <tr>\n",
       "      <th>0</th>\n",
       "      <td>มาพักเป็นครั้งที่ 3 แล้วค่ะ ประทับใจตั้งแต่ทำเ...</td>\n",
       "      <td>4.5</td>\n",
       "    </tr>\n",
       "    <tr>\n",
       "      <th>1</th>\n",
       "      <td>บริการดี ประทับใจ เดินทางสะดวกครับ ใกล้แหล่งขอ...</td>\n",
       "      <td>5.0</td>\n",
       "    </tr>\n",
       "    <tr>\n",
       "      <th>2</th>\n",
       "      <td>การบริการดีเเละห้องสวยงามห้องน้ำสะอาดมีที่จอดร...</td>\n",
       "      <td>3.7</td>\n",
       "    </tr>\n",
       "    <tr>\n",
       "      <th>3</th>\n",
       "      <td>ทำเลโรงแรมดีมากค่ะ ห้องกว้างห้องน้ำก็กว้างสมรา...</td>\n",
       "      <td>4.7</td>\n",
       "    </tr>\n",
       "    <tr>\n",
       "      <th>4</th>\n",
       "      <td>ห้องดีมากสะอาดห้องน้ำสะอาดเเอร์เย็นฉ่ำพนักงานบ...</td>\n",
       "      <td>5.0</td>\n",
       "    </tr>\n",
       "    <tr>\n",
       "      <th>...</th>\n",
       "      <td>...</td>\n",
       "      <td>...</td>\n",
       "    </tr>\n",
       "    <tr>\n",
       "      <th>65</th>\n",
       "      <td>คนที่ไปกรุงเทพบ่อยต้องพักร้านนี้ ฉันไม่ได้ไม่พ...</td>\n",
       "      <td>5.0</td>\n",
       "    </tr>\n",
       "    <tr>\n",
       "      <th>66</th>\n",
       "      <td>โรงแรมโปรดของฉันในกรุงเทพฯ ฉันต้องเลือก VIC3 ท...</td>\n",
       "      <td>5.0</td>\n",
       "    </tr>\n",
       "    <tr>\n",
       "      <th>67</th>\n",
       "      <td>สนามบินสุวรรณภูมิ มาโดยรถไฟใต้ดิน ประมาณสี่สิบ...</td>\n",
       "      <td>4.0</td>\n",
       "    </tr>\n",
       "    <tr>\n",
       "      <th>68</th>\n",
       "      <td>ทำเลสะดวก ห่างจาก MRT และสถานีขนส่งเพียง 2 นาท...</td>\n",
       "      <td>5.0</td>\n",
       "    </tr>\n",
       "    <tr>\n",
       "      <th>69</th>\n",
       "      <td>เพื่อเพิ่มความคิดเห็นก่อนหน้านี้โรงแรมอยู่ห่าง...</td>\n",
       "      <td>4.5</td>\n",
       "    </tr>\n",
       "  </tbody>\n",
       "</table>\n",
       "<p>70 rows × 2 columns</p>\n",
       "</div>"
      ],
      "text/plain": [
       "                                               Review Rating\n",
       "0   มาพักเป็นครั้งที่ 3 แล้วค่ะ ประทับใจตั้งแต่ทำเ...    4.5\n",
       "1   บริการดี ประทับใจ เดินทางสะดวกครับ ใกล้แหล่งขอ...    5.0\n",
       "2   การบริการดีเเละห้องสวยงามห้องน้ำสะอาดมีที่จอดร...    3.7\n",
       "3   ทำเลโรงแรมดีมากค่ะ ห้องกว้างห้องน้ำก็กว้างสมรา...    4.7\n",
       "4   ห้องดีมากสะอาดห้องน้ำสะอาดเเอร์เย็นฉ่ำพนักงานบ...    5.0\n",
       "..                                                ...    ...\n",
       "65  คนที่ไปกรุงเทพบ่อยต้องพักร้านนี้ ฉันไม่ได้ไม่พ...    5.0\n",
       "66  โรงแรมโปรดของฉันในกรุงเทพฯ ฉันต้องเลือก VIC3 ท...    5.0\n",
       "67  สนามบินสุวรรณภูมิ มาโดยรถไฟใต้ดิน ประมาณสี่สิบ...    4.0\n",
       "68  ทำเลสะดวก ห่างจาก MRT และสถานีขนส่งเพียง 2 นาท...    5.0\n",
       "69  เพื่อเพิ่มความคิดเห็นก่อนหน้านี้โรงแรมอยู่ห่าง...    4.5\n",
       "\n",
       "[70 rows x 2 columns]"
      ]
     },
     "execution_count": 57,
     "metadata": {},
     "output_type": "execute_result"
    }
   ],
   "source": [
    "table"
   ]
  },
  {
   "cell_type": "code",
   "execution_count": 58,
   "id": "3c346b86",
   "metadata": {},
   "outputs": [],
   "source": [
    "table.to_csv(\"Unseen_4.csv\", encoding=\"utf-8\") "
   ]
  },
  {
   "cell_type": "code",
   "execution_count": null,
   "id": "efb41526",
   "metadata": {},
   "outputs": [],
   "source": []
  }
 ],
 "metadata": {
  "kernelspec": {
   "display_name": "Python 3 (ipykernel)",
   "language": "python",
   "name": "python3"
  },
  "language_info": {
   "codemirror_mode": {
    "name": "ipython",
    "version": 3
   },
   "file_extension": ".py",
   "mimetype": "text/x-python",
   "name": "python",
   "nbconvert_exporter": "python",
   "pygments_lexer": "ipython3",
   "version": "3.9.13"
  }
 },
 "nbformat": 4,
 "nbformat_minor": 5
}
