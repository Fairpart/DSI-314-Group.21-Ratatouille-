{
 "cells": [
  {
   "cell_type": "markdown",
   "id": "e84ca222",
   "metadata": {},
   "source": [
    "# Import File to DataFrame"
   ]
  },
  {
   "cell_type": "code",
   "execution_count": 2,
   "id": "870f7d49",
   "metadata": {},
   "outputs": [],
   "source": [
    "import pandas as pd"
   ]
  },
  {
   "cell_type": "code",
   "execution_count": 33,
   "id": "21ca2b0b",
   "metadata": {},
   "outputs": [],
   "source": [
    "CSV_1 = pd.read_csv('โรงแรมคอซ ราชเทวี(COZ Ratchathewi).csv').drop(['Unnamed: 0','index'],axis=1)\n",
    "CSV_2 = pd.read_csv('โรงแรมคิวบิก ประตูน้ำ(Cubic Pratunam).csv').drop(['Unnamed: 0','index'],axis=1)\n",
    "CSV_3 = pd.read_csv('โรงแรมบางกอกซิตี้โฮเทล(Bangkok City Hotel).csv').drop(['Unnamed: 0'],axis=1)\n",
    "CSV_4 = pd.read_csv('โรงแรมประตูน้ำ คาซ่า(Pratunam Casa).csv').drop(['Unnamed: 0','index'],axis=1)\n",
    "CSV_5 = pd.read_csv('โรงแรมรอยัล รัตนโกสินทร์(Royal Rattanakosin Hotel).csv').drop(['Unnamed: 0'],axis=1)\n",
    "CSV_6 = pd.read_csv('โรงแรมวินซ์โฮเทล ประตูน้ำ(Vince Hotel Pratunam).csv').drop(['Unnamed: 0'],axis=1)\n",
    "CSV_7 = pd.read_csv('โรงแรมสยามแอทสยาม ดีไซน์ โฮเทล กรุงเทพ(Siam@Siam .csv').drop(['Unnamed: 0'],axis=1)\n",
    "CSV_8 = pd.read_csv('โรงแรมสำราญเพลส (Samran Place Hotel).csv').drop(['Unnamed: 0'],axis=1)\n",
    "CSV_9 = pd.read_csv('โรงแรมฮอลิเดย์ อินน์ เอ็กซ์เพรส บางกอก สยา.csv').drop(['Unnamed: 0'],axis=1)\n",
    "CSV_10 = pd.read_csv('โรงแรมเอเชีย กรุงเทพ (Asia Hotel Bangkok).csv').drop(['Unnamed: 0'],axis=1)\n",
    "CSV_11 = pd.read_csv('โรงแรมเอเวอร์กรีน เพลส สยาม บาย ยูเอชจี(Evergreen.csv').drop(['Unnamed: 0'],axis=1)\n",
    "CSV_12 = pd.read_csv('โรงแรมไอบิส กรุงเทพ สยาม(Ibis Bangkok Siam).csv').drop(['Unnamed: 0'],axis=1)\n",
    "CSV_13 = pd.read_csv('โรงแรมไอบิส แบงค็อก สยาม(Ibis Bangkok Siam).csv').drop(['Unnamed: 0','index'],axis=1)"
   ]
  },
  {
   "cell_type": "code",
   "execution_count": 35,
   "id": "3c01a69a",
   "metadata": {},
   "outputs": [],
   "source": [
    "df = pd.concat([CSV_1, CSV_2, CSV_3, CSV_4, CSV_5, CSV_6, CSV_7, CSV_8, CSV_9, CSV_10, CSV_11, CSV_12, CSV_13])"
   ]
  },
  {
   "cell_type": "code",
   "execution_count": 36,
   "id": "0d610cee",
   "metadata": {},
   "outputs": [
    {
     "data": {
      "text/html": [
       "<div>\n",
       "<style scoped>\n",
       "    .dataframe tbody tr th:only-of-type {\n",
       "        vertical-align: middle;\n",
       "    }\n",
       "\n",
       "    .dataframe tbody tr th {\n",
       "        vertical-align: top;\n",
       "    }\n",
       "\n",
       "    .dataframe thead th {\n",
       "        text-align: right;\n",
       "    }\n",
       "</style>\n",
       "<table border=\"1\" class=\"dataframe\">\n",
       "  <thead>\n",
       "    <tr style=\"text-align: right;\">\n",
       "      <th></th>\n",
       "      <th>Review</th>\n",
       "      <th>Rating</th>\n",
       "    </tr>\n",
       "  </thead>\n",
       "  <tbody>\n",
       "    <tr>\n",
       "      <th>0</th>\n",
       "      <td>สะอาด อาหารเช้าดี บริการดี ราคาเหมาะสม อยู่ไม่...</td>\n",
       "      <td>10.0</td>\n",
       "    </tr>\n",
       "    <tr>\n",
       "      <th>1</th>\n",
       "      <td>ที่พักทำเลดีมาก</td>\n",
       "      <td>10.0</td>\n",
       "    </tr>\n",
       "    <tr>\n",
       "      <th>2</th>\n",
       "      <td>ใกล้ bts เดินทางสะดวก มีร้านนวดร้านอาหารอีสานใ...</td>\n",
       "      <td>8.8</td>\n",
       "    </tr>\n",
       "    <tr>\n",
       "      <th>3</th>\n",
       "      <td>.</td>\n",
       "      <td>10.0</td>\n",
       "    </tr>\n",
       "    <tr>\n",
       "      <th>4</th>\n",
       "      <td>เข้าพักช่วงโควิด ลดราคาถูก กลางเมือง</td>\n",
       "      <td>10.0</td>\n",
       "    </tr>\n",
       "    <tr>\n",
       "      <th>...</th>\n",
       "      <td>...</td>\n",
       "      <td>...</td>\n",
       "    </tr>\n",
       "    <tr>\n",
       "      <th>75</th>\n",
       "      <td>จองไว้สามห้อง เพราะเช้าต้องมีไปทำธุระแถวสยาม ก...</td>\n",
       "      <td>4.0</td>\n",
       "    </tr>\n",
       "    <tr>\n",
       "      <th>76</th>\n",
       "      <td>1. ทำเลดีมาก เดินขึ้น BTS ได้เลย 2. ราคาค่อนข้...</td>\n",
       "      <td>10.0</td>\n",
       "    </tr>\n",
       "    <tr>\n",
       "      <th>77</th>\n",
       "      <td>14 น ตามที่แจ้งว่าสามารถเช็คอินได้ แต่เมื่อไปถ...</td>\n",
       "      <td>7.6</td>\n",
       "    </tr>\n",
       "    <tr>\n",
       "      <th>78</th>\n",
       "      <td>ห้องพักสะอาด</td>\n",
       "      <td>10.0</td>\n",
       "    </tr>\n",
       "    <tr>\n",
       "      <th>79</th>\n",
       "      <td>อีก 2 เดือนเจอกันนะค่ะ</td>\n",
       "      <td>9.6</td>\n",
       "    </tr>\n",
       "  </tbody>\n",
       "</table>\n",
       "<p>860 rows × 2 columns</p>\n",
       "</div>"
      ],
      "text/plain": [
       "                                               Review  Rating\n",
       "0   สะอาด อาหารเช้าดี บริการดี ราคาเหมาะสม อยู่ไม่...    10.0\n",
       "1                                     ที่พักทำเลดีมาก    10.0\n",
       "2   ใกล้ bts เดินทางสะดวก มีร้านนวดร้านอาหารอีสานใ...     8.8\n",
       "3                                                   .    10.0\n",
       "4                เข้าพักช่วงโควิด ลดราคาถูก กลางเมือง    10.0\n",
       "..                                                ...     ...\n",
       "75  จองไว้สามห้อง เพราะเช้าต้องมีไปทำธุระแถวสยาม ก...     4.0\n",
       "76  1. ทำเลดีมาก เดินขึ้น BTS ได้เลย 2. ราคาค่อนข้...    10.0\n",
       "77  14 น ตามที่แจ้งว่าสามารถเช็คอินได้ แต่เมื่อไปถ...     7.6\n",
       "78                                       ห้องพักสะอาด    10.0\n",
       "79                             อีก 2 เดือนเจอกันนะค่ะ     9.6\n",
       "\n",
       "[860 rows x 2 columns]"
      ]
     },
     "execution_count": 36,
     "metadata": {},
     "output_type": "execute_result"
    }
   ],
   "source": [
    "df"
   ]
  },
  {
   "cell_type": "markdown",
   "id": "dc79d4e8",
   "metadata": {},
   "source": [
    "# Export Pandas to CSV"
   ]
  },
  {
   "cell_type": "code",
   "execution_count": 38,
   "id": "3ab9b8e7",
   "metadata": {},
   "outputs": [],
   "source": [
    "df.to_csv('Unseen_data_raj.csv')"
   ]
  }
 ],
 "metadata": {
  "kernelspec": {
   "display_name": "Python 3 (ipykernel)",
   "language": "python",
   "name": "python3"
  },
  "language_info": {
   "codemirror_mode": {
    "name": "ipython",
    "version": 3
   },
   "file_extension": ".py",
   "mimetype": "text/x-python",
   "name": "python",
   "nbconvert_exporter": "python",
   "pygments_lexer": "ipython3",
   "version": "3.9.13"
  }
 },
 "nbformat": 4,
 "nbformat_minor": 5
}
