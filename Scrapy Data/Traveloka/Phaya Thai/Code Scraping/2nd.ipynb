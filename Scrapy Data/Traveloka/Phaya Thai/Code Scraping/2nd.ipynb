{
 "cells": [
  {
   "cell_type": "code",
   "execution_count": 7,
   "id": "6291f010",
   "metadata": {},
   "outputs": [
    {
     "name": "stdout",
     "output_type": "stream",
     "text": [
      "Requirement already satisfied: selenium in c:\\users\\fair\\anaconda3\\lib\\site-packages (4.6.0)\n",
      "Requirement already satisfied: trio~=0.17 in c:\\users\\fair\\anaconda3\\lib\\site-packages (from selenium) (0.22.0)\n",
      "Requirement already satisfied: urllib3[socks]~=1.26 in c:\\users\\fair\\anaconda3\\lib\\site-packages (from selenium) (1.26.11)\n",
      "Requirement already satisfied: certifi>=2021.10.8 in c:\\users\\fair\\anaconda3\\lib\\site-packages (from selenium) (2022.9.14)\n",
      "Requirement already satisfied: trio-websocket~=0.9 in c:\\users\\fair\\anaconda3\\lib\\site-packages (from selenium) (0.9.2)\n",
      "Requirement already satisfied: idna in c:\\users\\fair\\anaconda3\\lib\\site-packages (from trio~=0.17->selenium) (3.3)\n",
      "Requirement already satisfied: sniffio in c:\\users\\fair\\anaconda3\\lib\\site-packages (from trio~=0.17->selenium) (1.2.0)\n",
      "Requirement already satisfied: async-generator>=1.9 in c:\\users\\fair\\anaconda3\\lib\\site-packages (from trio~=0.17->selenium) (1.10)\n",
      "Requirement already satisfied: cffi>=1.14 in c:\\users\\fair\\anaconda3\\lib\\site-packages (from trio~=0.17->selenium) (1.15.1)\n",
      "Requirement already satisfied: outcome in c:\\users\\fair\\anaconda3\\lib\\site-packages (from trio~=0.17->selenium) (1.2.0)\n",
      "Requirement already satisfied: sortedcontainers in c:\\users\\fair\\anaconda3\\lib\\site-packages (from trio~=0.17->selenium) (2.4.0)\n",
      "Requirement already satisfied: exceptiongroup>=1.0.0rc9 in c:\\users\\fair\\anaconda3\\lib\\site-packages (from trio~=0.17->selenium) (1.0.1)\n",
      "Requirement already satisfied: attrs>=19.2.0 in c:\\users\\fair\\anaconda3\\lib\\site-packages (from trio~=0.17->selenium) (21.4.0)\n",
      "Requirement already satisfied: wsproto>=0.14 in c:\\users\\fair\\anaconda3\\lib\\site-packages (from trio-websocket~=0.9->selenium) (1.2.0)\n",
      "Requirement already satisfied: PySocks!=1.5.7,<2.0,>=1.5.6 in c:\\users\\fair\\anaconda3\\lib\\site-packages (from urllib3[socks]~=1.26->selenium) (1.7.1)\n",
      "Requirement already satisfied: pycparser in c:\\users\\fair\\anaconda3\\lib\\site-packages (from cffi>=1.14->trio~=0.17->selenium) (2.21)\n",
      "Requirement already satisfied: h11<1,>=0.9.0 in c:\\users\\fair\\anaconda3\\lib\\site-packages (from wsproto>=0.14->trio-websocket~=0.9->selenium) (0.14.0)\n"
     ]
    }
   ],
   "source": [
    "!pip install selenium"
   ]
  },
  {
   "cell_type": "markdown",
   "id": "ad15bdd9",
   "metadata": {},
   "source": [
    "# Def & Scraping Methods"
   ]
  },
  {
   "cell_type": "code",
   "execution_count": 8,
   "id": "b5022015",
   "metadata": {},
   "outputs": [],
   "source": [
    "def save_comment2mainList(main_comment_List,sub_comment_List):\n",
    "    for item in sub_comment_List:\n",
    "        main_comment_List.append(str(item))\n",
    "        \n",
    "def save_rating2mainList(main_rating_List,sub_rating_List):\n",
    "    for item in sub_rating_List:\n",
    "        main_rating_List.append(str(item))"
   ]
  },
  {
   "cell_type": "code",
   "execution_count": 9,
   "id": "ff8ea950",
   "metadata": {},
   "outputs": [],
   "source": [
    "def check_list_size(list_1,list_2):\n",
    "    if len(list_1) != len(list_2):\n",
    "        if len(list_1) > len(list_2):\n",
    "            list_1.pop(len(list_1)-1)\n",
    "        else:\n",
    "            list_2.pop(len(list_2)-1)\n",
    "    else:\n",
    "      return list_1,list_2"
   ]
  },
  {
   "cell_type": "code",
   "execution_count": 10,
   "id": "0ef53a5a",
   "metadata": {},
   "outputs": [],
   "source": [
    "def NextPages():\n",
    "    running = True\n",
    "    while running:\n",
    "        try:\n",
    "            try:\n",
    "                running = driver.find_element(By.XPATH,'/html/body/div[1]/div[5]/div[2]/div/div/div[1]/div/div/div[8]/div/div[7]').click()\n",
    "            except:\n",
    "                try:\n",
    "                    running = driver.find_element(By.XPATH,'/html/body/div[1]/div[5]/div[2]/div/div/div[1]/div/div/div[8]/div/div[8]').click()   \n",
    "                except:\n",
    "                    running = driver.find_elementh(By.XPATH,'/html/body/div[1]/div[5]/div[2]/div/div/div[1]/div/div/div[8]/div/div[9]').click() \n",
    "        except:\n",
    "             running = False\n",
    "        print('-----------------------------------------------------------','\\n')"
   ]
  },
  {
   "cell_type": "code",
   "execution_count": 11,
   "id": "7e351618",
   "metadata": {},
   "outputs": [],
   "source": [
    "def scraping_reviews(l_x1,l_x2,l_y1,l_y2): #scraping_reviews(ratings_list,reviews_list,Ratings_list,Reviews_list)\n",
    "    driver.execute_script(\"window.scrollTo(0,7770)\")\n",
    "    for review in driver.find_elements(By.CSS_SELECTOR,'div.css-1dbjc4n.r-1guathk.r-1yzf0co'):\n",
    "        for score in review.find_elements(By.CSS_SELECTOR,'div.css-901oao.r-1i6uqv8.r-1sixt3s.r-ubezar.r-majxgm.r-135wba7.r-fdjqy7'):\n",
    "            rate = score.text\n",
    "            print(rate)\n",
    "            l_x1.append(rate)\n",
    "\n",
    "        for comment in review.find_elements(By.CSS_SELECTOR,'div.css-1dbjc4n.r-1wzrnnt.r-1udh08x'):\n",
    "            criticism = comment.text\n",
    "            print(criticism)\n",
    "            l_x2.append(criticism)\n",
    "    \n",
    "        check_list_size(l_x1,l_x2)\n",
    "    save_comment2mainList(l_y1, l_x1)\n",
    "    save_rating2mainList(l_y2, l_x2)"
   ]
  },
  {
   "cell_type": "code",
   "execution_count": 12,
   "id": "df1083aa",
   "metadata": {},
   "outputs": [],
   "source": [
    "def clear_list(l_1,l_2):\n",
    "    reviews_list.clear()\n",
    "    ratings_list.clear()"
   ]
  },
  {
   "cell_type": "markdown",
   "id": "3c9a43da",
   "metadata": {},
   "source": [
    "# Code Working"
   ]
  },
  {
   "cell_type": "code",
   "execution_count": 13,
   "id": "8d08c5ba",
   "metadata": {},
   "outputs": [
    {
     "name": "stderr",
     "output_type": "stream",
     "text": [
      "C:\\Users\\FAIR\\AppData\\Local\\Temp\\ipykernel_10252\\2722149814.py:8: DeprecationWarning: executable_path has been deprecated, please pass in a Service object\n",
      "  driver = webdriver.Edge(executable_path = path)\n"
     ]
    },
    {
     "name": "stdout",
     "output_type": "stream",
     "text": [
      "9.7\n",
      "Good โรงแรมใหม่ วิวสวย ห่างจาก บีทีเอส อารีย์ประมาณ 500 ม. ที่จอดรถในโรงแรมหายากนิดนึง\n",
      "9.7\n",
      "ดีมากๆๆๆๆ จะกลับมาพักอีก เวลาเข้า กรุงเทพฯ\n",
      "9.7\n",
      "ห้องพักสะอาด พนักงานบริการดีมาก ยิ้มแย้ม อาหารอร่อย ที่จอดรถสะดวกสบาย เดินทางง่ายมากๆ\n",
      "10\n",
      "ห้องตรงปก ใหญ่มากค่ะ มาที่นี่ 2 ครั้งแล้ว ชอบค่ะ\n",
      "5.4\n",
      "ผนังห้องบางแถมเหม็นบุหรี่มากค่ะ ปวดหัวนอนไม่ได้เลย\n",
      "8.5\n",
      "สะดวก สะอาด บริการโอเค ห้องดี\n",
      "9.7\n",
      "สะดวก สบายดี สะอาด บริการดี\n",
      "8.8\n",
      "บริการดี อาหารอร่อย วิวดี ดีทุกอย่างค่ะ 10/10\n",
      "9.7\n",
      "ชอบมากห้องกว้างวิวเมืองสวย เตียงใหญ่\n",
      "10\n",
      "ดีมากๆครับ พักประจำครับ พนักงานบริการดีครับ อาหารเช้ามีให้เลือกเยอะครับ\n"
     ]
    }
   ],
   "source": [
    "from selenium import webdriver\n",
    "from selenium.webdriver.common.by import By\n",
    "import time\n",
    "from selenium.webdriver.support.select import Select\n",
    "\n",
    "path = \"D:\\python\\Selenium\\edgedriver_win64\\msedgedriver.exe\"\n",
    "url = 'https://www.traveloka.com/th-th/hotel/detail?spec=07-11-2022.08-11-2022.1.1.HOTEL.3000020015839.The%20Quarter%20Ari%20by%20UHG.1&contexts=%7B%22inventoryRateKey%22%3A%22povEwB3ZzsU2C6pd%2B6MdUwKh3BcjHsHvQbV0EUcyDRFM0tKsNUio4Rxug1zOzHJilcvZa8YdqqIySdppe7dolTIewZlxfjiOGz6oXLTucMvN0%2BgQ3yZPvZcoHwUFNN%2BZpcr%2F%2FNa8o9ElfN8zOYhzzZeg0X586laFpeUViPi9rxCFyughYNBKbhSXoIyfE4iNmhLDdV0WLeT%2FFKfQ0QL8LH02Dvlx%2F8PjYogEE5yzx6g6yOKyKeIDf7jO3GM45O1o1hmSkmz3HiZNSbS8gXb3CDW9nmlhkqLKa4lLkAkZpAGTcOmy5l4j7hGHKXWH0MtO45tYfbtBkBgYO99TxwF9DNVsBZohxEpYRFmg%2B%2BHLDKQAG%2F1rhZrd5ovib5W%2FOZIYjTE%2FGsBKQXKjBtgZDhjE4C5zlhNP3bbD3EkRDMDBFQ9BP91JaZBbzrgMh9kT8uRRLbpPqi9QWNDXrth51m8pUsXTrO7kmP1REoaFiJ8zCfvIWGULNNq2kq01LGJS4cUO6IoMhVKT4w7TwrTxbp%2FQ2iMn1qdaM1viWqCGwU1siX1ZIegdsZIo1sjlWnbsTcjefS6Pj3RtIU6lROCEB6QAgiS1WJabPNVEO7waQAXksTDyQHUY2wqyAfRzb44KOjG0poBVHSJ1fq5iJGt%2Fs2ROyG2r1yuKaZ4GSAmh5BaCjz8%3D%22%7D&prevSearchId=1748749097900205375&loginPromo=1'\n",
    "driver = webdriver.Edge(executable_path = path)\n",
    "driver.get(url)\n",
    "\n",
    "Reviews_list, reviews_list = [],[]\n",
    "Ratings_list, ratings_list = [],[]\n",
    "\n",
    "time.sleep(3)\n",
    "sel = driver.find_element(By.XPATH,\"/html/body/div[1]/div[5]/div[2]/div/div/div[1]/div/div/div[4]/div[3]/div/div[1]\")\n",
    "sel.click()\n",
    "time.sleep(2)\n",
    "TH = sel.find_element(By.XPATH,'/html/body/div[1]/div[5]/div[2]/div/div/div[1]/div/div/div[4]/div[3]/div/div[2]/div/div/div/div[4]')\n",
    "TH.click()\n",
    "time.sleep(3)\n",
    "driver.execute_script(\"window.scrollTo(0,7770)\")\n",
    "\n",
    "for review in driver.find_elements(By.CSS_SELECTOR,'div.css-1dbjc4n.r-1guathk.r-1yzf0co'):\n",
    "    for score in review.find_elements(By.CSS_SELECTOR,'div.css-901oao.r-1i6uqv8.r-1sixt3s.r-ubezar.r-majxgm.r-135wba7.r-fdjqy7'):\n",
    "        rate = score.text\n",
    "        print(rate)\n",
    "        ratings_list.append(rate)\n",
    "\n",
    "    for comment in review.find_elements(By.CSS_SELECTOR,'div.css-1dbjc4n.r-1wzrnnt.r-1udh08x'):\n",
    "        criticism = comment.text\n",
    "        print(criticism)\n",
    "        reviews_list.append(criticism)\n",
    "    \n",
    "    check_list_size(ratings_list,reviews_list)\n",
    "save_comment2mainList(Reviews_list, reviews_list)\n",
    "save_rating2mainList(Ratings_list, ratings_list)"
   ]
  },
  {
   "cell_type": "code",
   "execution_count": 14,
   "id": "00450a45",
   "metadata": {},
   "outputs": [
    {
     "data": {
      "text/plain": [
       "'ค่าห้องพัก The Quarter Ari by UHG สามเสนใน ตั้งแต่ 07-11-2022 ถึง 08-11-2022'"
      ]
     },
     "execution_count": 14,
     "metadata": {},
     "output_type": "execute_result"
    }
   ],
   "source": [
    "driver.title"
   ]
  },
  {
   "cell_type": "code",
   "execution_count": 15,
   "id": "d00b88f0",
   "metadata": {},
   "outputs": [
    {
     "name": "stdout",
     "output_type": "stream",
     "text": [
      "----------------------------------------------------------- \n",
      "\n",
      "9.7\n",
      "บริการดีเป็นกันเองห้องใหญ่เตียงใหญ่หาของกินง่ายเดินทางสะดวกด้วยรถไฟฟ้า\n",
      "8.5\n",
      "ห้องกว้าง สะอาด โล่งโปร่ง และราคาไม่แพง แนะนำเลยครับ\n",
      "8.7\n",
      "ไม่ชอบตรงที่ในห้องน้ำไม่มีที่ระบายอากาศ ความสะอาด นอนสบายให้ในระดับกลาง ความสะดวกในการเดินทางคือสะดวกมาก พนักงานหน้าเค้าเตอร์ไม่ค่อยยิ้ม แต่พนักงาน รปภ.ขนย้ายบริการดีมากคะ\n",
      "9.7\n",
      "ดีมาก พนักงานให้บริการดีมาก สุภาพมาก ห้องพักสะอาด แม่บ้านทำงานตลอด อัธยาศัยดี เดินทางสะดวก กลับไปพักอีกแน่นอนค่ะ ใครกำลังหาที่พักดีๆราคาไม่แพง แนะนำเลยค่ะ\n",
      "8.5\n",
      "ดีย์ มาก เเบบอยากไปนอนอีกทุกวันคือดีไม่ไหว\n",
      "9.7\n",
      "ดี I love 🤟ประทับใจอยากไปพักอีก\n",
      "4.8\n",
      "บริการไม่ดี ไม่โอเคคับ สู้ลาดพร้าวไม่ได้\n",
      "6.6\n",
      "พนักงานงานชายบริการแย่ พูดจาและบริการควรได้รับการอบรมให้มากกว่านี้ พอลูกค้าเยอะ พนักงานค่อนข้างละเลยในการให้บริการ\n",
      "8.5\n",
      "ดีมากบริการดีห้องใหญ่เงียบสงบหาของกินได้\n",
      "8\n",
      "ดีมากๆครบครันเป็นโรงแรม 5 ดาวที่บริการ ติดถนนห้องสะอาดเตียงใหญ่\n"
     ]
    }
   ],
   "source": [
    "NextPages()\n",
    "time.sleep(5)\n",
    "\n",
    "clear_list(reviews_list,ratings_list)\n",
    "time.sleep(5)\n",
    "\n",
    "scraping_reviews(ratings_list,reviews_list,Ratings_list,Reviews_list)"
   ]
  },
  {
   "cell_type": "code",
   "execution_count": 16,
   "id": "5c20bb84",
   "metadata": {},
   "outputs": [
    {
     "name": "stdout",
     "output_type": "stream",
     "text": [
      "----------------------------------------------------------- \n",
      "\n",
      "9.4\n",
      "ที่พักดีมากครับติดถนนใหญ่สะดวกสบายบริการดี\n",
      "9.7\n",
      "ดีทุกอย่างตรงปก ที่จอดรถน้อยไปหน่อยค่ะ ต้องวนขึ้นชั้นสูงแอบเวียนหัว😅 นอกนั้นดีทุกอย่างค่ะ กลับไปพักอีกแน่นอน เรื่องที่จอดวัดดวงเอาค่ะ\n",
      "8.5\n",
      "สบาย บรรยากาศดี สะอาด พนักงานต้อนรับดีมาก\n",
      "9.7\n",
      "ดีมาก สะอาด ตอนรับดี เงียบสงบไม่เสียงดัง\n",
      "8.5\n",
      "ห้องสะอาด กว้างขวาง บริการไวค่ะ ทำเลสะดวกมีทั้ง7-11 และสตาบัคค่อนข้างหาของกินง่ายดีค่ะ\n",
      "9.7\n",
      "ดีมากๆค่ะ ทุกอย่างตรงปก สวยคุ้มเกินราคา ไม่คิดว่าจะเจอ ที่พักดีดี ราคานี้ในอารีย์\n",
      "8.5\n",
      "\n",
      "8.5\n",
      "\n",
      "9.4\n",
      "บริการดีค่ะ เช็คอินเช็คเอ้าท์เร็ว อาหารเช้าดีพอใช้ เตียงหลับสบาย มีสระเด็ก\n",
      "8.5\n",
      "ถ้าเทียบกับโรงแรมในเครือ UHG อีกโรงแรมที่ไปพักมา โรงแรมนี้คือ Luxury มากเมื่อเทียบกับราคา มี BTS อารีย์อยู่ใกล้ๆประมาณ 500 เมตร ถ้ามีโอกาสจะกลับไปพักอีกครับ\n"
     ]
    }
   ],
   "source": [
    "NextPages()\n",
    "time.sleep(5)\n",
    "\n",
    "clear_list(reviews_list,ratings_list)\n",
    "time.sleep(5)\n",
    "\n",
    "scraping_reviews(ratings_list,reviews_list,Ratings_list,Reviews_list)"
   ]
  },
  {
   "cell_type": "code",
   "execution_count": 17,
   "id": "329f5587",
   "metadata": {},
   "outputs": [
    {
     "name": "stdout",
     "output_type": "stream",
     "text": [
      "10\n",
      "ห้องพักสะอาด วิวเมืองสวย เหมาะกับการพักผ่อนมาก เดินจาก BTS อารีย์ไม่ไกล\n",
      "8.5\n",
      "ใจกลางเมือง มีร้านอาหารร้านสะดวกซื้อด้านล่าง ใช้อาคารร่วมกับสำนักงานเช่า ลิฟท์จากชั้นจอดรถคนเยอะไปหน่อย\n",
      "9.7\n",
      "ที่พักหรู วิวห้องสวยงาม การบริการที่ดีเยี่ยม อาหารเช้าที่มีหลายเมนูให้เลือกทาน ประทับใจ จะกลับไปพักอีก\n",
      "10\n",
      "\n",
      "9.7\n",
      "ห้องพักสะอาดมากๆครับ ไว้มีโอกาสจะกลับมาใช้บริการใหม่\n",
      "9.7\n",
      "ห้องสะอาด ราคาไม่แพง คุ้มค่ามาก ภายในอาคารมีทั้ง starbuck 7-11 the pizza\n",
      "9.4\n",
      "ห้องสวยสะอาดราคาดี วิวเด็ดมากๆ\n",
      "8.5\n",
      "\n",
      "9.7\n",
      "ห้องพักดีมากค่ะ ถึงขนาดจะไม่ได้ใหญ่มาก แต่มีทุกอย่างครบ เตียงนอนสบาย เงียบสงบดีค่ะ มีสระว่ายน้ำด้วย มีเวลคัมดริ้งด้วย พนักงานบริการดี ลิฟต์เร็วมาก เยี่ยมเลยค่ะ จะกลับมาพักอีกค่ะ\n",
      "8.5\n",
      "ห้องสะอาด กว้างขวาง ไม่อึดอัด กระจกใสห้องน้ำมีม่านปิดให้นะ มีอุปกรณ์ครบ กาน้ำร้อน ไดร์เป่าผม ตู้เย็น และไมโครเวฟ ที่สำคัญมีปลั๊กไฟแทบทุกมุมห้อง ชอบมากๆ อาหารเช้าหลากหลาย เข้ามาพัก 2 คืนพาแม่มาหาหมอตามนัดที่รพ.รามา ยังพอมีที่จอดรถให้ในวันธรรมดา แม่ติดใจชอบมากบอกมาคราวหน้าจะมาพักที่นี่อีก ปล.พนักงานสุภาพ มารยาทดีครับ\n"
     ]
    }
   ],
   "source": [
    "sel = driver.find_element(By.XPATH,'/html/body/div[1]/div[5]/div[2]/div/div/div[1]/div/div/div[8]/div/div[8]')\n",
    "sel.click()\n",
    "time.sleep(2)\n",
    "\n",
    "clear_list(reviews_list,ratings_list)\n",
    "time.sleep(2)\n",
    "\n",
    "scraping_reviews(ratings_list,reviews_list,Ratings_list,Reviews_list)"
   ]
  },
  {
   "cell_type": "code",
   "execution_count": 18,
   "id": "949eb24a",
   "metadata": {},
   "outputs": [
    {
     "name": "stdout",
     "output_type": "stream",
     "text": [
      "9.7\n",
      "พักที่นี่เป็นประจำ สบาย รวมๆคือดีค่ะ\n",
      "10\n",
      "ห้องดี วิวดีมาก นอนดูวิวได้ตั้งแต่บนเตียง ขึ้นไปรูฟท็อปก็ยิ่งดีมาก ที่สำคัญที่สุดพนักงานดีมาก โดยเฉพาะรีเซฟชั่นที่ชื่อโรส เราทำพระหายในห้อง พนักงานก็ตามหากันใหญ่ จนทุกคนบอกว่าคงไม่ได้คืนแล้ว จนเราถอดใจ แต่เค้าก็ยังตามกันต่อจนได้คืน น่ารักมากจริงๆ ขอบคุณอีกครั้งด้วยคะ มาพักกันได้ปลอดภัยทั้งคนทั้งของจริงๆคะ\n",
      "9.7\n",
      "ดีมาก ชอบมาก สะดวกสบาย พนักงานบริการเยี่ยม สิ่งอำนวยความสะดวกดีสุดๆ สระว่ายน้ำสวยมาก\n",
      "6.1\n",
      "ผ้าเช็ดตัวแขกคนเก่ายังอยู่ในห้องพักอยู่ ตอนเข้าพัก\n",
      "9.7\n",
      "ห้องพักสะอาด พนักงานบริการดีมากๆค่ะ\n",
      "8.5\n",
      "\n",
      "8.5\n",
      "\n",
      "9.4\n",
      "โรงแรมดีมากค่ะ ห้องใหม่ กว้างและสะอาด เดินทางง่าย ด้านล่างมีเซเว่นและร้านอาหาร ไม่ใกล้จากบีทีเอสมาก โรงแรมมีที่จอดรถค่ะ แต่ถ้าจอดคิดเพิ่ม 100บ./คืน/คันค่ะ\n",
      "9.7\n",
      "ดีมาก ทุกอย้างดี จะมาอีกค่ะ\n",
      "9.7\n",
      "\n"
     ]
    }
   ],
   "source": [
    "sel = driver.find_element(By.XPATH,'/html/body/div[1]/div[5]/div[2]/div/div/div[1]/div/div/div[8]/div/div[9]')\n",
    "sel.click()\n",
    "time.sleep(2)\n",
    "\n",
    "clear_list(reviews_list,ratings_list)\n",
    "time.sleep(2)\n",
    "\n",
    "scraping_reviews(ratings_list,reviews_list,Ratings_list,Reviews_list)"
   ]
  },
  {
   "cell_type": "code",
   "execution_count": 19,
   "id": "cbe5b31a",
   "metadata": {},
   "outputs": [
    {
     "name": "stdout",
     "output_type": "stream",
     "text": [
      "9.7\n",
      "\n",
      "9.1\n",
      "ที่พักดี สะอาด เดินทางสะดวกค่ะ\n",
      "10\n",
      "ห้องสะอาด ขนาดกำลังดี ปลั๊กไฟมีทุกจุดที่จำเป็นต้องใช้ นั่นหมายความว่าการออกแบบห้องดีมากค่ะ อาหารเช้าหลากหลาย สระว่ายน้ำวิวสวย ฟิตเนส ซาวน่าครบครัน ที่สำคัญพนักงานบริการได้อย่างดีเยี่ยมทุกส่วนเลยค่ะ ชอบมากค่ะ ครั้งหน้าไปกทม.ที่แรกที่ตัดสินใจจะไปพักคือที่นี่อีกแน่นอนค่ะ !\n",
      "8.5\n",
      "ที่พักดี สระน้ำสวย บริการดีมาก ไปพักบ่อยมากค่ะ ข้าวล่างมีสตาบั้ค เซเว่น ที่ท่องราตรีก็เพียบ แจ๋วเลย\n",
      "8.5\n",
      "บรรยากาศดีมากครับ มาเข้าพักที่นี่บ่อยมาก\n",
      "9.7\n",
      "ห้องพักสะอาด พนักงานบริการดี วิวสวย เดินทางมาสะดวก\n",
      "8.5\n",
      "พนักงานพูดจาดี ห้องใหญ่ สะอาด มีสิ่งอำนวยความสะดวกครบครัน วิวดี\n",
      "8.8\n",
      "\n",
      "9.7\n",
      "\n",
      "9.1\n",
      "ห้องดี แต่ห้องน้ำระบายไม่ทัน ลานจอดรถสวนกัน และหาที่จอดยากไปหน่อย\n"
     ]
    }
   ],
   "source": [
    "sel = driver.find_element(By.XPATH,'/html/body/div[1]/div[5]/div[2]/div/div/div[1]/div/div/div[8]/div/div[9]')\n",
    "sel.click()\n",
    "time.sleep(2)\n",
    "\n",
    "clear_list(reviews_list,ratings_list)\n",
    "time.sleep(2)\n",
    "\n",
    "scraping_reviews(ratings_list,reviews_list,Ratings_list,Reviews_list)"
   ]
  },
  {
   "cell_type": "code",
   "execution_count": 22,
   "id": "171b341e",
   "metadata": {},
   "outputs": [
    {
     "name": "stdout",
     "output_type": "stream",
     "text": [
      "8.5\n",
      "Good Service Hotel. ตั้งอยู่ใกล้กับร้านอาหารมื้อเย็น, ทำความสะอาดอาหารทุกห้อง\n",
      "10\n",
      "ห้องพักใหญ่และสะอาด อาหารอร่อย. สระว่ายน้ำยอดเยี่ยม เรามีความสุขกับการเข้าพักที่นี่ โรงแรมนี้ขอแนะนำอย่างยิ่ง\n",
      "8.5\n",
      "บรรยากาศดีและอาหาร ห้องพักเป็นระเบียบเรียบร้อยจริงๆ\n",
      "10\n",
      "ทำเลที่ตั้งดีเยี่ยมวิวและพนักงานน่ารัก ห้องพักมีขนาดกำลังดีและสะอาด\n",
      "9.7\n",
      "วิวสวยและอาหารเช้าอร่อยมาก อยากจะแนะนำเพราะมันอยู่ในใจกลางของกรุงเทพฯ ใกล้สถานีรถไฟฟ้าบีทีเอสและอาหารสามารถเดินไปได้ ฉันจะกลับไปจริงๆ ที่จริงแล้วเราเช็คอินก่อนหน้าจากเวลาจองเราจ่ายเพิ่มอีก 1,000 บาท แต่ก็โอเค พวกเขาให้เรารอในล็อบบี้และกระเป๋าเดินทางของเราเพื่อความปลอดภัยเราจึงนอนหลับได้ พนักงานของพวกเขาเป็นมิตร ฉันชอบทุกอย่างเกี่ยวกับโรงแรมนี้ จะจองที่นี่อีกแน่นอนเมื่อเรากลับไปที่กรุงเทพ!\n",
      "9.1\n",
      "โรงแรมสวยสะอาดและใกล้ร้านอาหารใกล้ห้างสรรพสินค้าและ starbuck การออกแบบที่ดี\n",
      "6.9\n",
      "ฉันสั่งห้องดีลักซ์ซึ่งมีโซฟาบนรูปภาพหลังจากที่ฉันเช็คอินมันกลับกลายเป็นว่ามันไม่มีโซฟาที่มีแค่เตียง โดยรวมแล้วถือว่าดีนั่นคือทั้งหมดที่อยู่ในภาพถ่ายพร้อมกับความจริงที่ว่าสิ่งอำนวยความสะดวกนั้นแตกต่างกัน\n",
      "9.7\n",
      "สนุกสะอาดบริการเป็นกันเองทำเลดีราคาไม่แพง วันหนึ่งฉันจะกลับมาพักอีก\n"
     ]
    }
   ],
   "source": [
    "sel = driver.find_element(By.XPATH,'/html/body/div[1]/div[5]/div[2]/div/div/div[1]/div/div/div[8]/div/div[8]')\n",
    "sel.click()\n",
    "time.sleep(2)\n",
    "\n",
    "clear_list(reviews_list,ratings_list)\n",
    "time.sleep(2)\n",
    "\n",
    "scraping_reviews(ratings_list,reviews_list,Ratings_list,Reviews_list)"
   ]
  },
  {
   "cell_type": "code",
   "execution_count": 23,
   "id": "c2e2a225",
   "metadata": {},
   "outputs": [
    {
     "name": "stdout",
     "output_type": "stream",
     "text": [
      "Ratings_list : 78\n",
      "Reviews_list : 78\n"
     ]
    }
   ],
   "source": [
    "print('Ratings_list :',len(Ratings_list))\n",
    "print('Reviews_list :',len(Reviews_list))"
   ]
  },
  {
   "cell_type": "code",
   "execution_count": 24,
   "id": "f62d3e7d",
   "metadata": {},
   "outputs": [
    {
     "data": {
      "text/plain": [
       "['9.7',\n",
       " '9.7',\n",
       " '9.7',\n",
       " '10',\n",
       " '5.4',\n",
       " '8.5',\n",
       " '9.7',\n",
       " '8.8',\n",
       " '9.7',\n",
       " '10',\n",
       " '9.7',\n",
       " '8.5',\n",
       " '8.7',\n",
       " '9.7',\n",
       " '8.5',\n",
       " '9.7',\n",
       " '4.8',\n",
       " '6.6',\n",
       " '8.5',\n",
       " '8',\n",
       " '9.4',\n",
       " '9.7',\n",
       " '8.5',\n",
       " '9.7',\n",
       " '8.5',\n",
       " '9.7',\n",
       " '8.5',\n",
       " '8.5',\n",
       " '9.4',\n",
       " '8.5',\n",
       " '10',\n",
       " '8.5',\n",
       " '9.7',\n",
       " '10',\n",
       " '9.7',\n",
       " '9.7',\n",
       " '9.4',\n",
       " '8.5',\n",
       " '9.7',\n",
       " '8.5',\n",
       " '9.7',\n",
       " '10',\n",
       " '9.7',\n",
       " '6.1',\n",
       " '9.7',\n",
       " '8.5',\n",
       " '8.5',\n",
       " '9.4',\n",
       " '9.7',\n",
       " '9.7',\n",
       " '9.7',\n",
       " '9.1',\n",
       " '10',\n",
       " '8.5',\n",
       " '8.5',\n",
       " '9.7',\n",
       " '8.5',\n",
       " '8.8',\n",
       " '9.7',\n",
       " '9.1',\n",
       " '10',\n",
       " '9.7',\n",
       " '8.8',\n",
       " '9.4',\n",
       " '10',\n",
       " '9.4',\n",
       " '9.7',\n",
       " '9.7',\n",
       " '5.4',\n",
       " '9.4',\n",
       " '8.5',\n",
       " '10',\n",
       " '8.5',\n",
       " '10',\n",
       " '9.7',\n",
       " '9.1',\n",
       " '6.9',\n",
       " '9.7']"
      ]
     },
     "execution_count": 24,
     "metadata": {},
     "output_type": "execute_result"
    }
   ],
   "source": [
    "Ratings_list"
   ]
  },
  {
   "cell_type": "code",
   "execution_count": 25,
   "id": "7397448c",
   "metadata": {},
   "outputs": [
    {
     "data": {
      "text/plain": [
       "['Good โรงแรมใหม่ วิวสวย ห่างจาก บีทีเอส อารีย์ประมาณ 500 ม. ที่จอดรถในโรงแรมหายากนิดนึง',\n",
       " 'ดีมากๆๆๆๆ จะกลับมาพักอีก เวลาเข้า กรุงเทพฯ',\n",
       " 'ห้องพักสะอาด พนักงานบริการดีมาก ยิ้มแย้ม อาหารอร่อย ที่จอดรถสะดวกสบาย เดินทางง่ายมากๆ',\n",
       " 'ห้องตรงปก ใหญ่มากค่ะ มาที่นี่ 2 ครั้งแล้ว ชอบค่ะ',\n",
       " 'ผนังห้องบางแถมเหม็นบุหรี่มากค่ะ ปวดหัวนอนไม่ได้เลย',\n",
       " 'สะดวก สะอาด บริการโอเค ห้องดี',\n",
       " 'สะดวก สบายดี สะอาด บริการดี',\n",
       " 'บริการดี อาหารอร่อย วิวดี ดีทุกอย่างค่ะ 10/10',\n",
       " 'ชอบมากห้องกว้างวิวเมืองสวย เตียงใหญ่',\n",
       " 'ดีมากๆครับ พักประจำครับ พนักงานบริการดีครับ อาหารเช้ามีให้เลือกเยอะครับ',\n",
       " 'บริการดีเป็นกันเองห้องใหญ่เตียงใหญ่หาของกินง่ายเดินทางสะดวกด้วยรถไฟฟ้า',\n",
       " 'ห้องกว้าง สะอาด โล่งโปร่ง และราคาไม่แพง แนะนำเลยครับ',\n",
       " 'ไม่ชอบตรงที่ในห้องน้ำไม่มีที่ระบายอากาศ ความสะอาด นอนสบายให้ในระดับกลาง ความสะดวกในการเดินทางคือสะดวกมาก พนักงานหน้าเค้าเตอร์ไม่ค่อยยิ้ม แต่พนักงาน รปภ.ขนย้ายบริการดีมากคะ',\n",
       " 'ดีมาก พนักงานให้บริการดีมาก สุภาพมาก ห้องพักสะอาด แม่บ้านทำงานตลอด อัธยาศัยดี เดินทางสะดวก กลับไปพักอีกแน่นอนค่ะ ใครกำลังหาที่พักดีๆราคาไม่แพง แนะนำเลยค่ะ',\n",
       " 'ดีย์ มาก เเบบอยากไปนอนอีกทุกวันคือดีไม่ไหว',\n",
       " 'ดี I love 🤟ประทับใจอยากไปพักอีก',\n",
       " 'บริการไม่ดี ไม่โอเคคับ สู้ลาดพร้าวไม่ได้',\n",
       " 'พนักงานงานชายบริการแย่ พูดจาและบริการควรได้รับการอบรมให้มากกว่านี้ พอลูกค้าเยอะ พนักงานค่อนข้างละเลยในการให้บริการ',\n",
       " 'ดีมากบริการดีห้องใหญ่เงียบสงบหาของกินได้',\n",
       " 'ดีมากๆครบครันเป็นโรงแรม 5 ดาวที่บริการ ติดถนนห้องสะอาดเตียงใหญ่',\n",
       " 'ที่พักดีมากครับติดถนนใหญ่สะดวกสบายบริการดี',\n",
       " 'ดีทุกอย่างตรงปก ที่จอดรถน้อยไปหน่อยค่ะ ต้องวนขึ้นชั้นสูงแอบเวียนหัว😅 นอกนั้นดีทุกอย่างค่ะ กลับไปพักอีกแน่นอน เรื่องที่จอดวัดดวงเอาค่ะ',\n",
       " 'สบาย บรรยากาศดี สะอาด พนักงานต้อนรับดีมาก',\n",
       " 'ดีมาก สะอาด ตอนรับดี เงียบสงบไม่เสียงดัง',\n",
       " 'ห้องสะอาด กว้างขวาง บริการไวค่ะ ทำเลสะดวกมีทั้ง7-11 และสตาบัคค่อนข้างหาของกินง่ายดีค่ะ',\n",
       " 'ดีมากๆค่ะ ทุกอย่างตรงปก สวยคุ้มเกินราคา ไม่คิดว่าจะเจอ ที่พักดีดี ราคานี้ในอารีย์',\n",
       " '',\n",
       " '',\n",
       " 'บริการดีค่ะ เช็คอินเช็คเอ้าท์เร็ว อาหารเช้าดีพอใช้ เตียงหลับสบาย มีสระเด็ก',\n",
       " 'ถ้าเทียบกับโรงแรมในเครือ UHG อีกโรงแรมที่ไปพักมา โรงแรมนี้คือ Luxury มากเมื่อเทียบกับราคา มี BTS อารีย์อยู่ใกล้ๆประมาณ 500 เมตร ถ้ามีโอกาสจะกลับไปพักอีกครับ',\n",
       " 'ห้องพักสะอาด วิวเมืองสวย เหมาะกับการพักผ่อนมาก เดินจาก BTS อารีย์ไม่ไกล',\n",
       " 'ใจกลางเมือง มีร้านอาหารร้านสะดวกซื้อด้านล่าง ใช้อาคารร่วมกับสำนักงานเช่า ลิฟท์จากชั้นจอดรถคนเยอะไปหน่อย',\n",
       " 'ที่พักหรู วิวห้องสวยงาม การบริการที่ดีเยี่ยม อาหารเช้าที่มีหลายเมนูให้เลือกทาน ประทับใจ จะกลับไปพักอีก',\n",
       " '',\n",
       " 'ห้องพักสะอาดมากๆครับ ไว้มีโอกาสจะกลับมาใช้บริการใหม่',\n",
       " 'ห้องสะอาด ราคาไม่แพง คุ้มค่ามาก ภายในอาคารมีทั้ง starbuck 7-11 the pizza',\n",
       " 'ห้องสวยสะอาดราคาดี วิวเด็ดมากๆ',\n",
       " '',\n",
       " 'ห้องพักดีมากค่ะ ถึงขนาดจะไม่ได้ใหญ่มาก แต่มีทุกอย่างครบ เตียงนอนสบาย เงียบสงบดีค่ะ มีสระว่ายน้ำด้วย มีเวลคัมดริ้งด้วย พนักงานบริการดี ลิฟต์เร็วมาก เยี่ยมเลยค่ะ จะกลับมาพักอีกค่ะ',\n",
       " 'ห้องสะอาด กว้างขวาง ไม่อึดอัด กระจกใสห้องน้ำมีม่านปิดให้นะ มีอุปกรณ์ครบ กาน้ำร้อน ไดร์เป่าผม ตู้เย็น และไมโครเวฟ ที่สำคัญมีปลั๊กไฟแทบทุกมุมห้อง ชอบมากๆ อาหารเช้าหลากหลาย เข้ามาพัก 2 คืนพาแม่มาหาหมอตามนัดที่รพ.รามา ยังพอมีที่จอดรถให้ในวันธรรมดา แม่ติดใจชอบมากบอกมาคราวหน้าจะมาพักที่นี่อีก ปล.พนักงานสุภาพ มารยาทดีครับ',\n",
       " 'พักที่นี่เป็นประจำ สบาย รวมๆคือดีค่ะ',\n",
       " 'ห้องดี วิวดีมาก นอนดูวิวได้ตั้งแต่บนเตียง ขึ้นไปรูฟท็อปก็ยิ่งดีมาก ที่สำคัญที่สุดพนักงานดีมาก โดยเฉพาะรีเซฟชั่นที่ชื่อโรส เราทำพระหายในห้อง พนักงานก็ตามหากันใหญ่ จนทุกคนบอกว่าคงไม่ได้คืนแล้ว จนเราถอดใจ แต่เค้าก็ยังตามกันต่อจนได้คืน น่ารักมากจริงๆ ขอบคุณอีกครั้งด้วยคะ มาพักกันได้ปลอดภัยทั้งคนทั้งของจริงๆคะ',\n",
       " 'ดีมาก ชอบมาก สะดวกสบาย พนักงานบริการเยี่ยม สิ่งอำนวยความสะดวกดีสุดๆ สระว่ายน้ำสวยมาก',\n",
       " 'ผ้าเช็ดตัวแขกคนเก่ายังอยู่ในห้องพักอยู่ ตอนเข้าพัก',\n",
       " 'ห้องพักสะอาด พนักงานบริการดีมากๆค่ะ',\n",
       " '',\n",
       " '',\n",
       " 'โรงแรมดีมากค่ะ ห้องใหม่ กว้างและสะอาด เดินทางง่าย ด้านล่างมีเซเว่นและร้านอาหาร ไม่ใกล้จากบีทีเอสมาก โรงแรมมีที่จอดรถค่ะ แต่ถ้าจอดคิดเพิ่ม 100บ./คืน/คันค่ะ',\n",
       " 'ดีมาก ทุกอย้างดี จะมาอีกค่ะ',\n",
       " '',\n",
       " '',\n",
       " 'ที่พักดี สะอาด เดินทางสะดวกค่ะ',\n",
       " 'ห้องสะอาด ขนาดกำลังดี ปลั๊กไฟมีทุกจุดที่จำเป็นต้องใช้ นั่นหมายความว่าการออกแบบห้องดีมากค่ะ อาหารเช้าหลากหลาย สระว่ายน้ำวิวสวย ฟิตเนส ซาวน่าครบครัน ที่สำคัญพนักงานบริการได้อย่างดีเยี่ยมทุกส่วนเลยค่ะ ชอบมากค่ะ ครั้งหน้าไปกทม.ที่แรกที่ตัดสินใจจะไปพักคือที่นี่อีกแน่นอนค่ะ !',\n",
       " 'ที่พักดี สระน้ำสวย บริการดีมาก ไปพักบ่อยมากค่ะ ข้าวล่างมีสตาบั้ค เซเว่น ที่ท่องราตรีก็เพียบ แจ๋วเลย',\n",
       " 'บรรยากาศดีมากครับ มาเข้าพักที่นี่บ่อยมาก',\n",
       " 'ห้องพักสะอาด พนักงานบริการดี วิวสวย เดินทางมาสะดวก',\n",
       " 'พนักงานพูดจาดี ห้องใหญ่ สะอาด มีสิ่งอำนวยความสะดวกครบครัน วิวดี',\n",
       " '',\n",
       " '',\n",
       " 'ห้องดี แต่ห้องน้ำระบายไม่ทัน ลานจอดรถสวนกัน และหาที่จอดยากไปหน่อย',\n",
       " 'โรงแรมสะอาด วิวสวย บริการดีมากค่ะ',\n",
       " 'ห้องพักใหม่ สะอาด กว้าง พักที่ชั้น 31 วิวสวย การเดินทางสะดวก ใกล้ BTS ชั้นล่างของตึก มีร้านสะดวกซื้อ กาแฟ อาหารครบ',\n",
       " 'บริการดี ประทับใจ สะอาดและสะดวกสบายค่ะ',\n",
       " 'ดีทุกอย่างค่ะ รับรองไม่ผิดหวัง',\n",
       " 'ชอบมาก ห้องพักโปร่งสบายหรูหราดี',\n",
       " '',\n",
       " 'พนักงานต้อนรับพูดคุยดีมาก ห้องสะอาด ทำเลดีใกล้ป้ายรถเมล์และ bts',\n",
       " 'ที่พักสะดวกในการเดินทาง ห้องพักใหม่และสะอาด พนักงานยิ้มแย้ม ได้พักชั้น 28 ห้องพักวิวดี สวยทั้งกลางวันและกลางคืน',\n",
       " 'พนักงานพยายามขึ้นราคาค่าขนส่งโดยเพิ่มค่าทางด่วน แต่จริงๆ แล้วไม่มี น้ำยาทำความสะอาดขโมยเสื้อ Lacoste ของพ่อแม่ฉันไป ไม่สามารถซ่อนมันไว้ได้เพราะมันพันอยู่กับเสื้อพี่ชายของฉัน แต่มีเพียงเสื้อตัวเก่าที่หายไปเท่านั้น น่าผิดหวังมาก พยายามติดต่อเจ้าหน้าที่ทางอีเมลและเฟสบุ๊คแต่ไม่มีการตอบกลับ!',\n",
       " 'โรงแรมสวยพร้อมห้องพักและบริการที่สวยงาม อย่างไรก็ตามห้องน้ำมีกลิ่นเหม็น บุฟเฟ่ต์อาหารเช้าอร่อยเสมอ',\n",
       " 'Good Service Hotel. ตั้งอยู่ใกล้กับร้านอาหารมื้อเย็น, ทำความสะอาดอาหารทุกห้อง',\n",
       " 'ห้องพักใหญ่และสะอาด อาหารอร่อย. สระว่ายน้ำยอดเยี่ยม เรามีความสุขกับการเข้าพักที่นี่ โรงแรมนี้ขอแนะนำอย่างยิ่ง',\n",
       " 'บรรยากาศดีและอาหาร ห้องพักเป็นระเบียบเรียบร้อยจริงๆ',\n",
       " 'ทำเลที่ตั้งดีเยี่ยมวิวและพนักงานน่ารัก ห้องพักมีขนาดกำลังดีและสะอาด',\n",
       " 'วิวสวยและอาหารเช้าอร่อยมาก อยากจะแนะนำเพราะมันอยู่ในใจกลางของกรุงเทพฯ ใกล้สถานีรถไฟฟ้าบีทีเอสและอาหารสามารถเดินไปได้ ฉันจะกลับไปจริงๆ ที่จริงแล้วเราเช็คอินก่อนหน้าจากเวลาจองเราจ่ายเพิ่มอีก 1,000 บาท แต่ก็โอเค พวกเขาให้เรารอในล็อบบี้และกระเป๋าเดินทางของเราเพื่อความปลอดภัยเราจึงนอนหลับได้ พนักงานของพวกเขาเป็นมิตร ฉันชอบทุกอย่างเกี่ยวกับโรงแรมนี้ จะจองที่นี่อีกแน่นอนเมื่อเรากลับไปที่กรุงเทพ!',\n",
       " 'โรงแรมสวยสะอาดและใกล้ร้านอาหารใกล้ห้างสรรพสินค้าและ starbuck การออกแบบที่ดี',\n",
       " 'ฉันสั่งห้องดีลักซ์ซึ่งมีโซฟาบนรูปภาพหลังจากที่ฉันเช็คอินมันกลับกลายเป็นว่ามันไม่มีโซฟาที่มีแค่เตียง โดยรวมแล้วถือว่าดีนั่นคือทั้งหมดที่อยู่ในภาพถ่ายพร้อมกับความจริงที่ว่าสิ่งอำนวยความสะดวกนั้นแตกต่างกัน',\n",
       " 'สนุกสะอาดบริการเป็นกันเองทำเลดีราคาไม่แพง วันหนึ่งฉันจะกลับมาพักอีก']"
      ]
     },
     "execution_count": 25,
     "metadata": {},
     "output_type": "execute_result"
    }
   ],
   "source": [
    "Reviews_list"
   ]
  },
  {
   "cell_type": "markdown",
   "id": "bc68ba69",
   "metadata": {},
   "source": [
    "# Implement Data To Pandas"
   ]
  },
  {
   "cell_type": "code",
   "execution_count": 26,
   "id": "27364384",
   "metadata": {},
   "outputs": [],
   "source": [
    "import pandas as pd\n",
    "import numpy as np\n",
    "\n",
    "table = pd.DataFrame([Reviews_list,Ratings_list]).T"
   ]
  },
  {
   "cell_type": "code",
   "execution_count": 27,
   "id": "d90998ff",
   "metadata": {},
   "outputs": [],
   "source": [
    "table.columns = ['Review', 'Rating']"
   ]
  },
  {
   "cell_type": "code",
   "execution_count": 28,
   "id": "e9b956ed",
   "metadata": {},
   "outputs": [],
   "source": [
    "table['Review'].replace('', np.nan, inplace=True)"
   ]
  },
  {
   "cell_type": "code",
   "execution_count": 29,
   "id": "ba849aa2",
   "metadata": {},
   "outputs": [
    {
     "data": {
      "text/html": [
       "<div>\n",
       "<style scoped>\n",
       "    .dataframe tbody tr th:only-of-type {\n",
       "        vertical-align: middle;\n",
       "    }\n",
       "\n",
       "    .dataframe tbody tr th {\n",
       "        vertical-align: top;\n",
       "    }\n",
       "\n",
       "    .dataframe thead th {\n",
       "        text-align: right;\n",
       "    }\n",
       "</style>\n",
       "<table border=\"1\" class=\"dataframe\">\n",
       "  <thead>\n",
       "    <tr style=\"text-align: right;\">\n",
       "      <th></th>\n",
       "      <th>Review</th>\n",
       "      <th>Rating</th>\n",
       "    </tr>\n",
       "  </thead>\n",
       "  <tbody>\n",
       "    <tr>\n",
       "      <th>0</th>\n",
       "      <td>Good โรงแรมใหม่ วิวสวย ห่างจาก บีทีเอส อารีย์ป...</td>\n",
       "      <td>9.7</td>\n",
       "    </tr>\n",
       "    <tr>\n",
       "      <th>1</th>\n",
       "      <td>ดีมากๆๆๆๆ จะกลับมาพักอีก เวลาเข้า กรุงเทพฯ</td>\n",
       "      <td>9.7</td>\n",
       "    </tr>\n",
       "    <tr>\n",
       "      <th>2</th>\n",
       "      <td>ห้องพักสะอาด พนักงานบริการดีมาก ยิ้มแย้ม อาหาร...</td>\n",
       "      <td>9.7</td>\n",
       "    </tr>\n",
       "    <tr>\n",
       "      <th>3</th>\n",
       "      <td>ห้องตรงปก ใหญ่มากค่ะ มาที่นี่ 2 ครั้งแล้ว ชอบค่ะ</td>\n",
       "      <td>10</td>\n",
       "    </tr>\n",
       "    <tr>\n",
       "      <th>4</th>\n",
       "      <td>ผนังห้องบางแถมเหม็นบุหรี่มากค่ะ ปวดหัวนอนไม่ได...</td>\n",
       "      <td>5.4</td>\n",
       "    </tr>\n",
       "    <tr>\n",
       "      <th>...</th>\n",
       "      <td>...</td>\n",
       "      <td>...</td>\n",
       "    </tr>\n",
       "    <tr>\n",
       "      <th>73</th>\n",
       "      <td>ทำเลที่ตั้งดีเยี่ยมวิวและพนักงานน่ารัก ห้องพัก...</td>\n",
       "      <td>10</td>\n",
       "    </tr>\n",
       "    <tr>\n",
       "      <th>74</th>\n",
       "      <td>วิวสวยและอาหารเช้าอร่อยมาก อยากจะแนะนำเพราะมัน...</td>\n",
       "      <td>9.7</td>\n",
       "    </tr>\n",
       "    <tr>\n",
       "      <th>75</th>\n",
       "      <td>โรงแรมสวยสะอาดและใกล้ร้านอาหารใกล้ห้างสรรพสินค...</td>\n",
       "      <td>9.1</td>\n",
       "    </tr>\n",
       "    <tr>\n",
       "      <th>76</th>\n",
       "      <td>ฉันสั่งห้องดีลักซ์ซึ่งมีโซฟาบนรูปภาพหลังจากที่...</td>\n",
       "      <td>6.9</td>\n",
       "    </tr>\n",
       "    <tr>\n",
       "      <th>77</th>\n",
       "      <td>สนุกสะอาดบริการเป็นกันเองทำเลดีราคาไม่แพง วันห...</td>\n",
       "      <td>9.7</td>\n",
       "    </tr>\n",
       "  </tbody>\n",
       "</table>\n",
       "<p>78 rows × 2 columns</p>\n",
       "</div>"
      ],
      "text/plain": [
       "                                               Review Rating\n",
       "0   Good โรงแรมใหม่ วิวสวย ห่างจาก บีทีเอส อารีย์ป...    9.7\n",
       "1          ดีมากๆๆๆๆ จะกลับมาพักอีก เวลาเข้า กรุงเทพฯ    9.7\n",
       "2   ห้องพักสะอาด พนักงานบริการดีมาก ยิ้มแย้ม อาหาร...    9.7\n",
       "3    ห้องตรงปก ใหญ่มากค่ะ มาที่นี่ 2 ครั้งแล้ว ชอบค่ะ     10\n",
       "4   ผนังห้องบางแถมเหม็นบุหรี่มากค่ะ ปวดหัวนอนไม่ได...    5.4\n",
       "..                                                ...    ...\n",
       "73  ทำเลที่ตั้งดีเยี่ยมวิวและพนักงานน่ารัก ห้องพัก...     10\n",
       "74  วิวสวยและอาหารเช้าอร่อยมาก อยากจะแนะนำเพราะมัน...    9.7\n",
       "75  โรงแรมสวยสะอาดและใกล้ร้านอาหารใกล้ห้างสรรพสินค...    9.1\n",
       "76  ฉันสั่งห้องดีลักซ์ซึ่งมีโซฟาบนรูปภาพหลังจากที่...    6.9\n",
       "77  สนุกสะอาดบริการเป็นกันเองทำเลดีราคาไม่แพง วันห...    9.7\n",
       "\n",
       "[78 rows x 2 columns]"
      ]
     },
     "execution_count": 29,
     "metadata": {},
     "output_type": "execute_result"
    }
   ],
   "source": [
    "table"
   ]
  },
  {
   "cell_type": "code",
   "execution_count": 30,
   "id": "dad3a755",
   "metadata": {},
   "outputs": [
    {
     "data": {
      "text/html": [
       "<div>\n",
       "<style scoped>\n",
       "    .dataframe tbody tr th:only-of-type {\n",
       "        vertical-align: middle;\n",
       "    }\n",
       "\n",
       "    .dataframe tbody tr th {\n",
       "        vertical-align: top;\n",
       "    }\n",
       "\n",
       "    .dataframe thead th {\n",
       "        text-align: right;\n",
       "    }\n",
       "</style>\n",
       "<table border=\"1\" class=\"dataframe\">\n",
       "  <thead>\n",
       "    <tr style=\"text-align: right;\">\n",
       "      <th></th>\n",
       "      <th>index</th>\n",
       "      <th>Review</th>\n",
       "      <th>Rating</th>\n",
       "    </tr>\n",
       "  </thead>\n",
       "  <tbody>\n",
       "    <tr>\n",
       "      <th>0</th>\n",
       "      <td>0</td>\n",
       "      <td>Good โรงแรมใหม่ วิวสวย ห่างจาก บีทีเอส อารีย์ป...</td>\n",
       "      <td>9.7</td>\n",
       "    </tr>\n",
       "    <tr>\n",
       "      <th>1</th>\n",
       "      <td>1</td>\n",
       "      <td>ดีมากๆๆๆๆ จะกลับมาพักอีก เวลาเข้า กรุงเทพฯ</td>\n",
       "      <td>9.7</td>\n",
       "    </tr>\n",
       "    <tr>\n",
       "      <th>2</th>\n",
       "      <td>2</td>\n",
       "      <td>ห้องพักสะอาด พนักงานบริการดีมาก ยิ้มแย้ม อาหาร...</td>\n",
       "      <td>9.7</td>\n",
       "    </tr>\n",
       "    <tr>\n",
       "      <th>3</th>\n",
       "      <td>3</td>\n",
       "      <td>ห้องตรงปก ใหญ่มากค่ะ มาที่นี่ 2 ครั้งแล้ว ชอบค่ะ</td>\n",
       "      <td>10</td>\n",
       "    </tr>\n",
       "    <tr>\n",
       "      <th>4</th>\n",
       "      <td>4</td>\n",
       "      <td>ผนังห้องบางแถมเหม็นบุหรี่มากค่ะ ปวดหัวนอนไม่ได...</td>\n",
       "      <td>5.4</td>\n",
       "    </tr>\n",
       "    <tr>\n",
       "      <th>...</th>\n",
       "      <td>...</td>\n",
       "      <td>...</td>\n",
       "      <td>...</td>\n",
       "    </tr>\n",
       "    <tr>\n",
       "      <th>62</th>\n",
       "      <td>73</td>\n",
       "      <td>ทำเลที่ตั้งดีเยี่ยมวิวและพนักงานน่ารัก ห้องพัก...</td>\n",
       "      <td>10</td>\n",
       "    </tr>\n",
       "    <tr>\n",
       "      <th>63</th>\n",
       "      <td>74</td>\n",
       "      <td>วิวสวยและอาหารเช้าอร่อยมาก อยากจะแนะนำเพราะมัน...</td>\n",
       "      <td>9.7</td>\n",
       "    </tr>\n",
       "    <tr>\n",
       "      <th>64</th>\n",
       "      <td>75</td>\n",
       "      <td>โรงแรมสวยสะอาดและใกล้ร้านอาหารใกล้ห้างสรรพสินค...</td>\n",
       "      <td>9.1</td>\n",
       "    </tr>\n",
       "    <tr>\n",
       "      <th>65</th>\n",
       "      <td>76</td>\n",
       "      <td>ฉันสั่งห้องดีลักซ์ซึ่งมีโซฟาบนรูปภาพหลังจากที่...</td>\n",
       "      <td>6.9</td>\n",
       "    </tr>\n",
       "    <tr>\n",
       "      <th>66</th>\n",
       "      <td>77</td>\n",
       "      <td>สนุกสะอาดบริการเป็นกันเองทำเลดีราคาไม่แพง วันห...</td>\n",
       "      <td>9.7</td>\n",
       "    </tr>\n",
       "  </tbody>\n",
       "</table>\n",
       "<p>67 rows × 3 columns</p>\n",
       "</div>"
      ],
      "text/plain": [
       "    index                                             Review Rating\n",
       "0       0  Good โรงแรมใหม่ วิวสวย ห่างจาก บีทีเอส อารีย์ป...    9.7\n",
       "1       1         ดีมากๆๆๆๆ จะกลับมาพักอีก เวลาเข้า กรุงเทพฯ    9.7\n",
       "2       2  ห้องพักสะอาด พนักงานบริการดีมาก ยิ้มแย้ม อาหาร...    9.7\n",
       "3       3   ห้องตรงปก ใหญ่มากค่ะ มาที่นี่ 2 ครั้งแล้ว ชอบค่ะ     10\n",
       "4       4  ผนังห้องบางแถมเหม็นบุหรี่มากค่ะ ปวดหัวนอนไม่ได...    5.4\n",
       "..    ...                                                ...    ...\n",
       "62     73  ทำเลที่ตั้งดีเยี่ยมวิวและพนักงานน่ารัก ห้องพัก...     10\n",
       "63     74  วิวสวยและอาหารเช้าอร่อยมาก อยากจะแนะนำเพราะมัน...    9.7\n",
       "64     75  โรงแรมสวยสะอาดและใกล้ร้านอาหารใกล้ห้างสรรพสินค...    9.1\n",
       "65     76  ฉันสั่งห้องดีลักซ์ซึ่งมีโซฟาบนรูปภาพหลังจากที่...    6.9\n",
       "66     77  สนุกสะอาดบริการเป็นกันเองทำเลดีราคาไม่แพง วันห...    9.7\n",
       "\n",
       "[67 rows x 3 columns]"
      ]
     },
     "execution_count": 30,
     "metadata": {},
     "output_type": "execute_result"
    }
   ],
   "source": [
    "table = table.dropna()\n",
    "table.reset_index(inplace=True)\n",
    "table"
   ]
  },
  {
   "cell_type": "code",
   "execution_count": 31,
   "id": "dff0423a",
   "metadata": {},
   "outputs": [],
   "source": [
    "table = table.drop(['index'],axis=1)"
   ]
  },
  {
   "cell_type": "code",
   "execution_count": 32,
   "id": "18265b8e",
   "metadata": {},
   "outputs": [
    {
     "data": {
      "text/html": [
       "<div>\n",
       "<style scoped>\n",
       "    .dataframe tbody tr th:only-of-type {\n",
       "        vertical-align: middle;\n",
       "    }\n",
       "\n",
       "    .dataframe tbody tr th {\n",
       "        vertical-align: top;\n",
       "    }\n",
       "\n",
       "    .dataframe thead th {\n",
       "        text-align: right;\n",
       "    }\n",
       "</style>\n",
       "<table border=\"1\" class=\"dataframe\">\n",
       "  <thead>\n",
       "    <tr style=\"text-align: right;\">\n",
       "      <th></th>\n",
       "      <th>Review</th>\n",
       "      <th>Rating</th>\n",
       "    </tr>\n",
       "  </thead>\n",
       "  <tbody>\n",
       "    <tr>\n",
       "      <th>0</th>\n",
       "      <td>Good โรงแรมใหม่ วิวสวย ห่างจาก บีทีเอส อารีย์ป...</td>\n",
       "      <td>9.7</td>\n",
       "    </tr>\n",
       "    <tr>\n",
       "      <th>1</th>\n",
       "      <td>ดีมากๆๆๆๆ จะกลับมาพักอีก เวลาเข้า กรุงเทพฯ</td>\n",
       "      <td>9.7</td>\n",
       "    </tr>\n",
       "    <tr>\n",
       "      <th>2</th>\n",
       "      <td>ห้องพักสะอาด พนักงานบริการดีมาก ยิ้มแย้ม อาหาร...</td>\n",
       "      <td>9.7</td>\n",
       "    </tr>\n",
       "    <tr>\n",
       "      <th>3</th>\n",
       "      <td>ห้องตรงปก ใหญ่มากค่ะ มาที่นี่ 2 ครั้งแล้ว ชอบค่ะ</td>\n",
       "      <td>10</td>\n",
       "    </tr>\n",
       "    <tr>\n",
       "      <th>4</th>\n",
       "      <td>ผนังห้องบางแถมเหม็นบุหรี่มากค่ะ ปวดหัวนอนไม่ได...</td>\n",
       "      <td>5.4</td>\n",
       "    </tr>\n",
       "    <tr>\n",
       "      <th>...</th>\n",
       "      <td>...</td>\n",
       "      <td>...</td>\n",
       "    </tr>\n",
       "    <tr>\n",
       "      <th>62</th>\n",
       "      <td>ทำเลที่ตั้งดีเยี่ยมวิวและพนักงานน่ารัก ห้องพัก...</td>\n",
       "      <td>10</td>\n",
       "    </tr>\n",
       "    <tr>\n",
       "      <th>63</th>\n",
       "      <td>วิวสวยและอาหารเช้าอร่อยมาก อยากจะแนะนำเพราะมัน...</td>\n",
       "      <td>9.7</td>\n",
       "    </tr>\n",
       "    <tr>\n",
       "      <th>64</th>\n",
       "      <td>โรงแรมสวยสะอาดและใกล้ร้านอาหารใกล้ห้างสรรพสินค...</td>\n",
       "      <td>9.1</td>\n",
       "    </tr>\n",
       "    <tr>\n",
       "      <th>65</th>\n",
       "      <td>ฉันสั่งห้องดีลักซ์ซึ่งมีโซฟาบนรูปภาพหลังจากที่...</td>\n",
       "      <td>6.9</td>\n",
       "    </tr>\n",
       "    <tr>\n",
       "      <th>66</th>\n",
       "      <td>สนุกสะอาดบริการเป็นกันเองทำเลดีราคาไม่แพง วันห...</td>\n",
       "      <td>9.7</td>\n",
       "    </tr>\n",
       "  </tbody>\n",
       "</table>\n",
       "<p>67 rows × 2 columns</p>\n",
       "</div>"
      ],
      "text/plain": [
       "                                               Review Rating\n",
       "0   Good โรงแรมใหม่ วิวสวย ห่างจาก บีทีเอส อารีย์ป...    9.7\n",
       "1          ดีมากๆๆๆๆ จะกลับมาพักอีก เวลาเข้า กรุงเทพฯ    9.7\n",
       "2   ห้องพักสะอาด พนักงานบริการดีมาก ยิ้มแย้ม อาหาร...    9.7\n",
       "3    ห้องตรงปก ใหญ่มากค่ะ มาที่นี่ 2 ครั้งแล้ว ชอบค่ะ     10\n",
       "4   ผนังห้องบางแถมเหม็นบุหรี่มากค่ะ ปวดหัวนอนไม่ได...    5.4\n",
       "..                                                ...    ...\n",
       "62  ทำเลที่ตั้งดีเยี่ยมวิวและพนักงานน่ารัก ห้องพัก...     10\n",
       "63  วิวสวยและอาหารเช้าอร่อยมาก อยากจะแนะนำเพราะมัน...    9.7\n",
       "64  โรงแรมสวยสะอาดและใกล้ร้านอาหารใกล้ห้างสรรพสินค...    9.1\n",
       "65  ฉันสั่งห้องดีลักซ์ซึ่งมีโซฟาบนรูปภาพหลังจากที่...    6.9\n",
       "66  สนุกสะอาดบริการเป็นกันเองทำเลดีราคาไม่แพง วันห...    9.7\n",
       "\n",
       "[67 rows x 2 columns]"
      ]
     },
     "execution_count": 32,
     "metadata": {},
     "output_type": "execute_result"
    }
   ],
   "source": [
    "table"
   ]
  },
  {
   "cell_type": "code",
   "execution_count": 33,
   "id": "1ca57a3b",
   "metadata": {},
   "outputs": [],
   "source": [
    "table.to_csv(\"Reviews&Ratings_2nd.csv\", encoding=\"utf-8\") "
   ]
  }
 ],
 "metadata": {
  "kernelspec": {
   "display_name": "Python 3 (ipykernel)",
   "language": "python",
   "name": "python3"
  },
  "language_info": {
   "codemirror_mode": {
    "name": "ipython",
    "version": 3
   },
   "file_extension": ".py",
   "mimetype": "text/x-python",
   "name": "python",
   "nbconvert_exporter": "python",
   "pygments_lexer": "ipython3",
   "version": "3.9.13"
  }
 },
 "nbformat": 4,
 "nbformat_minor": 5
}
