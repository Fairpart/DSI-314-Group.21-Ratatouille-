{
 "cells": [
  {
   "cell_type": "code",
   "execution_count": 1,
   "id": "6291f010",
   "metadata": {},
   "outputs": [
    {
     "name": "stdout",
     "output_type": "stream",
     "text": [
      "Requirement already satisfied: selenium in c:\\users\\fair\\anaconda3\\lib\\site-packages (4.6.0)\n",
      "Requirement already satisfied: trio~=0.17 in c:\\users\\fair\\anaconda3\\lib\\site-packages (from selenium) (0.22.0)\n",
      "Requirement already satisfied: trio-websocket~=0.9 in c:\\users\\fair\\anaconda3\\lib\\site-packages (from selenium) (0.9.2)\n",
      "Requirement already satisfied: certifi>=2021.10.8 in c:\\users\\fair\\anaconda3\\lib\\site-packages (from selenium) (2022.9.14)\n",
      "Requirement already satisfied: urllib3[socks]~=1.26 in c:\\users\\fair\\anaconda3\\lib\\site-packages (from selenium) (1.26.11)\n",
      "Requirement already satisfied: outcome in c:\\users\\fair\\anaconda3\\lib\\site-packages (from trio~=0.17->selenium) (1.2.0)\n",
      "Requirement already satisfied: cffi>=1.14 in c:\\users\\fair\\anaconda3\\lib\\site-packages (from trio~=0.17->selenium) (1.15.1)\n",
      "Requirement already satisfied: sortedcontainers in c:\\users\\fair\\anaconda3\\lib\\site-packages (from trio~=0.17->selenium) (2.4.0)\n",
      "Requirement already satisfied: sniffio in c:\\users\\fair\\anaconda3\\lib\\site-packages (from trio~=0.17->selenium) (1.2.0)\n",
      "Requirement already satisfied: exceptiongroup>=1.0.0rc9 in c:\\users\\fair\\anaconda3\\lib\\site-packages (from trio~=0.17->selenium) (1.0.1)\n",
      "Requirement already satisfied: attrs>=19.2.0 in c:\\users\\fair\\anaconda3\\lib\\site-packages (from trio~=0.17->selenium) (21.4.0)\n",
      "Requirement already satisfied: async-generator>=1.9 in c:\\users\\fair\\anaconda3\\lib\\site-packages (from trio~=0.17->selenium) (1.10)\n",
      "Requirement already satisfied: idna in c:\\users\\fair\\anaconda3\\lib\\site-packages (from trio~=0.17->selenium) (3.3)\n",
      "Requirement already satisfied: wsproto>=0.14 in c:\\users\\fair\\anaconda3\\lib\\site-packages (from trio-websocket~=0.9->selenium) (1.2.0)\n",
      "Requirement already satisfied: PySocks!=1.5.7,<2.0,>=1.5.6 in c:\\users\\fair\\anaconda3\\lib\\site-packages (from urllib3[socks]~=1.26->selenium) (1.7.1)\n",
      "Requirement already satisfied: pycparser in c:\\users\\fair\\anaconda3\\lib\\site-packages (from cffi>=1.14->trio~=0.17->selenium) (2.21)\n",
      "Requirement already satisfied: h11<1,>=0.9.0 in c:\\users\\fair\\anaconda3\\lib\\site-packages (from wsproto>=0.14->trio-websocket~=0.9->selenium) (0.14.0)\n"
     ]
    }
   ],
   "source": [
    "!pip install selenium"
   ]
  },
  {
   "cell_type": "markdown",
   "id": "ad15bdd9",
   "metadata": {},
   "source": [
    "# Def & Scraping Methods"
   ]
  },
  {
   "cell_type": "code",
   "execution_count": 2,
   "id": "b5022015",
   "metadata": {},
   "outputs": [],
   "source": [
    "def save_comment2mainList(main_comment_List,sub_comment_List):\n",
    "    for item in sub_comment_List:\n",
    "        main_comment_List.append(str(item))\n",
    "        \n",
    "def save_rating2mainList(main_rating_List,sub_rating_List):\n",
    "    for item in sub_rating_List:\n",
    "        main_rating_List.append(str(item))"
   ]
  },
  {
   "cell_type": "code",
   "execution_count": 3,
   "id": "ff8ea950",
   "metadata": {},
   "outputs": [],
   "source": [
    "def check_list_size(list_1,list_2):\n",
    "    if len(list_1) != len(list_2):\n",
    "        if len(list_1) > len(list_2):\n",
    "            list_1.pop(len(list_1)-1)\n",
    "        else:\n",
    "            list_2.pop(len(list_2)-1)\n",
    "    else:\n",
    "      return list_1,list_2"
   ]
  },
  {
   "cell_type": "code",
   "execution_count": 4,
   "id": "0ef53a5a",
   "metadata": {},
   "outputs": [],
   "source": [
    "def NextPages():\n",
    "    running = True\n",
    "    while running:\n",
    "        try:\n",
    "            try:\n",
    "                running = driver.find_element(By.XPATH,'/html/body/div[1]/div[5]/div[2]/div/div/div[1]/div/div/div[8]/div/div[7]').click()\n",
    "            except:\n",
    "                try:\n",
    "                    running = driver.find_element(By.XPATH,'/html/body/div[1]/div[5]/div[2]/div/div/div[1]/div/div/div[8]/div/div[8]').click()   \n",
    "                except:\n",
    "                    running = driver.find_elementh(By.XPATH,'/html/body/div[1]/div[5]/div[2]/div/div/div[1]/div/div/div[8]/div/div[9]').click() \n",
    "        except:\n",
    "             running = False\n",
    "        print('-----------------------------------------------------------','\\n')"
   ]
  },
  {
   "cell_type": "code",
   "execution_count": 5,
   "id": "7e351618",
   "metadata": {},
   "outputs": [],
   "source": [
    "def scraping_reviews(l_x1,l_x2,l_y1,l_y2): #scraping_reviews(ratings_list,reviews_list,Ratings_list,Reviews_list)\n",
    "    driver.execute_script(\"window.scrollTo(0,7770)\")\n",
    "    for review in driver.find_elements(By.CSS_SELECTOR,'div.css-1dbjc4n.r-1guathk.r-1yzf0co'):\n",
    "        for score in review.find_elements(By.CSS_SELECTOR,'div.css-901oao.r-1i6uqv8.r-1sixt3s.r-ubezar.r-majxgm.r-135wba7.r-fdjqy7'):\n",
    "            rate = score.text\n",
    "            print(rate)\n",
    "            l_x1.append(rate)\n",
    "\n",
    "        for comment in review.find_elements(By.CSS_SELECTOR,'div.css-1dbjc4n.r-1wzrnnt.r-1udh08x'):\n",
    "            criticism = comment.text\n",
    "            print(criticism)\n",
    "            l_x2.append(criticism)\n",
    "    \n",
    "        check_list_size(l_x1,l_x2)\n",
    "    save_comment2mainList(l_y1, l_x1)\n",
    "    save_rating2mainList(l_y2, l_x2)"
   ]
  },
  {
   "cell_type": "code",
   "execution_count": 6,
   "id": "df1083aa",
   "metadata": {},
   "outputs": [],
   "source": [
    "def clear_list(l_1,l_2):\n",
    "    reviews_list.clear()\n",
    "    ratings_list.clear()"
   ]
  },
  {
   "cell_type": "markdown",
   "id": "3c9a43da",
   "metadata": {},
   "source": [
    "# Code Working"
   ]
  },
  {
   "cell_type": "code",
   "execution_count": 11,
   "id": "8d08c5ba",
   "metadata": {},
   "outputs": [
    {
     "name": "stderr",
     "output_type": "stream",
     "text": [
      "C:\\Users\\FAIR\\AppData\\Local\\Temp\\ipykernel_15336\\1362884652.py:8: DeprecationWarning: executable_path has been deprecated, please pass in a Service object\n",
      "  driver = webdriver.Edge(executable_path = path)\n"
     ]
    }
   ],
   "source": [
    "from selenium import webdriver\n",
    "from selenium.webdriver.common.by import By\n",
    "import time\n",
    "from selenium.webdriver.support.select import Select\n",
    "\n",
    "path = \"D:\\python\\Selenium\\edgedriver_win64\\msedgedriver.exe\"\n",
    "url = 'https://www.traveloka.com/th-th/hotel/detail?spec=10-11-2022.11-11-2022.1.1.HOTEL.3000010038556.%E0%B8%8A%E0%B8%AD%E0%B8%AE%E0%B8%B1%E0%B8%99%20%E0%B8%AD%E0%B8%B4%E0%B8%99%E0%B8%99%E0%B9%8C.1&contexts=%7B%22inventoryRateKey%22%3A%22povEwB3ZzsU2C6pd%2B6MdU13LUNuufACdbU0usK5vg0dM0tKsNUio4Rxug1zOzHJilcvZa8YdqqIySdppe7dolTIewZlxfjiOGz6oXLTucMvN0%2BgQ3yZPvZcoHwUFNN%2BZpcr%2F%2FNa8o9ElfN8zOYhzzZeg0X586laFpeUViPi9rxCbOx5mJBFwvGhu1TY4Pv4lDKNfCuNpYoh%2BuNZYtkPMM8N0KRTJ4VFq4ShicQGXCAjUQQmOFyb69aqe8Hll6YWZ3I9RvKjk4IEo%2BSgm41melVlJUAwrC%2F%2B5QUCsG1s1QVIuc5YTT922w9xJEQzAwRUPNnQ9KJas2SXzCKWvz%2Fz6J9VsBZohxEpYRFmg%2B%2BHLDKSFYOLj%2FjXdejPF4I505ImQjTE%2FGsBKQXKjBtgZDhjE4C5zlhNP3bbD3EkRDMDBFQ9xx9%2BYOSoJDN4kQ00BhAJQ1WwFmiHESlhEWaD74csMpMnQa0scGMjKKgUdFAeMZ1eGixODei%2FNdx2RuCUEGmeMAUyxf%2BoM7B5yfJewzeVoU2%2FtVYQKI1lMuX%2BRaPNcBUAvSnVpp3982X8ufymNCG%2Bvqv3rBuUa%2BDAlSlNPC7rHF8TsYmOTADU69%2B%2B%2Fol8yLJTHHQhvr%2Bf5O5wjhPZDddaEMD1lhgrNFX59TpZvCV9M4rSDCIHqoFDFRnsCphC6IUw%3D%22%7D&prevSearchId=1749093859430791925&loginPromo=1'\n",
    "driver = webdriver.Edge(executable_path = path)\n",
    "driver.get(url)\n",
    "\n",
    "Reviews_list, reviews_list = [],[]\n",
    "Ratings_list, ratings_list = [],[]"
   ]
  },
  {
   "cell_type": "code",
   "execution_count": 12,
   "id": "f8243469",
   "metadata": {},
   "outputs": [
    {
     "name": "stdout",
     "output_type": "stream",
     "text": [
      "5.7\n",
      "ห้องมีกลิ่นอับ และไม่มีการเปลี่ยนผ้าปูที่นอนและปลอกหมอน\n",
      "8\n",
      "เรื่องความปลอดภัยน่ากลัวนะคะ ช็อกกับการถือวิสาสะมาเปืดประตูของพนักงานถึง 2 ครั้ง ครั้งแรกมาเคาะแล้วเราเปิดช้า พนักงานหมุนลูกบิดประตูเหมือนจะเปิด จนเราต้องตะโกนว่า รอ! ครั้งที่ 2 ฉันแทบหัวใจวาย พนักงานผู้ชายเปิดประตูห้องฉันตอนตี 2 ฉันหันไปเห็นหน้าเขาพอดี เขารีบปิดประตูทันที โชคดีที่ฉันคล้องกุญแจไว้ ฉันตะโกนถามเขาว่า อะไร! แล้วเปิดประตูถามเขาด้วยความตกใจและโกรธ เขาบอกว่าฉันลืมกุญแจไว้ มีคนเอามาคืนให้ที่เคาน์เตอร์ ช่างเป็นการกระทำที่แย่และไร้มารยาทมาก ฉันนอนไม่หลับทั้งคืน ไม่เคยเจออะไรแบบนี้ ทั้งตกใจและหวาดกลัว เขาเปิดประตูห้องฉันได้ตอนตี 2 แล้วไม่เคาะอะไรเลย  สภาพห้องก็ปกติไม่ได้แย่อะไร สะดวกสบาย แต่ฉันว่าฉันคงไม่ไปพักอีกแล้ว\n",
      "4.8\n",
      "โรงแรมสกปรกเกินไปขาดอุปกรณ์ไม่มีน้ำไม่มีน้ำมันอาบน้ำมืดผ้าห่มเก่าความรู้สึกสกปรก ทำเลที่ตั้งลึกในตลาดไม่เหมาะกับโรงแรม ราคาไม่สมเหตุสมผลนี่เป็นโมเต็ลราคาประหยัด\n",
      "4.8\n",
      "ห้องพักอึดอัด ที่นอนชื้นมีกลิ่นแรงและแข็ง พื้นเหนียว ไม่มีเครื่องทำน้ำอุ่นไม่มีทีวี เฟอร์นิเจอร์เสียหายมากมาย สบู่และแชมพูจะไม่ถูกแทนที่ทุกวัน ห้องพักไม่ได้รับการทำความสะอาดทุกวัน ตำแหน่งโรงแรมหายาก\n",
      "9.1\n",
      "ดี โรงแรมอยู่ลึกเข้าไปในช่องทางเล็กน้อยดังนั้นฉันจึงค่อนข้างกลัวในตอนแรก โรงแรมตั้งอยู่ในตลาดที่มีผู้คนหนาแน่นการช็อปปิ้งและรับประทานอาหารที่สะดวกสบายมาก พนักงานที่เป็นมิตรอย่างมากห้องพักที่มีอุปกรณ์ครบครันราคาสมเหตุสมผลเช็คอิน / เช็คเอาท์ได้อย่างรวดเร็ว\n",
      "8.5\n",
      "เป็น ที่พักเต็มไปด้วยสิ่งจำเป็น มีการสูบบุหรี่ลิฟต์พนักงานที่เป็นมิตร Chech พิมพ์ / เช็คเอาต์ได้อย่างรวดเร็ว ตั้งอยู่ในตลาดสะดวกในการกินและดื่ม\n",
      "4.8\n",
      "ประสบการณ์การเช็คอินใช้เวลาเกือบหนึ่งชั่วโมงนานจริงๆ ห้องพักของโรงแรมแคบมากสกปรกมากการเข้าไปในห้องของเราจะผ่านเตียงสปริงหักกระเป๋าที่หักในมุมของห้องโถงแผ่นแขวนและแย่มากอีกครั้ง เตียงสปริงยากจริง ๆ ทำเลที่ตั้งของโรงแรมอยู่กลางตลาดและตรอกเล็ก ๆ อึดอัดมาก อันดับแรกมองหาตำแหน่งของโรงแรมวนเวียนอยู่ในตลาดถามคนรอบข้างไม่ทราบชื่อของโรงแรม พักที่นี่เพียงพอ!\n",
      "8.5\n",
      "ห้องพักสะอาดพนักงานกระตือรือร้นหายากนิดหน่อย แต่ก็โอเค\n",
      "8.4\n",
      "โรงแรมยังสะอาดและสะดวกสบาย\n",
      "8.5\n",
      "ราคาถูกชั่วคราวกระตือรือร้นใกล้ศูนย์\n"
     ]
    }
   ],
   "source": [
    "for review in driver.find_elements(By.CSS_SELECTOR,'div.css-1dbjc4n.r-1guathk.r-1yzf0co'):\n",
    "    for score in review.find_elements(By.CSS_SELECTOR,'div.css-901oao.r-1i6uqv8.r-1sixt3s.r-ubezar.r-majxgm.r-135wba7.r-fdjqy7'):\n",
    "        rate = score.text\n",
    "        print(rate)\n",
    "        ratings_list.append(rate)\n",
    "\n",
    "    for comment in review.find_elements(By.CSS_SELECTOR,'div.css-1dbjc4n.r-1wzrnnt.r-1udh08x'):\n",
    "        criticism = comment.text\n",
    "        print(criticism)\n",
    "        reviews_list.append(criticism)\n",
    "    \n",
    "    check_list_size(ratings_list,reviews_list)\n",
    "save_comment2mainList(Reviews_list, reviews_list)\n",
    "save_rating2mainList(Ratings_list, ratings_list)"
   ]
  },
  {
   "cell_type": "code",
   "execution_count": 13,
   "id": "e571e05b",
   "metadata": {},
   "outputs": [],
   "source": [
    "sel = driver.find_element(By.XPATH,\"/html/body/div[1]/div[5]/div[2]/div/div/div[1]/div/div/div[4]/div[3]\")\n",
    "sel.click()"
   ]
  },
  {
   "cell_type": "code",
   "execution_count": 14,
   "id": "51826aa4",
   "metadata": {},
   "outputs": [],
   "source": [
    "time.sleep(2)\n",
    "TH = sel.find_element(By.XPATH,'/html/body/div[1]/div[5]/div[2]/div/div/div[1]/div/div/div[4]/div[3]/div/div[2]/div/div/div/div[4]')\n",
    "TH.click()"
   ]
  },
  {
   "cell_type": "code",
   "execution_count": 15,
   "id": "00450a45",
   "metadata": {},
   "outputs": [
    {
     "data": {
      "text/plain": [
       "'ค่าห้องพัก ชอฮัน อินน์ (Chauhan Inn) ประตูน้ำ ตั้งแต่ 10-11-2022 ถึง 11-11-2022'"
      ]
     },
     "execution_count": 15,
     "metadata": {},
     "output_type": "execute_result"
    }
   ],
   "source": [
    "driver.title"
   ]
  },
  {
   "cell_type": "code",
   "execution_count": 16,
   "id": "01f18a53",
   "metadata": {},
   "outputs": [],
   "source": [
    "driver.execute_script(\"window.scrollTo(0,6600)\")"
   ]
  },
  {
   "cell_type": "code",
   "execution_count": 17,
   "id": "982dcdd2",
   "metadata": {},
   "outputs": [],
   "source": [
    "sel = driver.find_element(By.XPATH,\"/html/body/div[1]/div[5]/div[2]/div/div/div[1]/div/div/div[8]/div/div[4]\")\n",
    "sel.click()"
   ]
  },
  {
   "cell_type": "code",
   "execution_count": 18,
   "id": "241a5752",
   "metadata": {},
   "outputs": [],
   "source": [
    "clear_list(reviews_list,ratings_list)"
   ]
  },
  {
   "cell_type": "code",
   "execution_count": 19,
   "id": "75034ab2",
   "metadata": {},
   "outputs": [
    {
     "name": "stdout",
     "output_type": "stream",
     "text": [
      "8.8\n",
      "โรงแรมค่อนข้างสะอาดและสว่าง\n"
     ]
    }
   ],
   "source": [
    "scraping_reviews(ratings_list,reviews_list,Ratings_list,Reviews_list)"
   ]
  },
  {
   "cell_type": "code",
   "execution_count": 20,
   "id": "c2e2a225",
   "metadata": {},
   "outputs": [
    {
     "name": "stdout",
     "output_type": "stream",
     "text": [
      "Ratings_list : 11\n",
      "Reviews_list : 11\n"
     ]
    }
   ],
   "source": [
    "print('Ratings_list :',len(Ratings_list))\n",
    "print('Reviews_list :',len(Reviews_list))"
   ]
  },
  {
   "cell_type": "markdown",
   "id": "bc68ba69",
   "metadata": {},
   "source": [
    "# Implement Data To Pandas"
   ]
  },
  {
   "cell_type": "code",
   "execution_count": 21,
   "id": "27364384",
   "metadata": {},
   "outputs": [],
   "source": [
    "import pandas as pd\n",
    "import numpy as np\n",
    "\n",
    "table = pd.DataFrame([Reviews_list,Ratings_list]).T"
   ]
  },
  {
   "cell_type": "code",
   "execution_count": 22,
   "id": "d90998ff",
   "metadata": {},
   "outputs": [],
   "source": [
    "table.columns = ['Review', 'Rating']"
   ]
  },
  {
   "cell_type": "code",
   "execution_count": 23,
   "id": "e9b956ed",
   "metadata": {},
   "outputs": [],
   "source": [
    "table['Review'].replace('', np.nan, inplace=True)"
   ]
  },
  {
   "cell_type": "code",
   "execution_count": 24,
   "id": "ba849aa2",
   "metadata": {},
   "outputs": [
    {
     "data": {
      "text/html": [
       "<div>\n",
       "<style scoped>\n",
       "    .dataframe tbody tr th:only-of-type {\n",
       "        vertical-align: middle;\n",
       "    }\n",
       "\n",
       "    .dataframe tbody tr th {\n",
       "        vertical-align: top;\n",
       "    }\n",
       "\n",
       "    .dataframe thead th {\n",
       "        text-align: right;\n",
       "    }\n",
       "</style>\n",
       "<table border=\"1\" class=\"dataframe\">\n",
       "  <thead>\n",
       "    <tr style=\"text-align: right;\">\n",
       "      <th></th>\n",
       "      <th>Review</th>\n",
       "      <th>Rating</th>\n",
       "    </tr>\n",
       "  </thead>\n",
       "  <tbody>\n",
       "    <tr>\n",
       "      <th>0</th>\n",
       "      <td>ห้องมีกลิ่นอับ และไม่มีการเปลี่ยนผ้าปูที่นอนแล...</td>\n",
       "      <td>5.7</td>\n",
       "    </tr>\n",
       "    <tr>\n",
       "      <th>1</th>\n",
       "      <td>เรื่องความปลอดภัยน่ากลัวนะคะ ช็อกกับการถือวิสา...</td>\n",
       "      <td>8</td>\n",
       "    </tr>\n",
       "    <tr>\n",
       "      <th>2</th>\n",
       "      <td>โรงแรมสกปรกเกินไปขาดอุปกรณ์ไม่มีน้ำไม่มีน้ำมัน...</td>\n",
       "      <td>4.8</td>\n",
       "    </tr>\n",
       "    <tr>\n",
       "      <th>3</th>\n",
       "      <td>ห้องพักอึดอัด ที่นอนชื้นมีกลิ่นแรงและแข็ง พื้น...</td>\n",
       "      <td>4.8</td>\n",
       "    </tr>\n",
       "    <tr>\n",
       "      <th>4</th>\n",
       "      <td>ดี โรงแรมอยู่ลึกเข้าไปในช่องทางเล็กน้อยดังนั้น...</td>\n",
       "      <td>9.1</td>\n",
       "    </tr>\n",
       "    <tr>\n",
       "      <th>5</th>\n",
       "      <td>เป็น ที่พักเต็มไปด้วยสิ่งจำเป็น มีการสูบบุหรี่...</td>\n",
       "      <td>8.5</td>\n",
       "    </tr>\n",
       "    <tr>\n",
       "      <th>6</th>\n",
       "      <td>ประสบการณ์การเช็คอินใช้เวลาเกือบหนึ่งชั่วโมงนา...</td>\n",
       "      <td>4.8</td>\n",
       "    </tr>\n",
       "    <tr>\n",
       "      <th>7</th>\n",
       "      <td>ห้องพักสะอาดพนักงานกระตือรือร้นหายากนิดหน่อย แ...</td>\n",
       "      <td>8.5</td>\n",
       "    </tr>\n",
       "    <tr>\n",
       "      <th>8</th>\n",
       "      <td>โรงแรมยังสะอาดและสะดวกสบาย</td>\n",
       "      <td>8.4</td>\n",
       "    </tr>\n",
       "    <tr>\n",
       "      <th>9</th>\n",
       "      <td>ราคาถูกชั่วคราวกระตือรือร้นใกล้ศูนย์</td>\n",
       "      <td>8.5</td>\n",
       "    </tr>\n",
       "    <tr>\n",
       "      <th>10</th>\n",
       "      <td>โรงแรมค่อนข้างสะอาดและสว่าง</td>\n",
       "      <td>8.8</td>\n",
       "    </tr>\n",
       "  </tbody>\n",
       "</table>\n",
       "</div>"
      ],
      "text/plain": [
       "                                               Review Rating\n",
       "0   ห้องมีกลิ่นอับ และไม่มีการเปลี่ยนผ้าปูที่นอนแล...    5.7\n",
       "1   เรื่องความปลอดภัยน่ากลัวนะคะ ช็อกกับการถือวิสา...      8\n",
       "2   โรงแรมสกปรกเกินไปขาดอุปกรณ์ไม่มีน้ำไม่มีน้ำมัน...    4.8\n",
       "3   ห้องพักอึดอัด ที่นอนชื้นมีกลิ่นแรงและแข็ง พื้น...    4.8\n",
       "4   ดี โรงแรมอยู่ลึกเข้าไปในช่องทางเล็กน้อยดังนั้น...    9.1\n",
       "5   เป็น ที่พักเต็มไปด้วยสิ่งจำเป็น มีการสูบบุหรี่...    8.5\n",
       "6   ประสบการณ์การเช็คอินใช้เวลาเกือบหนึ่งชั่วโมงนา...    4.8\n",
       "7   ห้องพักสะอาดพนักงานกระตือรือร้นหายากนิดหน่อย แ...    8.5\n",
       "8                          โรงแรมยังสะอาดและสะดวกสบาย    8.4\n",
       "9                ราคาถูกชั่วคราวกระตือรือร้นใกล้ศูนย์    8.5\n",
       "10                        โรงแรมค่อนข้างสะอาดและสว่าง    8.8"
      ]
     },
     "execution_count": 24,
     "metadata": {},
     "output_type": "execute_result"
    }
   ],
   "source": [
    "table"
   ]
  },
  {
   "cell_type": "code",
   "execution_count": 25,
   "id": "dad3a755",
   "metadata": {},
   "outputs": [
    {
     "data": {
      "text/html": [
       "<div>\n",
       "<style scoped>\n",
       "    .dataframe tbody tr th:only-of-type {\n",
       "        vertical-align: middle;\n",
       "    }\n",
       "\n",
       "    .dataframe tbody tr th {\n",
       "        vertical-align: top;\n",
       "    }\n",
       "\n",
       "    .dataframe thead th {\n",
       "        text-align: right;\n",
       "    }\n",
       "</style>\n",
       "<table border=\"1\" class=\"dataframe\">\n",
       "  <thead>\n",
       "    <tr style=\"text-align: right;\">\n",
       "      <th></th>\n",
       "      <th>index</th>\n",
       "      <th>Review</th>\n",
       "      <th>Rating</th>\n",
       "    </tr>\n",
       "  </thead>\n",
       "  <tbody>\n",
       "    <tr>\n",
       "      <th>0</th>\n",
       "      <td>0</td>\n",
       "      <td>ห้องมีกลิ่นอับ และไม่มีการเปลี่ยนผ้าปูที่นอนแล...</td>\n",
       "      <td>5.7</td>\n",
       "    </tr>\n",
       "    <tr>\n",
       "      <th>1</th>\n",
       "      <td>1</td>\n",
       "      <td>เรื่องความปลอดภัยน่ากลัวนะคะ ช็อกกับการถือวิสา...</td>\n",
       "      <td>8</td>\n",
       "    </tr>\n",
       "    <tr>\n",
       "      <th>2</th>\n",
       "      <td>2</td>\n",
       "      <td>โรงแรมสกปรกเกินไปขาดอุปกรณ์ไม่มีน้ำไม่มีน้ำมัน...</td>\n",
       "      <td>4.8</td>\n",
       "    </tr>\n",
       "    <tr>\n",
       "      <th>3</th>\n",
       "      <td>3</td>\n",
       "      <td>ห้องพักอึดอัด ที่นอนชื้นมีกลิ่นแรงและแข็ง พื้น...</td>\n",
       "      <td>4.8</td>\n",
       "    </tr>\n",
       "    <tr>\n",
       "      <th>4</th>\n",
       "      <td>4</td>\n",
       "      <td>ดี โรงแรมอยู่ลึกเข้าไปในช่องทางเล็กน้อยดังนั้น...</td>\n",
       "      <td>9.1</td>\n",
       "    </tr>\n",
       "    <tr>\n",
       "      <th>5</th>\n",
       "      <td>5</td>\n",
       "      <td>เป็น ที่พักเต็มไปด้วยสิ่งจำเป็น มีการสูบบุหรี่...</td>\n",
       "      <td>8.5</td>\n",
       "    </tr>\n",
       "    <tr>\n",
       "      <th>6</th>\n",
       "      <td>6</td>\n",
       "      <td>ประสบการณ์การเช็คอินใช้เวลาเกือบหนึ่งชั่วโมงนา...</td>\n",
       "      <td>4.8</td>\n",
       "    </tr>\n",
       "    <tr>\n",
       "      <th>7</th>\n",
       "      <td>7</td>\n",
       "      <td>ห้องพักสะอาดพนักงานกระตือรือร้นหายากนิดหน่อย แ...</td>\n",
       "      <td>8.5</td>\n",
       "    </tr>\n",
       "    <tr>\n",
       "      <th>8</th>\n",
       "      <td>8</td>\n",
       "      <td>โรงแรมยังสะอาดและสะดวกสบาย</td>\n",
       "      <td>8.4</td>\n",
       "    </tr>\n",
       "    <tr>\n",
       "      <th>9</th>\n",
       "      <td>9</td>\n",
       "      <td>ราคาถูกชั่วคราวกระตือรือร้นใกล้ศูนย์</td>\n",
       "      <td>8.5</td>\n",
       "    </tr>\n",
       "    <tr>\n",
       "      <th>10</th>\n",
       "      <td>10</td>\n",
       "      <td>โรงแรมค่อนข้างสะอาดและสว่าง</td>\n",
       "      <td>8.8</td>\n",
       "    </tr>\n",
       "  </tbody>\n",
       "</table>\n",
       "</div>"
      ],
      "text/plain": [
       "    index                                             Review Rating\n",
       "0       0  ห้องมีกลิ่นอับ และไม่มีการเปลี่ยนผ้าปูที่นอนแล...    5.7\n",
       "1       1  เรื่องความปลอดภัยน่ากลัวนะคะ ช็อกกับการถือวิสา...      8\n",
       "2       2  โรงแรมสกปรกเกินไปขาดอุปกรณ์ไม่มีน้ำไม่มีน้ำมัน...    4.8\n",
       "3       3  ห้องพักอึดอัด ที่นอนชื้นมีกลิ่นแรงและแข็ง พื้น...    4.8\n",
       "4       4  ดี โรงแรมอยู่ลึกเข้าไปในช่องทางเล็กน้อยดังนั้น...    9.1\n",
       "5       5  เป็น ที่พักเต็มไปด้วยสิ่งจำเป็น มีการสูบบุหรี่...    8.5\n",
       "6       6  ประสบการณ์การเช็คอินใช้เวลาเกือบหนึ่งชั่วโมงนา...    4.8\n",
       "7       7  ห้องพักสะอาดพนักงานกระตือรือร้นหายากนิดหน่อย แ...    8.5\n",
       "8       8                         โรงแรมยังสะอาดและสะดวกสบาย    8.4\n",
       "9       9               ราคาถูกชั่วคราวกระตือรือร้นใกล้ศูนย์    8.5\n",
       "10     10                        โรงแรมค่อนข้างสะอาดและสว่าง    8.8"
      ]
     },
     "execution_count": 25,
     "metadata": {},
     "output_type": "execute_result"
    }
   ],
   "source": [
    "table = table.dropna()\n",
    "table.reset_index(inplace=True)\n",
    "table"
   ]
  },
  {
   "cell_type": "code",
   "execution_count": 26,
   "id": "dff0423a",
   "metadata": {},
   "outputs": [],
   "source": [
    "table = table.drop(['index'],axis=1)"
   ]
  },
  {
   "cell_type": "code",
   "execution_count": 27,
   "id": "18265b8e",
   "metadata": {},
   "outputs": [
    {
     "data": {
      "text/html": [
       "<div>\n",
       "<style scoped>\n",
       "    .dataframe tbody tr th:only-of-type {\n",
       "        vertical-align: middle;\n",
       "    }\n",
       "\n",
       "    .dataframe tbody tr th {\n",
       "        vertical-align: top;\n",
       "    }\n",
       "\n",
       "    .dataframe thead th {\n",
       "        text-align: right;\n",
       "    }\n",
       "</style>\n",
       "<table border=\"1\" class=\"dataframe\">\n",
       "  <thead>\n",
       "    <tr style=\"text-align: right;\">\n",
       "      <th></th>\n",
       "      <th>Review</th>\n",
       "      <th>Rating</th>\n",
       "    </tr>\n",
       "  </thead>\n",
       "  <tbody>\n",
       "    <tr>\n",
       "      <th>0</th>\n",
       "      <td>ห้องมีกลิ่นอับ และไม่มีการเปลี่ยนผ้าปูที่นอนแล...</td>\n",
       "      <td>5.7</td>\n",
       "    </tr>\n",
       "    <tr>\n",
       "      <th>1</th>\n",
       "      <td>เรื่องความปลอดภัยน่ากลัวนะคะ ช็อกกับการถือวิสา...</td>\n",
       "      <td>8</td>\n",
       "    </tr>\n",
       "    <tr>\n",
       "      <th>2</th>\n",
       "      <td>โรงแรมสกปรกเกินไปขาดอุปกรณ์ไม่มีน้ำไม่มีน้ำมัน...</td>\n",
       "      <td>4.8</td>\n",
       "    </tr>\n",
       "    <tr>\n",
       "      <th>3</th>\n",
       "      <td>ห้องพักอึดอัด ที่นอนชื้นมีกลิ่นแรงและแข็ง พื้น...</td>\n",
       "      <td>4.8</td>\n",
       "    </tr>\n",
       "    <tr>\n",
       "      <th>4</th>\n",
       "      <td>ดี โรงแรมอยู่ลึกเข้าไปในช่องทางเล็กน้อยดังนั้น...</td>\n",
       "      <td>9.1</td>\n",
       "    </tr>\n",
       "    <tr>\n",
       "      <th>5</th>\n",
       "      <td>เป็น ที่พักเต็มไปด้วยสิ่งจำเป็น มีการสูบบุหรี่...</td>\n",
       "      <td>8.5</td>\n",
       "    </tr>\n",
       "    <tr>\n",
       "      <th>6</th>\n",
       "      <td>ประสบการณ์การเช็คอินใช้เวลาเกือบหนึ่งชั่วโมงนา...</td>\n",
       "      <td>4.8</td>\n",
       "    </tr>\n",
       "    <tr>\n",
       "      <th>7</th>\n",
       "      <td>ห้องพักสะอาดพนักงานกระตือรือร้นหายากนิดหน่อย แ...</td>\n",
       "      <td>8.5</td>\n",
       "    </tr>\n",
       "    <tr>\n",
       "      <th>8</th>\n",
       "      <td>โรงแรมยังสะอาดและสะดวกสบาย</td>\n",
       "      <td>8.4</td>\n",
       "    </tr>\n",
       "    <tr>\n",
       "      <th>9</th>\n",
       "      <td>ราคาถูกชั่วคราวกระตือรือร้นใกล้ศูนย์</td>\n",
       "      <td>8.5</td>\n",
       "    </tr>\n",
       "    <tr>\n",
       "      <th>10</th>\n",
       "      <td>โรงแรมค่อนข้างสะอาดและสว่าง</td>\n",
       "      <td>8.8</td>\n",
       "    </tr>\n",
       "  </tbody>\n",
       "</table>\n",
       "</div>"
      ],
      "text/plain": [
       "                                               Review Rating\n",
       "0   ห้องมีกลิ่นอับ และไม่มีการเปลี่ยนผ้าปูที่นอนแล...    5.7\n",
       "1   เรื่องความปลอดภัยน่ากลัวนะคะ ช็อกกับการถือวิสา...      8\n",
       "2   โรงแรมสกปรกเกินไปขาดอุปกรณ์ไม่มีน้ำไม่มีน้ำมัน...    4.8\n",
       "3   ห้องพักอึดอัด ที่นอนชื้นมีกลิ่นแรงและแข็ง พื้น...    4.8\n",
       "4   ดี โรงแรมอยู่ลึกเข้าไปในช่องทางเล็กน้อยดังนั้น...    9.1\n",
       "5   เป็น ที่พักเต็มไปด้วยสิ่งจำเป็น มีการสูบบุหรี่...    8.5\n",
       "6   ประสบการณ์การเช็คอินใช้เวลาเกือบหนึ่งชั่วโมงนา...    4.8\n",
       "7   ห้องพักสะอาดพนักงานกระตือรือร้นหายากนิดหน่อย แ...    8.5\n",
       "8                          โรงแรมยังสะอาดและสะดวกสบาย    8.4\n",
       "9                ราคาถูกชั่วคราวกระตือรือร้นใกล้ศูนย์    8.5\n",
       "10                        โรงแรมค่อนข้างสะอาดและสว่าง    8.8"
      ]
     },
     "execution_count": 27,
     "metadata": {},
     "output_type": "execute_result"
    }
   ],
   "source": [
    "table"
   ]
  },
  {
   "cell_type": "code",
   "execution_count": 28,
   "id": "1ca57a3b",
   "metadata": {},
   "outputs": [],
   "source": [
    "table.to_csv(\"Reviews&Ratings_9th.csv\", encoding=\"utf-8\") "
   ]
  },
  {
   "cell_type": "code",
   "execution_count": null,
   "id": "b430e042",
   "metadata": {},
   "outputs": [],
   "source": []
  }
 ],
 "metadata": {
  "kernelspec": {
   "display_name": "Python 3 (ipykernel)",
   "language": "python",
   "name": "python3"
  },
  "language_info": {
   "codemirror_mode": {
    "name": "ipython",
    "version": 3
   },
   "file_extension": ".py",
   "mimetype": "text/x-python",
   "name": "python",
   "nbconvert_exporter": "python",
   "pygments_lexer": "ipython3",
   "version": "3.9.13"
  }
 },
 "nbformat": 4,
 "nbformat_minor": 5
}
