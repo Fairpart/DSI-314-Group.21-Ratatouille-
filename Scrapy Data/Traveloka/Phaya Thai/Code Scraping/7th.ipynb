{
 "cells": [
  {
   "cell_type": "code",
   "execution_count": 39,
   "id": "6291f010",
   "metadata": {},
   "outputs": [
    {
     "name": "stdout",
     "output_type": "stream",
     "text": [
      "Requirement already satisfied: selenium in c:\\users\\fair\\anaconda3\\lib\\site-packages (4.6.0)\n",
      "Requirement already satisfied: trio-websocket~=0.9 in c:\\users\\fair\\anaconda3\\lib\\site-packages (from selenium) (0.9.2)\n",
      "Requirement already satisfied: trio~=0.17 in c:\\users\\fair\\anaconda3\\lib\\site-packages (from selenium) (0.22.0)\n",
      "Requirement already satisfied: certifi>=2021.10.8 in c:\\users\\fair\\anaconda3\\lib\\site-packages (from selenium) (2022.9.14)\n",
      "Requirement already satisfied: urllib3[socks]~=1.26 in c:\\users\\fair\\anaconda3\\lib\\site-packages (from selenium) (1.26.11)\n",
      "Requirement already satisfied: outcome in c:\\users\\fair\\anaconda3\\lib\\site-packages (from trio~=0.17->selenium) (1.2.0)\n",
      "Requirement already satisfied: cffi>=1.14 in c:\\users\\fair\\anaconda3\\lib\\site-packages (from trio~=0.17->selenium) (1.15.1)\n",
      "Requirement already satisfied: async-generator>=1.9 in c:\\users\\fair\\anaconda3\\lib\\site-packages (from trio~=0.17->selenium) (1.10)\n",
      "Requirement already satisfied: exceptiongroup>=1.0.0rc9 in c:\\users\\fair\\anaconda3\\lib\\site-packages (from trio~=0.17->selenium) (1.0.1)\n",
      "Requirement already satisfied: attrs>=19.2.0 in c:\\users\\fair\\anaconda3\\lib\\site-packages (from trio~=0.17->selenium) (21.4.0)\n",
      "Requirement already satisfied: sortedcontainers in c:\\users\\fair\\anaconda3\\lib\\site-packages (from trio~=0.17->selenium) (2.4.0)\n",
      "Requirement already satisfied: sniffio in c:\\users\\fair\\anaconda3\\lib\\site-packages (from trio~=0.17->selenium) (1.2.0)\n",
      "Requirement already satisfied: idna in c:\\users\\fair\\anaconda3\\lib\\site-packages (from trio~=0.17->selenium) (3.3)\n",
      "Requirement already satisfied: wsproto>=0.14 in c:\\users\\fair\\anaconda3\\lib\\site-packages (from trio-websocket~=0.9->selenium) (1.2.0)\n",
      "Requirement already satisfied: PySocks!=1.5.7,<2.0,>=1.5.6 in c:\\users\\fair\\anaconda3\\lib\\site-packages (from urllib3[socks]~=1.26->selenium) (1.7.1)\n",
      "Requirement already satisfied: pycparser in c:\\users\\fair\\anaconda3\\lib\\site-packages (from cffi>=1.14->trio~=0.17->selenium) (2.21)\n",
      "Requirement already satisfied: h11<1,>=0.9.0 in c:\\users\\fair\\anaconda3\\lib\\site-packages (from wsproto>=0.14->trio-websocket~=0.9->selenium) (0.14.0)\n"
     ]
    }
   ],
   "source": [
    "!pip install selenium"
   ]
  },
  {
   "cell_type": "markdown",
   "id": "ad15bdd9",
   "metadata": {},
   "source": [
    "# Def & Scraping Methods"
   ]
  },
  {
   "cell_type": "code",
   "execution_count": 40,
   "id": "b5022015",
   "metadata": {},
   "outputs": [],
   "source": [
    "def save_comment2mainList(main_comment_List,sub_comment_List):\n",
    "    for item in sub_comment_List:\n",
    "        main_comment_List.append(str(item))\n",
    "        \n",
    "def save_rating2mainList(main_rating_List,sub_rating_List):\n",
    "    for item in sub_rating_List:\n",
    "        main_rating_List.append(str(item))"
   ]
  },
  {
   "cell_type": "code",
   "execution_count": 41,
   "id": "ff8ea950",
   "metadata": {},
   "outputs": [],
   "source": [
    "def check_list_size(list_1,list_2):\n",
    "    if len(list_1) != len(list_2):\n",
    "        if len(list_1) > len(list_2):\n",
    "            list_1.pop(len(list_1)-1)\n",
    "        else:\n",
    "            list_2.pop(len(list_2)-1)\n",
    "    else:\n",
    "      return list_1,list_2"
   ]
  },
  {
   "cell_type": "code",
   "execution_count": 42,
   "id": "0ef53a5a",
   "metadata": {},
   "outputs": [],
   "source": [
    "def NextPages():\n",
    "    running = True\n",
    "    while running:\n",
    "        try:\n",
    "            try:\n",
    "                running = driver.find_element(By.XPATH,'/html/body/div[1]/div[5]/div[2]/div/div/div[1]/div/div/div[8]/div/div[7]').click()\n",
    "            except:\n",
    "                try:\n",
    "                    running = driver.find_element(By.XPATH,'/html/body/div[1]/div[5]/div[2]/div/div/div[1]/div/div/div[8]/div/div[8]').click()   \n",
    "                except:\n",
    "                    running = driver.find_elementh(By.XPATH,'/html/body/div[1]/div[5]/div[2]/div/div/div[1]/div/div/div[8]/div/div[9]').click() \n",
    "        except:\n",
    "             running = False\n",
    "        print('-----------------------------------------------------------','\\n')"
   ]
  },
  {
   "cell_type": "code",
   "execution_count": 43,
   "id": "7e351618",
   "metadata": {},
   "outputs": [],
   "source": [
    "def scraping_reviews(l_x1,l_x2,l_y1,l_y2): #scraping_reviews(ratings_list,reviews_list,Ratings_list,Reviews_list)\n",
    "    driver.execute_script(\"window.scrollTo(0,7770)\")\n",
    "    for review in driver.find_elements(By.CSS_SELECTOR,'div.css-1dbjc4n.r-1guathk.r-1yzf0co'):\n",
    "        for score in review.find_elements(By.CSS_SELECTOR,'div.css-901oao.r-1i6uqv8.r-1sixt3s.r-ubezar.r-majxgm.r-135wba7.r-fdjqy7'):\n",
    "            rate = score.text\n",
    "            print(rate)\n",
    "            l_x1.append(rate)\n",
    "\n",
    "        for comment in review.find_elements(By.CSS_SELECTOR,'div.css-1dbjc4n.r-1wzrnnt.r-1udh08x'):\n",
    "            criticism = comment.text\n",
    "            print(criticism)\n",
    "            l_x2.append(criticism)\n",
    "    \n",
    "        check_list_size(l_x1,l_x2)\n",
    "    save_comment2mainList(l_y1, l_x1)\n",
    "    save_rating2mainList(l_y2, l_x2)"
   ]
  },
  {
   "cell_type": "code",
   "execution_count": 44,
   "id": "df1083aa",
   "metadata": {},
   "outputs": [],
   "source": [
    "def clear_list(l_1,l_2):\n",
    "    reviews_list.clear()\n",
    "    ratings_list.clear()"
   ]
  },
  {
   "cell_type": "markdown",
   "id": "3c9a43da",
   "metadata": {},
   "source": [
    "# Code Working"
   ]
  },
  {
   "cell_type": "code",
   "execution_count": 45,
   "id": "8d08c5ba",
   "metadata": {},
   "outputs": [
    {
     "name": "stderr",
     "output_type": "stream",
     "text": [
      "C:\\Users\\FAIR\\AppData\\Local\\Temp\\ipykernel_17068\\2115881121.py:8: DeprecationWarning: executable_path has been deprecated, please pass in a Service object\n",
      "  driver = webdriver.Edge(executable_path = path)\n"
     ]
    }
   ],
   "source": [
    "from selenium import webdriver\n",
    "from selenium.webdriver.common.by import By\n",
    "import time\n",
    "from selenium.webdriver.support.select import Select\n",
    "\n",
    "path = \"D:\\python\\Selenium\\edgedriver_win64\\msedgedriver.exe\"\n",
    "url = 'https://www.traveloka.com/th-th/hotel/detail?spec=07-11-2022.08-11-2022.1.1.HOTEL.3000020005308.Bangkok%20Midtown%20Hotel.1&contexts=%7B%22inventoryRateKey%22%3A%22povEwB3ZzsU2C6pd%2B6MdUwKh3BcjHsHvQbV0EUcyDRFM0tKsNUio4Rxug1zOzHJilcvZa8YdqqIySdppe7dolTIewZlxfjiOGz6oXLTucMvN0%2BgQ3yZPvZcoHwUFNN%2BZpcr%2F%2FNa8o9ElfN8zOYhzzZeg0X586laFpeUViPi9rxC1GZ9tyYEkI%2FpDk7i1G0rymhLDdV0WLeT%2FFKfQ0QL8LH02Dvlx%2F8PjYogEE5yzx6g6yOKyKeIDf7jO3GM45O1o1hmSkmz3HiZNSbS8gXb3CDW9nmlhkqLKa4lLkAkZpAGTcOmy5l4j7hGHKXWH0MtO45tYfbtBkBgYO99TxwF9DNVsBZohxEpYRFmg%2B%2BHLDKQAG%2F1rhZrd5ovib5W%2FOZIYjTE%2FGsBKQXKjBtgZDhjE4C5zlhNP3bbD3EkRDMDBFQ9BP91JaZBbzrgMh9kT8uRRLbpPqi9QWNDXrth51m8pUsXTrO7kmP1REoaFiJ8zCfvIWGULNNq2kq01LGJS4cUO6IoMhVKT4w7TwrTxbp%2FQ2iMn1qdaM1viWqCGwU1siX1ZIegdsZIo1sjlWnbsTcjefS6Pj3RtIU6lROCEB6QAgiS1WJabPNVEO7waQAXksTDyQHUY2wqyAfRzb44KOjG0poBVHSJ1fq5iJGt%2Fs2ROyG2r1yuKaZ4GSAmh5BaCjz8%3D%22%7D&prevSearchId=1748750315088280409&loginPromo=1'\n",
    "driver = webdriver.Edge(executable_path = path)\n",
    "driver.get(url)\n",
    "\n",
    "Reviews_list, reviews_list = [],[]\n",
    "Ratings_list, ratings_list = [],[]\n",
    "\n",
    "sel = driver.find_element(By.XPATH,\"/html/body/div[1]/div[5]/div[2]/div/div/div[1]/div/div/div[4]/div[3]/div/div[1]\")\n",
    "sel.click()\n",
    "time.sleep(2)\n",
    "TH = sel.find_element(By.XPATH,'/html/body/div[1]/div[5]/div[2]/div/div/div[1]/div/div/div[4]/div[3]/div/div[2]/div/div/div/div[4]')\n",
    "TH.click()"
   ]
  },
  {
   "cell_type": "code",
   "execution_count": 46,
   "id": "f8243469",
   "metadata": {},
   "outputs": [
    {
     "name": "stdout",
     "output_type": "stream",
     "text": [
      "9\n",
      "ดีค่ะ แต่ทางโรงแรมมีห้องพักประเภทเตียงเดี่ยวใหญ่น้อยมากๆ ใช้วิธีใครเช็คอินก่อนได้ก่อน ซึ่งไม่ค่อยโอเคเลย น่าจะให้ระบุประเภทการจองตั้งแต่แรกเริ่ม booking กับแอป ไม่ใช่ให้มาลุ้นหน้างานว่าจะได้ห้องแบบไหน\n",
      "9.7\n",
      "พนักงานบริการดีมากค่ะ ห้องสะอาด\n",
      "9.3\n",
      "สะดวกสบาย สะอาด น่าอยู่มาก\n",
      "9.7\n",
      "ห้องสะอาด เงียบ สะดวกในการเดินทาง ติดถนนใหญ่ ขอติเรื่องไม่มีที่แขวงผ้าเช็ดตัวในห้องอาบน้ำคะ ไม่รู้จะวางตรงไหน\n",
      "9.1\n",
      "พนักงาน บริการดี ทำเลเหมาะกับการไป รพ รามา สะดวกมากๆ\n",
      "8.5\n",
      "ชอบห้องน้ำ เเยกเปนสัดส่วน นอนหลับสบาย\n",
      "9.4\n",
      "โรงเเรมสะอาด พนักงานเอาใจใส่ ยิ้มเเย้ม น่ารักทุกคนค่ะ\n",
      "8.5\n",
      "เช็คอินไว พนักงานโอเคร น่ารัก\n",
      "6.3\n",
      "ห้องอาบน้ำไม่มีที่แขวนผ้า ช่วงสถานการณ์ covid19 ทำให้สระว่ายน้ำและสปาถูกปิด\n",
      "9.1\n",
      "โรงแรมใหม่และอุปกรณ์ทันสมัย ห้องพักใหม่และสะอาดมาก\n"
     ]
    }
   ],
   "source": [
    "for review in driver.find_elements(By.CSS_SELECTOR,'div.css-1dbjc4n.r-1guathk.r-1yzf0co'):\n",
    "    for score in review.find_elements(By.CSS_SELECTOR,'div.css-901oao.r-1i6uqv8.r-1sixt3s.r-ubezar.r-majxgm.r-135wba7.r-fdjqy7'):\n",
    "        rate = score.text\n",
    "        print(rate)\n",
    "        ratings_list.append(rate)\n",
    "\n",
    "    for comment in review.find_elements(By.CSS_SELECTOR,'div.css-1dbjc4n.r-1wzrnnt.r-1udh08x'):\n",
    "        criticism = comment.text\n",
    "        print(criticism)\n",
    "        reviews_list.append(criticism)\n",
    "    \n",
    "    check_list_size(ratings_list,reviews_list)\n",
    "save_comment2mainList(Reviews_list, reviews_list)\n",
    "save_rating2mainList(Ratings_list, ratings_list)"
   ]
  },
  {
   "cell_type": "code",
   "execution_count": 47,
   "id": "00450a45",
   "metadata": {},
   "outputs": [
    {
     "data": {
      "text/plain": [
       "'ค่าห้องพัก Bangkok Midtown Hotel ราชเทวี ตั้งแต่ 07-11-2022 ถึง 08-11-2022'"
      ]
     },
     "execution_count": 47,
     "metadata": {},
     "output_type": "execute_result"
    }
   ],
   "source": [
    "driver.title"
   ]
  },
  {
   "cell_type": "code",
   "execution_count": 48,
   "id": "982dcdd2",
   "metadata": {},
   "outputs": [],
   "source": [
    "sel = driver.find_element(By.XPATH,'/html/body/div[1]/div[5]/div[2]/div/div/div[1]/div/div/div[8]/div/div[7]')\n",
    "sel.click()"
   ]
  },
  {
   "cell_type": "code",
   "execution_count": 49,
   "id": "241a5752",
   "metadata": {},
   "outputs": [],
   "source": [
    "clear_list(reviews_list,ratings_list)"
   ]
  },
  {
   "cell_type": "code",
   "execution_count": 50,
   "id": "75034ab2",
   "metadata": {},
   "outputs": [
    {
     "name": "stdout",
     "output_type": "stream",
     "text": [
      "9.7\n",
      "ห้องพักสะอาด พนักงานบริการดีมาก จะไปพักอีกแน่นอน ภาพตรงปกนะคะ แต่ช่วงนี้โควิด สระว่ายน้ำยังไม่เปิดให้บริการนะคะ\n",
      "8.5\n",
      "ดีมากค่ะ ห้องพักสะอาด ปลอดภัย ที่สำคัญมีลานจอดรถด้วย พนักงานรักษาความปลอดภัย ก็บริการดีค่ะ\n",
      "10\n",
      "ดีมากค่ะ สะอาด ปลอดภัย ประทับใจมากค่ะ\n",
      "8.5\n",
      "\n",
      "8.5\n",
      "ห้องพักสะอาดดี ดูเป็นสัดส่วน สิ่งอำนวยความสะดวกครบครัน เหมาะสม คุ้มค่ากับราคาที่จิง ไม่ผิดหวังที่พักโรงแรมนี้\n",
      "9.4\n",
      "ราคาไม่แพง ห้องพักดีมากๆ มีอุปกรณ์ในห้องครบครัน มีโอกาสจะทาพักอีกแน่นอนครับ\n",
      "6.3\n",
      "ไม่สมกับราคา การบริการห้องอาหารไม่ดี\n",
      "9.7\n",
      "ไฟฟ้าในห้องสว่างไม่เพียงพอ อ่านหนังสือไม่ได้ อยากให้เพิ่มไฟสว่างสีขาวสัก1ดวงตรงกลางห้อง สะอาดดี ภายนอกเงียบสงบดี แต่ห้องข้างๆตึงตังเสียงดัง ไม่เก็บเสียง สระไม่ใหญ่แต่คนน้อย private ไกลสถานที่ท่องเที่ยว แต่ใกล้รพ.สงฆ์ เดินแปปเดียว รอบข้างมีร้านขายของกิน อร่อยบ้างไม่อร่อยบ้าง ร้านคนเยอะไม่ใช่จะอร่อยเสมอไป ซ้ายขวามีเซเว่นติดๆ\n",
      "9.7\n",
      "ห้องพักสะอาด การเดินทางสะดวก การบริการของพนักงานดี\n",
      "6.5\n",
      "บรรยากาศโรงแรมดูดี เจ้าของโรงแรมตั้งใจทำ น้ำไหลแรง อาหารเช้างั้นๆ พนักงานของ รร ดูกากๆ รร ไม่ลงทุนบุคลากร รร ดูเหมือนเด็กเสริฟไปหน่อย ห้องอาหารเช้า ลงมา 9.30 น แล้วอาหารเช้าไม่ค่อยมีอะไรทาน พนักงาน 2-3 คน เดินมาปิ้งขนมปังกินกัน ห้องนอนผ้าปูเตียงเค้าปูแบบนี้กันหรอ ? ปูไม่เต็มเตียง\n"
     ]
    }
   ],
   "source": [
    "scraping_reviews(ratings_list,reviews_list,Ratings_list,Reviews_list)"
   ]
  },
  {
   "cell_type": "code",
   "execution_count": 26,
   "id": "6782ac7f",
   "metadata": {},
   "outputs": [
    {
     "name": "stdout",
     "output_type": "stream",
     "text": [
      "9.1\n",
      "สายฉีดในห้องน้ำชำรุด โดยรวมค่อนข้างดี\n",
      "9.4\n",
      "อาหารอร่อย สะดวกสบาย มีฟิตเนสขนาดเล็กและสระว่ายน้ำ มี7-11 ใกล้ๆ\n",
      "8.8\n",
      "ดีครับ ลืมโทรศัพท์ไว้ ทางโรงแรมยังเก็บไว้ให้ ชื่นชมครับ\n",
      "6.9\n",
      "มีช่วงที่ keycard ใช้งานไม่ได้ ลงไปแจ้งเจ้าหน้าที่ หน้า counter แต่ไม่ได้รับคำขอโทษอะไรเลย เพียงเพราะ เจ้าหน้าที่ โรงแรมเข้าใจว่าห้องที่อยู่ check out แล้วแต่อันที่ยังอยู่ต่ออีก 1วัน เจ้าหน้าที่ทำเหมือนกับว่าไม่มีอะไรเกิดขึ้น จึงจะแจ้งให้ทราบ มา ณ ที่นี้ด้วยครับ\n",
      "8.8\n",
      "ห้องสวย สะอาดดี ห้องน้ำแยกส่วนดี ชัดเจน แต่แสงไฟในห้องคิดว่าน้อยไป ทำให้ห้องมันสลัวๆไปมาก ไลน์อาหารเช้ามีให้เลืิอกน้อย รสชาติทั่วไปค่ะ แต่ก็เหมาะสมกับราคา พนักงานบริการดีพอสมควรค่ะ เดินทางมาดึกเลยไม่ได้ใช้facillities อะไรเลย\n",
      "9.7\n",
      "ห้องพักสะอาด เดินทางสะดวก คุ้มเกินราคา\n",
      "9\n",
      "\n",
      "8.8\n",
      "ติดถนนใหญ่,สะดวกสบายในการเดินทาง โรงแรมใหม่และพนักงานพูดจาสุภาพ,ห้องพักสะอาด\n",
      "9.7\n",
      "ห้องพักสะอาด กว้างสบาย อุปกรณ์ครบ ไม่มีกลิ่นอับ บริการของพนักงานดีเยี่ยม อาหารเช้าโอเคมาก มีที่จอดรถเยอะพอสมควร เงียบสงบ\n",
      "8.5\n",
      "ชอบมาก นอนหลับสบาย ที่นอนนิ่ม โรงแรมใหม่ อาหารเช้าอร่อย แต่อยากให้เพิ่มความหลากหลายหน่อย\n"
     ]
    }
   ],
   "source": [
    "sel = driver.find_element(By.XPATH,'/html/body/div[1]/div[5]/div[2]/div/div/div[1]/div/div/div[8]/div/div[7]')\n",
    "sel.click()\n",
    "time.sleep(2)\n",
    "clear_list(reviews_list,ratings_list)\n",
    "scraping_reviews(ratings_list,reviews_list,Ratings_list,Reviews_list)"
   ]
  },
  {
   "cell_type": "code",
   "execution_count": 57,
   "id": "ec274381",
   "metadata": {},
   "outputs": [],
   "source": [
    "sel = driver.find_element(By.XPATH,'/html/body/div[1]/div[5]/div[2]/div/div/div[1]/div/div/div[8]/div/div[7]')\n",
    "sel.click()"
   ]
  },
  {
   "cell_type": "code",
   "execution_count": 58,
   "id": "1e16a762",
   "metadata": {},
   "outputs": [
    {
     "name": "stdout",
     "output_type": "stream",
     "text": [
      "9.1\n",
      "สายฉีดในห้องน้ำชำรุด โดยรวมค่อนข้างดี\n",
      "9.4\n",
      "อาหารอร่อย สะดวกสบาย มีฟิตเนสขนาดเล็กและสระว่ายน้ำ มี7-11 ใกล้ๆ\n",
      "8.8\n",
      "ดีครับ ลืมโทรศัพท์ไว้ ทางโรงแรมยังเก็บไว้ให้ ชื่นชมครับ\n",
      "6.9\n",
      "มีช่วงที่ keycard ใช้งานไม่ได้ ลงไปแจ้งเจ้าหน้าที่ หน้า counter แต่ไม่ได้รับคำขอโทษอะไรเลย เพียงเพราะ เจ้าหน้าที่ โรงแรมเข้าใจว่าห้องที่อยู่ check out แล้วแต่อันที่ยังอยู่ต่ออีก 1วัน เจ้าหน้าที่ทำเหมือนกับว่าไม่มีอะไรเกิดขึ้น จึงจะแจ้งให้ทราบ มา ณ ที่นี้ด้วยครับ\n",
      "8.8\n",
      "ห้องสวย สะอาดดี ห้องน้ำแยกส่วนดี ชัดเจน แต่แสงไฟในห้องคิดว่าน้อยไป ทำให้ห้องมันสลัวๆไปมาก ไลน์อาหารเช้ามีให้เลืิอกน้อย รสชาติทั่วไปค่ะ แต่ก็เหมาะสมกับราคา พนักงานบริการดีพอสมควรค่ะ เดินทางมาดึกเลยไม่ได้ใช้facillities อะไรเลย\n",
      "9.7\n",
      "ห้องพักสะอาด เดินทางสะดวก คุ้มเกินราคา\n",
      "9\n",
      "\n",
      "8.8\n",
      "ติดถนนใหญ่,สะดวกสบายในการเดินทาง โรงแรมใหม่และพนักงานพูดจาสุภาพ,ห้องพักสะอาด\n",
      "9.7\n",
      "ห้องพักสะอาด กว้างสบาย อุปกรณ์ครบ ไม่มีกลิ่นอับ บริการของพนักงานดีเยี่ยม อาหารเช้าโอเคมาก มีที่จอดรถเยอะพอสมควร เงียบสงบ\n",
      "8.5\n",
      "ชอบมาก นอนหลับสบาย ที่นอนนิ่ม โรงแรมใหม่ อาหารเช้าอร่อย แต่อยากให้เพิ่มความหลากหลายหน่อย\n"
     ]
    }
   ],
   "source": [
    "time.sleep(2)\n",
    "clear_list(reviews_list,ratings_list)\n",
    "scraping_reviews(ratings_list,reviews_list,Ratings_list,Reviews_list)"
   ]
  },
  {
   "cell_type": "code",
   "execution_count": 59,
   "id": "6e03f5f8",
   "metadata": {},
   "outputs": [
    {
     "name": "stdout",
     "output_type": "stream",
     "text": [
      "9.7\n",
      "ที่พักสะอาดดี ไปโรงบาลรามาสะดวกมาก\n",
      "9.4\n",
      "ห้องพักสะอาด บริการดี แต่หน้าโรงแรมไฟมืดไปหน่อย\n",
      "5.8\n",
      "ข้างนอกโรงแรมในส่วนของตึกดูดีแต่ข้างในห้องไม่ค่อยดี ลูกค้ามาค่อนข้างเยอะและชอบส่งเสียงดัง ลงไปเล่นสระว่ายน้ำกลับขึ้นมาโดยใช้ลิฟต์หลักของโรงแรม น้ำนองเต็มพื้น ทางโรงแรมก็ไม่ได้เช็ดอะไรในตอนนั้น เดินเข้าไปกลัวหกล้มมาก\n",
      "9.7\n",
      "ห้องพักสะอาด เรียบหรู ราคาประหยัด\n",
      "9.4\n",
      "บริการดี สถานที่สะอาด อาหารอร่อย\n",
      "5.4\n",
      "ได้ห้องที่ไม่ตรงกับที่ขอไว้ เรียกแม่บ้านก็ไม่ยอมมา\n",
      "8.5\n",
      "ดีค่ะ คราวหน้าจะไปพักอีก แต่ห้องเหมือนไม่สะอาดนิดนึง พื้นห้องนอนและส่วนของห้องน้ำ \n",
      "9.4\n",
      "ห้องสะอาด สวย หมอนสูงไป อาหารเช้าอร่อย\n",
      "9.7\n",
      "รร. ใหม่ สะอาด พนักงานบริการดี อาหารเช้าอร่อย ใกล้ รพ. รามา\n",
      "9.1\n",
      "โรงแรมเปิดใหม่ ไม่ถึงปี ห้องพักกว้าง นอนสบาย พนักงานบริการดี อาหารอร่อย แต่ห้องไม่ค่อยเก็บเสียง เวลามีทัวร์มาลงจะได้ยินเสียงนอกห้องเข้ามาเลย ส่วนห้องน้ำ มีห้องนะ แต่เหมือนที่ไม่พอ เอาตู้อาบน้ำออกมาตั้งข้างเตียงเลย เราจองเตียงแบบ twin ไป มันก็จะมีเตียงนึงที่ติดห้องอาบน้ำ ส่วนไวไฟ ถือว่าเร็วดี ทีวี ตู้เย็นมีพร้อม เรื่องไฟในห้องมันเน้นสลัวๆ มีแต่หลอดไฟดวงเล็ก เราไปพักเพราะใกล้ที่สอบ อ่านในห้องไม่ได้เลย ต้องออกไปหาที่อ่านข้างนอก 555\n"
     ]
    }
   ],
   "source": [
    "sel = driver.find_element(By.XPATH,'/html/body/div[1]/div[5]/div[2]/div/div/div[1]/div/div/div[8]/div/div[8]')\n",
    "sel.click()\n",
    "time.sleep(2)\n",
    "clear_list(reviews_list,ratings_list)\n",
    "scraping_reviews(ratings_list,reviews_list,Ratings_list,Reviews_list)"
   ]
  },
  {
   "cell_type": "code",
   "execution_count": 60,
   "id": "3aad8973",
   "metadata": {},
   "outputs": [
    {
     "name": "stdout",
     "output_type": "stream",
     "text": [
      "10\n",
      "เป็นโรงแรมใหม่ ห้องพักสะอาด... พนักงานบริการดี เหมาะสมกับราคา\n",
      "8.5\n",
      "การบริการดีมากค่ะ พนักงานพูดจาสุภาพ โรงแรมดูสะอาด แต่สั่งอาหารมาที่ห้องราคาไม่ตรงกับเมนู ราคาสูงกว่าในเมนูเยอะค่ะ อาหารเช้าน้อยมาก\n",
      "9.7\n",
      "ดีเยี่ยม ไม่มีที่ติ ทุกอย่างจริงๆ\n",
      "9.7\n",
      "พนักงานบริการดี ประทับใจทุกท่าน ไม่ว่าจะเป็น Reception, Bellboys รวมถึงพนักงานห้องอาหารทุกคน บริเวณโรงแรมไม่มีร้านอาหารที่ใกล้เคียง มี street food และ 7-11 (2 แห่ง) ด้านหน้าโรงแรม แต่ไม่ใช่ปัญหา เราสามารถสั่งอาหารจาก line man มาส่งถึงโรงแรมได้ตลอด 24 ชั่วโมง การเดินทางสะดวกทั้ง Taxi, และใกล้ BTS พญาไท รวมถึง Airport Link โดยรวมแล้วประทับใจมาก และจะกลับไปพักอีก (ก๋วยเตี๋ยวน้ำที่ห้องอาหารเช้าอร่อยมาก)\n",
      "8.5\n",
      "ใกล้ สะดวก อาหารเช้าดี เงียบ ดี\n",
      "9.7\n",
      "ถ้าขับรถไปเองสะดวกดี ห้องพักสะอาด คุ้มราคา\n",
      "10\n",
      "เป็นการพักที่ดีห้องน้ำไม่ค่อยดีไปกว่า แต่โดยรวมก็โอเค\n",
      "8.5\n",
      "โรงแรมดีอาหารเช้าเปลี่ยนทุกวันผ้าเช็ดตัวเปลี่ยนทุกวันเพื่อพักผ่อนหลังจากที่ถนนเหมาะมากถัดจากที่นี่เป็นตลาดเล็ก ๆ ยังเป็นตลาดซูเปอร์ด้านหน้าพนักงานโรงแรมเป็นมิตร\n",
      "9.7\n",
      "โรงแรมนี้เป็นโรงแรมใหม่มากพินัยกรรมพนักงานมีความกระตือรือร้นและเป็นมิตร จะกลับสู่วันที่ใกล้ที่สุด\n",
      "9.7\n",
      "โรงแรมที่ดีสะดวกสบายและสะอาด พนักงานใจดีมากและให้ความช่วยเหลือดีมาก ไซต์เสียงพูดบนชั้น 3 ก็ดีเหมือนกัน! จะกลับมาพักที่นี่อีกถ้าคุณไปกรุงเทพ โรงแรมอยู่ข้างถนนและปิดถ้าคุณต้องการไปไหน\n"
     ]
    }
   ],
   "source": [
    "sel = driver.find_element(By.XPATH,'/html/body/div[1]/div[5]/div[2]/div/div/div[1]/div/div/div[8]/div/div[9]')\n",
    "sel.click()\n",
    "time.sleep(2)\n",
    "clear_list(reviews_list,ratings_list)\n",
    "scraping_reviews(ratings_list,reviews_list,Ratings_list,Reviews_list)"
   ]
  },
  {
   "cell_type": "code",
   "execution_count": 61,
   "id": "b940b65f",
   "metadata": {},
   "outputs": [
    {
     "name": "stdout",
     "output_type": "stream",
     "text": [
      "8.5\n",
      "โรงแรมสะดวกสบายและสะอาดมาก พนักงานน่ารักมากอาหารเช้าดี\n",
      "9.1\n",
      "มันเป็นกลยุทธ์และให้บริการรถรับส่งฟรีไปยังสยามสแควร์\n",
      "9.3\n",
      "บริการดีห้องพักสะอาด\n",
      "9.7\n",
      "โรงแรมที่ดี ทำความสะอาดและช่วยเหลือโต๊ะเต็ม โรงแรมให้อัพเกรดห้องฟรี ดีอย่างแน่นอน\n",
      "9.7\n",
      "พึงพอใจมากเงียบสงบและสะดวกสบาย\n",
      "9.1\n",
      "โรงแรมที่อยู่ใจกลางเมืองของกรุงเทพฯทำให้ฉันง่ายต่อการเยี่ยมชมทุกที่ในกรุงเทพฯ การเดินทางสามารถไปถึงได้ด้วยรถตุ๊กตุ๊กหรือใช้บริการแท็กซี่ออนไลน์\n",
      "8.5\n",
      "เดินจากบีทีเอสราชเทวีเพียง 15 นาที\n",
      "9\n",
      "ที่นอนที่สะอาดและสะดวกสบาย\n",
      "8.5\n",
      "จะกลับมาอีกแน่นอน การต้อนรับที่ดีและพนักงานที่เป็นมิตรห้องพักและสระว่ายน้ำก็น่าทึ่งเกินไป\n",
      "9.4\n",
      "โรงแรมสะอาด! พนักงานทุกคนเป็นกันเองสุด ๆ !\n"
     ]
    }
   ],
   "source": [
    "sel = driver.find_element(By.XPATH,'/html/body/div[1]/div[5]/div[2]/div/div/div[1]/div/div/div[8]/div/div[6]')\n",
    "sel.click()\n",
    "time.sleep(2)\n",
    "clear_list(reviews_list,ratings_list)\n",
    "scraping_reviews(ratings_list,reviews_list,Ratings_list,Reviews_list)"
   ]
  },
  {
   "cell_type": "code",
   "execution_count": 62,
   "id": "2327d5b2",
   "metadata": {},
   "outputs": [
    {
     "name": "stdout",
     "output_type": "stream",
     "text": [
      "9.4\n",
      "แนะนำมาก ในใจกลางเมืองใหญ่ริมถนนเรียบร้อยบริการดีสำหรับดอกไม้ฮันนีมูนจะได้รับดอกไม้และตัดฟรีเมื่อคุณไปที่ห้องและอาหารเช้า (ฮาลาล)\n",
      "8.5\n",
      "โรงแรมยังใหม่อยู่บริการสุดยอดมากมีบริการรถรับส่งฟรีจากโรงแรมไปยังสยาม เมื่อฉันไปกรุงเทพอีกครั้งฉันจะอยู่ที่นี่อีกครั้ง\n",
      "9.4\n",
      "ห้องพักสะอาดจริง ๆ และพนักงานให้ความช่วยเหลือดีมากจะกลับมาอีกแน่นอนเมื่อฉันมาเที่ยวกรุงเทพอีกครั้ง\n",
      "10\n",
      "โรงแรมตั้งอยู่บนทางหลวงเข้าถึงสถานที่อื่นสะดวกมาก โรงแรมดีและสะอาดบริการ okkkk polllll พนักงานต้อนรับที่เป็นมิตรพนักงานต้อนรับทุกคนและเป็นประโยชน์มาก ที่โรงแรมถ้าเราเช็คเอาท์และตารางบินยังคงยาวฉันสามารถฝากกระเป๋าเดินทางไว้ในกระเป๋าเดินทางได้ฟรีหรือไม่ เพื่อให้คุณสามารถเดินทางไปรอบ ๆ กรุงเทพได้อีกครั้ง👍😍\n",
      "8.5\n",
      "ทำเลยุทธศาสตร์ใกล้กับเซเว่นและขายอาหารประตูน้ำไม่เป็นมิตรไม่ได้รถยนต์ที่สามารถส่งมอบฟรี\n",
      "8.4\n",
      "พนักงานต้อนรับไม่ต้อนรับแขกพนักงานคนอื่นค่อนข้างเป็นมิตร ห้องพักสะอาดสระว่ายน้ำดี ลิฟท์ในแก้วเวียนหัวเล็กน้อย ทบทวน 8/10\n",
      "9.2\n",
      "โรงแรมสะอาด, พนักงานต้อนรับมืออาชีพ, สุภาพ แต่โครงสร้างห้องน้ำไม่แน่นจึงไม่สะดวกที่จะไปเข้าห้องน้ำในห้อง พนักงานหญิงจัดการส่วนที่เคี้ยวน้ำของพื้นที่ทานอาหารเช้าโดยไม่มีความรัก โรงแรมอยู่ไกลจากเส้นทางรถไฟฟ้าบีทีเอสหากเดินดึกมากน่ากลัวรู้สึกไม่ปลอดภัยในบริเวณสะพานลอย แขกผู้เข้าพักที่นี่เป็นชาวเวียดนามและจีนทั้งหมด\n",
      "9.7\n",
      "หลังจากค้นหาโรงแรมที่ดีในกรุงเทพมานานฉันก็ตกไปที่โรงแรมนี้ ทำเลที่ตั้งด้านหน้าของถนนใหญ่ใกล้เซเว่น โรงแรมใหม่บริการเป็นกันเอง มีน้อยคนใน WiFi ที่มักจะขอเข้าสู่ระบบอีกครั้ง มีเสถียรภาพมากขึ้นสะดวกสบายและแนะนำ อาหารเช้าแบบฮาลาลและคุณจะพบกับคนอินโดนีเซียมากมายที่นี่\n",
      "9.4\n",
      "การต้อนรับที่ดีเยี่ยม ห้องของฉันกว้างขวางมากพร้อมอ่างอาบน้ำบนฝักบัว พวกเขาจัดเก็บห้องพักของฉันไว้ใน 4 วันและเติมน้ำ อาหารเช้ามีตัวเลือกมากมายออกจาก ฉันจะกลับไปที่โรงแรมนี้ถ้าฉันกลับมากรุงเทพ\n",
      "9.7\n",
      "โรงแรมนี้ตั้งอยู่ในทำเลที่ดีมาก ใกล้ร้านสะดวกซื้อและที่สำคัญที่สุดง่ายต่อการเข้าถึง\n"
     ]
    }
   ],
   "source": [
    "sel = driver.find_element(By.XPATH,'/html/body/div[1]/div[5]/div[2]/div/div/div[1]/div/div/div[8]/div/div[8]')\n",
    "sel.click()\n",
    "time.sleep(2)\n",
    "clear_list(reviews_list,ratings_list)\n",
    "scraping_reviews(ratings_list,reviews_list,Ratings_list,Reviews_list)"
   ]
  },
  {
   "cell_type": "code",
   "execution_count": 63,
   "id": "90c2d398",
   "metadata": {},
   "outputs": [
    {
     "name": "stdout",
     "output_type": "stream",
     "text": [
      "10\n",
      "ห้องพักสะอาดและสะดวกสบายและอาหารเช้าก็ดี\n",
      "10\n",
      "ห้องพักสะอาดและสะดวกสบายอาหารเช้าก็ดีเมื่อไปกรุงเทพฉันจะเลือกโรงแรมนี้อีกครั้ง\n",
      "9.7\n",
      "โรงแรมที่เงียบสงบสะอาดห้องพักทันสมัยสระว่ายน้ำดีพนักงานเป็นมิตรโรงแรมจะต้องวางมัดจำ 1,000 บาทจากโรงแรม 1 วันพร้อมรถฟรี 04 คันไปยังสยามและ bayoksky (ต้องจองล่วงหน้า หันไปแทนก่อน 30p) อาหารเช้าค่อนข้างดีเป็นไปได้ที่จะขอให้พนักงานต้อนรับเรียกมิเตอร์แท็กซี่สำหรับการเดินทางราคาถูกมาก (จากโรงแรมโทรแท็กซี่ไปซาฟารี 245 บาท) ออกไปจัดหา 75 บาท\n",
      "9.1\n",
      "โรงแรมสะอาดสถานที่ที่ดี ... แต่แอร์ไม่ดีตอนเที่ยงคืนเครื่องปรับอากาศไม่ทำงานอย่างถูกต้องห้องพักอบอุ่นมาก ...\n",
      "9.4\n",
      "ห้องพักดีและสะอาด นอกจากนี้ยังมีรถรับส่งฟรีไปยังสยามและฟ้าใบหยกทุกวัน\n",
      "9.7\n",
      "โรงแรมใหม่อยู่ไม่ไกลจากสยามและพนักงานมีความเป็นมิตร\n",
      "6.4\n",
      "ไม่เลว แต่ก็ไม่ดีเลย พนักงานทุกคนดูสับสนเมื่อพบกรณีที่น่าประหลาดใจ แต่แผนกต้อนรับที่ฉันได้พบในวันที่ 1 ดูเป็นมืออาชีพแค่คนเดียวเท่านั้น เธอรู้วิธีการทำงานและวิธีจัดการกับลูกค้า แม่บ้านที่แย่ที่สุดคือพวกเขาไม่สามารถสร้างเตียงคู่ให้มีขนาดคิงไซส์เหมือนโรงแรมระดับ 3-5 ดาวอีกแห่ง ที่จริงแล้วคุณต้องเตรียมสิ่งนี้โดยเฉพาะโรงแรมนี้เพราะห้องส่วนใหญ่ในชั้นหนึ่งเป็นห้องนอนเตียงแฝดโรงแรมมีเพียง 2 ห้องนอนต่อชั้นเท่านั้นพวกเขาต้องเตรียมตัวสำหรับสถานการณ์นี้ และห้องน้ำก็ไม่สะอาดฉันไม่รู้ว่าพวกเขารีบเร่งทำห้องหรือไม่ แต่ฉันคิดว่าพวกเขาสามารถทำได้ดีกว่านี้ อาหารเช้าก็งั้น ๆ พนักงานในร้านอาหารมองลูกค้าในขณะที่พวกเขากำลังรับประทานอาหารและเมื่อพวกเขาเสร็จสิ้นการใช้จานหรือชามพวกเขาไม่ได้เก็บมันกลับมาโดยเร็ว พวกเขาจ้องมองที่โต๊ะเพื่อรอลูกค้าทานอาหารเช้าเสร็จแล้วออกไปข้างนอก ด้วยเหตุผลบางอย่างเกี่ยวกับเตียงพวกเขาให้ฉันอัปเกรดเป็นห้องที่ดีกว่าในขณะที่ฉันออกไปทำธุรกิจของฉัน แต่เมื่อฉันกลับมาที่โรงแรมกระเป๋าเดินทางของฉันทั้งหมดอยู่ในห้องเก่าไม่มีใครย้ายมาให้ฉันหรือเตรียมมันเมื่อ ผมกลับมา. ฉันต้องไปที่ห้องเก่าและย้ายกระเป๋าของฉันทั้งหมดไปที่ห้องใหม่ด้วยตัวเองและกลับมาเพื่อกลับไปที่ห้องคีย์การ์ดเก่าเพื่อรับสัญญาณอีกครั้งด้วยตัวเอง ฉันคิดว่านี่เป็นมารยาทพื้นฐานที่โรงแรมควรฝึกอบรมพนักงานทั้งหมดหากคุณเรียกตัวเองว่าเป็นโรงแรม 4 ดาวในกรุงเทพ\n",
      "9.1\n",
      "ห้องพักสะอาดมีรถรับส่งไปยังสถานีรถไฟฟ้าบีทีเอสสยามและโรงแรมใบหยกสกาย\n",
      "9.7\n",
      "เนื่องจากเราสั่งห้องสามห้องเราได้ห้องพักหนึ่งห้องฟรี สะอาดและดีมากที่นั่น\n",
      "คำแนะนำ: ข้อเสียอย่างเดียวคือไม่มีพัดลมดูดอากาศในห้องน้ำให้แน่ใจว่าคุณปิดประตู 5 นาทีหลังจากใช้ห้องน้ำ\n",
      "พนักงานส่วนใหญ่เป็นคนดีและเป็นมืออาชีพยกเว้นคนที่ไม่เป็นมิตรจริงๆในวันที่ 26 มิถุนายน 2018\n",
      "แนะนำเป็นอย่างยิ่ง\n",
      "8.5\n",
      "อาหารเช้าดีบริการดี แต่ก่อนทานคุณต้องถามว่ามันฮาลาลหรือไม่\n"
     ]
    }
   ],
   "source": [
    "sel = driver.find_element(By.XPATH,'/html/body/div[1]/div[5]/div[2]/div/div/div[1]/div/div/div[8]/div/div[8]')\n",
    "sel.click()\n",
    "time.sleep(2)\n",
    "clear_list(reviews_list,ratings_list)\n",
    "scraping_reviews(ratings_list,reviews_list,Ratings_list,Reviews_list)"
   ]
  },
  {
   "cell_type": "code",
   "execution_count": 64,
   "id": "c2e2a225",
   "metadata": {},
   "outputs": [
    {
     "name": "stdout",
     "output_type": "stream",
     "text": [
      "Ratings_list : 80\n",
      "Reviews_list : 80\n"
     ]
    }
   ],
   "source": [
    "print('Ratings_list :',len(Ratings_list))\n",
    "print('Reviews_list :',len(Reviews_list))"
   ]
  },
  {
   "cell_type": "markdown",
   "id": "bc68ba69",
   "metadata": {},
   "source": [
    "# Implement Data To Pandas"
   ]
  },
  {
   "cell_type": "code",
   "execution_count": 65,
   "id": "27364384",
   "metadata": {},
   "outputs": [],
   "source": [
    "import pandas as pd\n",
    "import numpy as np\n",
    "\n",
    "table = pd.DataFrame([Reviews_list,Ratings_list]).T"
   ]
  },
  {
   "cell_type": "code",
   "execution_count": 66,
   "id": "d90998ff",
   "metadata": {},
   "outputs": [],
   "source": [
    "table.columns = ['Review', 'Rating']"
   ]
  },
  {
   "cell_type": "code",
   "execution_count": 67,
   "id": "e9b956ed",
   "metadata": {},
   "outputs": [],
   "source": [
    "table['Review'].replace('', np.nan, inplace=True)"
   ]
  },
  {
   "cell_type": "code",
   "execution_count": 68,
   "id": "ba849aa2",
   "metadata": {},
   "outputs": [
    {
     "data": {
      "text/html": [
       "<div>\n",
       "<style scoped>\n",
       "    .dataframe tbody tr th:only-of-type {\n",
       "        vertical-align: middle;\n",
       "    }\n",
       "\n",
       "    .dataframe tbody tr th {\n",
       "        vertical-align: top;\n",
       "    }\n",
       "\n",
       "    .dataframe thead th {\n",
       "        text-align: right;\n",
       "    }\n",
       "</style>\n",
       "<table border=\"1\" class=\"dataframe\">\n",
       "  <thead>\n",
       "    <tr style=\"text-align: right;\">\n",
       "      <th></th>\n",
       "      <th>Review</th>\n",
       "      <th>Rating</th>\n",
       "    </tr>\n",
       "  </thead>\n",
       "  <tbody>\n",
       "    <tr>\n",
       "      <th>0</th>\n",
       "      <td>ดีค่ะ แต่ทางโรงแรมมีห้องพักประเภทเตียงเดี่ยวให...</td>\n",
       "      <td>9</td>\n",
       "    </tr>\n",
       "    <tr>\n",
       "      <th>1</th>\n",
       "      <td>พนักงานบริการดีมากค่ะ ห้องสะอาด</td>\n",
       "      <td>9.7</td>\n",
       "    </tr>\n",
       "    <tr>\n",
       "      <th>2</th>\n",
       "      <td>สะดวกสบาย สะอาด น่าอยู่มาก</td>\n",
       "      <td>9.3</td>\n",
       "    </tr>\n",
       "    <tr>\n",
       "      <th>3</th>\n",
       "      <td>ห้องสะอาด เงียบ สะดวกในการเดินทาง ติดถนนใหญ่ ข...</td>\n",
       "      <td>9.7</td>\n",
       "    </tr>\n",
       "    <tr>\n",
       "      <th>4</th>\n",
       "      <td>พนักงาน บริการดี ทำเลเหมาะกับการไป รพ รามา สะด...</td>\n",
       "      <td>9.1</td>\n",
       "    </tr>\n",
       "    <tr>\n",
       "      <th>...</th>\n",
       "      <td>...</td>\n",
       "      <td>...</td>\n",
       "    </tr>\n",
       "    <tr>\n",
       "      <th>75</th>\n",
       "      <td>โรงแรมใหม่อยู่ไม่ไกลจากสยามและพนักงานมีความเป็...</td>\n",
       "      <td>9.7</td>\n",
       "    </tr>\n",
       "    <tr>\n",
       "      <th>76</th>\n",
       "      <td>ไม่เลว แต่ก็ไม่ดีเลย พนักงานทุกคนดูสับสนเมื่อพ...</td>\n",
       "      <td>6.4</td>\n",
       "    </tr>\n",
       "    <tr>\n",
       "      <th>77</th>\n",
       "      <td>ห้องพักสะอาดมีรถรับส่งไปยังสถานีรถไฟฟ้าบีทีเอส...</td>\n",
       "      <td>9.1</td>\n",
       "    </tr>\n",
       "    <tr>\n",
       "      <th>78</th>\n",
       "      <td>เนื่องจากเราสั่งห้องสามห้องเราได้ห้องพักหนึ่งห...</td>\n",
       "      <td>9.7</td>\n",
       "    </tr>\n",
       "    <tr>\n",
       "      <th>79</th>\n",
       "      <td>อาหารเช้าดีบริการดี แต่ก่อนทานคุณต้องถามว่ามัน...</td>\n",
       "      <td>8.5</td>\n",
       "    </tr>\n",
       "  </tbody>\n",
       "</table>\n",
       "<p>80 rows × 2 columns</p>\n",
       "</div>"
      ],
      "text/plain": [
       "                                               Review Rating\n",
       "0   ดีค่ะ แต่ทางโรงแรมมีห้องพักประเภทเตียงเดี่ยวให...      9\n",
       "1                     พนักงานบริการดีมากค่ะ ห้องสะอาด    9.7\n",
       "2                          สะดวกสบาย สะอาด น่าอยู่มาก    9.3\n",
       "3   ห้องสะอาด เงียบ สะดวกในการเดินทาง ติดถนนใหญ่ ข...    9.7\n",
       "4   พนักงาน บริการดี ทำเลเหมาะกับการไป รพ รามา สะด...    9.1\n",
       "..                                                ...    ...\n",
       "75  โรงแรมใหม่อยู่ไม่ไกลจากสยามและพนักงานมีความเป็...    9.7\n",
       "76  ไม่เลว แต่ก็ไม่ดีเลย พนักงานทุกคนดูสับสนเมื่อพ...    6.4\n",
       "77  ห้องพักสะอาดมีรถรับส่งไปยังสถานีรถไฟฟ้าบีทีเอส...    9.1\n",
       "78  เนื่องจากเราสั่งห้องสามห้องเราได้ห้องพักหนึ่งห...    9.7\n",
       "79  อาหารเช้าดีบริการดี แต่ก่อนทานคุณต้องถามว่ามัน...    8.5\n",
       "\n",
       "[80 rows x 2 columns]"
      ]
     },
     "execution_count": 68,
     "metadata": {},
     "output_type": "execute_result"
    }
   ],
   "source": [
    "table"
   ]
  },
  {
   "cell_type": "code",
   "execution_count": 69,
   "id": "dad3a755",
   "metadata": {},
   "outputs": [
    {
     "data": {
      "text/html": [
       "<div>\n",
       "<style scoped>\n",
       "    .dataframe tbody tr th:only-of-type {\n",
       "        vertical-align: middle;\n",
       "    }\n",
       "\n",
       "    .dataframe tbody tr th {\n",
       "        vertical-align: top;\n",
       "    }\n",
       "\n",
       "    .dataframe thead th {\n",
       "        text-align: right;\n",
       "    }\n",
       "</style>\n",
       "<table border=\"1\" class=\"dataframe\">\n",
       "  <thead>\n",
       "    <tr style=\"text-align: right;\">\n",
       "      <th></th>\n",
       "      <th>index</th>\n",
       "      <th>Review</th>\n",
       "      <th>Rating</th>\n",
       "    </tr>\n",
       "  </thead>\n",
       "  <tbody>\n",
       "    <tr>\n",
       "      <th>0</th>\n",
       "      <td>0</td>\n",
       "      <td>ดีค่ะ แต่ทางโรงแรมมีห้องพักประเภทเตียงเดี่ยวให...</td>\n",
       "      <td>9</td>\n",
       "    </tr>\n",
       "    <tr>\n",
       "      <th>1</th>\n",
       "      <td>1</td>\n",
       "      <td>พนักงานบริการดีมากค่ะ ห้องสะอาด</td>\n",
       "      <td>9.7</td>\n",
       "    </tr>\n",
       "    <tr>\n",
       "      <th>2</th>\n",
       "      <td>2</td>\n",
       "      <td>สะดวกสบาย สะอาด น่าอยู่มาก</td>\n",
       "      <td>9.3</td>\n",
       "    </tr>\n",
       "    <tr>\n",
       "      <th>3</th>\n",
       "      <td>3</td>\n",
       "      <td>ห้องสะอาด เงียบ สะดวกในการเดินทาง ติดถนนใหญ่ ข...</td>\n",
       "      <td>9.7</td>\n",
       "    </tr>\n",
       "    <tr>\n",
       "      <th>4</th>\n",
       "      <td>4</td>\n",
       "      <td>พนักงาน บริการดี ทำเลเหมาะกับการไป รพ รามา สะด...</td>\n",
       "      <td>9.1</td>\n",
       "    </tr>\n",
       "    <tr>\n",
       "      <th>...</th>\n",
       "      <td>...</td>\n",
       "      <td>...</td>\n",
       "      <td>...</td>\n",
       "    </tr>\n",
       "    <tr>\n",
       "      <th>73</th>\n",
       "      <td>75</td>\n",
       "      <td>โรงแรมใหม่อยู่ไม่ไกลจากสยามและพนักงานมีความเป็...</td>\n",
       "      <td>9.7</td>\n",
       "    </tr>\n",
       "    <tr>\n",
       "      <th>74</th>\n",
       "      <td>76</td>\n",
       "      <td>ไม่เลว แต่ก็ไม่ดีเลย พนักงานทุกคนดูสับสนเมื่อพ...</td>\n",
       "      <td>6.4</td>\n",
       "    </tr>\n",
       "    <tr>\n",
       "      <th>75</th>\n",
       "      <td>77</td>\n",
       "      <td>ห้องพักสะอาดมีรถรับส่งไปยังสถานีรถไฟฟ้าบีทีเอส...</td>\n",
       "      <td>9.1</td>\n",
       "    </tr>\n",
       "    <tr>\n",
       "      <th>76</th>\n",
       "      <td>78</td>\n",
       "      <td>เนื่องจากเราสั่งห้องสามห้องเราได้ห้องพักหนึ่งห...</td>\n",
       "      <td>9.7</td>\n",
       "    </tr>\n",
       "    <tr>\n",
       "      <th>77</th>\n",
       "      <td>79</td>\n",
       "      <td>อาหารเช้าดีบริการดี แต่ก่อนทานคุณต้องถามว่ามัน...</td>\n",
       "      <td>8.5</td>\n",
       "    </tr>\n",
       "  </tbody>\n",
       "</table>\n",
       "<p>78 rows × 3 columns</p>\n",
       "</div>"
      ],
      "text/plain": [
       "    index                                             Review Rating\n",
       "0       0  ดีค่ะ แต่ทางโรงแรมมีห้องพักประเภทเตียงเดี่ยวให...      9\n",
       "1       1                    พนักงานบริการดีมากค่ะ ห้องสะอาด    9.7\n",
       "2       2                         สะดวกสบาย สะอาด น่าอยู่มาก    9.3\n",
       "3       3  ห้องสะอาด เงียบ สะดวกในการเดินทาง ติดถนนใหญ่ ข...    9.7\n",
       "4       4  พนักงาน บริการดี ทำเลเหมาะกับการไป รพ รามา สะด...    9.1\n",
       "..    ...                                                ...    ...\n",
       "73     75  โรงแรมใหม่อยู่ไม่ไกลจากสยามและพนักงานมีความเป็...    9.7\n",
       "74     76  ไม่เลว แต่ก็ไม่ดีเลย พนักงานทุกคนดูสับสนเมื่อพ...    6.4\n",
       "75     77  ห้องพักสะอาดมีรถรับส่งไปยังสถานีรถไฟฟ้าบีทีเอส...    9.1\n",
       "76     78  เนื่องจากเราสั่งห้องสามห้องเราได้ห้องพักหนึ่งห...    9.7\n",
       "77     79  อาหารเช้าดีบริการดี แต่ก่อนทานคุณต้องถามว่ามัน...    8.5\n",
       "\n",
       "[78 rows x 3 columns]"
      ]
     },
     "execution_count": 69,
     "metadata": {},
     "output_type": "execute_result"
    }
   ],
   "source": [
    "table = table.dropna()\n",
    "table.reset_index(inplace=True)\n",
    "table"
   ]
  },
  {
   "cell_type": "code",
   "execution_count": 70,
   "id": "dff0423a",
   "metadata": {},
   "outputs": [],
   "source": [
    "table = table.drop(['index'],axis=1)"
   ]
  },
  {
   "cell_type": "code",
   "execution_count": 71,
   "id": "18265b8e",
   "metadata": {},
   "outputs": [
    {
     "data": {
      "text/html": [
       "<div>\n",
       "<style scoped>\n",
       "    .dataframe tbody tr th:only-of-type {\n",
       "        vertical-align: middle;\n",
       "    }\n",
       "\n",
       "    .dataframe tbody tr th {\n",
       "        vertical-align: top;\n",
       "    }\n",
       "\n",
       "    .dataframe thead th {\n",
       "        text-align: right;\n",
       "    }\n",
       "</style>\n",
       "<table border=\"1\" class=\"dataframe\">\n",
       "  <thead>\n",
       "    <tr style=\"text-align: right;\">\n",
       "      <th></th>\n",
       "      <th>Review</th>\n",
       "      <th>Rating</th>\n",
       "    </tr>\n",
       "  </thead>\n",
       "  <tbody>\n",
       "    <tr>\n",
       "      <th>0</th>\n",
       "      <td>ดีค่ะ แต่ทางโรงแรมมีห้องพักประเภทเตียงเดี่ยวให...</td>\n",
       "      <td>9</td>\n",
       "    </tr>\n",
       "    <tr>\n",
       "      <th>1</th>\n",
       "      <td>พนักงานบริการดีมากค่ะ ห้องสะอาด</td>\n",
       "      <td>9.7</td>\n",
       "    </tr>\n",
       "    <tr>\n",
       "      <th>2</th>\n",
       "      <td>สะดวกสบาย สะอาด น่าอยู่มาก</td>\n",
       "      <td>9.3</td>\n",
       "    </tr>\n",
       "    <tr>\n",
       "      <th>3</th>\n",
       "      <td>ห้องสะอาด เงียบ สะดวกในการเดินทาง ติดถนนใหญ่ ข...</td>\n",
       "      <td>9.7</td>\n",
       "    </tr>\n",
       "    <tr>\n",
       "      <th>4</th>\n",
       "      <td>พนักงาน บริการดี ทำเลเหมาะกับการไป รพ รามา สะด...</td>\n",
       "      <td>9.1</td>\n",
       "    </tr>\n",
       "    <tr>\n",
       "      <th>...</th>\n",
       "      <td>...</td>\n",
       "      <td>...</td>\n",
       "    </tr>\n",
       "    <tr>\n",
       "      <th>73</th>\n",
       "      <td>โรงแรมใหม่อยู่ไม่ไกลจากสยามและพนักงานมีความเป็...</td>\n",
       "      <td>9.7</td>\n",
       "    </tr>\n",
       "    <tr>\n",
       "      <th>74</th>\n",
       "      <td>ไม่เลว แต่ก็ไม่ดีเลย พนักงานทุกคนดูสับสนเมื่อพ...</td>\n",
       "      <td>6.4</td>\n",
       "    </tr>\n",
       "    <tr>\n",
       "      <th>75</th>\n",
       "      <td>ห้องพักสะอาดมีรถรับส่งไปยังสถานีรถไฟฟ้าบีทีเอส...</td>\n",
       "      <td>9.1</td>\n",
       "    </tr>\n",
       "    <tr>\n",
       "      <th>76</th>\n",
       "      <td>เนื่องจากเราสั่งห้องสามห้องเราได้ห้องพักหนึ่งห...</td>\n",
       "      <td>9.7</td>\n",
       "    </tr>\n",
       "    <tr>\n",
       "      <th>77</th>\n",
       "      <td>อาหารเช้าดีบริการดี แต่ก่อนทานคุณต้องถามว่ามัน...</td>\n",
       "      <td>8.5</td>\n",
       "    </tr>\n",
       "  </tbody>\n",
       "</table>\n",
       "<p>78 rows × 2 columns</p>\n",
       "</div>"
      ],
      "text/plain": [
       "                                               Review Rating\n",
       "0   ดีค่ะ แต่ทางโรงแรมมีห้องพักประเภทเตียงเดี่ยวให...      9\n",
       "1                     พนักงานบริการดีมากค่ะ ห้องสะอาด    9.7\n",
       "2                          สะดวกสบาย สะอาด น่าอยู่มาก    9.3\n",
       "3   ห้องสะอาด เงียบ สะดวกในการเดินทาง ติดถนนใหญ่ ข...    9.7\n",
       "4   พนักงาน บริการดี ทำเลเหมาะกับการไป รพ รามา สะด...    9.1\n",
       "..                                                ...    ...\n",
       "73  โรงแรมใหม่อยู่ไม่ไกลจากสยามและพนักงานมีความเป็...    9.7\n",
       "74  ไม่เลว แต่ก็ไม่ดีเลย พนักงานทุกคนดูสับสนเมื่อพ...    6.4\n",
       "75  ห้องพักสะอาดมีรถรับส่งไปยังสถานีรถไฟฟ้าบีทีเอส...    9.1\n",
       "76  เนื่องจากเราสั่งห้องสามห้องเราได้ห้องพักหนึ่งห...    9.7\n",
       "77  อาหารเช้าดีบริการดี แต่ก่อนทานคุณต้องถามว่ามัน...    8.5\n",
       "\n",
       "[78 rows x 2 columns]"
      ]
     },
     "execution_count": 71,
     "metadata": {},
     "output_type": "execute_result"
    }
   ],
   "source": [
    "table"
   ]
  },
  {
   "cell_type": "code",
   "execution_count": 72,
   "id": "1ca57a3b",
   "metadata": {},
   "outputs": [],
   "source": [
    "table.to_csv(\"Reviews&Ratings_7th.csv\", encoding=\"utf-8\") "
   ]
  }
 ],
 "metadata": {
  "kernelspec": {
   "display_name": "Python 3 (ipykernel)",
   "language": "python",
   "name": "python3"
  },
  "language_info": {
   "codemirror_mode": {
    "name": "ipython",
    "version": 3
   },
   "file_extension": ".py",
   "mimetype": "text/x-python",
   "name": "python",
   "nbconvert_exporter": "python",
   "pygments_lexer": "ipython3",
   "version": "3.9.13"
  }
 },
 "nbformat": 4,
 "nbformat_minor": 5
}
