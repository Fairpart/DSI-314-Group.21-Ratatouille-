{
 "cells": [
  {
   "cell_type": "code",
   "execution_count": 1,
   "id": "6291f010",
   "metadata": {},
   "outputs": [
    {
     "name": "stdout",
     "output_type": "stream",
     "text": [
      "Requirement already satisfied: selenium in c:\\users\\fair\\anaconda3\\lib\\site-packages (4.6.0)\n",
      "Requirement already satisfied: trio~=0.17 in c:\\users\\fair\\anaconda3\\lib\\site-packages (from selenium) (0.22.0)\n",
      "Requirement already satisfied: certifi>=2021.10.8 in c:\\users\\fair\\anaconda3\\lib\\site-packages (from selenium) (2022.9.14)\n",
      "Requirement already satisfied: trio-websocket~=0.9 in c:\\users\\fair\\anaconda3\\lib\\site-packages (from selenium) (0.9.2)\n",
      "Requirement already satisfied: urllib3[socks]~=1.26 in c:\\users\\fair\\anaconda3\\lib\\site-packages (from selenium) (1.26.11)\n",
      "Requirement already satisfied: async-generator>=1.9 in c:\\users\\fair\\anaconda3\\lib\\site-packages (from trio~=0.17->selenium) (1.10)\n",
      "Requirement already satisfied: attrs>=19.2.0 in c:\\users\\fair\\anaconda3\\lib\\site-packages (from trio~=0.17->selenium) (21.4.0)\n",
      "Requirement already satisfied: sortedcontainers in c:\\users\\fair\\anaconda3\\lib\\site-packages (from trio~=0.17->selenium) (2.4.0)\n",
      "Requirement already satisfied: idna in c:\\users\\fair\\anaconda3\\lib\\site-packages (from trio~=0.17->selenium) (3.3)\n",
      "Requirement already satisfied: sniffio in c:\\users\\fair\\anaconda3\\lib\\site-packages (from trio~=0.17->selenium) (1.2.0)\n",
      "Requirement already satisfied: cffi>=1.14 in c:\\users\\fair\\anaconda3\\lib\\site-packages (from trio~=0.17->selenium) (1.15.1)\n",
      "Requirement already satisfied: exceptiongroup>=1.0.0rc9 in c:\\users\\fair\\anaconda3\\lib\\site-packages (from trio~=0.17->selenium) (1.0.4)\n",
      "Requirement already satisfied: outcome in c:\\users\\fair\\anaconda3\\lib\\site-packages (from trio~=0.17->selenium) (1.2.0)\n",
      "Requirement already satisfied: wsproto>=0.14 in c:\\users\\fair\\anaconda3\\lib\\site-packages (from trio-websocket~=0.9->selenium) (1.2.0)\n",
      "Requirement already satisfied: PySocks!=1.5.7,<2.0,>=1.5.6 in c:\\users\\fair\\anaconda3\\lib\\site-packages (from urllib3[socks]~=1.26->selenium) (1.7.1)\n",
      "Requirement already satisfied: pycparser in c:\\users\\fair\\anaconda3\\lib\\site-packages (from cffi>=1.14->trio~=0.17->selenium) (2.21)\n",
      "Requirement already satisfied: h11<1,>=0.9.0 in c:\\users\\fair\\anaconda3\\lib\\site-packages (from wsproto>=0.14->trio-websocket~=0.9->selenium) (0.14.0)\n"
     ]
    }
   ],
   "source": [
    "!pip install selenium"
   ]
  },
  {
   "cell_type": "markdown",
   "id": "ad15bdd9",
   "metadata": {},
   "source": [
    "# Def & Scraping Methods"
   ]
  },
  {
   "cell_type": "code",
   "execution_count": 2,
   "id": "b5022015",
   "metadata": {},
   "outputs": [],
   "source": [
    "def save_comment2mainList(main_comment_List,sub_comment_List):\n",
    "    for item in sub_comment_List:\n",
    "        main_comment_List.append(str(item))\n",
    "        \n",
    "def save_rating2mainList(main_rating_List,sub_rating_List):\n",
    "    for item in sub_rating_List:\n",
    "        main_rating_List.append(str(item))"
   ]
  },
  {
   "cell_type": "code",
   "execution_count": 3,
   "id": "ff8ea950",
   "metadata": {},
   "outputs": [],
   "source": [
    "def check_list_size(list_1,list_2):\n",
    "    if len(list_1) != len(list_2):\n",
    "        if len(list_1) > len(list_2):\n",
    "            list_1.pop(len(list_1)-1)\n",
    "        else:\n",
    "            list_2.pop(len(list_2)-1)\n",
    "    else:\n",
    "      return list_1,list_2"
   ]
  },
  {
   "cell_type": "code",
   "execution_count": 4,
   "id": "0ef53a5a",
   "metadata": {},
   "outputs": [],
   "source": [
    "def NextPages():\n",
    "    running = True\n",
    "    while running:\n",
    "        try:\n",
    "            try:\n",
    "                running = driver.find_element(By.XPATH,'/html/body/div[1]/div[5]/div[2]/div/div/div[1]/div/div/div[8]/div/div[7]').click()\n",
    "            except:\n",
    "                try:\n",
    "                    running = driver.find_element(By.XPATH,'/html/body/div[1]/div[5]/div[2]/div/div/div[1]/div/div/div[8]/div/div[8]').click()   \n",
    "                except:\n",
    "                    running = driver.find_elementh(By.XPATH,'/html/body/div[1]/div[5]/div[2]/div/div/div[1]/div/div/div[8]/div/div[9]').click() \n",
    "        except:\n",
    "             running = False\n",
    "        print('-----------------------------------------------------------','\\n')"
   ]
  },
  {
   "cell_type": "code",
   "execution_count": 5,
   "id": "7e351618",
   "metadata": {},
   "outputs": [],
   "source": [
    "def scraping_reviews(l_x1,l_x2,l_y1,l_y2): #scraping_reviews(ratings_list,reviews_list,Ratings_list,Reviews_list)\n",
    "    driver.execute_script(\"window.scrollTo(0,7770)\")\n",
    "    for review in driver.find_elements(By.CSS_SELECTOR,'div.css-1dbjc4n.r-1guathk.r-1yzf0co'):\n",
    "        for score in review.find_elements(By.CSS_SELECTOR,'div.css-901oao.r-1i6uqv8.r-1sixt3s.r-ubezar.r-majxgm.r-135wba7.r-fdjqy7'):\n",
    "            rate = score.text\n",
    "            print(rate)\n",
    "            l_x1.append(rate)\n",
    "\n",
    "        for comment in review.find_elements(By.CSS_SELECTOR,'div.css-1dbjc4n.r-1wzrnnt.r-1udh08x'):\n",
    "            criticism = comment.text\n",
    "            print(criticism)\n",
    "            l_x2.append(criticism)\n",
    "    \n",
    "        check_list_size(l_x1,l_x2)\n",
    "    save_comment2mainList(l_y1, l_x1)\n",
    "    save_rating2mainList(l_y2, l_x2)"
   ]
  },
  {
   "cell_type": "code",
   "execution_count": 6,
   "id": "df1083aa",
   "metadata": {},
   "outputs": [],
   "source": [
    "def clear_list(l_1,l_2):\n",
    "    reviews_list.clear()\n",
    "    ratings_list.clear()"
   ]
  },
  {
   "cell_type": "markdown",
   "id": "3c9a43da",
   "metadata": {},
   "source": [
    "# Code Working"
   ]
  },
  {
   "cell_type": "code",
   "execution_count": 14,
   "id": "8d08c5ba",
   "metadata": {},
   "outputs": [
    {
     "name": "stderr",
     "output_type": "stream",
     "text": [
      "C:\\Users\\FAIR\\AppData\\Local\\Temp\\ipykernel_9148\\1850218170.py:8: DeprecationWarning: executable_path has been deprecated, please pass in a Service object\n",
      "  driver = webdriver.Edge(executable_path = path)\n"
     ]
    }
   ],
   "source": [
    "from selenium import webdriver\n",
    "from selenium.webdriver.common.by import By\n",
    "import time\n",
    "from selenium.webdriver.support.select import Select\n",
    "\n",
    "path = \"D:\\python\\Selenium\\edgedriver_win64\\msedgedriver.exe\"\n",
    "url = 'https://www.traveloka.com/th-th/hotel/detail?spec=19-11-2022.20-11-2022.1.1.HOTEL.1000000572780.%E0%B9%80%E0%B8%84%E0%B8%99%E0%B9%82%E0%B8%84%E0%B8%8B%E0%B8%B5%E0%B9%88%20%E0%B9%81%E0%B8%AD%E0%B8%84%E0%B8%84%E0%B8%AD%E0%B8%A1%E0%B9%82%E0%B8%A1%E0%B9%80%E0%B8%94%E0%B8%8A%E0%B8%B1%E0%B9%88%E0%B8%99.1&contexts=%7B%22inventoryRateKey%22%3A%22povEwB3ZzsU2C6pd%2B6MdUwKh3BcjHsHvQbV0EUcyDRFM0tKsNUio4Rxug1zOzHJilcvZa8YdqqIySdppe7dolTIewZlxfjiOGz6oXLTucMvN0%2BgQ3yZPvZcoHwUFNN%2BZpcr%2F%2FNa8o9ElfN8zOYhzzZeg0X586laFpeUViPi9rxBMmLyk1wUa21BDYsgvKiSXDKNfCuNpYoh%2BuNZYtkPMM8N0KRTJ4VFq4ShicQGXCAjUQQmOFyb69aqe8Hll6YWZ3I9RvKjk4IEo%2BSgm41melVlJUAwrC%2F%2B5QUCsG1s1QVIuc5YTT922w9xJEQzAwRUPJUlU0oWZMOAtNu2YMOWeQNVsBZohxEpYRFmg%2B%2BHLDKSC0I%2B4MpT6AtjonGvWhSFYjTE%2FGsBKQXKjBtgZDhjE4C5zlhNP3bbD3EkRDMDBFQ%2BqbhLsKBvPaVGmTFK1NJs61WwFmiHESlhEWaD74csMpKQ%2BjgAtJSRmIL7WdsmYhViGixODei%2FNdx2RuCUEGmeMAUyxf%2BoM7B5yfJewzeVoU2%2FtVYQKI1lMuX%2BRaPNcBUAvSnVpp3982X8ufymNCG%2Bvqv3rBuUa%2BDAlSlNPC7rHF8TsYmOTADU69%2B%2B%2Fol8yLJTHHQhvr%2Bf5O5wjhPZDddaEMD1lhgrNFX59TpZvCV9M4rSDCIHqoFDFRnsCphC6IUw%3D%22%7D&prevSearchId=1749802578768584969&loginPromo=1'\n",
    "driver = webdriver.Edge(executable_path = path)\n",
    "driver.get(url)\n",
    "\n",
    "Reviews_list, reviews_list = [],[]\n",
    "Ratings_list, ratings_list = [],[]\n"
   ]
  },
  {
   "cell_type": "code",
   "execution_count": 15,
   "id": "00450a45",
   "metadata": {},
   "outputs": [
    {
     "data": {
      "text/plain": [
       "'ค่าห้องพัก เคนโคซี่ แอคคอมโมเดชั่น (KENCOZY accommodation) สามเสนใน ตั้งแต่ 19-11-2022 ถึง 20-11-2022'"
      ]
     },
     "execution_count": 15,
     "metadata": {},
     "output_type": "execute_result"
    }
   ],
   "source": [
    "driver.title"
   ]
  },
  {
   "cell_type": "code",
   "execution_count": 16,
   "id": "b9c348fe",
   "metadata": {},
   "outputs": [],
   "source": [
    "driver.execute_script(\"window.scrollTo(0,2900)\")"
   ]
  },
  {
   "cell_type": "code",
   "execution_count": 17,
   "id": "05217a71",
   "metadata": {},
   "outputs": [],
   "source": [
    "sel = driver.find_element(By.XPATH,\"/html/body/div[1]/div[5]/div[2]/div/div/div[1]/div/div/div[5]/div[1]/div[3]/div/div[1]/div\")\n",
    "sel.click()"
   ]
  },
  {
   "cell_type": "code",
   "execution_count": 18,
   "id": "6d91ede3",
   "metadata": {},
   "outputs": [],
   "source": [
    "TH = sel.find_element(By.XPATH,'/html/body/div[1]/div[5]/div[2]/div/div/div[1]/div/div/div[5]/div[1]/div[3]/div/div[2]/div/div/div/div[4]')\n",
    "TH.click()"
   ]
  },
  {
   "cell_type": "code",
   "execution_count": 19,
   "id": "2b31153e",
   "metadata": {},
   "outputs": [],
   "source": [
    "time.sleep(2)\n",
    "sel_order = driver.find_element(By.XPATH,\"/html/body/div[1]/div[5]/div[2]/div/div/div[1]/div/div/div[5]/div[1]/div/div[1]/div\")\n",
    "sel_order.click()"
   ]
  },
  {
   "cell_type": "code",
   "execution_count": 20,
   "id": "3859f8f5",
   "metadata": {},
   "outputs": [],
   "source": [
    "time.sleep(2)\n",
    "ascending = sel.find_element(By.XPATH,'/html/body/div[1]/div[5]/div[2]/div/div/div[1]/div/div/div[5]/div[1]/div[1]/div/div[2]/div/div/div/div[2]')\n",
    "ascending.click()"
   ]
  },
  {
   "cell_type": "code",
   "execution_count": 21,
   "id": "f8243469",
   "metadata": {},
   "outputs": [
    {
     "name": "stdout",
     "output_type": "stream",
     "text": [
      "4.9\n",
      "ไม่มีที่จอดรถ พนักงาน ถามอะไรก็ไม่รู้สักอย่าง\n",
      "6\n",
      "-เรารีเควสมาแล้วว่าจะเช็คเอ้าท์ 14.00 แต่ และอ้างว่าวันเช็คเอ้าท์ลูกค้าเต็ม มันไม่ใช่ปัญหาของผม -ออกใบเสร็จได้ไม่ตามราคาที่เราจองมา แล้วเราต้องนำไปเบิกเราก็เบิกได้ไม่เต็มจำนวนสิครับ -ผ้าเช็ดเท้าในห้องก็ไม่มี -รู้สึกไม่ประทับใจ เสียใจด้วยนะครับที่ต้องคอมเมนท์ไว้\n",
      "6\n",
      "ห้องมีฝุ่น พื้นไม่ค่อยสะอาด พักสองคืน ไม่เอาน้ำดื่มมาเพิ่มให้ ต้องโทรไปขอ\n",
      "6.2\n",
      "มีห้องให้เลือก 2 ประเภทคือ superior กับ deluxe ล่าสุดจองเป็น deluxe ปรากฏว่าห้องที่ได้เป็นห้องเดิมที่เคยไปพักครั้งก่อน ซึ่งเป็นห้อง superior สภาพห้อง อุปกรณ์ต่างๆ เหมือนเดิมทุกอย่าง อีกอย่างหนึ่งคือ โรงแรมนี้ไม่มีแก้วน้ำให้ ไม่ว่าจะเป็นแก้วน้ำดื่มหรือแก้วน้ำแปรงฟัน\n",
      "6.2\n",
      "ที่พักโอเค พนักงานไม่ค่อยยิ้มแย้ม เน็ตช้ามากครับ\n",
      "6.5\n",
      "ช่องทีวี หลายช่องดูไม่ได้ ทั้ง2 ห้องที่เข้าพัก พื้นห้องชำรุด ห้องน้ำมีน้ำรั่วซึมจากสายชำระ\n",
      "8.4\n",
      "สะอาด สบาย พนักงานและยามดี เตียงนอนสบาย\n",
      "8.5\n",
      "บริการดี ห้องสะอาด ไม่วุ่นวายมีความเป็นส่วนตัว มีร้านกาแฟข้างๆ หน้าร้านดอกไม้ ราคาไม่แพงรสชาดดีมากค่ะ\n",
      "8.5\n",
      "ห้องพักสะอาดดีคะ แต่เสียอย่างเดียว หน้าต่างระเบียงเปิดไม่ได้ พนักงาน ยิ้มแย้มชอบค่ะ\n",
      "8.5\n",
      "ห้องกว้าง ทีวีดี แอร์เย็น ห้องน้ำดี แต่น้ำในห้องน้ำมีกลิ่น โดยรวมดีค่ะ\n"
     ]
    }
   ],
   "source": [
    "for review in driver.find_elements(By.CSS_SELECTOR,'div.css-1dbjc4n.r-1guathk.r-1yzf0co'):\n",
    "    for score in review.find_elements(By.CSS_SELECTOR,'div.css-901oao.r-1i6uqv8.r-1sixt3s.r-ubezar.r-majxgm.r-135wba7.r-fdjqy7'):\n",
    "        rate = score.text\n",
    "        print(rate)\n",
    "        ratings_list.append(rate)\n",
    "\n",
    "    for comment in review.find_elements(By.CSS_SELECTOR,'div.css-1dbjc4n.r-1wzrnnt.r-1udh08x'):\n",
    "        criticism = comment.text\n",
    "        print(criticism)\n",
    "        reviews_list.append(criticism)\n",
    "    \n",
    "    check_list_size(ratings_list,reviews_list)\n",
    "save_comment2mainList(Reviews_list, reviews_list)\n",
    "save_rating2mainList(Ratings_list, ratings_list)"
   ]
  },
  {
   "cell_type": "code",
   "execution_count": 22,
   "id": "71a07138",
   "metadata": {},
   "outputs": [],
   "source": [
    "driver.execute_script(\"window.scrollTo(0,5900)\")\n",
    "time.sleep(5)\n",
    "next_page = driver.find_element(By.XPATH,'/html/body/div[1]/div[5]/div[2]/div/div/div[1]/div/div/div[9]/div/div[7]')\n",
    "next_page.click()"
   ]
  },
  {
   "cell_type": "code",
   "execution_count": 23,
   "id": "b4067b4a",
   "metadata": {},
   "outputs": [],
   "source": [
    "clear_list(ratings_list,reviews_list)"
   ]
  },
  {
   "cell_type": "code",
   "execution_count": 24,
   "id": "669040f2",
   "metadata": {},
   "outputs": [
    {
     "name": "stdout",
     "output_type": "stream",
     "text": [
      "8.5\n",
      "เดินทางสะดวก โรงแรมเล็กๆ น่ารักดี\n",
      "8.5\n",
      "ที่พักดี เดินทางสะดวก ไม่ไกลจากบีทีเอสสะพานควาย\n",
      "8.5\n",
      "ห้องพักดีค่ะ/แต่หาที่จอดรถยากไปนิด\n",
      "8.5\n",
      "ห้องสะอาดสวย แต่ดึกๆมีเสียงดังรบกวน น่าจะเป็นคนเที่ยวกลับมาเข้าห้องพัก คุยขนของเสียงดัง\n",
      "8.5\n",
      "ห้องพักสะอาด พนักงานบริการดี เดินทางสะดวก\n",
      "8.5\n",
      "ห้องสะอาดดีค่ะ เดินทางสะดวก เสียอย่างเดียวห้องไม่เก็บเสียง ตอนไปมีไซต์ก่อสร้างข้างๆค่อนข้างเสียงดังค่ะ\n",
      "8.5\n",
      "ห้องริมถนน เสียงรถผ่านดังตลอดคืน สะอาด\n",
      "8.5\n",
      "โดยรวมดีนะ สะอาด ประตูล็อกแน่นหนา รู้สึกปลอดภัย\n",
      "เสียงจากภายนอกดังเข้ามาภายในห้อง เช่น เสียงรถวิ่ง\n",
      "8.5\n",
      "ห้องพักสะอาด แต่เดินไกล bts หน่อย ใกล้ที่กิน\n",
      "8.5\n",
      "สถานที่ตั้งโอเค เดินทางสะดวก แต่บริการน่าจะดีได้กว่านี้อีกนิดนึง ไวไฟในห้องพักสัญญาณไม่ดีเลย ห้องพักโอเค สะอาดดี อุปกรณ์ของใช้ต่างๆมีเกือบครบ ขาดแค่แก้วน้ำ กับทิชชูไม่น่าใช้ทิชชูม้วนนะคะ\n"
     ]
    }
   ],
   "source": [
    "for review in driver.find_elements(By.CSS_SELECTOR,'div.css-1dbjc4n.r-1guathk.r-1yzf0co'):\n",
    "    for score in review.find_elements(By.CSS_SELECTOR,'div.css-901oao.r-1i6uqv8.r-1sixt3s.r-ubezar.r-majxgm.r-135wba7.r-fdjqy7'):\n",
    "        rate = score.text\n",
    "        print(rate)\n",
    "        ratings_list.append(rate)\n",
    "\n",
    "    for comment in review.find_elements(By.CSS_SELECTOR,'div.css-1dbjc4n.r-1wzrnnt.r-1udh08x'):\n",
    "        criticism = comment.text\n",
    "        print(criticism)\n",
    "        reviews_list.append(criticism)\n",
    "    \n",
    "    check_list_size(ratings_list,reviews_list)\n",
    "save_comment2mainList(Reviews_list, reviews_list)\n",
    "save_rating2mainList(Ratings_list, ratings_list)"
   ]
  },
  {
   "cell_type": "code",
   "execution_count": 25,
   "id": "2c9101b6",
   "metadata": {},
   "outputs": [
    {
     "name": "stdout",
     "output_type": "stream",
     "text": [
      "8.5\n",
      "ห้องพักสะอาด ทำเลดี สะดวกในการเดินทาง หาของกินง่าย\n",
      "8.5\n",
      "เดินทางสะดวก ห้องพักสะอาด มีความปลอดภัย คุ้มราคา แต่เสียอย่างนึงไวไฟช้า เล่นไม่ได้เลย (ห้อง4d)\n",
      "8.5\n",
      "สะอาด เดินทางไม่ยาก และเงียบดี เหมาะกับนักเดินทางที่ไม่ได้มีรถยนต์ส่วนตัว\n",
      "8.5\n",
      "คุ้มค่าราคา สะดวกและสะอาด เดินทางสะดวกแต่ไม่มีที่จอดรถ\n",
      "8.5\n",
      "ที่พักสะอาด ราคาเป็นมิตร...\n",
      "8.5\n",
      "พักมาหลายครั้ง สะดวกคุ้มค่ามาก\n",
      "8.5\n",
      "สะดวก สะอาด คุ้มราคา พนักงานเป็นกันเองดีมาก\n",
      "8.7\n",
      "ไวไฟไม่ค่อยแรง ที่วางของในห้องนํ้า น้อยมาก\n",
      "8.8\n",
      "สะดวก สบาย ประหยัด และ ปลอดภัย\n",
      "8.8\n",
      "ตั้งอยู่ในทำเลที่เดินทางสะดวก ติดถนนใหญ่ ในช่วงนี้มีการก่อสร้างอยู่ติดโรงแรม ทำให้เสียงดังรบกวน ในห้องไม่มีแก้วน้ำ เตียงนอนค่อนข้างแข็ง ประตูห้องน้ำเป็นกระจกฝ้า ซึ่งน่าจะติดสติกเกอร์ลายฝ้า แต่ติดไม่เต็มทั้งช่องกระจก จึงทำให้สามารถมองส่องเข้าไปได้ ไวไฟไม่สามารถใช้งานได้ดี สัญญาณอ่อนมาก\n"
     ]
    }
   ],
   "source": [
    "driver.execute_script(\"window.scrollTo(0,5900)\")\n",
    "time.sleep(5)\n",
    "next_page = driver.find_element(By.XPATH,'/html/body/div[1]/div[5]/div[2]/div/div/div[1]/div/div/div[9]/div/div[7]')\n",
    "next_page.click()\n",
    "\n",
    "time.sleep(5)\n",
    "clear_list(ratings_list,reviews_list)\n",
    "time.sleep(5)\n",
    "\n",
    "for review in driver.find_elements(By.CSS_SELECTOR,'div.css-1dbjc4n.r-1guathk.r-1yzf0co'):\n",
    "    for score in review.find_elements(By.CSS_SELECTOR,'div.css-901oao.r-1i6uqv8.r-1sixt3s.r-ubezar.r-majxgm.r-135wba7.r-fdjqy7'):\n",
    "        rate = score.text\n",
    "        print(rate)\n",
    "        ratings_list.append(rate)\n",
    "\n",
    "    for comment in review.find_elements(By.CSS_SELECTOR,'div.css-1dbjc4n.r-1wzrnnt.r-1udh08x'):\n",
    "        criticism = comment.text\n",
    "        print(criticism)\n",
    "        reviews_list.append(criticism)\n",
    "    \n",
    "    check_list_size(ratings_list,reviews_list)\n",
    "save_comment2mainList(Reviews_list, reviews_list)\n",
    "save_rating2mainList(Ratings_list, ratings_list)"
   ]
  },
  {
   "cell_type": "code",
   "execution_count": 26,
   "id": "d34f3297",
   "metadata": {},
   "outputs": [
    {
     "name": "stdout",
     "output_type": "stream",
     "text": [
      "8.8\n",
      "ห้องพักสะอาด มีไดร์เป่าผมให้ด้วย อยากให้เพิ่มในส่วนของหมวกอาบน้ำ ห้องน้ำแบ่งโซนเปียก-แห้ง มาเช็คประมาณเที่ยงคืนมียามคอยดูแลการ็คอินให้ค่ะ ทุกอย่างเรียบร้อยดี\n",
      "8.8\n",
      "ห้องพักสะอาด สะดวกสบายคุ้มราคา อยู่ไม่ไกลจาก bts ค่ะ\n",
      "8.8\n",
      "ให้คะแนนที่ตั้งสูง เคยมาพักแล้วติดใจเลยมาอีก ได้ห้องพักเก่ากว่าเดิม แต่ยังโอเค\n",
      "8.8\n",
      "ที่พักสะอาด การเดินทางสะดวกมาก\n",
      "8.8\n",
      "บริการแย่ไปหน่อย เข้าไปจะเช็กอิน เจ้าของหรือเปล่าไม่ทราบ ถามว่ามาส่งของเหรอ\n",
      "9\n",
      "ห้องพักดีมากๆ สะอาดน่าอยู่ พนักงานเคาน์เตอร์ควรพูดให้เป็นกันเองและน่าฟังมากกว่านี้\n",
      "9\n",
      "โอเคดีครับ สะดวก แต่ใครเพิ่งเคยมาอาจจะหายากหน่อย สงบดี\n",
      "9.1\n",
      "ห้องสะอาด บริการดี คนที่ดูแลหอพูดจาดี\n",
      "9.1\n",
      "ห้องพักดีมากค่ะ ไม่ไกลจาก bts เดินไปได้เเบบชิวๆ\n",
      "9.1\n",
      "ห้องพักดีมาก เหมือนในรูปเลย ถ้ามีโอกาสจะกลับไปพักอีก\n"
     ]
    }
   ],
   "source": [
    "driver.execute_script(\"window.scrollTo(0,5900)\")\n",
    "next_page = driver.find_element(By.XPATH,'/html/body/div[1]/div[5]/div[2]/div/div/div[1]/div/div/div[9]/div/div[8]')\n",
    "time.sleep(5)\n",
    "next_page.click()\n",
    "\n",
    "time.sleep(5)\n",
    "clear_list(ratings_list,reviews_list)\n",
    "time.sleep(5)\n",
    "\n",
    "for review in driver.find_elements(By.CSS_SELECTOR,'div.css-1dbjc4n.r-1guathk.r-1yzf0co'):\n",
    "    for score in review.find_elements(By.CSS_SELECTOR,'div.css-901oao.r-1i6uqv8.r-1sixt3s.r-ubezar.r-majxgm.r-135wba7.r-fdjqy7'):\n",
    "        rate = score.text\n",
    "        print(rate)\n",
    "        ratings_list.append(rate)\n",
    "\n",
    "    for comment in review.find_elements(By.CSS_SELECTOR,'div.css-1dbjc4n.r-1wzrnnt.r-1udh08x'):\n",
    "        criticism = comment.text\n",
    "        print(criticism)\n",
    "        reviews_list.append(criticism)\n",
    "    \n",
    "    check_list_size(ratings_list,reviews_list)\n",
    "save_comment2mainList(Reviews_list, reviews_list)\n",
    "save_rating2mainList(Ratings_list, ratings_list)"
   ]
  },
  {
   "cell_type": "code",
   "execution_count": 27,
   "id": "b299590f",
   "metadata": {},
   "outputs": [
    {
     "name": "stdout",
     "output_type": "stream",
     "text": [
      "9.1\n",
      "ทำเลของที่พักดีมาก เดินทางได้สะดวก อยู่ไม่ไกลจากตลาด ห้าง และร้านสะดวกซื้อ ห้องพักสะอาดดี มีอุปกรณ์ของใช้ครบ พนักงานทุกคนน่ารักและเป็นกันเองค่ะ ถือว่าคุ้มค่าสำหรับที่พักในราคานี้\n",
      "9.1\n",
      "ห้องพักสะอาด เงียบสงบ คุ้มค่ากับราคา\n",
      "9.1\n",
      "พนักงานกะกลางคืน ไม่ค่อยรู้เรื่อง ถามอะไรก็ตอบไม่ได้\n",
      "9.1\n",
      "ภายในห้องดูใหม่ ทั้งส่วนของห้องน้ำและห้องนอน ไม่มีกลิ่นอับ แต่มีแมลงตัวเล็กๆประมาณ 5 ตัว อยากให้ปรับปรุงจุดนี้ค่ะ\n",
      "9.1\n",
      "เดินทางคนเดียว ที่พักสงบ แต่หายากนิดนึงค่ะ ใกล้แหล่งของกิน มีโอกาสไปพักอีกแน่นอนค่ะ\n",
      "9.1\n",
      "ห้องพักสะอาด มีความเป็นส่วนตัว เสียดายมีเตียงคู่ (2 เตียง) แบบเดียว\n",
      "9.1\n",
      "สะอาด สะดวก สบายค่ะ เดินทางสะดวกมากๆ มาจากดอนเมือง\n",
      "9.4\n",
      "ห้องสะอาดดี พี่พนักงานบริการดีมาก แต่ห้องไม่ค่อยเก็บเสียงได้ยินเสียงรถวิ่ง\n",
      "9.4\n",
      "ดีค่ะ เป็นส่วนตัวดีคนไม่เยอะ ถือว่าโอเคค่ะ\n",
      "9.4\n",
      "ห้องพักสะอาดมาก เดินทางสะดวก ใกล้BTS สะพานควาย\n",
      "----------------------------------------------------------------- \n",
      "\n",
      "9.4\n",
      "ดีมาก คุ้มเกินราคา It's very good\n",
      "9.4\n",
      "เป็นที่พักที่ดีมาก สะอาด น่าอยู่ ตกแต่งสวย จัดสรรพื้นที่ได้พอเหมาะ ชอบมากค่ะ ใกล้บีทีเอส สามารถเดินไปได้ มีร้านอาหารใกล้ๆ สะดวกดีมาก 💕\n",
      "9.4\n",
      "ห้องพักสะอาด สวยดีครับ มีลิฟต์บริการ\n",
      "9.4\n",
      "ห้องสะอาด กว้างขว้างดี แอร์เย็น ห้องน้ำพอดี มีกระจกกั้นโซนอาบน้ำอย่างดี อุปกรณ์ในห้องน้ำเกือบครบ ขาดหมวกอาบน้ำ อยากให้เพิ่มเติมตรงนี้ กับอีกเรื่องคือผ้าขนหนูสากมาก รบกวนใส่น้ำยาปรับผ้านุ่มหน่อยนะคะ\n",
      "9.4\n",
      "ที่พักดีมากค่ะ สะอาด ห้องกว้าง เดินทางสะดวก คุ้มราคา\n",
      "9.4\n",
      "ห้องพักสบายมาก เดินทางสะดวก การบริการดีค่ะ เสียดายในห้องไม่มีแก้วน้ำ \n",
      "9.4\n",
      "ตึกแถวที่รีโนเวตห้องใหม่ จึงสะอาด มีโซนที่ใช้ประโยชน์ได้มากในห้อง ห้องน้ำก็สะอาด แต่ท่อน้ำไหลช้า มีสบู่ แชมพูให้ เตียงนอนสบาย ไม่นุ่มเกิน ผ้าห่มอุ่น มีน้ำให้ 2 ขวด โดยรวมดี แต่ทางเข้าหายากไปหน่อย เป็นวันเวย์ และห้องแม่บ้านชั้น 6 ทำเสียงตึงตังมาก สัญญาณเน็ตหลุดบ่อย ชอบที่ความสะอาด และมีไดร์เป่าผมให้ด้วย (นอนห้องแพงชั้น 5)\n",
      "9.4\n",
      "สะอาด สะดวก แต่ไม่เหมาะกับคนที่มีรถยนต์ เพราะไม่มีที่จอด\n",
      "9.4\n",
      "ห้องพักสะอาด เดินทางสะดวก ไม่ไกลจากบีทีเอสมาก\n",
      "9.4\n",
      "เดินทางสะดวก ห้องพักสะอาด และยังดูใหม่ แต่เสียดายไม่มีที่จอดรถ\n",
      "----------------------------------------------------------------- \n",
      "\n",
      "9.4\n",
      "ห้องใหม่มากค่ะ ระบบดี น่ามาพักอีก\n",
      "9.4\n",
      "ห้องใหญ่ สะอาด พักสองคนกำลังดี เดินจากบีทีเอสไกลนิดนึง แต่ระหว่างทางมีของกิน เดินเพลินๆได้ค่ะ ของเยอะ แนะนำขึ้นแท็กซี่ ไม่เกิน 40 บาท\n",
      "9.7\n",
      "ห้องพักตามรูปเลยตรงปกอยู่นะคะ ราคามิตรภาพมากๆ ไม่แพงจนเกินไปใกล้สถานีรถไฟฟ้าสะพานควายสามารถเดินไปได้ เราชอบห้องน้ำเพราะค่อนข้างสะอาดเลยราคามันเหมาะสมกับห้องนะคะ มีไดร์เป่าผมให้ มีแชมพูสบู่เหลว แอร์เย็นมากๆ เราพักชั้น 4 โอเคเลยไว้จะไปพักอีกเวลาขึ้นไปกรุงเทพสะดวก\n",
      "9.7\n",
      "จะไปพักทุกครั้งที่ไปกทม เลยค่ะ\n",
      "9.7\n",
      "ดีมาก สะดวกสบาย ไปพัก3 ครั้งแล้ว ชอบมากๆเลย\n",
      "9.7\n",
      "ที่พักสะอาด หาง่าย สะดวกสบาย และไกลก็สถานีรถไฟสะพานควาย เดินไปขึ้น 3 นาที\n",
      "9.7\n",
      "การบริการดี ความสะอาดดี การเดินทางสะดวก\n",
      "9.7\n",
      "สะอาด ติดถนน ไม่ไกลรถไฟฟ้า ใกล้แหล่งของกิน\n",
      "9.7\n",
      "ที่พักสะอาด ราคาไม่แพง สามารถเดินไปบีทีเอสสะพานควายได้\n",
      "9.7\n",
      "บริการดี ดูแลดี ห้องพักสะอาดสบายรู้สึกปลอดภัยใกล้ป้ายรถเมล์ติดถนนใหญ่ไม่ไกลจากbtsมาก และ ใกล้บิ๊กซีสะพานควายแหล่งของกินมีอาหารฮาลาลด้วย สะดวก โดยรวมถือว่าดีทุกอย่างเลยค่ะ ประทับใจ เด็กตจว.\n",
      "----------------------------------------------------------------- \n",
      "\n",
      "9.7\n",
      "สะดวกครับ อยู่ใกล้แหล่งของกิน อยู่ใกล้บิ๊กซีสะพานควาย ห้องสะอาด มีพนักงานอยู่ตลอดเวลา\n",
      "9.7\n",
      "ทุกอย่างดีหมดเลยครับ แต่ที่จอดรถไม่มี แค่นั้นเองครับ\n",
      "9.7\n",
      "สะดวกในการเดินทาง ห้องพักสะอาด\n",
      "9.7\n",
      "ชอบมากๆๆ สะดวก ใกล้บีทีเอส เดินเข้าซอยนิดเดียว ห้องกว้าง สะอาด\n",
      "9.7\n",
      "นอนสบายๆ ที่พักเงียบสงบ ห้องพักสะอาดมาก\n",
      "10\n",
      "ทุกอย่างดีหมด เดินทางง่าย สะดวก ใกล้แหล่งกิน\n",
      "10\n",
      "ทุกอย่างดีหมด ถ้ามีโต๊ะนั่งทำงานดีๆจะสุดยอด ฝนตกพอดี มีร่มให้ยืมด้วย\n",
      "8.5\n",
      "แม้ว่าสัญญาณ wifi จะค่อนข้างอ่อนเมื่อคุณอยู่ในห้องและพนักงานไม่สามารถพูดภาษาอังกฤษได้ แต่ก็ยังโอเค\n",
      "8.5\n",
      "สำหรับสิ่งอำนวยความสะดวกในห้องพักของโรงแรมนั้นค่อนข้างดี แต่สำหรับระยะทางจากโรงแรมถึงจตุจักรนั้นค่อนข้างไกล แต่สำหรับ BTS ใกล้ ไม่มีแผนกต้อนรับที่พร้อมให้บริการ B. ภาษาอังกฤษเศร้ามาก😑\n",
      "8.5\n",
      "เป็นสถานที่ที่ดีใกล้แหล่งช้อปปิ้งและร้านอาหารข้างทางราคาถูก เพียง 500 เมตรจาก BTS ทำเลยุทธศาสตร์\n",
      "----------------------------------------------------------------- \n",
      "\n",
      "8.5\n",
      "ย่านที่ดีห้องพักที่ดีการบริการที่ดีและทำเลที่ตั้งเพียง 15 นาทีเพื่อเดินไปยังตลาดจตุจักร\n",
      "8.5\n",
      "ห้องพักสะอาดราคาตามเงื่อนไข\n",
      "8.5\n",
      "ห้องพักสะดวกสบายและสะอาด\n",
      "8.5\n",
      "โรงแรมสะอาดพนักงานสามารถพูดภาษาอังกฤษคนขับรถแท็กซี่ส่วนใหญ่ไม่ทราบที่อยู่ของสถานที่แม้ว่าการเขียนภาษาไทย\n",
      "8.5\n",
      "สะอาดบริการดีสุภาพมาก\n",
      "8.5\n",
      "โรงแรมดีห้องพักค่อนข้างใหญ่ แผนกต้อนรับตอนกลางคืนไม่สามารถพูดภาษาอังกฤษได้เลยห้องพักสะอาด\n",
      "8.5\n",
      "ผ้าห่มดี, ห้องพักขนาดที่ดีที่ตั้งสะดวกสบายไม่ไกลจากสถานีรถไฟฟ้า BTS\n",
      "8.8\n",
      "โรงแรมอยู่ใกล้และสะอาดใกล้ chatucak เครื่องดื่มฟรีที่ชั้นหนึ่ง\n",
      "8.8\n",
      "พนักงานเป็นกันเองโรงแรมที่ดีพร้อมราคาไม่แพง! ใกล้สถานีรถไฟฟ้า BTS และตลาดนัดจตุจักร\n",
      "8.8\n",
      "ตั้งใจค้นหาโรงแรม deket กับจตุจักรเขตจตุจักรเนื่องจากในวันสุดท้ายของการเข้าชมเพื่อให้กลับมาเอากระเป๋าเดินทางไปยังสนามบินดอนเมืองไปไม่ไกลเกินไป สถานที่ตั้ง Dijln ที่สามารถพอดีกับถนนสองเลนรถลิตร JD ของไม่เล็กเกินไปหรือซอยเกินไป แต่ KL ต้องการที่จะหา Tuk2 ค่อนข้างยาก ประมาณ 700 เมตรจะได้รับไปบีทีเอสที่ใกล้ที่สุด Kl ต้องการตลาดนัดสวนจตุจักรสามารถเดินประมาณ 1.5 กม แต่ถ้าคุณไม่สามารถนั่งรถไฟฟ้า BTS สถานีเดียว AJA .. ทำความสะอาดของโรงแรมบรรยากาศล็อบบี้ Hommy BGT พนักงานสามารถภาษาอังกฤษเท่านั้นอยู่ 8:00-20:00 ชั่วโมง ส่วนที่เหลือเป็นเพียงการล็อบบี้เจ้าหน้าที่รักษาความปลอดภัยที่ไม่สามารถภาษาอังกฤษ\n",
      "----------------------------------------------------------------- \n",
      "\n"
     ]
    }
   ],
   "source": [
    "for i in range(5):\n",
    "    driver.execute_script(\"window.scrollTo(0,5900)\")\n",
    "    next_page = driver.find_element(By.XPATH,'/html/body/div[1]/div[5]/div[2]/div/div/div[1]/div/div/div[9]/div/div[9]')\n",
    "    next_page.click()\n",
    "\n",
    "    time.sleep(3)\n",
    "    clear_list(ratings_list,reviews_list)\n",
    "    time.sleep(3)\n",
    "\n",
    "    for review in driver.find_elements(By.CSS_SELECTOR,'div.css-1dbjc4n.r-1guathk.r-1yzf0co'):\n",
    "        for score in review.find_elements(By.CSS_SELECTOR,'div.css-901oao.r-1i6uqv8.r-1sixt3s.r-ubezar.r-majxgm.r-135wba7.r-fdjqy7'):\n",
    "            rate = score.text\n",
    "            print(rate)\n",
    "            ratings_list.append(rate)\n",
    "\n",
    "        for comment in review.find_elements(By.CSS_SELECTOR,'div.css-1dbjc4n.r-1wzrnnt.r-1udh08x'):\n",
    "            criticism = comment.text\n",
    "            print(criticism)\n",
    "            reviews_list.append(criticism)\n",
    "\n",
    "        check_list_size(ratings_list,reviews_list)\n",
    "    save_comment2mainList(Reviews_list, reviews_list)\n",
    "    save_rating2mainList(Ratings_list, ratings_list)\n",
    "    print('-----------------------------------------------------------------','\\n')"
   ]
  },
  {
   "cell_type": "code",
   "execution_count": 34,
   "id": "c2e2a225",
   "metadata": {},
   "outputs": [
    {
     "name": "stdout",
     "output_type": "stream",
     "text": [
      "Ratings_list : 90\n",
      "Reviews_list : 90\n"
     ]
    }
   ],
   "source": [
    "print('Ratings_list :',len(Ratings_list))\n",
    "print('Reviews_list :',len(Reviews_list))"
   ]
  },
  {
   "cell_type": "markdown",
   "id": "bc68ba69",
   "metadata": {},
   "source": [
    "# Implement Data To Pandas"
   ]
  },
  {
   "cell_type": "code",
   "execution_count": 35,
   "id": "27364384",
   "metadata": {},
   "outputs": [],
   "source": [
    "import pandas as pd\n",
    "import numpy as np\n",
    "\n",
    "table = pd.DataFrame([Reviews_list,Ratings_list]).T"
   ]
  },
  {
   "cell_type": "code",
   "execution_count": 36,
   "id": "d90998ff",
   "metadata": {},
   "outputs": [],
   "source": [
    "table.columns = ['Review', 'Rating']"
   ]
  },
  {
   "cell_type": "code",
   "execution_count": 37,
   "id": "e9b956ed",
   "metadata": {},
   "outputs": [],
   "source": [
    "table['Review'].replace('', np.nan, inplace=True)"
   ]
  },
  {
   "cell_type": "code",
   "execution_count": 38,
   "id": "ba849aa2",
   "metadata": {},
   "outputs": [
    {
     "data": {
      "text/html": [
       "<div>\n",
       "<style scoped>\n",
       "    .dataframe tbody tr th:only-of-type {\n",
       "        vertical-align: middle;\n",
       "    }\n",
       "\n",
       "    .dataframe tbody tr th {\n",
       "        vertical-align: top;\n",
       "    }\n",
       "\n",
       "    .dataframe thead th {\n",
       "        text-align: right;\n",
       "    }\n",
       "</style>\n",
       "<table border=\"1\" class=\"dataframe\">\n",
       "  <thead>\n",
       "    <tr style=\"text-align: right;\">\n",
       "      <th></th>\n",
       "      <th>Review</th>\n",
       "      <th>Rating</th>\n",
       "    </tr>\n",
       "  </thead>\n",
       "  <tbody>\n",
       "    <tr>\n",
       "      <th>0</th>\n",
       "      <td>ไม่มีที่จอดรถ พนักงาน ถามอะไรก็ไม่รู้สักอย่าง</td>\n",
       "      <td>4.9</td>\n",
       "    </tr>\n",
       "    <tr>\n",
       "      <th>1</th>\n",
       "      <td>-เรารีเควสมาแล้วว่าจะเช็คเอ้าท์ 14.00 แต่ และอ...</td>\n",
       "      <td>6</td>\n",
       "    </tr>\n",
       "    <tr>\n",
       "      <th>2</th>\n",
       "      <td>ห้องมีฝุ่น พื้นไม่ค่อยสะอาด พักสองคืน ไม่เอาน้...</td>\n",
       "      <td>6</td>\n",
       "    </tr>\n",
       "    <tr>\n",
       "      <th>3</th>\n",
       "      <td>มีห้องให้เลือก 2 ประเภทคือ superior กับ deluxe...</td>\n",
       "      <td>6.2</td>\n",
       "    </tr>\n",
       "    <tr>\n",
       "      <th>4</th>\n",
       "      <td>ที่พักโอเค พนักงานไม่ค่อยยิ้มแย้ม เน็ตช้ามากครับ</td>\n",
       "      <td>6.2</td>\n",
       "    </tr>\n",
       "    <tr>\n",
       "      <th>...</th>\n",
       "      <td>...</td>\n",
       "      <td>...</td>\n",
       "    </tr>\n",
       "    <tr>\n",
       "      <th>85</th>\n",
       "      <td>โรงแรมดีห้องพักค่อนข้างใหญ่ แผนกต้อนรับตอนกลาง...</td>\n",
       "      <td>8.5</td>\n",
       "    </tr>\n",
       "    <tr>\n",
       "      <th>86</th>\n",
       "      <td>ผ้าห่มดี, ห้องพักขนาดที่ดีที่ตั้งสะดวกสบายไม่ไ...</td>\n",
       "      <td>8.5</td>\n",
       "    </tr>\n",
       "    <tr>\n",
       "      <th>87</th>\n",
       "      <td>โรงแรมอยู่ใกล้และสะอาดใกล้ chatucak เครื่องดื่...</td>\n",
       "      <td>8.8</td>\n",
       "    </tr>\n",
       "    <tr>\n",
       "      <th>88</th>\n",
       "      <td>พนักงานเป็นกันเองโรงแรมที่ดีพร้อมราคาไม่แพง! ใ...</td>\n",
       "      <td>8.8</td>\n",
       "    </tr>\n",
       "    <tr>\n",
       "      <th>89</th>\n",
       "      <td>ตั้งใจค้นหาโรงแรม deket กับจตุจักรเขตจตุจักรเน...</td>\n",
       "      <td>8.8</td>\n",
       "    </tr>\n",
       "  </tbody>\n",
       "</table>\n",
       "<p>90 rows × 2 columns</p>\n",
       "</div>"
      ],
      "text/plain": [
       "                                               Review Rating\n",
       "0       ไม่มีที่จอดรถ พนักงาน ถามอะไรก็ไม่รู้สักอย่าง    4.9\n",
       "1   -เรารีเควสมาแล้วว่าจะเช็คเอ้าท์ 14.00 แต่ และอ...      6\n",
       "2   ห้องมีฝุ่น พื้นไม่ค่อยสะอาด พักสองคืน ไม่เอาน้...      6\n",
       "3   มีห้องให้เลือก 2 ประเภทคือ superior กับ deluxe...    6.2\n",
       "4    ที่พักโอเค พนักงานไม่ค่อยยิ้มแย้ม เน็ตช้ามากครับ    6.2\n",
       "..                                                ...    ...\n",
       "85  โรงแรมดีห้องพักค่อนข้างใหญ่ แผนกต้อนรับตอนกลาง...    8.5\n",
       "86  ผ้าห่มดี, ห้องพักขนาดที่ดีที่ตั้งสะดวกสบายไม่ไ...    8.5\n",
       "87  โรงแรมอยู่ใกล้และสะอาดใกล้ chatucak เครื่องดื่...    8.8\n",
       "88  พนักงานเป็นกันเองโรงแรมที่ดีพร้อมราคาไม่แพง! ใ...    8.8\n",
       "89  ตั้งใจค้นหาโรงแรม deket กับจตุจักรเขตจตุจักรเน...    8.8\n",
       "\n",
       "[90 rows x 2 columns]"
      ]
     },
     "execution_count": 38,
     "metadata": {},
     "output_type": "execute_result"
    }
   ],
   "source": [
    "table"
   ]
  },
  {
   "cell_type": "code",
   "execution_count": 39,
   "id": "dad3a755",
   "metadata": {},
   "outputs": [
    {
     "data": {
      "text/html": [
       "<div>\n",
       "<style scoped>\n",
       "    .dataframe tbody tr th:only-of-type {\n",
       "        vertical-align: middle;\n",
       "    }\n",
       "\n",
       "    .dataframe tbody tr th {\n",
       "        vertical-align: top;\n",
       "    }\n",
       "\n",
       "    .dataframe thead th {\n",
       "        text-align: right;\n",
       "    }\n",
       "</style>\n",
       "<table border=\"1\" class=\"dataframe\">\n",
       "  <thead>\n",
       "    <tr style=\"text-align: right;\">\n",
       "      <th></th>\n",
       "      <th>index</th>\n",
       "      <th>Review</th>\n",
       "      <th>Rating</th>\n",
       "    </tr>\n",
       "  </thead>\n",
       "  <tbody>\n",
       "    <tr>\n",
       "      <th>0</th>\n",
       "      <td>0</td>\n",
       "      <td>ไม่มีที่จอดรถ พนักงาน ถามอะไรก็ไม่รู้สักอย่าง</td>\n",
       "      <td>4.9</td>\n",
       "    </tr>\n",
       "    <tr>\n",
       "      <th>1</th>\n",
       "      <td>1</td>\n",
       "      <td>-เรารีเควสมาแล้วว่าจะเช็คเอ้าท์ 14.00 แต่ และอ...</td>\n",
       "      <td>6</td>\n",
       "    </tr>\n",
       "    <tr>\n",
       "      <th>2</th>\n",
       "      <td>2</td>\n",
       "      <td>ห้องมีฝุ่น พื้นไม่ค่อยสะอาด พักสองคืน ไม่เอาน้...</td>\n",
       "      <td>6</td>\n",
       "    </tr>\n",
       "    <tr>\n",
       "      <th>3</th>\n",
       "      <td>3</td>\n",
       "      <td>มีห้องให้เลือก 2 ประเภทคือ superior กับ deluxe...</td>\n",
       "      <td>6.2</td>\n",
       "    </tr>\n",
       "    <tr>\n",
       "      <th>4</th>\n",
       "      <td>4</td>\n",
       "      <td>ที่พักโอเค พนักงานไม่ค่อยยิ้มแย้ม เน็ตช้ามากครับ</td>\n",
       "      <td>6.2</td>\n",
       "    </tr>\n",
       "    <tr>\n",
       "      <th>...</th>\n",
       "      <td>...</td>\n",
       "      <td>...</td>\n",
       "      <td>...</td>\n",
       "    </tr>\n",
       "    <tr>\n",
       "      <th>85</th>\n",
       "      <td>85</td>\n",
       "      <td>โรงแรมดีห้องพักค่อนข้างใหญ่ แผนกต้อนรับตอนกลาง...</td>\n",
       "      <td>8.5</td>\n",
       "    </tr>\n",
       "    <tr>\n",
       "      <th>86</th>\n",
       "      <td>86</td>\n",
       "      <td>ผ้าห่มดี, ห้องพักขนาดที่ดีที่ตั้งสะดวกสบายไม่ไ...</td>\n",
       "      <td>8.5</td>\n",
       "    </tr>\n",
       "    <tr>\n",
       "      <th>87</th>\n",
       "      <td>87</td>\n",
       "      <td>โรงแรมอยู่ใกล้และสะอาดใกล้ chatucak เครื่องดื่...</td>\n",
       "      <td>8.8</td>\n",
       "    </tr>\n",
       "    <tr>\n",
       "      <th>88</th>\n",
       "      <td>88</td>\n",
       "      <td>พนักงานเป็นกันเองโรงแรมที่ดีพร้อมราคาไม่แพง! ใ...</td>\n",
       "      <td>8.8</td>\n",
       "    </tr>\n",
       "    <tr>\n",
       "      <th>89</th>\n",
       "      <td>89</td>\n",
       "      <td>ตั้งใจค้นหาโรงแรม deket กับจตุจักรเขตจตุจักรเน...</td>\n",
       "      <td>8.8</td>\n",
       "    </tr>\n",
       "  </tbody>\n",
       "</table>\n",
       "<p>90 rows × 3 columns</p>\n",
       "</div>"
      ],
      "text/plain": [
       "    index                                             Review Rating\n",
       "0       0      ไม่มีที่จอดรถ พนักงาน ถามอะไรก็ไม่รู้สักอย่าง    4.9\n",
       "1       1  -เรารีเควสมาแล้วว่าจะเช็คเอ้าท์ 14.00 แต่ และอ...      6\n",
       "2       2  ห้องมีฝุ่น พื้นไม่ค่อยสะอาด พักสองคืน ไม่เอาน้...      6\n",
       "3       3  มีห้องให้เลือก 2 ประเภทคือ superior กับ deluxe...    6.2\n",
       "4       4   ที่พักโอเค พนักงานไม่ค่อยยิ้มแย้ม เน็ตช้ามากครับ    6.2\n",
       "..    ...                                                ...    ...\n",
       "85     85  โรงแรมดีห้องพักค่อนข้างใหญ่ แผนกต้อนรับตอนกลาง...    8.5\n",
       "86     86  ผ้าห่มดี, ห้องพักขนาดที่ดีที่ตั้งสะดวกสบายไม่ไ...    8.5\n",
       "87     87  โรงแรมอยู่ใกล้และสะอาดใกล้ chatucak เครื่องดื่...    8.8\n",
       "88     88  พนักงานเป็นกันเองโรงแรมที่ดีพร้อมราคาไม่แพง! ใ...    8.8\n",
       "89     89  ตั้งใจค้นหาโรงแรม deket กับจตุจักรเขตจตุจักรเน...    8.8\n",
       "\n",
       "[90 rows x 3 columns]"
      ]
     },
     "execution_count": 39,
     "metadata": {},
     "output_type": "execute_result"
    }
   ],
   "source": [
    "table = table.dropna()\n",
    "table.reset_index(inplace=True)\n",
    "table"
   ]
  },
  {
   "cell_type": "code",
   "execution_count": 40,
   "id": "dff0423a",
   "metadata": {},
   "outputs": [],
   "source": [
    "table = table.drop(['index'],axis=1)"
   ]
  },
  {
   "cell_type": "code",
   "execution_count": 41,
   "id": "18265b8e",
   "metadata": {},
   "outputs": [
    {
     "data": {
      "text/html": [
       "<div>\n",
       "<style scoped>\n",
       "    .dataframe tbody tr th:only-of-type {\n",
       "        vertical-align: middle;\n",
       "    }\n",
       "\n",
       "    .dataframe tbody tr th {\n",
       "        vertical-align: top;\n",
       "    }\n",
       "\n",
       "    .dataframe thead th {\n",
       "        text-align: right;\n",
       "    }\n",
       "</style>\n",
       "<table border=\"1\" class=\"dataframe\">\n",
       "  <thead>\n",
       "    <tr style=\"text-align: right;\">\n",
       "      <th></th>\n",
       "      <th>Review</th>\n",
       "      <th>Rating</th>\n",
       "    </tr>\n",
       "  </thead>\n",
       "  <tbody>\n",
       "    <tr>\n",
       "      <th>0</th>\n",
       "      <td>ไม่มีที่จอดรถ พนักงาน ถามอะไรก็ไม่รู้สักอย่าง</td>\n",
       "      <td>4.9</td>\n",
       "    </tr>\n",
       "    <tr>\n",
       "      <th>1</th>\n",
       "      <td>-เรารีเควสมาแล้วว่าจะเช็คเอ้าท์ 14.00 แต่ และอ...</td>\n",
       "      <td>6</td>\n",
       "    </tr>\n",
       "    <tr>\n",
       "      <th>2</th>\n",
       "      <td>ห้องมีฝุ่น พื้นไม่ค่อยสะอาด พักสองคืน ไม่เอาน้...</td>\n",
       "      <td>6</td>\n",
       "    </tr>\n",
       "    <tr>\n",
       "      <th>3</th>\n",
       "      <td>มีห้องให้เลือก 2 ประเภทคือ superior กับ deluxe...</td>\n",
       "      <td>6.2</td>\n",
       "    </tr>\n",
       "    <tr>\n",
       "      <th>4</th>\n",
       "      <td>ที่พักโอเค พนักงานไม่ค่อยยิ้มแย้ม เน็ตช้ามากครับ</td>\n",
       "      <td>6.2</td>\n",
       "    </tr>\n",
       "    <tr>\n",
       "      <th>...</th>\n",
       "      <td>...</td>\n",
       "      <td>...</td>\n",
       "    </tr>\n",
       "    <tr>\n",
       "      <th>85</th>\n",
       "      <td>โรงแรมดีห้องพักค่อนข้างใหญ่ แผนกต้อนรับตอนกลาง...</td>\n",
       "      <td>8.5</td>\n",
       "    </tr>\n",
       "    <tr>\n",
       "      <th>86</th>\n",
       "      <td>ผ้าห่มดี, ห้องพักขนาดที่ดีที่ตั้งสะดวกสบายไม่ไ...</td>\n",
       "      <td>8.5</td>\n",
       "    </tr>\n",
       "    <tr>\n",
       "      <th>87</th>\n",
       "      <td>โรงแรมอยู่ใกล้และสะอาดใกล้ chatucak เครื่องดื่...</td>\n",
       "      <td>8.8</td>\n",
       "    </tr>\n",
       "    <tr>\n",
       "      <th>88</th>\n",
       "      <td>พนักงานเป็นกันเองโรงแรมที่ดีพร้อมราคาไม่แพง! ใ...</td>\n",
       "      <td>8.8</td>\n",
       "    </tr>\n",
       "    <tr>\n",
       "      <th>89</th>\n",
       "      <td>ตั้งใจค้นหาโรงแรม deket กับจตุจักรเขตจตุจักรเน...</td>\n",
       "      <td>8.8</td>\n",
       "    </tr>\n",
       "  </tbody>\n",
       "</table>\n",
       "<p>90 rows × 2 columns</p>\n",
       "</div>"
      ],
      "text/plain": [
       "                                               Review Rating\n",
       "0       ไม่มีที่จอดรถ พนักงาน ถามอะไรก็ไม่รู้สักอย่าง    4.9\n",
       "1   -เรารีเควสมาแล้วว่าจะเช็คเอ้าท์ 14.00 แต่ และอ...      6\n",
       "2   ห้องมีฝุ่น พื้นไม่ค่อยสะอาด พักสองคืน ไม่เอาน้...      6\n",
       "3   มีห้องให้เลือก 2 ประเภทคือ superior กับ deluxe...    6.2\n",
       "4    ที่พักโอเค พนักงานไม่ค่อยยิ้มแย้ม เน็ตช้ามากครับ    6.2\n",
       "..                                                ...    ...\n",
       "85  โรงแรมดีห้องพักค่อนข้างใหญ่ แผนกต้อนรับตอนกลาง...    8.5\n",
       "86  ผ้าห่มดี, ห้องพักขนาดที่ดีที่ตั้งสะดวกสบายไม่ไ...    8.5\n",
       "87  โรงแรมอยู่ใกล้และสะอาดใกล้ chatucak เครื่องดื่...    8.8\n",
       "88  พนักงานเป็นกันเองโรงแรมที่ดีพร้อมราคาไม่แพง! ใ...    8.8\n",
       "89  ตั้งใจค้นหาโรงแรม deket กับจตุจักรเขตจตุจักรเน...    8.8\n",
       "\n",
       "[90 rows x 2 columns]"
      ]
     },
     "execution_count": 41,
     "metadata": {},
     "output_type": "execute_result"
    }
   ],
   "source": [
    "table"
   ]
  },
  {
   "cell_type": "code",
   "execution_count": 42,
   "id": "3c346b86",
   "metadata": {},
   "outputs": [],
   "source": [
    "table.to_csv(\"Reviews&Ratings_17th.csv\", encoding=\"utf-8\") "
   ]
  }
 ],
 "metadata": {
  "kernelspec": {
   "display_name": "Python 3 (ipykernel)",
   "language": "python",
   "name": "python3"
  },
  "language_info": {
   "codemirror_mode": {
    "name": "ipython",
    "version": 3
   },
   "file_extension": ".py",
   "mimetype": "text/x-python",
   "name": "python",
   "nbconvert_exporter": "python",
   "pygments_lexer": "ipython3",
   "version": "3.9.13"
  }
 },
 "nbformat": 4,
 "nbformat_minor": 5
}
