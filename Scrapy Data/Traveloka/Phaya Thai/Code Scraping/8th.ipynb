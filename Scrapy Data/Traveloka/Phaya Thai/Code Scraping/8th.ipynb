{
 "cells": [
  {
   "cell_type": "code",
   "execution_count": 1,
   "id": "6291f010",
   "metadata": {},
   "outputs": [
    {
     "name": "stdout",
     "output_type": "stream",
     "text": [
      "Requirement already satisfied: selenium in c:\\users\\fair\\anaconda3\\lib\\site-packages (4.6.0)\n",
      "Requirement already satisfied: urllib3[socks]~=1.26 in c:\\users\\fair\\anaconda3\\lib\\site-packages (from selenium) (1.26.11)\n",
      "Requirement already satisfied: trio~=0.17 in c:\\users\\fair\\anaconda3\\lib\\site-packages (from selenium) (0.22.0)\n",
      "Requirement already satisfied: trio-websocket~=0.9 in c:\\users\\fair\\anaconda3\\lib\\site-packages (from selenium) (0.9.2)\n",
      "Requirement already satisfied: certifi>=2021.10.8 in c:\\users\\fair\\anaconda3\\lib\\site-packages (from selenium) (2022.9.14)\n",
      "Requirement already satisfied: sniffio in c:\\users\\fair\\anaconda3\\lib\\site-packages (from trio~=0.17->selenium) (1.2.0)\n",
      "Requirement already satisfied: exceptiongroup>=1.0.0rc9 in c:\\users\\fair\\anaconda3\\lib\\site-packages (from trio~=0.17->selenium) (1.0.1)\n",
      "Requirement already satisfied: sortedcontainers in c:\\users\\fair\\anaconda3\\lib\\site-packages (from trio~=0.17->selenium) (2.4.0)\n",
      "Requirement already satisfied: async-generator>=1.9 in c:\\users\\fair\\anaconda3\\lib\\site-packages (from trio~=0.17->selenium) (1.10)\n",
      "Requirement already satisfied: cffi>=1.14 in c:\\users\\fair\\anaconda3\\lib\\site-packages (from trio~=0.17->selenium) (1.15.1)\n",
      "Requirement already satisfied: outcome in c:\\users\\fair\\anaconda3\\lib\\site-packages (from trio~=0.17->selenium) (1.2.0)\n",
      "Requirement already satisfied: attrs>=19.2.0 in c:\\users\\fair\\anaconda3\\lib\\site-packages (from trio~=0.17->selenium) (21.4.0)\n",
      "Requirement already satisfied: idna in c:\\users\\fair\\anaconda3\\lib\\site-packages (from trio~=0.17->selenium) (3.3)\n",
      "Requirement already satisfied: wsproto>=0.14 in c:\\users\\fair\\anaconda3\\lib\\site-packages (from trio-websocket~=0.9->selenium) (1.2.0)\n",
      "Requirement already satisfied: PySocks!=1.5.7,<2.0,>=1.5.6 in c:\\users\\fair\\anaconda3\\lib\\site-packages (from urllib3[socks]~=1.26->selenium) (1.7.1)\n",
      "Requirement already satisfied: pycparser in c:\\users\\fair\\anaconda3\\lib\\site-packages (from cffi>=1.14->trio~=0.17->selenium) (2.21)\n",
      "Requirement already satisfied: h11<1,>=0.9.0 in c:\\users\\fair\\anaconda3\\lib\\site-packages (from wsproto>=0.14->trio-websocket~=0.9->selenium) (0.14.0)\n"
     ]
    }
   ],
   "source": [
    "!pip install selenium"
   ]
  },
  {
   "cell_type": "markdown",
   "id": "ad15bdd9",
   "metadata": {},
   "source": [
    "# Def & Scraping Methods"
   ]
  },
  {
   "cell_type": "code",
   "execution_count": 2,
   "id": "b5022015",
   "metadata": {},
   "outputs": [],
   "source": [
    "def save_comment2mainList(main_comment_List,sub_comment_List):\n",
    "    for item in sub_comment_List:\n",
    "        main_comment_List.append(str(item))\n",
    "        \n",
    "def save_rating2mainList(main_rating_List,sub_rating_List):\n",
    "    for item in sub_rating_List:\n",
    "        main_rating_List.append(str(item))"
   ]
  },
  {
   "cell_type": "code",
   "execution_count": 3,
   "id": "ff8ea950",
   "metadata": {},
   "outputs": [],
   "source": [
    "def check_list_size(list_1,list_2):\n",
    "    if len(list_1) != len(list_2):\n",
    "        if len(list_1) > len(list_2):\n",
    "            list_1.pop(len(list_1)-1)\n",
    "        else:\n",
    "            list_2.pop(len(list_2)-1)\n",
    "    else:\n",
    "      return list_1,list_2"
   ]
  },
  {
   "cell_type": "code",
   "execution_count": 4,
   "id": "0ef53a5a",
   "metadata": {},
   "outputs": [],
   "source": [
    "def NextPages():\n",
    "    running = True\n",
    "    while running:\n",
    "        try:\n",
    "            try:\n",
    "                running = driver.find_element(By.XPATH,'/html/body/div[1]/div[5]/div[2]/div/div/div[1]/div/div/div[8]/div/div[7]').click()\n",
    "            except:\n",
    "                try:\n",
    "                    running = driver.find_element(By.XPATH,'/html/body/div[1]/div[5]/div[2]/div/div/div[1]/div/div/div[8]/div/div[8]').click()   \n",
    "                except:\n",
    "                    running = driver.find_elementh(By.XPATH,'/html/body/div[1]/div[5]/div[2]/div/div/div[1]/div/div/div[8]/div/div[9]').click() \n",
    "        except:\n",
    "             running = False\n",
    "        print('-----------------------------------------------------------','\\n')"
   ]
  },
  {
   "cell_type": "code",
   "execution_count": 5,
   "id": "7e351618",
   "metadata": {},
   "outputs": [],
   "source": [
    "def scraping_reviews(l_x1,l_x2,l_y1,l_y2): #scraping_reviews(ratings_list,reviews_list,Ratings_list,Reviews_list)\n",
    "    driver.execute_script(\"window.scrollTo(0,7770)\")\n",
    "    for review in driver.find_elements(By.CSS_SELECTOR,'div.css-1dbjc4n.r-1guathk.r-1yzf0co'):\n",
    "        for score in review.find_elements(By.CSS_SELECTOR,'div.css-901oao.r-1i6uqv8.r-1sixt3s.r-ubezar.r-majxgm.r-135wba7.r-fdjqy7'):\n",
    "            rate = score.text\n",
    "            print(rate)\n",
    "            l_x1.append(rate)\n",
    "\n",
    "        for comment in review.find_elements(By.CSS_SELECTOR,'div.css-1dbjc4n.r-1wzrnnt.r-1udh08x'):\n",
    "            criticism = comment.text\n",
    "            print(criticism)\n",
    "            l_x2.append(criticism)\n",
    "    \n",
    "        check_list_size(l_x1,l_x2)\n",
    "    save_comment2mainList(l_y1, l_x1)\n",
    "    save_rating2mainList(l_y2, l_x2)"
   ]
  },
  {
   "cell_type": "code",
   "execution_count": 6,
   "id": "df1083aa",
   "metadata": {},
   "outputs": [],
   "source": [
    "def clear_list(l_1,l_2):\n",
    "    reviews_list.clear()\n",
    "    ratings_list.clear()"
   ]
  },
  {
   "cell_type": "markdown",
   "id": "3c9a43da",
   "metadata": {},
   "source": [
    "# Code Working"
   ]
  },
  {
   "cell_type": "code",
   "execution_count": 8,
   "id": "8d08c5ba",
   "metadata": {},
   "outputs": [
    {
     "name": "stderr",
     "output_type": "stream",
     "text": [
      "C:\\Users\\FAIR\\AppData\\Local\\Temp\\ipykernel_16192\\4127858279.py:8: DeprecationWarning: executable_path has been deprecated, please pass in a Service object\n",
      "  driver = webdriver.Edge(executable_path = path)\n"
     ]
    }
   ],
   "source": [
    "from selenium import webdriver\n",
    "from selenium.webdriver.common.by import By\n",
    "import time\n",
    "from selenium.webdriver.support.select import Select\n",
    "\n",
    "path = \"D:\\python\\Selenium\\edgedriver_win64\\msedgedriver.exe\"\n",
    "url = 'https://www.traveloka.com/th-th/hotel/detail?spec=07-11-2022.08-11-2022.1.1.HOTEL.3000020001961.Josh%20Hotel.1&contexts=%7B%22inventoryRateKey%22%3A%22HWFnyvL8K33gVLF%2FYqw0w%2BGG0%2Bsav%2BLaZAU2aZnthoGZSmj8ocot8wNQcaLoUHmw4Weuec9O2qiVGzP8qHcpgbgWiS2XzSnzoRggM4Vj0W1%2F7cKvnvPRFlZXTEVcLXWRTOehMGfNquJeu767XZc5GU2isUN7HbO0ONsjqyUXZwFMDzJepcG1Wj5lDDZ6k4hUDKNfCuNpYoh%2BuNZYtkPMM8N0KRTJ4VFq4ShicQGXCAjUQQmOFyb69aqe8Hll6YWZ3I9RvKjk4IEo%2BSgm41melVlJUAwrC%2F%2B5QUCsG1s1QVIuc5YTT922w9xJEQzAwRUPOwEn7PD824d%2F%2FbLT2Fhb2C26T6ovUFjQ167YedZvKVJuxwV4l777BzfQYR3fylhoHX%2FgjvJAXMef7VDSe%2FMsp4PQ8pU8We%2BnXvf%2BDnWIKrmJwu3WMAdA%2BbLYmDzwPonxlPuhpJAiNLywEQ0FlWCveDr6YNymnTk58iYKaBwFeu%2Fz3M48G7wax%2F65I6K7ocGZTEz1OwP3IrAA8Jugwb1nItK86GilTqHjHMsEEFrul1Z8CS%2FWFNqllBTLDfKALgAatbkPrlGHYMvOxUcd8gSuE9olaRmAWbSrbAx4lGVLBha%2FzTvZV0gOgy8QojE2ombEtMM9W5F3LU%2B3MiLXiG%2FcrZ%2BcjOcshP%2FlnzDiU9VoWjc%3D%22%7D&prevSearchId=1748823845322651159&loginPromo=1'\n",
    "driver = webdriver.Edge(executable_path = path)\n",
    "driver.get(url)\n",
    "\n",
    "Reviews_list, reviews_list = [],[]\n",
    "Ratings_list, ratings_list = [],[]\n",
    "\n",
    "sel = driver.find_element(By.XPATH,\"/html/body/div[1]/div[5]/div[2]/div/div/div[1]/div/div/div[5]/div[3]\")\n",
    "sel.click()\n",
    "time.sleep(2)\n",
    "TH = sel.find_element(By.XPATH,'/html/body/div[1]/div[5]/div[2]/div/div/div[1]/div/div/div[5]/div[3]/div/div[2]/div/div/div/div[4]')\n",
    "TH.click()"
   ]
  },
  {
   "cell_type": "code",
   "execution_count": 9,
   "id": "f8243469",
   "metadata": {},
   "outputs": [
    {
     "name": "stdout",
     "output_type": "stream",
     "text": [
      "5.7\n",
      "โรงแรมไม่เหมาะกับคนที่ต้องการพักผ่อน กว่าดนตรีจะสงบลงก็ตี 2 น่ารำคาญสุดๆ ทั้งเสียงดนตรีและเสียงเก็บสิ่งของตอน 6 โมงเข้า เสียดายเงินมาก เป็นโรงแรมที่ไม่คิดจะกลับไปนอนอีกเด็ดขาด ผู้บริหารปล่อยให้เป็นแบบนี้ได้ไง ดนตรีเริ่มตั้งแต่ 2 ทุ่มยันตี 2 ไม่เคยเจอโรงแรมแบบนี้มาก่อนในชีวิตเลย ปกติคนใช้บริการโรงแรมก็แค่ต้องการ หลับนอนพักผ่อนไม่ใช่หรือ?\n",
      "8.7\n",
      "ห้องแคบไปนิด แต่ดูเก๋ ส่วนตัวเดินไปสถานีบีทีเอส ประมาณ 10 นาที คิดว่าไกล\n",
      "6.1\n",
      "ที่จอดรถไม่พอสำหรับแขก ต้องไปเสียค่าที่จอดเอกชนอีก 200 บาท สำหรับเราคิดว่าไม่ใช่เรื่อง ทางโรงแรมควรเตรียมที่จอดให้เพียงพอกับแขก\n",
      "6\n",
      "พักที่วันแรกห้องแรกก็แจคพอต เจอแมสลูกค้าเก่าและขาแมลงสาป เลยขอเปลี่ยนห้อง พอมาห้องใหม่ก็เจอ แมลงสาป และเลือดบนผ้าห่ม เจอตอนกลางคืนเป็นอะไรที่ทรมานสุด ต้องอยู่กับอะไรแบบนี้ทั้งคืน\n",
      "8.5\n",
      "\n",
      "6.8\n",
      "ห้องไม่เก็บเสียง แม่บ้านเสียงดังแต่เช้า\n",
      "6\n",
      "ห้องน้ำมีคราบเหลือง ทางเข้าห้องไฟน้อยมากๆ มืดน่ากลัว\n",
      "8.5\n",
      "ห้องกว้าง อยู่สบายไม่อึดอัด มีมุมเก้าอี้ม้าโยกให้นั่งเล่นเพลินๆ ด้วย ประทับใจค่ะ\n",
      "6\n",
      "ที่จอดรถไม่มี ห้องน้ำแคบเกินไป\n",
      "6.1\n",
      "ห้องพักอับ มียุง ห้อง 301 ไฟติดๆ ดับๆ แต่ชั้นล่างออกแบบโรงแรมได้มีสไตล์ ถ่ายรูปสวย ออกแนววินเทจ ลุงที่ดูแลโรงแรมบริการดี\n"
     ]
    }
   ],
   "source": [
    "for review in driver.find_elements(By.CSS_SELECTOR,'div.css-1dbjc4n.r-1guathk.r-1yzf0co'):\n",
    "    for score in review.find_elements(By.CSS_SELECTOR,'div.css-901oao.r-1i6uqv8.r-1sixt3s.r-ubezar.r-majxgm.r-135wba7.r-fdjqy7'):\n",
    "        rate = score.text\n",
    "        print(rate)\n",
    "        ratings_list.append(rate)\n",
    "\n",
    "    for comment in review.find_elements(By.CSS_SELECTOR,'div.css-1dbjc4n.r-1wzrnnt.r-1udh08x'):\n",
    "        criticism = comment.text\n",
    "        print(criticism)\n",
    "        reviews_list.append(criticism)\n",
    "    \n",
    "    check_list_size(ratings_list,reviews_list)\n",
    "save_comment2mainList(Reviews_list, reviews_list)\n",
    "save_rating2mainList(Ratings_list, ratings_list)"
   ]
  },
  {
   "cell_type": "code",
   "execution_count": 10,
   "id": "00450a45",
   "metadata": {},
   "outputs": [
    {
     "data": {
      "text/plain": [
       "'ค่าห้องพัก Josh Hotel สามเสนใน ตั้งแต่ 07-11-2022 ถึง 08-11-2022'"
      ]
     },
     "execution_count": 10,
     "metadata": {},
     "output_type": "execute_result"
    }
   ],
   "source": [
    "driver.title"
   ]
  },
  {
   "cell_type": "code",
   "execution_count": 12,
   "id": "982dcdd2",
   "metadata": {},
   "outputs": [],
   "source": [
    "sel = driver.find_element(By.XPATH,\"/html/body/div[1]/div[5]/div[2]/div/div/div[1]/div/div/div[9]/div/div[7]\")\n",
    "sel.click()"
   ]
  },
  {
   "cell_type": "code",
   "execution_count": 13,
   "id": "241a5752",
   "metadata": {},
   "outputs": [],
   "source": [
    "clear_list(reviews_list,ratings_list)"
   ]
  },
  {
   "cell_type": "code",
   "execution_count": 14,
   "id": "75034ab2",
   "metadata": {},
   "outputs": [
    {
     "name": "stdout",
     "output_type": "stream",
     "text": [
      "8.5\n",
      "ดีมาก ดูแลดี เกินราคา ชอบมากค่ะ ไว้มีโอกาสจะกลับไปพักอีกแน่นอน\n",
      "5.1\n",
      "ห้องน้ำขนาดเล็กไม่ค่อยสะอาด สตาฟไม่มีความเป็นกันเอง เช็คอินใช้การถ่ายรูปบัตรประชาชนแทนถ่ายเอกสาร ไม่ปลอดภัย\n",
      "9.7\n",
      "สะดวกสบาย ง่ายต่อการเดินทาง และพี่ๆพนักงานเป็นกันเองน่ารักทุกคน มีโอกาสจะใช้บริการใหม่น่ะครับ\n",
      "8.4\n",
      "ห้องสะอาด แต่ห้องแคบไปหน่อยมีการแยกห้องน้ำ\n",
      "8.5\n",
      "สะดวกสบาย โรงแรมบริการดีมากๆค่ะ แนะนำเลย\n",
      "9.4\n",
      "\n",
      "8.5\n",
      "โดยรวมดีนะคะ แต่ติดตรงห้องน้ำเล็กไปค่ะ และไม่มีการแยกส่วนแห้งและเปียก ทำให้ใช้ห้องน้ำ เปียกไปหมดเลย และส่วนที่ ล้างหน้า ติดไดร์เป่าผมไว้ใกล้ๆ น้ำกับไฟ ไม่น่าจะถูกกันเท่าไหร่ค่ะ\n",
      "การตอบกลับจากที่พัก\n",
      "21 FEB 2020\n",
      "เรียน ท่านผู้เข้าพัก\n",
      "ขอบพระคุณที่ท่านเลื่อกใช้บริการโรงแรมโจสซ์โฮเทลของเรานะคะ ตามที่ท่านได้ให้ความเห็นในเรื่องห้องน้ำไม่ได้แยกส่วนเปียกและแห้งไว้นั้น ก่อนหน้านี้ห้องอาบน้ำ และห้องน้ำสำหรับห้องประเภท Deluxe Room เคยมีม่านกั้นส่วนเปียกและแห้ง แต่ทางทีมจะมีแผนปรับปรุงห้องน้ำจึงได้ทำการถอดผ้าม่านและราวผ้าม่านออกค่ะ สำหรับเรื่องไดร์เป่าผมที่อยู่หน้าห้องน้ำ ทางทีมได้แจ้งความคิดเห็นของท่านไปยังทีมช่างแล้วนะคะ หวังเป๋นอย่างยิ่งว่าท่านจะกลับมาใช้บริการโรงแรมโจสซ์อีกนะคะ\n",
      "Mr. Josh  waiting for the journey of someone like you.\n",
      "Sincerely yours, \n",
      "Josh Team\n",
      "9.7\n",
      "\n",
      "9.4\n",
      "\n",
      "การตอบกลับจากที่พัก\n",
      "07 DEC 2019\n",
      "เรียนแขกผู้มีเกียรติทุกท่าน\n",
      "ขอบคุณมากสำหรับรีวิวดารา คุณทำวันของเราด้วยคำพูดของคุณและเราชื่นชมมันจริงๆ เราทำงานหนักมากเพื่อให้แขกของเรามีความสุข เราดีใจที่คุณเพลิดเพลินกับการเข้าพักกับเรา เราหวังว่าคุณจะกลับมาที่นี่อีกในปีหน้า\n",
      "\"นาย. Josh กำลังรอการเดินทางของคนอย่างคุณ”\n",
      "ขอแสดงความนับถือ\n",
      "จอชทีม\n",
      "8.4\n",
      "\n"
     ]
    }
   ],
   "source": [
    "scraping_reviews(ratings_list,reviews_list,Ratings_list,Reviews_list)"
   ]
  },
  {
   "cell_type": "code",
   "execution_count": 15,
   "id": "6782ac7f",
   "metadata": {},
   "outputs": [
    {
     "name": "stdout",
     "output_type": "stream",
     "text": [
      "8.5\n",
      "\n",
      "9.4\n",
      "ภายในห้องดูทันสมัยและดูสะอาดแต่จะได้ยินเสียงข้างๆห้องรบกวนเสียงดังตอนดึกๆๆ\n",
      "9.4\n",
      "ห้องพักสะอาด ดูดี พนักงานน่ารักมากครับ แนะนำ\n",
      "6.1\n",
      "ได้ห้องที่ค่อนข้างมีกลิ่นอับ ห้องเล็ก คุณภาพไม่สมราคา\n",
      "8.5\n",
      "โรงแรมตกแต่งน่ารักจะกลับไปพักอีกนะคะ :)\n",
      "10\n",
      "\n",
      "8.5\n",
      "ห้องแบบ Standard เล็กไปหน่อย แต่ถ้ามาแล้วเน้นเที่ยวข้างนอก พักแค่ตอนกลางคืนก็ไม่อึดอัด ถ้านอน 2 คนอาจจะอึดอัดนิดนึง ห้องแบบ Deluxe กำลังพอดี พนักงานน่ารัก โรงแรมสวย เดินจาก bts ประมาณ 10 นาที ขอติเรื่องทำความสะอาด แขวนป้ายทำความสะอาดไว้ ส่วนมากพนักงานทำแค่ปูเตียงใหม่กับเก็บขยะ แต่ไม่ได้ทำความสะอาดพื้นห้องค่ะ\n",
      "8.5\n",
      "\n",
      "6.6\n",
      "ทำเลพอใช้ได้ ที่จอดรถน้อย โถงทางเดินในแต่ละชั้นค่อนข้างมืด สำหรับห้องfamily (จองมาแบบ superior และได้อัพเกรดเป็น family เนื่องจากห้องเต็ม) มีเตียงใหญ่1เตียง และเตียง 2 ชั้น นอนได้ประมาณ 4 คน เรามากัน 2 คนยังรู้สึกอึดอัด ห้องค่อนข้างมืดเพราะมีแต่ไฟสีส้ม และแสงจากระเบียงที่ค่อนข้างแคบ(เราชอบแสงขาวมากกว่า) ถังขยะในห้องและห้องน้ำเล็กมาก พื้นที่ในห้องค่อนข้างน้อย ไม่มีโต๊ะทำงาน เตียง 2 ชั้นมีโคมไฟอ่านหนังสือให้แต่ชั้นล่างเสียบไฟไม่ได้เพราะติดเสาเตียง ถ้ามาครบ 4 คนคงอึดอัดมาก ประตูห้องปิดยากมากเวลาออกจากห้อง ทำให้รู้สึกไม่ค่อยปลอดภัยเท่าไหร่ เวลาข้างห้องปิดประตูเราก็ได้ยิน ทำให้นอนหลับไม่ค่อยสบาย เหมาะกับการมานอนอย่างเดียว ถ้าหวังมาพักผ่อนไม่เหมาะเลย อาหารเช้ารสชาติดี พนักงานยิ้มแย้มแจ่มใสดี โดยรวมๆ ไม่เหมาะมาพักผ่อน อาจจะเหมาะกับแค่มาค้างคืนเพื่อทำธุรกิจ\n",
      "9.7\n",
      "โรงแรมดีไซน์สวย พนักงานต้อนรับดีมาก ห้องพักดีค่ะ\n"
     ]
    }
   ],
   "source": [
    "sel = driver.find_element(By.XPATH,'/html/body/div[1]/div[5]/div[2]/div/div/div[1]/div/div/div[9]/div/div[7]')\n",
    "sel.click()\n",
    "time.sleep(2)\n",
    "clear_list(reviews_list,ratings_list)\n",
    "scraping_reviews(ratings_list,reviews_list,Ratings_list,Reviews_list)"
   ]
  },
  {
   "cell_type": "code",
   "execution_count": 16,
   "id": "ec274381",
   "metadata": {},
   "outputs": [
    {
     "name": "stdout",
     "output_type": "stream",
     "text": [
      "8.8\n",
      "บริการดีค่ะ โรงแรมสวย บรรยากาศดี แต่ห้องน้ำเล็กไปหน่อยค่ะ\n",
      "6.1\n",
      "ราคาที่จ่ายไปกับห้องที่ได้ไม่คุ้มค้า และการเดินทางไม่สะดวก ทางโรงแรมควรมีรถกอฟรับส่งจากBTS อารีเป็นต้น\n",
      "9.3\n",
      "\n",
      "8.5\n",
      "\n",
      "10\n",
      "\n",
      "6.2\n",
      "ขอเตียงแยกแล้วแต่ไม่ได ้แต่อย่างอื่นถือว่าดีหมดแต่โรงแรมอยู่ลึกไปหน่อยนะ555+โดยรวมถือว่าดีอยู่\n",
      "8.5\n",
      "มาพักครั้งที่ 4 แล้ว หาของกินสะดวก ที่จอดรถอาจจะน้อยไปหน่อย แต่ก็ไม่ใช่เรื่องใหญ่ค่ะ\n",
      "8.8\n",
      "ที่พักสะอาด พนักงานบริการดี เดินทางสะดวกใกล้รถไฟฟ้าบีทีเอส\n",
      "9.1\n",
      "โรงแรมน่ารักมาก แต่ห้องเล็กไปนิดนึงแล้วก็ไม่เก็บเสียง พนักงานบางคนยิ้มแย้มดี แต่บางคนไม่ยิ้มเลย\n",
      "9.1\n",
      "โรงแรมอยู่ใกล้ bts อารีย์ (ทางออก 3) รอบ ๆ โรงแรมมีของกินค่อนข้างเยอะ (ใกล้ร้านอาหารและเซเว่น) และภายในโรงแรมก็มีร้านอาหารด้วย มีพนักงานบริการหน้าเคาน์เตอร์ตลอด 24 ชั่วโมง โรงแรมและห้องพักตกแต่งได้สวยงาม ใช้ลิฟต์ในการขึ้นลง และมีสระว่ายน้ำ ในส่วนของห้องพักมีขนาดเล็ก เตียงนอนนุ่ม นอนสบาย หัวเตียงมีไฟฉายให้ 1 กระบอก แอร์เย็น ตู้เย็นมีขนาดเล็กมาก ๆ สามารถแช่ขวดน้ำได้ไม่เยอะ มีน้ำเปล่าให้ 2 ขวด มีแก้วน้ำ และรองเท้าแตะใส่ในห้อง ทีวีมีทั้งช่องของไทยและต่างประเทศ สัญญาณไวไฟดีมาก ๆ และมีระเบียงที่เล็กสุด ๆ ห้องน้ำเล็กมาก (อ่างล้างหน้าอยู่นอกตัวห้องน้ำ มีกระจกและไดร์เป่าผม) มีผ้าขนหนูให้เฉพาะผ้าเช็ดตัวเท่านั้น มีแชมพูและสบู่เหลวอาบน้ำ และผ้าเช็ดเท้า น้ำไหลแรงดี มีเครื่องทำน้ำอุ่น ส่วนกลางของแต่ละชั้นมีกาต้มน้ำร้อน ชา กาแฟ และขนม สิ่งที่ควรปรับปรุงคือบริเวณห้องพักชั้น 2 ที่ตรงกับปล่องระบายอากาศ บางเวลาปล่องดูดอากาศเสียงดังมาก ปิดประตูที่ระเบียงพอช่วยลดเสียงได้\n"
     ]
    }
   ],
   "source": [
    "sel = driver.find_element(By.XPATH,'/html/body/div[1]/div[5]/div[2]/div/div/div[1]/div/div/div[9]/div/div[5]')\n",
    "sel.click()\n",
    "time.sleep(2)\n",
    "clear_list(reviews_list,ratings_list)\n",
    "scraping_reviews(ratings_list,reviews_list,Ratings_list,Reviews_list)"
   ]
  },
  {
   "cell_type": "code",
   "execution_count": 17,
   "id": "1e16a762",
   "metadata": {},
   "outputs": [
    {
     "name": "stdout",
     "output_type": "stream",
     "text": [
      "8.8\n",
      "ชอบมาก อาหารเช้าอร่อย นอนสบาย\n",
      "9.1\n",
      "ทำเลดี ใจกลางเมือง เดินไปขึ้น BTS ได้สบายๆ ร้านอาหาร ใกล้ๆโรงแรมเยอะ หาของกินสะดวกมาก ติดตรงที่จอดรถน้อย และไม่ค่อยเป็นส่วนตัวเนื่องจากโรงแรมกำลังเป็นที่รู้จักทำให้มีคนที่ไม่ได้พักมาถ่ายรูปกันพลุกพล่าน ร้านอาหารด้านล่างโรงแรม อาหารอร่อยมาก\n",
      "5.8\n",
      "พนักงานไม่มีความเป็น Service mind และมีการเลือกตัดสินการบริการกับลูกค้า\n",
      "9\n",
      "สถานที่ห้องพักขนาดเล็ก บุคคลภายนอกเข้ามาใช้สถานที่ในการถ่ายรูปเป็นจำนวนมาก วุ่นวาย ไม่มีความเป็นส่วนตัว\n",
      "6.4\n",
      "พนักงานบริการไม่ดี ไม่มีความเป็น service mind อาจเพราะเห็นว่า เป็นแค่โรงแรมสี่ดาว จึงไม่ได้ตระหนักถึงความเป็น service mind ซักเท่าไหร่ ไม่ยิ้มแย้ม และไม่มีความอัธยาศัยที่ดี ไม่ผ่านตามมาตรฐาน ในเรื่องการบริการ\n",
      "9.4\n",
      "คุ้มค่าราคามาก เดินไป BTS อารีย์ได้ ห้องก็โอเค\n",
      "8.4\n",
      "พนักงานเลือกปฏิบัติกับคนเข้าพัก ต้องมานั่งคอยเวลาเข้าพัก 2 ชม. โดยที่ปล่อยให้คนมาเช็คอินทีหลังเข้าห้องไปถึง 2 ห้อง แล้วให้นักศึกษาฝึกงานมารับหน้าแทน พูดจาเบา ไม่รู้เรื่อง แต่ยามต้อนรับดีมาก\n",
      "9.7\n",
      "ดีมาก ประทับใจทุกอย่างเลย จะต้องไปอีกแน่นอนครับ\n",
      "9.7\n",
      "\n",
      "9\n",
      "บรรยากาศดี มีมุมถ่ายรูปเยอะ พนักงานที่คาเฟ่บริการอาหารเช้าน่ารักมาก ยิ้มแย้มแจ่มใส อาหารอร่อย ที่นอนแข็งไปหน่อย หมอนนุ่ม ห้องมีกลิ่นอับ ห้องน้ำสะอาดดี ยามดูแลรถดีมาก มีมารยาท และตั้งใจทำงานดีเยี่ยม\n"
     ]
    }
   ],
   "source": [
    "sel = driver.find_element(By.XPATH,'/html/body/div[1]/div[5]/div[2]/div/div/div[1]/div/div/div[9]/div/div[6]')\n",
    "sel.click()\n",
    "time.sleep(2)\n",
    "clear_list(reviews_list,ratings_list)\n",
    "scraping_reviews(ratings_list,reviews_list,Ratings_list,Reviews_list)"
   ]
  },
  {
   "cell_type": "code",
   "execution_count": 18,
   "id": "6e03f5f8",
   "metadata": {},
   "outputs": [
    {
     "name": "stdout",
     "output_type": "stream",
     "text": [
      "8.5\n",
      "\n",
      "8.4\n",
      "แสงสว่างระหว่างทางเดินห้องพักมืดสลัวและเครื่องนอนให้ความรู้สึกคัน\n",
      "5.7\n",
      "เดินเข้าโรงแรมไกลจาก BTS สภาพแวดล้อมค่อนข้างวุ่นวายในช่วงกลางวัน โรงแรมประกอบธุรกิจอื่นๆนอกจากที่พัก เช่น โรงหนัง และอื่นๆ เหมือนนัดบรายเดช\n",
      "6\n",
      "รู้สึกว่า ปฏิบัติต่างกันระหว่างคนท้องถิ่นกับชาวต่างชาติ\n",
      "ทั้งๆที่จ่ายเงินเข้าบริการเท่ากัน\n",
      "9.4\n",
      "ห้องพักสะอาด แต่ห้องน้ำแคบมาก อาหารเช้าดี\n",
      "6.4\n",
      "ห้องเล็กมากๆๆ ห้องน้ำยิ่งกว่า อาหาร ok\n",
      "9.4\n",
      "ควรมี pop-up ขึ้นว่า วันไหนไฟจะตัด จะได้เป็นช่องทางในการตัดสินใจ\n",
      "8.5\n",
      "ดีและสะดวกสบาย! ร้านค้าและร้านอาหารมากมายในบริเวณโดยรอบ\n",
      "6.1\n",
      "คนที่เป็นพนักงานจดใส่หน้ากาก\n",
      "8.5\n",
      "มีจุดถ่ายรูปที่ดีมากมายและสะดวกสบายในการเดินทางเพื่อการพักผ่อน\n"
     ]
    }
   ],
   "source": [
    "sel = driver.find_element(By.XPATH,'/html/body/div[1]/div[5]/div[2]/div/div/div[1]/div/div/div[9]/div/div[6]')\n",
    "sel.click()\n",
    "time.sleep(2)\n",
    "clear_list(reviews_list,ratings_list)\n",
    "scraping_reviews(ratings_list,reviews_list,Ratings_list,Reviews_list)"
   ]
  },
  {
   "cell_type": "code",
   "execution_count": 19,
   "id": "3aad8973",
   "metadata": {},
   "outputs": [
    {
     "name": "stdout",
     "output_type": "stream",
     "text": [
      "6.1\n",
      "ระวังที่จะพักที่โรงแรมนี้! โดยเฉพาะอย่างยิ่งสำหรับคนที่ตื่นยาก ไม่มีโทรศัพท์ในห้อง โดยปกติโรงแรมจะมีโทรศัพท์ในห้องดังนั้นเมื่อคุณตื่นสายหรือเช็คเอาท์พวกเขาสามารถโทรหาคุณเพื่อเตือนคุณได้ แม้แต่ฉันเองก็เช็คเอ้าท์เวลา 12.40 น. เพราะฉันไม่ได้ยินว่าแม่บ้านทำความสะอาดเคาะประตูเวลา 12.00 น. พวกเขาไม่คืนเงินมัดจำของฉันและเรียกเก็บเงินฉันโดยตรง 500 บาทจากการฝากของฉัน พวกเขาให้เหตุผลเพราะการเข้าพักที่สูงและฉันเซ็นเมื่อฉันเช็คอินเพื่อจดจำเวลาเช็คเอาท์คือ 12.00 น. ไม่มีข้อแก้ตัวและระมัดระวัง! โรงแรมนี้พยายามที่จะโกง!\n",
      "9.1\n",
      "บรรยากาศที่สมบูรณ์แบบสำหรับผู้ที่กำลังมองหาประสบการณ์ใหม่อยู่! ทำเลที่ตั้งของโรงแรมอยู่ใกล้กับสถานีรถไฟฟ้าอารีย์และเดินทางสะดวก\n",
      "9.7\n",
      "สถานที่ที่น่ารักสำหรับวันหยุดและการบริการที่ดี พวกเขาเป็นประโยชน์มากและเป็นมิตร ฉันจะกลับมาอีกในครั้งต่อไป\n",
      "9.4\n",
      "ห้องพักสะอาด พนักงานที่กระตือรือร้น ใกล้สถานีรถไฟฟ้าใต้ดิน MRT ใกล้ร้านอาหาร\n",
      "8.3\n",
      "รอบ ๆ โรงแรมมี 7-11 มากทำให้หาอาหารได้ง่าย แต่จากบีทีเอสนั้นดีที่จะเดิน โดยรวมแล้วดีและสะดวกสบายตามภาพถ่ายเฉพาะตอนเช็คอินฉันเสิร์ฟโดยพนักงานต้อนรับที่ไม่เป็นมิตรมาก คนที่โกรธแขกที่เพิ่งมาถึงก็มีแขกร้องไห้ด้วยความโกรธ\n",
      "8\n",
      "สำหรับฉันสถานีรถไฟฟ้าไม่ได้เดิน ซอยของโรงแรมไม่ค่อยปลอดภัยตลอดทั้งคืน นี่เป็นครั้งที่สองของฉันที่นี่เพราะฉันมีรถเป็นของตัวเอง แต่ต้องเผชิญกับการจราจรที่เลวร้ายในตอนเช้า ห้องมีขนาดใหญ่พอสำหรับ 2 คน เตียงนอนสบาย มีไดร์เป่าผมหมวกอาบน้ำ 2 ตัวผ้าเช็ดตัว 2 อ่างและแชมพูให้บริการ ความสะอาดในห้องพักโอเค แต่มีคราบเหลืองรอบ ๆ บริเวณอาบน้ำ\n",
      "8.5\n",
      "ฉันมีความสุขมากที่ได้มาพักที่โรงแรมจอช ห้องพักสะอาดแม้ว่าเราพัก 3 คนในห้องพัก 4 คนยังคงพอดีดีมาก กลับมาที่นี่อย่างแน่นอน ..\n",
      "8.8\n",
      "ห้องสะอาดเหมือนภาพ\n",
      "8.8\n",
      "ทำเลที่ตั้งและการตกแต่งภายในที่ดี แต่ขนาดของห้องเล็กมากแม้แต่สำหรับห้องแฟมิลี่สวีท\n",
      "9\n",
      "สะอาดสวยงามทำเลเยี่ยมมีประสิทธิภาพไม่ดี: ไม่มีสิ่งอำนวยความสะดวกอาหารเช้าไม่ดี\n"
     ]
    }
   ],
   "source": [
    "sel = driver.find_element(By.XPATH,'/html/body/div[1]/div[5]/div[2]/div/div/div[1]/div/div/div[9]/div/div[9]')\n",
    "sel.click()\n",
    "time.sleep(2)\n",
    "clear_list(reviews_list,ratings_list)\n",
    "scraping_reviews(ratings_list,reviews_list,Ratings_list,Reviews_list)"
   ]
  },
  {
   "cell_type": "code",
   "execution_count": 20,
   "id": "b940b65f",
   "metadata": {},
   "outputs": [
    {
     "name": "stdout",
     "output_type": "stream",
     "text": [
      "9.4\n",
      "ขนาดห้องเล็กมากที่นอนและหมอนก็รู้สึกแข็ง แต่การตกแต่งภายในนั้นมีเอกลักษณ์และ Instagramable มีร้านกาแฟและร้านอาหารหลายแห่งรอบ ๆ โรงแรมซึ่งสามารถเดินถึงได้ ทำเลที่ตั้งของโรงแรมยังอยู่ใกล้กับสถานีรถไฟฟ้าบีทีเอส\n",
      "8.7\n",
      "โรงแรมดีจริง ๆ และอินสตาแกรมมากถ้าห้องสำหรับครอบครัวที่มีเด็ก 2 คนยังเล็กเกินไป\n",
      "9.4\n",
      "พบอัญมณีที่ซ่อนอยู่นี้ผ่านทางเว็บไซต์ท้องถิ่น โรงแรมที่งดงามอยู่ข้างใน ราคาไม่แพงสำหรับกลุ่ม\n",
      "9.1\n",
      "ทุกส่วนของโรงแรมนี้เป็นที่ชื่นชอบความสวยงาม ราคายังไม่แพงสิ่งอำนวยความสะดวกครบครันและพนักงานก็ช่วยเหลือดีเกินไป\n",
      "5.4\n",
      "ห้องน้ำมีขนาดเล็กมาก แผนกต้อนรับไม่ค่อยดี บริการไม่ดีเทียบกับราคา\n",
      "9\n",
      "โดยรวมแล้วฉันมีความสุขกับการเข้าพักที่นี่ ห้องพักสะอาดและพนักงานมีประโยชน์มาก ระยะห่างประมาณ 7 ถึง 8 นาทีจากสถานีรถไฟฟ้าอารีย์ ไม่มากเกินไป แต่ก็เหนื่อยมากที่จะเดินกลับจากสถานีรถไฟฟ้าไปยังโรงแรมหลังจากวันที่ยาวนาน\n",
      "9.7\n",
      "เป็นที่พักที่ดีห้องสวยพนักงานดีสถานที่ instagramable ในการสำรวจความคิดเห็นว่ายน้ำและสถานที่ทั้งหมด\n",
      "8.5\n",
      "มันเป็นโรงแรมที่สวยงามและสะดวกสบาย ทุกอย่างเรียบร้อยดีห้องพักสะอาดและสมบูรณ์ ค่อนข้างใกล้กับสถานีรถไฟฟ้าอารีย์และร้านอาหารมากมายและร้านค้าสะดวกซื้อเดินไปยังสถานีรถไฟฟ้าบีทีเอส รักโรงแรมนี้!\n",
      "9.4\n",
      "โรงแรมอยู่ค่อนข้างไกลจากอารีย์ bts แต่การเดินก็โอเค ตลอดเส้นทางมีผู้ค้าขายริมถนนแสนอร่อยมากมาย ห้องพักเล็ก แต่สะอาด โรงแรมมีรสนิยมดีการถ่ายรูปก่อนตอนเช้าเป็นโรงแรมที่ดีมาก พนักงานที่เป็นมิตร\n",
      "9.7\n",
      "น่ากลัว! ฉันจะกลับมาอีกแน่นอน!\n"
     ]
    }
   ],
   "source": [
    "sel = driver.find_element(By.XPATH,'/html/body/div[1]/div[5]/div[2]/div/div/div[1]/div/div/div[9]/div/div[9]')\n",
    "sel.click()\n",
    "time.sleep(2)\n",
    "clear_list(reviews_list,ratings_list)\n",
    "scraping_reviews(ratings_list,reviews_list,Ratings_list,Reviews_list)"
   ]
  },
  {
   "cell_type": "code",
   "execution_count": 22,
   "id": "2327d5b2",
   "metadata": {},
   "outputs": [
    {
     "name": "stdout",
     "output_type": "stream",
     "text": [
      "9.1\n",
      "การออกแบบตกแต่งภายในที่ดีสำหรับโรงแรมและห้องพัก เตียงและหมอนที่สะดวกสบาย ทุกสิ่งที่จำเป็นอยู่ที่นี่ พนักงานให้ความช่วยเหลือและเป็นมิตร สภาพแวดล้อมเงียบสงบและคุ้มค่าแก่การเข้าพัก ข้อเสียอย่างเดียวคือห้องพักเล็กไปหน่อยห้องน้ำเล็กและฝักบัวอาบน้ำไม่ดีพอ\n",
      "8.5\n",
      "ห้องพักสะดวกสบายแม้ว่าจะเล็กไปหน่อย แต่ก็โอเค โรงแรมนั้นสวยงามและ instagramable !! พื้นที่ใกล้เคียงเป็นที่น่าอัศจรรย์ มีร้านกาแฟและร้านอาหารมากมาย ละแวกใกล้เคียงมีชื่อเสียงสำหรับคนในท้องถิ่น\n",
      "8.8\n",
      "โรงแรมนี้ยอดเยี่ยมมาก ทำเลที่ตั้งสะดวกมากและบริการที่แผนกต้อนรับดี\n",
      "อาหารที่ยอดเยี่ยมเรากินที่ร้านอาหารส่วนใหญ่ของการเข้าพัก\n",
      "ฉันแค่บ่นเกี่ยวกับบริการที่ร้านอาหาร เวลาอาหารกลางวันใช้เวลาเกือบ 45 นาทีเพื่อรับผัดไทยเราสั่ง\n",
      "ในมื้อเย็นเราต้องเตือนหลายครั้งเกี่ยวกับอาหารของเราและอาหารใช้เวลาในการเดินทางมาถึง\n",
      "8.5\n",
      "ฉันชอบการออกแบบและบริการที่เป็นมิตรที่นั่น!\n",
      "ดูอีกครั้งเร็ว ๆ นี้ Josh Hotel ☺️🤓😇\n",
      "9.4\n",
      "ห้องพักสวยและเตียงนอนสบายพนักงานเป็นกันเองดี\n",
      "9.7\n",
      "ฉันรักทุกอย่างที่นั่นพนักงานอาหารการตกแต่งทำเลที่ตั้งอยู่ใกล้กับบีทีเอส\n",
      "6.2\n",
      "ห้องเล็กเกินไปสำหรับ 4 ท่าน พื้นห้องน้ำลื่น แต่ราคาตกลง\n",
      "9.1\n",
      "บรรยากาศดีมาก ในบริเวณบาร์คาเฟ่แบบนั้น แต่ไม่ใช่แถบโสเภณี เพียงไม่ไกลจากแหล่งช้อปปิ้ง และห้องค่อนข้างแคบ 7.5 / 10\n",
      "9.4\n",
      "ฉันรักมัน. เดินจากสถานีรถไฟฟ้า BTS ประมาณ 5 นาที คุณสามารถเดินไปตามคนขายของชำก่อนที่คุณจะไปถึงโรงแรมที่ทันสมัยได้ แน่นอนว่าดูดีในภาพ Instagram ของฉัน ห้องได้รับการตกแต่งอย่างประณีต แน่นอนจะกลับมาอีกครั้งในครั้งต่อไป\n",
      "8.5\n",
      "การออกแบบที่ยอดเยี่ยมและการบริการที่ดีห้องพักค่อนข้างเล็กและหมอนไม่สบาย\n"
     ]
    }
   ],
   "source": [
    "sel = driver.find_element(By.XPATH,'/html/body/div[1]/div[5]/div[2]/div/div/div[1]/div/div/div[9]/div/div[8]')\n",
    "sel.click()\n",
    "time.sleep(2)\n",
    "clear_list(reviews_list,ratings_list)\n",
    "scraping_reviews(ratings_list,reviews_list,Ratings_list,Reviews_list)"
   ]
  },
  {
   "cell_type": "code",
   "execution_count": 23,
   "id": "90c2d398",
   "metadata": {},
   "outputs": [
    {
     "name": "stdout",
     "output_type": "stream",
     "text": [
      "5.2\n",
      "เราตรวจสอบในวันแรกของการดำเนินธุรกิจซึ่งไม่ได้รับแจ้งในเว็บไซต์การจอง ควรกล่าวว่าอยู่ในช่วงเปิดอ่อน ห้องพักมีขนาดเล็กมากสำหรับที่พักแบบครอบครัวโดยไม่มีสิ่งอำนวยความสะดวกใด ๆ และมีการตั้งค่าการทำงานในห้องพัก ไม่มีบริการทำความสะอาดทุกวัน ไม่คุ้มค่ากับราคาที่โฆษณา\n"
     ]
    }
   ],
   "source": [
    "sel = driver.find_element(By.XPATH,'/html/body/div[1]/div[5]/div[2]/div/div/div[1]/div/div/div[9]/div/div[8]')\n",
    "sel.click()\n",
    "time.sleep(2)\n",
    "clear_list(reviews_list,ratings_list)\n",
    "scraping_reviews(ratings_list,reviews_list,Ratings_list,Reviews_list)"
   ]
  },
  {
   "cell_type": "code",
   "execution_count": 24,
   "id": "c2e2a225",
   "metadata": {},
   "outputs": [
    {
     "name": "stdout",
     "output_type": "stream",
     "text": [
      "Ratings_list : 91\n",
      "Reviews_list : 91\n"
     ]
    }
   ],
   "source": [
    "print('Ratings_list :',len(Ratings_list))\n",
    "print('Reviews_list :',len(Reviews_list))"
   ]
  },
  {
   "cell_type": "markdown",
   "id": "bc68ba69",
   "metadata": {},
   "source": [
    "# Implement Data To Pandas"
   ]
  },
  {
   "cell_type": "code",
   "execution_count": 25,
   "id": "27364384",
   "metadata": {},
   "outputs": [],
   "source": [
    "import pandas as pd\n",
    "import numpy as np\n",
    "\n",
    "table = pd.DataFrame([Reviews_list,Ratings_list]).T"
   ]
  },
  {
   "cell_type": "code",
   "execution_count": 26,
   "id": "d90998ff",
   "metadata": {},
   "outputs": [],
   "source": [
    "table.columns = ['Review', 'Rating']"
   ]
  },
  {
   "cell_type": "code",
   "execution_count": 27,
   "id": "e9b956ed",
   "metadata": {},
   "outputs": [],
   "source": [
    "table['Review'].replace('', np.nan, inplace=True)"
   ]
  },
  {
   "cell_type": "code",
   "execution_count": 28,
   "id": "ba849aa2",
   "metadata": {},
   "outputs": [
    {
     "data": {
      "text/html": [
       "<div>\n",
       "<style scoped>\n",
       "    .dataframe tbody tr th:only-of-type {\n",
       "        vertical-align: middle;\n",
       "    }\n",
       "\n",
       "    .dataframe tbody tr th {\n",
       "        vertical-align: top;\n",
       "    }\n",
       "\n",
       "    .dataframe thead th {\n",
       "        text-align: right;\n",
       "    }\n",
       "</style>\n",
       "<table border=\"1\" class=\"dataframe\">\n",
       "  <thead>\n",
       "    <tr style=\"text-align: right;\">\n",
       "      <th></th>\n",
       "      <th>Review</th>\n",
       "      <th>Rating</th>\n",
       "    </tr>\n",
       "  </thead>\n",
       "  <tbody>\n",
       "    <tr>\n",
       "      <th>0</th>\n",
       "      <td>โรงแรมไม่เหมาะกับคนที่ต้องการพักผ่อน กว่าดนตรี...</td>\n",
       "      <td>5.7</td>\n",
       "    </tr>\n",
       "    <tr>\n",
       "      <th>1</th>\n",
       "      <td>ห้องแคบไปนิด แต่ดูเก๋ ส่วนตัวเดินไปสถานีบีทีเอ...</td>\n",
       "      <td>8.7</td>\n",
       "    </tr>\n",
       "    <tr>\n",
       "      <th>2</th>\n",
       "      <td>ที่จอดรถไม่พอสำหรับแขก ต้องไปเสียค่าที่จอดเอกช...</td>\n",
       "      <td>6.1</td>\n",
       "    </tr>\n",
       "    <tr>\n",
       "      <th>3</th>\n",
       "      <td>พักที่วันแรกห้องแรกก็แจคพอต เจอแมสลูกค้าเก่าแล...</td>\n",
       "      <td>6</td>\n",
       "    </tr>\n",
       "    <tr>\n",
       "      <th>4</th>\n",
       "      <td>NaN</td>\n",
       "      <td>8.5</td>\n",
       "    </tr>\n",
       "    <tr>\n",
       "      <th>...</th>\n",
       "      <td>...</td>\n",
       "      <td>...</td>\n",
       "    </tr>\n",
       "    <tr>\n",
       "      <th>86</th>\n",
       "      <td>ห้องเล็กเกินไปสำหรับ 4 ท่าน พื้นห้องน้ำลื่น แต...</td>\n",
       "      <td>6.2</td>\n",
       "    </tr>\n",
       "    <tr>\n",
       "      <th>87</th>\n",
       "      <td>บรรยากาศดีมาก ในบริเวณบาร์คาเฟ่แบบนั้น แต่ไม่ใ...</td>\n",
       "      <td>9.1</td>\n",
       "    </tr>\n",
       "    <tr>\n",
       "      <th>88</th>\n",
       "      <td>ฉันรักมัน. เดินจากสถานีรถไฟฟ้า BTS ประมาณ 5 นา...</td>\n",
       "      <td>9.4</td>\n",
       "    </tr>\n",
       "    <tr>\n",
       "      <th>89</th>\n",
       "      <td>การออกแบบที่ยอดเยี่ยมและการบริการที่ดีห้องพักค...</td>\n",
       "      <td>8.5</td>\n",
       "    </tr>\n",
       "    <tr>\n",
       "      <th>90</th>\n",
       "      <td>เราตรวจสอบในวันแรกของการดำเนินธุรกิจซึ่งไม่ได้...</td>\n",
       "      <td>5.2</td>\n",
       "    </tr>\n",
       "  </tbody>\n",
       "</table>\n",
       "<p>91 rows × 2 columns</p>\n",
       "</div>"
      ],
      "text/plain": [
       "                                               Review Rating\n",
       "0   โรงแรมไม่เหมาะกับคนที่ต้องการพักผ่อน กว่าดนตรี...    5.7\n",
       "1   ห้องแคบไปนิด แต่ดูเก๋ ส่วนตัวเดินไปสถานีบีทีเอ...    8.7\n",
       "2   ที่จอดรถไม่พอสำหรับแขก ต้องไปเสียค่าที่จอดเอกช...    6.1\n",
       "3   พักที่วันแรกห้องแรกก็แจคพอต เจอแมสลูกค้าเก่าแล...      6\n",
       "4                                                 NaN    8.5\n",
       "..                                                ...    ...\n",
       "86  ห้องเล็กเกินไปสำหรับ 4 ท่าน พื้นห้องน้ำลื่น แต...    6.2\n",
       "87  บรรยากาศดีมาก ในบริเวณบาร์คาเฟ่แบบนั้น แต่ไม่ใ...    9.1\n",
       "88  ฉันรักมัน. เดินจากสถานีรถไฟฟ้า BTS ประมาณ 5 นา...    9.4\n",
       "89  การออกแบบที่ยอดเยี่ยมและการบริการที่ดีห้องพักค...    8.5\n",
       "90  เราตรวจสอบในวันแรกของการดำเนินธุรกิจซึ่งไม่ได้...    5.2\n",
       "\n",
       "[91 rows x 2 columns]"
      ]
     },
     "execution_count": 28,
     "metadata": {},
     "output_type": "execute_result"
    }
   ],
   "source": [
    "table"
   ]
  },
  {
   "cell_type": "code",
   "execution_count": 29,
   "id": "dad3a755",
   "metadata": {},
   "outputs": [
    {
     "data": {
      "text/html": [
       "<div>\n",
       "<style scoped>\n",
       "    .dataframe tbody tr th:only-of-type {\n",
       "        vertical-align: middle;\n",
       "    }\n",
       "\n",
       "    .dataframe tbody tr th {\n",
       "        vertical-align: top;\n",
       "    }\n",
       "\n",
       "    .dataframe thead th {\n",
       "        text-align: right;\n",
       "    }\n",
       "</style>\n",
       "<table border=\"1\" class=\"dataframe\">\n",
       "  <thead>\n",
       "    <tr style=\"text-align: right;\">\n",
       "      <th></th>\n",
       "      <th>index</th>\n",
       "      <th>Review</th>\n",
       "      <th>Rating</th>\n",
       "    </tr>\n",
       "  </thead>\n",
       "  <tbody>\n",
       "    <tr>\n",
       "      <th>0</th>\n",
       "      <td>0</td>\n",
       "      <td>โรงแรมไม่เหมาะกับคนที่ต้องการพักผ่อน กว่าดนตรี...</td>\n",
       "      <td>5.7</td>\n",
       "    </tr>\n",
       "    <tr>\n",
       "      <th>1</th>\n",
       "      <td>1</td>\n",
       "      <td>ห้องแคบไปนิด แต่ดูเก๋ ส่วนตัวเดินไปสถานีบีทีเอ...</td>\n",
       "      <td>8.7</td>\n",
       "    </tr>\n",
       "    <tr>\n",
       "      <th>2</th>\n",
       "      <td>2</td>\n",
       "      <td>ที่จอดรถไม่พอสำหรับแขก ต้องไปเสียค่าที่จอดเอกช...</td>\n",
       "      <td>6.1</td>\n",
       "    </tr>\n",
       "    <tr>\n",
       "      <th>3</th>\n",
       "      <td>3</td>\n",
       "      <td>พักที่วันแรกห้องแรกก็แจคพอต เจอแมสลูกค้าเก่าแล...</td>\n",
       "      <td>6</td>\n",
       "    </tr>\n",
       "    <tr>\n",
       "      <th>4</th>\n",
       "      <td>5</td>\n",
       "      <td>ห้องไม่เก็บเสียง แม่บ้านเสียงดังแต่เช้า</td>\n",
       "      <td>6.8</td>\n",
       "    </tr>\n",
       "    <tr>\n",
       "      <th>...</th>\n",
       "      <td>...</td>\n",
       "      <td>...</td>\n",
       "      <td>...</td>\n",
       "    </tr>\n",
       "    <tr>\n",
       "      <th>73</th>\n",
       "      <td>86</td>\n",
       "      <td>ห้องเล็กเกินไปสำหรับ 4 ท่าน พื้นห้องน้ำลื่น แต...</td>\n",
       "      <td>6.2</td>\n",
       "    </tr>\n",
       "    <tr>\n",
       "      <th>74</th>\n",
       "      <td>87</td>\n",
       "      <td>บรรยากาศดีมาก ในบริเวณบาร์คาเฟ่แบบนั้น แต่ไม่ใ...</td>\n",
       "      <td>9.1</td>\n",
       "    </tr>\n",
       "    <tr>\n",
       "      <th>75</th>\n",
       "      <td>88</td>\n",
       "      <td>ฉันรักมัน. เดินจากสถานีรถไฟฟ้า BTS ประมาณ 5 นา...</td>\n",
       "      <td>9.4</td>\n",
       "    </tr>\n",
       "    <tr>\n",
       "      <th>76</th>\n",
       "      <td>89</td>\n",
       "      <td>การออกแบบที่ยอดเยี่ยมและการบริการที่ดีห้องพักค...</td>\n",
       "      <td>8.5</td>\n",
       "    </tr>\n",
       "    <tr>\n",
       "      <th>77</th>\n",
       "      <td>90</td>\n",
       "      <td>เราตรวจสอบในวันแรกของการดำเนินธุรกิจซึ่งไม่ได้...</td>\n",
       "      <td>5.2</td>\n",
       "    </tr>\n",
       "  </tbody>\n",
       "</table>\n",
       "<p>78 rows × 3 columns</p>\n",
       "</div>"
      ],
      "text/plain": [
       "    index                                             Review Rating\n",
       "0       0  โรงแรมไม่เหมาะกับคนที่ต้องการพักผ่อน กว่าดนตรี...    5.7\n",
       "1       1  ห้องแคบไปนิด แต่ดูเก๋ ส่วนตัวเดินไปสถานีบีทีเอ...    8.7\n",
       "2       2  ที่จอดรถไม่พอสำหรับแขก ต้องไปเสียค่าที่จอดเอกช...    6.1\n",
       "3       3  พักที่วันแรกห้องแรกก็แจคพอต เจอแมสลูกค้าเก่าแล...      6\n",
       "4       5            ห้องไม่เก็บเสียง แม่บ้านเสียงดังแต่เช้า    6.8\n",
       "..    ...                                                ...    ...\n",
       "73     86  ห้องเล็กเกินไปสำหรับ 4 ท่าน พื้นห้องน้ำลื่น แต...    6.2\n",
       "74     87  บรรยากาศดีมาก ในบริเวณบาร์คาเฟ่แบบนั้น แต่ไม่ใ...    9.1\n",
       "75     88  ฉันรักมัน. เดินจากสถานีรถไฟฟ้า BTS ประมาณ 5 นา...    9.4\n",
       "76     89  การออกแบบที่ยอดเยี่ยมและการบริการที่ดีห้องพักค...    8.5\n",
       "77     90  เราตรวจสอบในวันแรกของการดำเนินธุรกิจซึ่งไม่ได้...    5.2\n",
       "\n",
       "[78 rows x 3 columns]"
      ]
     },
     "execution_count": 29,
     "metadata": {},
     "output_type": "execute_result"
    }
   ],
   "source": [
    "table = table.dropna()\n",
    "table.reset_index(inplace=True)\n",
    "table"
   ]
  },
  {
   "cell_type": "code",
   "execution_count": 30,
   "id": "dff0423a",
   "metadata": {},
   "outputs": [],
   "source": [
    "table = table.drop(['index'],axis=1)"
   ]
  },
  {
   "cell_type": "code",
   "execution_count": 31,
   "id": "18265b8e",
   "metadata": {},
   "outputs": [
    {
     "data": {
      "text/html": [
       "<div>\n",
       "<style scoped>\n",
       "    .dataframe tbody tr th:only-of-type {\n",
       "        vertical-align: middle;\n",
       "    }\n",
       "\n",
       "    .dataframe tbody tr th {\n",
       "        vertical-align: top;\n",
       "    }\n",
       "\n",
       "    .dataframe thead th {\n",
       "        text-align: right;\n",
       "    }\n",
       "</style>\n",
       "<table border=\"1\" class=\"dataframe\">\n",
       "  <thead>\n",
       "    <tr style=\"text-align: right;\">\n",
       "      <th></th>\n",
       "      <th>Review</th>\n",
       "      <th>Rating</th>\n",
       "    </tr>\n",
       "  </thead>\n",
       "  <tbody>\n",
       "    <tr>\n",
       "      <th>0</th>\n",
       "      <td>โรงแรมไม่เหมาะกับคนที่ต้องการพักผ่อน กว่าดนตรี...</td>\n",
       "      <td>5.7</td>\n",
       "    </tr>\n",
       "    <tr>\n",
       "      <th>1</th>\n",
       "      <td>ห้องแคบไปนิด แต่ดูเก๋ ส่วนตัวเดินไปสถานีบีทีเอ...</td>\n",
       "      <td>8.7</td>\n",
       "    </tr>\n",
       "    <tr>\n",
       "      <th>2</th>\n",
       "      <td>ที่จอดรถไม่พอสำหรับแขก ต้องไปเสียค่าที่จอดเอกช...</td>\n",
       "      <td>6.1</td>\n",
       "    </tr>\n",
       "    <tr>\n",
       "      <th>3</th>\n",
       "      <td>พักที่วันแรกห้องแรกก็แจคพอต เจอแมสลูกค้าเก่าแล...</td>\n",
       "      <td>6</td>\n",
       "    </tr>\n",
       "    <tr>\n",
       "      <th>4</th>\n",
       "      <td>ห้องไม่เก็บเสียง แม่บ้านเสียงดังแต่เช้า</td>\n",
       "      <td>6.8</td>\n",
       "    </tr>\n",
       "    <tr>\n",
       "      <th>...</th>\n",
       "      <td>...</td>\n",
       "      <td>...</td>\n",
       "    </tr>\n",
       "    <tr>\n",
       "      <th>73</th>\n",
       "      <td>ห้องเล็กเกินไปสำหรับ 4 ท่าน พื้นห้องน้ำลื่น แต...</td>\n",
       "      <td>6.2</td>\n",
       "    </tr>\n",
       "    <tr>\n",
       "      <th>74</th>\n",
       "      <td>บรรยากาศดีมาก ในบริเวณบาร์คาเฟ่แบบนั้น แต่ไม่ใ...</td>\n",
       "      <td>9.1</td>\n",
       "    </tr>\n",
       "    <tr>\n",
       "      <th>75</th>\n",
       "      <td>ฉันรักมัน. เดินจากสถานีรถไฟฟ้า BTS ประมาณ 5 นา...</td>\n",
       "      <td>9.4</td>\n",
       "    </tr>\n",
       "    <tr>\n",
       "      <th>76</th>\n",
       "      <td>การออกแบบที่ยอดเยี่ยมและการบริการที่ดีห้องพักค...</td>\n",
       "      <td>8.5</td>\n",
       "    </tr>\n",
       "    <tr>\n",
       "      <th>77</th>\n",
       "      <td>เราตรวจสอบในวันแรกของการดำเนินธุรกิจซึ่งไม่ได้...</td>\n",
       "      <td>5.2</td>\n",
       "    </tr>\n",
       "  </tbody>\n",
       "</table>\n",
       "<p>78 rows × 2 columns</p>\n",
       "</div>"
      ],
      "text/plain": [
       "                                               Review Rating\n",
       "0   โรงแรมไม่เหมาะกับคนที่ต้องการพักผ่อน กว่าดนตรี...    5.7\n",
       "1   ห้องแคบไปนิด แต่ดูเก๋ ส่วนตัวเดินไปสถานีบีทีเอ...    8.7\n",
       "2   ที่จอดรถไม่พอสำหรับแขก ต้องไปเสียค่าที่จอดเอกช...    6.1\n",
       "3   พักที่วันแรกห้องแรกก็แจคพอต เจอแมสลูกค้าเก่าแล...      6\n",
       "4             ห้องไม่เก็บเสียง แม่บ้านเสียงดังแต่เช้า    6.8\n",
       "..                                                ...    ...\n",
       "73  ห้องเล็กเกินไปสำหรับ 4 ท่าน พื้นห้องน้ำลื่น แต...    6.2\n",
       "74  บรรยากาศดีมาก ในบริเวณบาร์คาเฟ่แบบนั้น แต่ไม่ใ...    9.1\n",
       "75  ฉันรักมัน. เดินจากสถานีรถไฟฟ้า BTS ประมาณ 5 นา...    9.4\n",
       "76  การออกแบบที่ยอดเยี่ยมและการบริการที่ดีห้องพักค...    8.5\n",
       "77  เราตรวจสอบในวันแรกของการดำเนินธุรกิจซึ่งไม่ได้...    5.2\n",
       "\n",
       "[78 rows x 2 columns]"
      ]
     },
     "execution_count": 31,
     "metadata": {},
     "output_type": "execute_result"
    }
   ],
   "source": [
    "table"
   ]
  },
  {
   "cell_type": "code",
   "execution_count": 32,
   "id": "1ca57a3b",
   "metadata": {},
   "outputs": [],
   "source": [
    "table.to_csv(\"Reviews&Ratings_8th.csv\", encoding=\"utf-8\") "
   ]
  }
 ],
 "metadata": {
  "kernelspec": {
   "display_name": "Python 3 (ipykernel)",
   "language": "python",
   "name": "python3"
  },
  "language_info": {
   "codemirror_mode": {
    "name": "ipython",
    "version": 3
   },
   "file_extension": ".py",
   "mimetype": "text/x-python",
   "name": "python",
   "nbconvert_exporter": "python",
   "pygments_lexer": "ipython3",
   "version": "3.9.13"
  }
 },
 "nbformat": 4,
 "nbformat_minor": 5
}
