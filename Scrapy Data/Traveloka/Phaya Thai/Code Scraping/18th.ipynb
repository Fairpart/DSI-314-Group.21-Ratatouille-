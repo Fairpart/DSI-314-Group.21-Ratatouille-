{
 "cells": [
  {
   "cell_type": "code",
   "execution_count": 31,
   "id": "6291f010",
   "metadata": {},
   "outputs": [
    {
     "name": "stdout",
     "output_type": "stream",
     "text": [
      "Requirement already satisfied: selenium in c:\\users\\fair\\anaconda3\\lib\\site-packages (4.6.0)\n",
      "Requirement already satisfied: trio~=0.17 in c:\\users\\fair\\anaconda3\\lib\\site-packages (from selenium) (0.22.0)\n",
      "Requirement already satisfied: certifi>=2021.10.8 in c:\\users\\fair\\anaconda3\\lib\\site-packages (from selenium) (2022.9.14)\n",
      "Requirement already satisfied: urllib3[socks]~=1.26 in c:\\users\\fair\\anaconda3\\lib\\site-packages (from selenium) (1.26.11)\n",
      "Requirement already satisfied: trio-websocket~=0.9 in c:\\users\\fair\\anaconda3\\lib\\site-packages (from selenium) (0.9.2)\n",
      "Requirement already satisfied: cffi>=1.14 in c:\\users\\fair\\anaconda3\\lib\\site-packages (from trio~=0.17->selenium) (1.15.1)\n",
      "Requirement already satisfied: outcome in c:\\users\\fair\\anaconda3\\lib\\site-packages (from trio~=0.17->selenium) (1.2.0)\n",
      "Requirement already satisfied: idna in c:\\users\\fair\\anaconda3\\lib\\site-packages (from trio~=0.17->selenium) (3.3)\n",
      "Requirement already satisfied: sniffio in c:\\users\\fair\\anaconda3\\lib\\site-packages (from trio~=0.17->selenium) (1.2.0)\n",
      "Requirement already satisfied: exceptiongroup>=1.0.0rc9 in c:\\users\\fair\\anaconda3\\lib\\site-packages (from trio~=0.17->selenium) (1.0.4)\n",
      "Requirement already satisfied: attrs>=19.2.0 in c:\\users\\fair\\anaconda3\\lib\\site-packages (from trio~=0.17->selenium) (21.4.0)\n",
      "Requirement already satisfied: sortedcontainers in c:\\users\\fair\\anaconda3\\lib\\site-packages (from trio~=0.17->selenium) (2.4.0)\n",
      "Requirement already satisfied: async-generator>=1.9 in c:\\users\\fair\\anaconda3\\lib\\site-packages (from trio~=0.17->selenium) (1.10)\n",
      "Requirement already satisfied: wsproto>=0.14 in c:\\users\\fair\\anaconda3\\lib\\site-packages (from trio-websocket~=0.9->selenium) (1.2.0)\n",
      "Requirement already satisfied: PySocks!=1.5.7,<2.0,>=1.5.6 in c:\\users\\fair\\anaconda3\\lib\\site-packages (from urllib3[socks]~=1.26->selenium) (1.7.1)\n",
      "Requirement already satisfied: pycparser in c:\\users\\fair\\anaconda3\\lib\\site-packages (from cffi>=1.14->trio~=0.17->selenium) (2.21)\n",
      "Requirement already satisfied: h11<1,>=0.9.0 in c:\\users\\fair\\anaconda3\\lib\\site-packages (from wsproto>=0.14->trio-websocket~=0.9->selenium) (0.14.0)\n"
     ]
    }
   ],
   "source": [
    "!pip install selenium"
   ]
  },
  {
   "cell_type": "markdown",
   "id": "ad15bdd9",
   "metadata": {},
   "source": [
    "# Def & Scraping Methods"
   ]
  },
  {
   "cell_type": "code",
   "execution_count": 32,
   "id": "b5022015",
   "metadata": {},
   "outputs": [],
   "source": [
    "def save_comment2mainList(main_comment_List,sub_comment_List):\n",
    "    for item in sub_comment_List:\n",
    "        main_comment_List.append(str(item))\n",
    "        \n",
    "def save_rating2mainList(main_rating_List,sub_rating_List):\n",
    "    for item in sub_rating_List:\n",
    "        main_rating_List.append(str(item))"
   ]
  },
  {
   "cell_type": "code",
   "execution_count": 33,
   "id": "ff8ea950",
   "metadata": {},
   "outputs": [],
   "source": [
    "def check_list_size(list_1,list_2):\n",
    "    if len(list_1) != len(list_2):\n",
    "        if len(list_1) > len(list_2):\n",
    "            list_1.pop(len(list_1)-1)\n",
    "        else:\n",
    "            list_2.pop(len(list_2)-1)\n",
    "    else:\n",
    "      return list_1,list_2"
   ]
  },
  {
   "cell_type": "code",
   "execution_count": 34,
   "id": "0ef53a5a",
   "metadata": {},
   "outputs": [],
   "source": [
    "def NextPages():\n",
    "    running = True\n",
    "    while running:\n",
    "        try:\n",
    "            try:\n",
    "                running = driver.find_element(By.XPATH,'/html/body/div[1]/div[5]/div[2]/div/div/div[1]/div/div/div[8]/div/div[7]').click()\n",
    "            except:\n",
    "                try:\n",
    "                    running = driver.find_element(By.XPATH,'/html/body/div[1]/div[5]/div[2]/div/div/div[1]/div/div/div[8]/div/div[8]').click()   \n",
    "                except:\n",
    "                    running = driver.find_elementh(By.XPATH,'/html/body/div[1]/div[5]/div[2]/div/div/div[1]/div/div/div[8]/div/div[9]').click() \n",
    "        except:\n",
    "             running = False\n",
    "        print('-----------------------------------------------------------','\\n')"
   ]
  },
  {
   "cell_type": "code",
   "execution_count": 35,
   "id": "7e351618",
   "metadata": {},
   "outputs": [],
   "source": [
    "def scraping_reviews(l_x1,l_x2,l_y1,l_y2): #scraping_reviews(ratings_list,reviews_list,Ratings_list,Reviews_list)\n",
    "    driver.execute_script(\"window.scrollTo(0,7770)\")\n",
    "    for review in driver.find_elements(By.CSS_SELECTOR,'div.css-1dbjc4n.r-1guathk.r-1yzf0co'):\n",
    "        for score in review.find_elements(By.CSS_SELECTOR,'div.css-901oao.r-1i6uqv8.r-1sixt3s.r-ubezar.r-majxgm.r-135wba7.r-fdjqy7'):\n",
    "            rate = score.text\n",
    "            print(rate)\n",
    "            l_x1.append(rate)\n",
    "\n",
    "        for comment in review.find_elements(By.CSS_SELECTOR,'div.css-1dbjc4n.r-1wzrnnt.r-1udh08x'):\n",
    "            criticism = comment.text\n",
    "            print(criticism)\n",
    "            l_x2.append(criticism)\n",
    "    \n",
    "        check_list_size(l_x1,l_x2)\n",
    "    save_comment2mainList(l_y1, l_x1)\n",
    "    save_rating2mainList(l_y2, l_x2)"
   ]
  },
  {
   "cell_type": "code",
   "execution_count": 36,
   "id": "df1083aa",
   "metadata": {},
   "outputs": [],
   "source": [
    "def clear_list(l_1,l_2):\n",
    "    reviews_list.clear()\n",
    "    ratings_list.clear()"
   ]
  },
  {
   "cell_type": "markdown",
   "id": "3c9a43da",
   "metadata": {},
   "source": [
    "# Code Working"
   ]
  },
  {
   "cell_type": "code",
   "execution_count": 69,
   "id": "8d08c5ba",
   "metadata": {},
   "outputs": [
    {
     "name": "stderr",
     "output_type": "stream",
     "text": [
      "C:\\Users\\FAIR\\AppData\\Local\\Temp\\ipykernel_19788\\1922300652.py:8: DeprecationWarning: executable_path has been deprecated, please pass in a Service object\n",
      "  driver = webdriver.Edge(executable_path = path)\n"
     ]
    }
   ],
   "source": [
    "from selenium import webdriver\n",
    "from selenium.webdriver.common.by import By\n",
    "import time\n",
    "from selenium.webdriver.support.select import Select\n",
    "\n",
    "path = \"D:\\python\\Selenium\\edgedriver_win64\\msedgedriver.exe\"\n",
    "url = 'https://www.traveloka.com/th-th/hotel/detail?spec=19-11-2022.20-11-2022.1.1.HOTEL.3000010011290.%E0%B8%AD%E0%B8%A5%E0%B8%B4%E0%B8%8B%E0%B8%B2%E0%B9%80%E0%B8%9A%E0%B8%98.1&contexts=%7B%22inventoryRateKey%22%3A%22povEwB3ZzsU2C6pd%2B6MdUwKh3BcjHsHvQbV0EUcyDRFM0tKsNUio4Rxug1zOzHJilcvZa8YdqqIySdppe7dolTIewZlxfjiOGz6oXLTucMvN0%2BgQ3yZPvZcoHwUFNN%2BZpcr%2F%2FNa8o9ElfN8zOYhzzZeg0X586laFpeUViPi9rxDiObC0ZIJb7aIEx684pHsmmhLDdV0WLeT%2FFKfQ0QL8LH02Dvlx%2F8PjYogEE5yzx6g6yOKyKeIDf7jO3GM45O1o1hmSkmz3HiZNSbS8gXb3CDW9nmlhkqLKa4lLkAkZpAGTcOmy5l4j7hGHKXWH0MtO0D%2BXARhJLfhaC6TcOo%2F%2BMOR3YeBjsSIa7hzz9ziKH4xGOtaiV%2Bgh4YG%2FkiP9POwH%2B6EJsWd3l3ySG7Noz64MEpNw6bLmXiPuEYcpdYfQy053iyZH03d3vimDIFrD556h5Hdh4GOxIhruHPP3OIofjEHPRts%2FfsMSBOvaa9cbgvoqUKu6iA4vpZt64tziZTqoJbd7OF9Tfmn9fN2Jsreb4K2mOEeJroXhMG6udoM1cm9ZIT0XCc34JXGSCAp8seiHd9dYRzDxNlIpr2cGalY5xOKKBPSWuuiq2HLTL2pdzMlsmm6hutcJInnvy1grc0fuglrgvsLXN8itOmJQBMGbmrI%2FZcFIMBHyhTwFoQB0%2BxI%3D%22%7D&prevSearchId=1749803170280794093&loginPromo=1'\n",
    "driver = webdriver.Edge(executable_path = path)\n",
    "driver.get(url)\n",
    "\n",
    "Reviews_list, reviews_list = [],[]\n",
    "Ratings_list, ratings_list = [],[]\n"
   ]
  },
  {
   "cell_type": "code",
   "execution_count": 70,
   "id": "00450a45",
   "metadata": {},
   "outputs": [
    {
     "data": {
      "text/plain": [
       "'ค่าห้องพัก อลิซาเบธ (Elizabeth Hotel) สามเสนใน ตั้งแต่ 19-11-2022 ถึง 20-11-2022'"
      ]
     },
     "execution_count": 70,
     "metadata": {},
     "output_type": "execute_result"
    }
   ],
   "source": [
    "driver.title"
   ]
  },
  {
   "cell_type": "code",
   "execution_count": 71,
   "id": "b9c348fe",
   "metadata": {},
   "outputs": [],
   "source": [
    "driver.execute_script(\"window.scrollTo(0,2900)\")"
   ]
  },
  {
   "cell_type": "code",
   "execution_count": 72,
   "id": "05217a71",
   "metadata": {},
   "outputs": [],
   "source": [
    "sel = driver.find_element(By.XPATH,\"/html/body/div[1]/div[5]/div[2]/div/div/div[1]/div/div/div[5]/div[1]/div[3]/div/div[1]/div\")\n",
    "sel.click()"
   ]
  },
  {
   "cell_type": "code",
   "execution_count": 73,
   "id": "6d91ede3",
   "metadata": {},
   "outputs": [],
   "source": [
    "TH = sel.find_element(By.XPATH,'/html/body/div[1]/div[5]/div[2]/div/div/div[1]/div/div/div[5]/div[1]/div[3]/div/div[2]/div/div/div/div[4]')\n",
    "TH.click()"
   ]
  },
  {
   "cell_type": "code",
   "execution_count": 74,
   "id": "2b31153e",
   "metadata": {},
   "outputs": [],
   "source": [
    "time.sleep(2)\n",
    "sel_order = driver.find_element(By.XPATH,\"/html/body/div[1]/div[5]/div[2]/div/div/div[1]/div/div/div[5]/div[1]/div/div[1]/div\")\n",
    "sel_order.click()"
   ]
  },
  {
   "cell_type": "code",
   "execution_count": 75,
   "id": "3859f8f5",
   "metadata": {},
   "outputs": [],
   "source": [
    "time.sleep(2)\n",
    "ascending = sel.find_element(By.XPATH,'/html/body/div[1]/div[5]/div[2]/div/div/div[1]/div/div/div[5]/div[1]/div[1]/div/div[2]/div/div/div/div[2]')\n",
    "ascending.click()"
   ]
  },
  {
   "cell_type": "code",
   "execution_count": 76,
   "id": "f8243469",
   "metadata": {},
   "outputs": [
    {
     "name": "stdout",
     "output_type": "stream",
     "text": [
      "5.1\n",
      "ไปพักแล้วห้องไม่ดี อับ เก่ามาก  พนักงานพูดไม่ดีตั้งแค่ยามแล้วยันต้อนรับ ไม่มีพนักงานยกกระเป๋า  และไม่ได้พัก  คืนกุญแจไปค่ะ  พนักงานต้อนรับก็ไม่ได้แคร์อะไร  ควรปรับปรุง ขอบคุณค่ะ\n",
      "5.1\n",
      "ห้องเก่ามากๆ น่ากลัวมากๆ ไม่ประทับใจเลย\n",
      "5.4\n",
      "บรรยากาศไ ม่ดีเหม็นบุหรี่ตลอดเวลา\n",
      "5.5\n",
      "เสียงดังกุกกักทั้งคืน ตรงเพดาน นอนไม่หลับ\n",
      "5.7\n",
      "แม่บ้านทำความสะอาดไม่เรียบร้อย ฝุ่นบนโคมไฟหัวเตียงเยอะมาก ตู้เย็นมีน้ำไหลออกมา\n",
      "5.8\n",
      "ทุกอย่างดี ยกเว้นที่นอน สกปรกไปหน่อย เหมือนไม่ได้ทำความสะอาดเลย\n",
      "5.8\n",
      "เน็ตไวไฟไม่ดี อาหารเช้าหมดเร็ว มีน้อย\n",
      "5.9\n",
      "โรงแรมเก่า คลาสสิกจนน่ากลัว ห้องน้ำฝักบัวปรับระดับน้ำไม่ได้ นอนคนเดียวแอบหลอน ตอนกลางคืนมีเสียงกึกๆที่ประตู พนักงานต้อนรับพูดจาไม่โอเค มีค่ามัดจำเข้าที่พัก ไม่โอเคกับการมาพักคนเดียว อาหารเช้าดีสุด\n",
      "5.9\n",
      "1. แอร์เย็นมาก แต่ไม่สามารถปรับอุณหภูมิได้ 2. ห้องนอนไม่เก็บเสียง ทำให้ได้ยินเสียงจากห้องพักข้างๆชัดเจนมาก 3. ผ้าห่มบางมาก\n",
      "6\n",
      "อาหารเช้าน้อย เวลาท่านถึงแค่9.30น ห้องพักเก่าแต่สะอาด\n"
     ]
    }
   ],
   "source": [
    "for review in driver.find_elements(By.CSS_SELECTOR,'div.css-1dbjc4n.r-1guathk.r-1yzf0co'):\n",
    "    for score in review.find_elements(By.CSS_SELECTOR,'div.css-901oao.r-1i6uqv8.r-1sixt3s.r-ubezar.r-majxgm.r-135wba7.r-fdjqy7'):\n",
    "        rate = score.text\n",
    "        print(rate)\n",
    "        ratings_list.append(rate)\n",
    "\n",
    "    for comment in review.find_elements(By.CSS_SELECTOR,'div.css-1dbjc4n.r-1wzrnnt.r-1udh08x'):\n",
    "        criticism = comment.text\n",
    "        print(criticism)\n",
    "        reviews_list.append(criticism)\n",
    "    \n",
    "    check_list_size(ratings_list,reviews_list)\n",
    "save_comment2mainList(Reviews_list, reviews_list)\n",
    "save_rating2mainList(Ratings_list, ratings_list)"
   ]
  },
  {
   "cell_type": "code",
   "execution_count": 77,
   "id": "71a07138",
   "metadata": {},
   "outputs": [],
   "source": [
    "driver.execute_script(\"window.scrollTo(0,5900)\")\n",
    "time.sleep(5)\n",
    "next_page = driver.find_element(By.XPATH,'/html/body/div[1]/div[5]/div[2]/div/div/div[1]/div/div/div[9]/div/div[7]')\n",
    "next_page.click()"
   ]
  },
  {
   "cell_type": "code",
   "execution_count": 78,
   "id": "b4067b4a",
   "metadata": {},
   "outputs": [],
   "source": [
    "clear_list(ratings_list,reviews_list)"
   ]
  },
  {
   "cell_type": "code",
   "execution_count": 79,
   "id": "669040f2",
   "metadata": {},
   "outputs": [
    {
     "name": "stdout",
     "output_type": "stream",
     "text": [
      "6\n",
      "Wi-Fi ใช้ไม่ได้พนักงานบอกทั้งตึก16ชั้นใช้ได้2ชั้น แล้วทำไมไม่ปล่อยห้องที่มีwifiให้ลูกค้า\n",
      "6\n",
      "ห้องพักเก่า อุปกรณ์ห้องน้ำชำรุด บริการไม่ดี\n",
      "6\n",
      "โรงแรมเก่ามาก ห้องน้ำก้อแย่ ฝักบัวมีแต่สนิม โดยรวมไม่โอเคร\n",
      "6\n",
      "ที่นอนไม่สะอาด มีตัวเลือดกัดหลายแผลเลย\n",
      "6\n",
      "ห้องน้ำเหม็นค่ะ เปิดประตูได้กลิ่นเลยห้อง1204ค่ะ ก่อนหน้านี้พักชั้น9สะอาดดีมากค่ะ เพิ่งมาเจอครั้งนี้เสียความรู้สึกนิดหน่อย แต่อย่างอื่นดีหมดค่ะ\n",
      "6\n",
      "จองห้องไม่เป็นไปตามห้องที่ได้จองมา เอาห้องไม่ค่อยดีให้ จองเตียงเดี่ยวได้เตียงคู่อ้างห้องเต็มหมด\n",
      "6\n",
      "ห้องพักเก่า มีฝุ่นตามตู้ ที่จอดรถเยอะดี อาหารเช้าหลากหลายดี\n",
      "6\n",
      "โรงแรมเก่ามาก อาหารเช้าก็รีบเก็บ ที่จอดรถก็น้อย\n",
      "6\n",
      "ห้องเหม็นแต่กลิ่นบุหรี่ ขอเปลี่ยนห้องอ้างห้องเต็ม ในห้องมีน้ำแอร์ไหลเปียกพื้นพรมทั้งห้อง การจองควรมีระบุไม่เอาชั้นที่สูบบุหรี่หรือสูบบุหรี่\n",
      "6.1\n",
      "Wifi เข้าเชื่อมต่อได้ แต่พอเข้าท่องเว็บไม่ได้เลย \n"
     ]
    }
   ],
   "source": [
    "for review in driver.find_elements(By.CSS_SELECTOR,'div.css-1dbjc4n.r-1guathk.r-1yzf0co'):\n",
    "    for score in review.find_elements(By.CSS_SELECTOR,'div.css-901oao.r-1i6uqv8.r-1sixt3s.r-ubezar.r-majxgm.r-135wba7.r-fdjqy7'):\n",
    "        rate = score.text\n",
    "        print(rate)\n",
    "        ratings_list.append(rate)\n",
    "\n",
    "    for comment in review.find_elements(By.CSS_SELECTOR,'div.css-1dbjc4n.r-1wzrnnt.r-1udh08x'):\n",
    "        criticism = comment.text\n",
    "        print(criticism)\n",
    "        reviews_list.append(criticism)\n",
    "    \n",
    "    check_list_size(ratings_list,reviews_list)\n",
    "save_comment2mainList(Reviews_list, reviews_list)\n",
    "save_rating2mainList(Ratings_list, ratings_list)"
   ]
  },
  {
   "cell_type": "code",
   "execution_count": 80,
   "id": "2c9101b6",
   "metadata": {},
   "outputs": [
    {
     "name": "stdout",
     "output_type": "stream",
     "text": [
      "6.3\n",
      "แอร์น้ำหยด ฝักบัวสำหรับอาบเปิดไม่ได้ น้ำตรงอ่างอาบน้ำไม่อุ่น แต่อาหารโอเคค่ะ\n",
      "6.3\n",
      "ขนมปังปิ้งรอ เย็นและเหนียว ห้องน้ำฝักบัวปรับไม่ได้ ทิชชูในห้องพักไม่มี ไดร์เป่าผมไม่มี ทีวีไม่มีช่องภาพยนตร์ ผ้าเช็ดตัวแข็งหยาบและผ้าปูที่นอนมีรอยดำเปื้อน แต่สะดวกที่ใกล้ถนนสายหลัก\n",
      "6.3\n",
      "ห้องเป็นพรมเก่า มีฝุ่นและคราบสกปรก\n",
      "6.4\n",
      "-ห้องน้ำฝักบัวใช้งานไม่ได้ -พนักงานหน้าบึ้ง พูดจาไม่ไพเราะ\n",
      "6.4\n",
      "เป็นห้องประตูเชื่อมกัน เสียงดังค่ะ\n",
      "6.4\n",
      "เหม็นกลิ่นคนที่เข้าพักสูบบุหรี่ด้านหน้า เข้ามาภายในห้อง\n",
      "6.5\n",
      "พนักงานต้อนรับผู้ชายกะกลางคืนที่ใส่แว่น ไม่ยิ้ม ไม่ยกมือไหว้ อย่างอื่นดีหมด\n",
      "6.5\n",
      "ได้ยินเสียงเคาะหน้าต่าง เคาะผนังทั้งคืน ทั้งที่ห้องไม่มีระเบียง และอยู่ชั้นสูง!!!\n",
      "6.5\n",
      "ห้องเก่าไปนิด แอร์เย็น ร้านอาหารอยู่ไม่ไกล\n",
      "6.6\n",
      "ห้องน้ำในห้องพักมีน้ำรั่วจากเพดาน\n"
     ]
    }
   ],
   "source": [
    "driver.execute_script(\"window.scrollTo(0,5900)\")\n",
    "time.sleep(3)\n",
    "next_page = driver.find_element(By.XPATH,'/html/body/div[1]/div[5]/div[2]/div/div/div[1]/div/div/div[9]/div/div[7]')\n",
    "next_page.click()\n",
    "\n",
    "time.sleep(3)\n",
    "clear_list(ratings_list,reviews_list)\n",
    "time.sleep(3)\n",
    "\n",
    "for review in driver.find_elements(By.CSS_SELECTOR,'div.css-1dbjc4n.r-1guathk.r-1yzf0co'):\n",
    "    for score in review.find_elements(By.CSS_SELECTOR,'div.css-901oao.r-1i6uqv8.r-1sixt3s.r-ubezar.r-majxgm.r-135wba7.r-fdjqy7'):\n",
    "        rate = score.text\n",
    "        print(rate)\n",
    "        ratings_list.append(rate)\n",
    "\n",
    "    for comment in review.find_elements(By.CSS_SELECTOR,'div.css-1dbjc4n.r-1wzrnnt.r-1udh08x'):\n",
    "        criticism = comment.text\n",
    "        print(criticism)\n",
    "        reviews_list.append(criticism)\n",
    "    \n",
    "    check_list_size(ratings_list,reviews_list)\n",
    "save_comment2mainList(Reviews_list, reviews_list)\n",
    "save_rating2mainList(Ratings_list, ratings_list)"
   ]
  },
  {
   "cell_type": "code",
   "execution_count": 81,
   "id": "d578dc75",
   "metadata": {},
   "outputs": [
    {
     "name": "stdout",
     "output_type": "stream",
     "text": [
      "6.7\n",
      "ที่นี่มีความเป็นมาตรฐาน มีการควบคุมเรื่องบุหรี่และความสะอาดเป็นอย่างดี เพราะคำนึงถึงเด็กเล็กที่มาพักกับครอบครัวด้วย (แต่เพราะคำว่าเด็ก เลยละเลยหลายอย่าง เช่นอาหาร ควรจะมีนม โกโก้ครั้นช์ อาหารเช้า นี่กลับไม่มีเลย โรงแรมเล็กๆ 1-2 ดาวเค้ายังมีกัน ของร้อนมีกาแฟ และชา แล้วเด็กควรกินอะไร ควรพิจารณาเรื่องอาหาร) สำหรับมุมผู้ใหญ่ - อาหารควรปรับปรุงเกือบทุกอย่าง อยากให้รับฟัง หรือดูบุคลิกคนที่กำลังตักหรือทาน เค้าดูไม่ค่อยโอเค ควรจะสำรวจกลุ่มเป้าหมายหน่อยก็ดีครับ\n",
      "7\n",
      "ห้องพักก็โอเค ราคาพร้อมอาหารเช้า อาหารถึงจะไม่หรูมากแต่ก็พอทานได้ แต่ในห้องเสียงชักโครกดังมาก ห้องอื่นกดยังได้ยิน มีเสียงรบกวนอยู่ตลอดคืน\n",
      "7.4\n",
      "บริการอาจไม่สมกับระดับ 4 ดาว\n",
      "8.2\n",
      "พนักงานไม่มีการประสานงานที่ดีที่เท่าควร มีการเรียกเก็บบิลซ้ำซ้อน อย่างอื่นดีมาก บริเวณที่พักเงียบ ห้องพักสะอาด อาหารรสชาติโอเค\n",
      "8.4\n",
      "ห้องสะอาดดีแต่โรงแรมเก่าไปค่ะ สระว่ายน้ำเล็ก เก่ามาก สกปรก\n",
      "8.4\n",
      "ขนมปังตอนเช้าควรปิ้งร้อน ขนมปังเย็นมาก\n",
      "8.4\n",
      "โรงแรมบริการดี อาหารเช้าน้อยไปหน่อย\n",
      "8.5\n",
      "ที่จอดรถด้านหน้าโรงแรมมีคนเขียนกระดาษแจก ค**ด้วย เค้าบอกจอดรถคาเกียร์ปิดหน้าบ้านเค้า เอ้า โรงแรมจัดให้จอดมีป้ายติดหน้ารถว่าเป็นลูกค้าโรงแรม ไหงมีคนมาแจกของให้ลูกค้าโรงแรมด้วยครับ\n",
      "8.5\n",
      "ดีค่ะ แต่ไม่ได้ ห้อง 2 เตียงอย่างที่เพิ่มมาในคำขอ\n",
      "8.5\n",
      "พนักงานน่ารัก สะดวกในการเดินทาง หาของกินง่าย\n"
     ]
    }
   ],
   "source": [
    "driver.execute_script(\"window.scrollTo(0,5900)\")\n",
    "next_page = driver.find_element(By.XPATH,'/html/body/div[1]/div[5]/div[2]/div/div/div[1]/div/div/div[9]/div/div[8]')\n",
    "time.sleep(3)\n",
    "next_page.click()\n",
    "\n",
    "time.sleep(3)\n",
    "clear_list(ratings_list,reviews_list)\n",
    "time.sleep(3)\n",
    "\n",
    "for review in driver.find_elements(By.CSS_SELECTOR,'div.css-1dbjc4n.r-1guathk.r-1yzf0co'):\n",
    "    for score in review.find_elements(By.CSS_SELECTOR,'div.css-901oao.r-1i6uqv8.r-1sixt3s.r-ubezar.r-majxgm.r-135wba7.r-fdjqy7'):\n",
    "        rate = score.text\n",
    "        print(rate)\n",
    "        ratings_list.append(rate)\n",
    "\n",
    "    for comment in review.find_elements(By.CSS_SELECTOR,'div.css-1dbjc4n.r-1wzrnnt.r-1udh08x'):\n",
    "        criticism = comment.text\n",
    "        print(criticism)\n",
    "        reviews_list.append(criticism)\n",
    "    \n",
    "    check_list_size(ratings_list,reviews_list)\n",
    "save_comment2mainList(Reviews_list, reviews_list)\n",
    "save_rating2mainList(Ratings_list, ratings_list)"
   ]
  },
  {
   "cell_type": "code",
   "execution_count": 82,
   "id": "b299590f",
   "metadata": {},
   "outputs": [
    {
     "name": "stdout",
     "output_type": "stream",
     "text": [
      "8.5\n",
      "ถ้าคุณไม่ใช่คนเยอะ ก็ถือว่าโอเค ในราคาที่เหมาะสม มาพักเถอะ ไม่ผิดหวังหรอก\n",
      "8.5\n",
      "ห้องพักกว้าง lobbyกว้าง โล่งสบาย ทำเลดี คุ้มค่า ราคาไม่แพง แต่ห้องเก่าสักนิดแต่สะอาด พักที่นี่บ่อยมากจนรู้สึกคุ้นเคย\n",
      "8.5\n",
      "แอร์เย็นฉ่ำ น้ำแรง สะอาดดีค่ะ การเดินทางสะดวก ที่จอดรถกว้างขวาง\n",
      "8.5\n",
      "สะอาดมาก สะบายมาก มีอ่างไว้เเช่น้ำด้วย น้ำแรงมาก ดีเวอร์\n",
      "8.5\n",
      "สมราคา อาหารเช้าดี อร่อยเมนูเยอะ ที่พักใกล้ bts และแหล่งของกิน\n",
      "8.5\n",
      "โรงแรมเก่าแต่ก็สะอาดดี ถือว่าคุ้มค่าหากเทียบกับราคาไม่ถึงพัน พร้อมอาหารเช้า รอบๆของกินขายเยอะ มีค่ามัดจำกุญแจ500บาทคืนให้ตอนเช็คเอาท์\n",
      "8.5\n",
      "ดีค่ะห้องสะอาด ทุกอย่างโดยรวมดีมากค่ะ\n",
      "8.5\n",
      "ดีค่ะ แต่ไม่ได้เตียงเดี่ยวแบบที่เลือกไว้ อาหารเช้าควรจะมีเครื่องปิ้งขนมปัง เพราะมันเย็น โดยรวมก็ดีค่ะ\n",
      "8.5\n",
      "ห้องพักค่อนข้างเก่า แต่ก็สะอาด ใกล้กับส่วนราชการที่ไปติดต่อราชการ และไม่ไกลจากสนามบินดอนเมือง\n",
      "8.5\n",
      "อาหารรสชาติดี อยากให้ปรับปรุงเรื่องขนมปังเป็นขนมปังปิ้งที่เย็นมาก ควรมีที่ปิ้งขนมปัง \n",
      "----------------------------------------------------------------- \n",
      "\n",
      "8.5\n",
      "ห้องพักสะอาด การบริการเป็นกันเองดีค่ะ\n",
      "8.5\n",
      "โรงแรมค่อนข้างเก่า แต่ไม่ถึงกับแย่มาก ห้องที่ได้มีกลิ่นอับนิดๆแต่เปลี่ยนได้ ห้องใหม่สะอาดเรียบร้อยดี เตียงนอนสบาย ห้องเงียบดี ห้องน้ำเก่าๆ แต่น้ำแรง น้ำอุ่นน้ำเย็นใช้ได้ดี อาหารเช้าบุฟเฟ่ต์ มีอาหารไม่มาก พอทานได้ น่าจะทำอาหารตามจำนวนคนพัก ห้องอาหารในโรงแรม อาหารอร่อยดี มีเพลงสมัยเก่าเพลินๆดี พนักงานเยอะดี ตอนเปลี่ยนห้อง พนักงานก็ดูแลดี ควรเพิ่มชุดแปรงสีฟันให้เหมาะสมกับราคาห้อง จะดีมาก\n",
      "8.5\n",
      "บริการดี ห้องพักได้ตามที่จอง สะอาดดี\n",
      "8.5\n",
      "บรรยากาศโดยรวมดูอึมครึมไปหน่อย แต่ก็โอเคค่ะ\n",
      "8.5\n",
      "ดีๆ สมราคา คุ้มค่าๆ ดีๆๆ\n",
      "8.5\n",
      "จองทางเน็ตถูกดีค่ะ มีอาหารเช้าให้เลือกเยอะ คราวหน้ามาพักอีกค่ะ\n",
      "8.5\n",
      "ได้ห้อวตรงกลาง floor ชั้น 8 ดีมาก ประทับใจ ใครอยากได้ความคลาสสิคต้องมา ราคารวมอาหารเช้า likeๆๆ เลย\n",
      "8.5\n",
      "ดีๆ อาหารอร่อย ที่พักสะอาด บริการดี\n",
      "8.5\n",
      "ดีมาก คุ้มค่าคุ้มราคา ทำเลสะดวก\n",
      "8.5\n",
      "อาหารอร่อย บริการดี สะอาด น่าพัก\n",
      "----------------------------------------------------------------- \n",
      "\n",
      "8.5\n",
      "โรงแรมค่อนข้างเก่า แนะนำพักเป็นคู่จะรู้สึกดีกว่า ปล. คนที่ชอบดูหนังผีอย่าพักคนเดียว เดี๋ยวจินตนาการ\n",
      "8.5\n",
      "พนักงานจัดห้องนอนใกล้บริเวณที่สูบบุหรี่ มีกลิ่นเข้าห้อง\n",
      "8.5\n",
      "สะดวก เงียบ เลือกโซนที่ไม่สูบบุหรี่ได้\n",
      "8.5\n",
      "พนักงานบริการดี ห้องพักสะอาด ห้องสวย\n",
      "8.5\n",
      "บริการดี ถึงห้องจะเก่าไปนิดแต่ที่นอนก็นอนสบาย\n",
      "8.5\n",
      "บริการดีมากค่ะ ห้องพักสะอาด เงียบสงบค่ะ\n",
      "8.5\n",
      "โรงแรมเก่าไปหน่อย แต่ภาพรวมโอเคครับ\n",
      "8.5\n",
      "การบริการดีค่ะ ห้องพักสะอาด เรียบร้อย การตกแต่งห้องสวยค่ะ\n",
      "8.5\n",
      "ส่วนลดดี อาหารอร่อย มีการปรับปรุงใหม่ สวยงามมาก\n",
      "8.5\n",
      "ดีค่ะ ห้องโอเค โรงแรมสวย ใจกลางเมือง\n",
      "----------------------------------------------------------------- \n",
      "\n",
      "8.6\n",
      "ห้องน้ำบอกเลยไม่โอเคสุดๆ ภายในห้องก็พอใช้เหมือนจะเป็นรร เก่า อาหารเช้าให้พอใช้ แต่พนักงานน่ารักมากต้อนรับดีทุกคน รวมๆแล้วพนักงานโอเคกว่ารร\n",
      "8.7\n",
      "สะดวกต่อการเดินทางใกล้รถไฟฟ้าและใกล้ทางด่วน\n",
      "8.7\n",
      "ต้องมัดจำค่ากุญแจห้อง 500 บาท ซึ่งบางครั้งเหมือนไม่ให้เกียรติกับแขกผู้เข้าพัก\n",
      "8.8\n",
      "โรงแรมเก่า แต่สะอาดดี มีบริการเรียกแท็กซี่ให้ เพราะโรงแรมเข้ามาในซอยหน่อยนึง\n",
      "8.8\n",
      "ความสะอาด และอาหารดีค่ะ เสียดายห้องสุดท้าย wifi ใช้งานไม่ได้ ห้องปลอดกลิ่นบุหรี่ตามที่ขอ ติงนิดเดียวหมอนหนุนมีกลิ่นทั้ง 2 ใบค่ะ เมื่อก่อนเคยเข้าพักและเคยขอเปลี่ยนหมอนครั้งนึงแล้ว\n",
      "8.8\n",
      "โรงแรมดูเก่ามาก เห็นครั้งแรกนึกถึงโรงแรมผีสิงเลย แต่พอเข้าไปก็โอเค ไม่น่ากลัวมากพอได้ หลับฝันดี พนักงานค่อนข้างบริการแบ่งชนชั้น เราแต่งตัวชิลล์พนักงานไม่ต้อนรับเลย ดึงหน้าใส่เหวี่ยงๆด้วย แต่ก็ไม่ได้สนใจเพราะไม่ได้อยู่นาน โดยรวมก็โอเค\n",
      "8.8\n",
      "โรงแรมค่อนข้างเก่าแต่สะอาดดี พนักงานโอเค อาหารเช้าโอเค แอร์รุ่นเก่าเย็นดีแต่เสียงดังไปหน่อย\n",
      "8.8\n",
      "อาหารเช้าเยอะ โรงแรมเก่าไปหน่อย แต่โดยรวมดีมากค่ะ\n",
      "8.8\n",
      "สภาพห้องและโรงแรมค่อนข้างเก่า แต่สะอาดดีครับ ไม่มีกลิ่น อาหารเช้าพอโอเค โดยรวมแล้วถือว่าโอเคสำหรับราคาและโลเคชั่นในย่านนี้\n",
      "8.8\n",
      "ห้องเก่าอยู่แต่อาศัยว่าใกล้รถไฟฟ้า\n",
      "----------------------------------------------------------------- \n",
      "\n",
      "8.8\n",
      "ใกล้สถานที่สำคัญ ไปมาสะดวก ห้องพักเก่า แต่ถือว่าใช้ได้ มีที่จอดรถ อาหารพอใช้ การบริการดี\n",
      "8.8\n",
      "ได้ห้องตามที่ต้องการ พนักงานบริการดี...สุภาพ\n",
      "8.8\n",
      "สภาพห้องจะเก่าไปนิด เเต่ก็พักสบาย\n",
      "8.8\n",
      "รููปลักษณ์ภายนอกเก่าโบราณ แต่ข้างในดีมาก ไม่เหม็นบุหรี่เหมือนโรงแรมอื่น จัดโซนได้ดี มีโอกาสจะมาพักอีก ถ้าปรับปรุงด้านนอกให้ใหม่หรูหรากว่านี้จะเลิศเลยอ่ะ\n",
      "8.8\n",
      "สนุกสนาน สระว่ายน้ำดาดฟ้าน่าหวาดเสียวมากมองจากคอนโด\n",
      "9.1\n",
      "สะอาด ยกเว้นมีกลิ่นอับตรงนอกลิฟต์ ห้องนั่งเล่น\n",
      "9.1\n",
      "ห้องสะอาด เหมือนในรูป แต่เสียตรงเป็นห้อง connect ไม่เก็บเสียง\n",
      "9.1\n",
      "ก้โอเคคะ การบริการหน้าเค้าเตอร์ ข้อแนะนำถ้าเพิ่มความเปนมืออาชีพ ยิ่มแย้มแจ่มใส กล่าวคำทักทายลูกค้าก่อน ก้จะเพิ่มความประทับขึ้นค่ะ. ^^\n",
      "9.1\n",
      "ที่พักสะอาด การเดินทางสะดวก\n",
      "9.1\n",
      "ไวไฟเสีย 3 วัน พนักงานบริการดี\n",
      "----------------------------------------------------------------- \n",
      "\n"
     ]
    }
   ],
   "source": [
    "for i in range(5):\n",
    "    driver.execute_script(\"window.scrollTo(0,5900)\")\n",
    "    next_page = driver.find_element(By.XPATH,'/html/body/div[1]/div[5]/div[2]/div/div/div[1]/div/div/div[9]/div/div[9]')\n",
    "    next_page.click()\n",
    "\n",
    "    time.sleep(3)\n",
    "    clear_list(ratings_list,reviews_list)\n",
    "    time.sleep(3)\n",
    "\n",
    "    for review in driver.find_elements(By.CSS_SELECTOR,'div.css-1dbjc4n.r-1guathk.r-1yzf0co'):\n",
    "        for score in review.find_elements(By.CSS_SELECTOR,'div.css-901oao.r-1i6uqv8.r-1sixt3s.r-ubezar.r-majxgm.r-135wba7.r-fdjqy7'):\n",
    "            rate = score.text\n",
    "            print(rate)\n",
    "            ratings_list.append(rate)\n",
    "\n",
    "        for comment in review.find_elements(By.CSS_SELECTOR,'div.css-1dbjc4n.r-1wzrnnt.r-1udh08x'):\n",
    "            criticism = comment.text\n",
    "            print(criticism)\n",
    "            reviews_list.append(criticism)\n",
    "\n",
    "        check_list_size(ratings_list,reviews_list)\n",
    "    save_comment2mainList(Reviews_list, reviews_list)\n",
    "    save_rating2mainList(Ratings_list, ratings_list)\n",
    "    print('-----------------------------------------------------------------','\\n')"
   ]
  },
  {
   "cell_type": "code",
   "execution_count": 83,
   "id": "c2e2a225",
   "metadata": {},
   "outputs": [
    {
     "name": "stdout",
     "output_type": "stream",
     "text": [
      "Ratings_list : 90\n",
      "Reviews_list : 90\n"
     ]
    }
   ],
   "source": [
    "print('Ratings_list :',len(Ratings_list))\n",
    "print('Reviews_list :',len(Reviews_list))"
   ]
  },
  {
   "cell_type": "markdown",
   "id": "bc68ba69",
   "metadata": {},
   "source": [
    "# Implement Data To Pandas"
   ]
  },
  {
   "cell_type": "code",
   "execution_count": 84,
   "id": "27364384",
   "metadata": {},
   "outputs": [],
   "source": [
    "import pandas as pd\n",
    "import numpy as np\n",
    "\n",
    "table = pd.DataFrame([Reviews_list,Ratings_list]).T"
   ]
  },
  {
   "cell_type": "code",
   "execution_count": 85,
   "id": "d90998ff",
   "metadata": {},
   "outputs": [],
   "source": [
    "table.columns = ['Review', 'Rating']"
   ]
  },
  {
   "cell_type": "code",
   "execution_count": 86,
   "id": "e9b956ed",
   "metadata": {},
   "outputs": [],
   "source": [
    "table['Review'].replace('', np.nan, inplace=True)"
   ]
  },
  {
   "cell_type": "code",
   "execution_count": 87,
   "id": "ba849aa2",
   "metadata": {},
   "outputs": [
    {
     "data": {
      "text/html": [
       "<div>\n",
       "<style scoped>\n",
       "    .dataframe tbody tr th:only-of-type {\n",
       "        vertical-align: middle;\n",
       "    }\n",
       "\n",
       "    .dataframe tbody tr th {\n",
       "        vertical-align: top;\n",
       "    }\n",
       "\n",
       "    .dataframe thead th {\n",
       "        text-align: right;\n",
       "    }\n",
       "</style>\n",
       "<table border=\"1\" class=\"dataframe\">\n",
       "  <thead>\n",
       "    <tr style=\"text-align: right;\">\n",
       "      <th></th>\n",
       "      <th>Review</th>\n",
       "      <th>Rating</th>\n",
       "    </tr>\n",
       "  </thead>\n",
       "  <tbody>\n",
       "    <tr>\n",
       "      <th>0</th>\n",
       "      <td>ไปพักแล้วห้องไม่ดี อับ เก่ามาก  พนักงานพูดไม่ด...</td>\n",
       "      <td>5.1</td>\n",
       "    </tr>\n",
       "    <tr>\n",
       "      <th>1</th>\n",
       "      <td>ห้องเก่ามากๆ น่ากลัวมากๆ ไม่ประทับใจเลย</td>\n",
       "      <td>5.1</td>\n",
       "    </tr>\n",
       "    <tr>\n",
       "      <th>2</th>\n",
       "      <td>บรรยากาศไ ม่ดีเหม็นบุหรี่ตลอดเวลา</td>\n",
       "      <td>5.4</td>\n",
       "    </tr>\n",
       "    <tr>\n",
       "      <th>3</th>\n",
       "      <td>เสียงดังกุกกักทั้งคืน ตรงเพดาน นอนไม่หลับ</td>\n",
       "      <td>5.5</td>\n",
       "    </tr>\n",
       "    <tr>\n",
       "      <th>4</th>\n",
       "      <td>แม่บ้านทำความสะอาดไม่เรียบร้อย ฝุ่นบนโคมไฟหัวเ...</td>\n",
       "      <td>5.7</td>\n",
       "    </tr>\n",
       "    <tr>\n",
       "      <th>...</th>\n",
       "      <td>...</td>\n",
       "      <td>...</td>\n",
       "    </tr>\n",
       "    <tr>\n",
       "      <th>85</th>\n",
       "      <td>สะอาด ยกเว้นมีกลิ่นอับตรงนอกลิฟต์ ห้องนั่งเล่น</td>\n",
       "      <td>9.1</td>\n",
       "    </tr>\n",
       "    <tr>\n",
       "      <th>86</th>\n",
       "      <td>ห้องสะอาด เหมือนในรูป แต่เสียตรงเป็นห้อง conne...</td>\n",
       "      <td>9.1</td>\n",
       "    </tr>\n",
       "    <tr>\n",
       "      <th>87</th>\n",
       "      <td>ก้โอเคคะ การบริการหน้าเค้าเตอร์ ข้อแนะนำถ้าเพิ...</td>\n",
       "      <td>9.1</td>\n",
       "    </tr>\n",
       "    <tr>\n",
       "      <th>88</th>\n",
       "      <td>ที่พักสะอาด การเดินทางสะดวก</td>\n",
       "      <td>9.1</td>\n",
       "    </tr>\n",
       "    <tr>\n",
       "      <th>89</th>\n",
       "      <td>ไวไฟเสีย 3 วัน พนักงานบริการดี</td>\n",
       "      <td>9.1</td>\n",
       "    </tr>\n",
       "  </tbody>\n",
       "</table>\n",
       "<p>90 rows × 2 columns</p>\n",
       "</div>"
      ],
      "text/plain": [
       "                                               Review Rating\n",
       "0   ไปพักแล้วห้องไม่ดี อับ เก่ามาก  พนักงานพูดไม่ด...    5.1\n",
       "1             ห้องเก่ามากๆ น่ากลัวมากๆ ไม่ประทับใจเลย    5.1\n",
       "2                   บรรยากาศไ ม่ดีเหม็นบุหรี่ตลอดเวลา    5.4\n",
       "3           เสียงดังกุกกักทั้งคืน ตรงเพดาน นอนไม่หลับ    5.5\n",
       "4   แม่บ้านทำความสะอาดไม่เรียบร้อย ฝุ่นบนโคมไฟหัวเ...    5.7\n",
       "..                                                ...    ...\n",
       "85     สะอาด ยกเว้นมีกลิ่นอับตรงนอกลิฟต์ ห้องนั่งเล่น    9.1\n",
       "86  ห้องสะอาด เหมือนในรูป แต่เสียตรงเป็นห้อง conne...    9.1\n",
       "87  ก้โอเคคะ การบริการหน้าเค้าเตอร์ ข้อแนะนำถ้าเพิ...    9.1\n",
       "88                        ที่พักสะอาด การเดินทางสะดวก    9.1\n",
       "89                     ไวไฟเสีย 3 วัน พนักงานบริการดี    9.1\n",
       "\n",
       "[90 rows x 2 columns]"
      ]
     },
     "execution_count": 87,
     "metadata": {},
     "output_type": "execute_result"
    }
   ],
   "source": [
    "table"
   ]
  },
  {
   "cell_type": "code",
   "execution_count": 88,
   "id": "dad3a755",
   "metadata": {},
   "outputs": [
    {
     "data": {
      "text/html": [
       "<div>\n",
       "<style scoped>\n",
       "    .dataframe tbody tr th:only-of-type {\n",
       "        vertical-align: middle;\n",
       "    }\n",
       "\n",
       "    .dataframe tbody tr th {\n",
       "        vertical-align: top;\n",
       "    }\n",
       "\n",
       "    .dataframe thead th {\n",
       "        text-align: right;\n",
       "    }\n",
       "</style>\n",
       "<table border=\"1\" class=\"dataframe\">\n",
       "  <thead>\n",
       "    <tr style=\"text-align: right;\">\n",
       "      <th></th>\n",
       "      <th>index</th>\n",
       "      <th>Review</th>\n",
       "      <th>Rating</th>\n",
       "    </tr>\n",
       "  </thead>\n",
       "  <tbody>\n",
       "    <tr>\n",
       "      <th>0</th>\n",
       "      <td>0</td>\n",
       "      <td>ไปพักแล้วห้องไม่ดี อับ เก่ามาก  พนักงานพูดไม่ด...</td>\n",
       "      <td>5.1</td>\n",
       "    </tr>\n",
       "    <tr>\n",
       "      <th>1</th>\n",
       "      <td>1</td>\n",
       "      <td>ห้องเก่ามากๆ น่ากลัวมากๆ ไม่ประทับใจเลย</td>\n",
       "      <td>5.1</td>\n",
       "    </tr>\n",
       "    <tr>\n",
       "      <th>2</th>\n",
       "      <td>2</td>\n",
       "      <td>บรรยากาศไ ม่ดีเหม็นบุหรี่ตลอดเวลา</td>\n",
       "      <td>5.4</td>\n",
       "    </tr>\n",
       "    <tr>\n",
       "      <th>3</th>\n",
       "      <td>3</td>\n",
       "      <td>เสียงดังกุกกักทั้งคืน ตรงเพดาน นอนไม่หลับ</td>\n",
       "      <td>5.5</td>\n",
       "    </tr>\n",
       "    <tr>\n",
       "      <th>4</th>\n",
       "      <td>4</td>\n",
       "      <td>แม่บ้านทำความสะอาดไม่เรียบร้อย ฝุ่นบนโคมไฟหัวเ...</td>\n",
       "      <td>5.7</td>\n",
       "    </tr>\n",
       "    <tr>\n",
       "      <th>...</th>\n",
       "      <td>...</td>\n",
       "      <td>...</td>\n",
       "      <td>...</td>\n",
       "    </tr>\n",
       "    <tr>\n",
       "      <th>85</th>\n",
       "      <td>85</td>\n",
       "      <td>สะอาด ยกเว้นมีกลิ่นอับตรงนอกลิฟต์ ห้องนั่งเล่น</td>\n",
       "      <td>9.1</td>\n",
       "    </tr>\n",
       "    <tr>\n",
       "      <th>86</th>\n",
       "      <td>86</td>\n",
       "      <td>ห้องสะอาด เหมือนในรูป แต่เสียตรงเป็นห้อง conne...</td>\n",
       "      <td>9.1</td>\n",
       "    </tr>\n",
       "    <tr>\n",
       "      <th>87</th>\n",
       "      <td>87</td>\n",
       "      <td>ก้โอเคคะ การบริการหน้าเค้าเตอร์ ข้อแนะนำถ้าเพิ...</td>\n",
       "      <td>9.1</td>\n",
       "    </tr>\n",
       "    <tr>\n",
       "      <th>88</th>\n",
       "      <td>88</td>\n",
       "      <td>ที่พักสะอาด การเดินทางสะดวก</td>\n",
       "      <td>9.1</td>\n",
       "    </tr>\n",
       "    <tr>\n",
       "      <th>89</th>\n",
       "      <td>89</td>\n",
       "      <td>ไวไฟเสีย 3 วัน พนักงานบริการดี</td>\n",
       "      <td>9.1</td>\n",
       "    </tr>\n",
       "  </tbody>\n",
       "</table>\n",
       "<p>90 rows × 3 columns</p>\n",
       "</div>"
      ],
      "text/plain": [
       "    index                                             Review Rating\n",
       "0       0  ไปพักแล้วห้องไม่ดี อับ เก่ามาก  พนักงานพูดไม่ด...    5.1\n",
       "1       1            ห้องเก่ามากๆ น่ากลัวมากๆ ไม่ประทับใจเลย    5.1\n",
       "2       2                  บรรยากาศไ ม่ดีเหม็นบุหรี่ตลอดเวลา    5.4\n",
       "3       3          เสียงดังกุกกักทั้งคืน ตรงเพดาน นอนไม่หลับ    5.5\n",
       "4       4  แม่บ้านทำความสะอาดไม่เรียบร้อย ฝุ่นบนโคมไฟหัวเ...    5.7\n",
       "..    ...                                                ...    ...\n",
       "85     85     สะอาด ยกเว้นมีกลิ่นอับตรงนอกลิฟต์ ห้องนั่งเล่น    9.1\n",
       "86     86  ห้องสะอาด เหมือนในรูป แต่เสียตรงเป็นห้อง conne...    9.1\n",
       "87     87  ก้โอเคคะ การบริการหน้าเค้าเตอร์ ข้อแนะนำถ้าเพิ...    9.1\n",
       "88     88                        ที่พักสะอาด การเดินทางสะดวก    9.1\n",
       "89     89                     ไวไฟเสีย 3 วัน พนักงานบริการดี    9.1\n",
       "\n",
       "[90 rows x 3 columns]"
      ]
     },
     "execution_count": 88,
     "metadata": {},
     "output_type": "execute_result"
    }
   ],
   "source": [
    "table = table.dropna()\n",
    "table.reset_index(inplace=True)\n",
    "table"
   ]
  },
  {
   "cell_type": "code",
   "execution_count": 89,
   "id": "dff0423a",
   "metadata": {},
   "outputs": [],
   "source": [
    "table = table.drop(['index'],axis=1)"
   ]
  },
  {
   "cell_type": "code",
   "execution_count": 90,
   "id": "18265b8e",
   "metadata": {},
   "outputs": [
    {
     "data": {
      "text/html": [
       "<div>\n",
       "<style scoped>\n",
       "    .dataframe tbody tr th:only-of-type {\n",
       "        vertical-align: middle;\n",
       "    }\n",
       "\n",
       "    .dataframe tbody tr th {\n",
       "        vertical-align: top;\n",
       "    }\n",
       "\n",
       "    .dataframe thead th {\n",
       "        text-align: right;\n",
       "    }\n",
       "</style>\n",
       "<table border=\"1\" class=\"dataframe\">\n",
       "  <thead>\n",
       "    <tr style=\"text-align: right;\">\n",
       "      <th></th>\n",
       "      <th>Review</th>\n",
       "      <th>Rating</th>\n",
       "    </tr>\n",
       "  </thead>\n",
       "  <tbody>\n",
       "    <tr>\n",
       "      <th>0</th>\n",
       "      <td>ไปพักแล้วห้องไม่ดี อับ เก่ามาก  พนักงานพูดไม่ด...</td>\n",
       "      <td>5.1</td>\n",
       "    </tr>\n",
       "    <tr>\n",
       "      <th>1</th>\n",
       "      <td>ห้องเก่ามากๆ น่ากลัวมากๆ ไม่ประทับใจเลย</td>\n",
       "      <td>5.1</td>\n",
       "    </tr>\n",
       "    <tr>\n",
       "      <th>2</th>\n",
       "      <td>บรรยากาศไ ม่ดีเหม็นบุหรี่ตลอดเวลา</td>\n",
       "      <td>5.4</td>\n",
       "    </tr>\n",
       "    <tr>\n",
       "      <th>3</th>\n",
       "      <td>เสียงดังกุกกักทั้งคืน ตรงเพดาน นอนไม่หลับ</td>\n",
       "      <td>5.5</td>\n",
       "    </tr>\n",
       "    <tr>\n",
       "      <th>4</th>\n",
       "      <td>แม่บ้านทำความสะอาดไม่เรียบร้อย ฝุ่นบนโคมไฟหัวเ...</td>\n",
       "      <td>5.7</td>\n",
       "    </tr>\n",
       "    <tr>\n",
       "      <th>...</th>\n",
       "      <td>...</td>\n",
       "      <td>...</td>\n",
       "    </tr>\n",
       "    <tr>\n",
       "      <th>85</th>\n",
       "      <td>สะอาด ยกเว้นมีกลิ่นอับตรงนอกลิฟต์ ห้องนั่งเล่น</td>\n",
       "      <td>9.1</td>\n",
       "    </tr>\n",
       "    <tr>\n",
       "      <th>86</th>\n",
       "      <td>ห้องสะอาด เหมือนในรูป แต่เสียตรงเป็นห้อง conne...</td>\n",
       "      <td>9.1</td>\n",
       "    </tr>\n",
       "    <tr>\n",
       "      <th>87</th>\n",
       "      <td>ก้โอเคคะ การบริการหน้าเค้าเตอร์ ข้อแนะนำถ้าเพิ...</td>\n",
       "      <td>9.1</td>\n",
       "    </tr>\n",
       "    <tr>\n",
       "      <th>88</th>\n",
       "      <td>ที่พักสะอาด การเดินทางสะดวก</td>\n",
       "      <td>9.1</td>\n",
       "    </tr>\n",
       "    <tr>\n",
       "      <th>89</th>\n",
       "      <td>ไวไฟเสีย 3 วัน พนักงานบริการดี</td>\n",
       "      <td>9.1</td>\n",
       "    </tr>\n",
       "  </tbody>\n",
       "</table>\n",
       "<p>90 rows × 2 columns</p>\n",
       "</div>"
      ],
      "text/plain": [
       "                                               Review Rating\n",
       "0   ไปพักแล้วห้องไม่ดี อับ เก่ามาก  พนักงานพูดไม่ด...    5.1\n",
       "1             ห้องเก่ามากๆ น่ากลัวมากๆ ไม่ประทับใจเลย    5.1\n",
       "2                   บรรยากาศไ ม่ดีเหม็นบุหรี่ตลอดเวลา    5.4\n",
       "3           เสียงดังกุกกักทั้งคืน ตรงเพดาน นอนไม่หลับ    5.5\n",
       "4   แม่บ้านทำความสะอาดไม่เรียบร้อย ฝุ่นบนโคมไฟหัวเ...    5.7\n",
       "..                                                ...    ...\n",
       "85     สะอาด ยกเว้นมีกลิ่นอับตรงนอกลิฟต์ ห้องนั่งเล่น    9.1\n",
       "86  ห้องสะอาด เหมือนในรูป แต่เสียตรงเป็นห้อง conne...    9.1\n",
       "87  ก้โอเคคะ การบริการหน้าเค้าเตอร์ ข้อแนะนำถ้าเพิ...    9.1\n",
       "88                        ที่พักสะอาด การเดินทางสะดวก    9.1\n",
       "89                     ไวไฟเสีย 3 วัน พนักงานบริการดี    9.1\n",
       "\n",
       "[90 rows x 2 columns]"
      ]
     },
     "execution_count": 90,
     "metadata": {},
     "output_type": "execute_result"
    }
   ],
   "source": [
    "table"
   ]
  },
  {
   "cell_type": "code",
   "execution_count": 91,
   "id": "3c346b86",
   "metadata": {},
   "outputs": [],
   "source": [
    "table.to_csv(\"Reviews&Ratings_18th.csv\", encoding=\"utf-8\") "
   ]
  },
  {
   "cell_type": "code",
   "execution_count": null,
   "id": "6df1314b",
   "metadata": {},
   "outputs": [],
   "source": []
  }
 ],
 "metadata": {
  "kernelspec": {
   "display_name": "Python 3 (ipykernel)",
   "language": "python",
   "name": "python3"
  },
  "language_info": {
   "codemirror_mode": {
    "name": "ipython",
    "version": 3
   },
   "file_extension": ".py",
   "mimetype": "text/x-python",
   "name": "python",
   "nbconvert_exporter": "python",
   "pygments_lexer": "ipython3",
   "version": "3.9.13"
  }
 },
 "nbformat": 4,
 "nbformat_minor": 5
}
