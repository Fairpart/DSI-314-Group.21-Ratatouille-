{
 "cells": [
  {
   "cell_type": "code",
   "execution_count": null,
   "id": "90091148",
   "metadata": {},
   "outputs": [],
   "source": [
    "!pip install selenium"
   ]
  },
  {
   "cell_type": "code",
   "execution_count": null,
   "id": "c90cc529",
   "metadata": {},
   "outputs": [],
   "source": [
    "def save_comment2mainList(main_comment_List,sub_comment_List):\n",
    "    for item in sub_comment_List:\n",
    "        main_comment_List.append(str(item))\n",
    "        \n",
    "def save_rating2mainList(main_rating_List,sub_rating_List):\n",
    "    for item in sub_rating_List:\n",
    "        main_rating_List.append(str(item))"
   ]
  },
  {
   "cell_type": "code",
   "execution_count": null,
   "id": "fc56d09f",
   "metadata": {},
   "outputs": [],
   "source": [
    "def check_list_size(list_1,list_2):\n",
    "    if len(list_1) != len(list_2):\n",
    "        if len(list_1) > len(list_2):\n",
    "            list_1.pop(len(list_1)-1)\n",
    "        else:\n",
    "            list_2.pop(len(list_2)-1)\n",
    "    else:\n",
    "      return list_1,list_2"
   ]
  },
  {
   "cell_type": "code",
   "execution_count": null,
   "id": "67c1db36",
   "metadata": {},
   "outputs": [],
   "source": [
    "def NextPages():\n",
    "    running = True\n",
    "    while running:\n",
    "        try:\n",
    "            try:\n",
    "                running = driver.find_element(By.XPATH,'/html/body/div[1]/div[5]/div[2]/div/div/div[1]/div/div/div[8]/div/div[7]').click()\n",
    "            except:\n",
    "                try:\n",
    "                    running = driver.find_element(By.XPATH,'/html/body/div[1]/div[5]/div[2]/div/div/div[1]/div/div/div[8]/div/div[8]').click()   \n",
    "                except:\n",
    "                    running = driver.find_elementh(By.XPATH,'/html/body/div[1]/div[5]/div[2]/div/div/div[1]/div/div/div[8]/div/div[9]').click() \n",
    "        except:\n",
    "             running = False\n",
    "        print('-----------------------------------------------------------','\\n')"
   ]
  },
  {
   "cell_type": "code",
   "execution_count": null,
   "id": "2b3f1300",
   "metadata": {},
   "outputs": [],
   "source": [
    "def scraping_reviews(l_x1,l_x2,l_y1,l_y2): #scraping_reviews(ratings_list,reviews_list,Ratings_list,Reviews_list)\n",
    "    driver.execute_script(\"window.scrollTo(0,7770)\")\n",
    "    for review in driver.find_elements(By.CSS_SELECTOR,'div.css-1dbjc4n.r-1guathk.r-1yzf0co'):\n",
    "        for score in review.find_elements(By.CSS_SELECTOR,'div.css-901oao.r-1i6uqv8.r-1sixt3s.r-ubezar.r-majxgm.r-135wba7.r-fdjqy7'):\n",
    "            rate = score.text\n",
    "            print(rate)\n",
    "            l_x1.append(rate)\n",
    "\n",
    "        for comment in review.find_elements(By.CSS_SELECTOR,'div.css-1dbjc4n.r-1wzrnnt.r-1udh08x'):\n",
    "            criticism = comment.text\n",
    "            print(criticism)\n",
    "            l_x2.append(criticism)\n",
    "    \n",
    "        check_list_size(l_x1,l_x2)\n",
    "    save_comment2mainList(l_y1, l_x1)\n",
    "    save_rating2mainList(l_y2, l_x2)"
   ]
  },
  {
   "cell_type": "code",
   "execution_count": null,
   "id": "567d0b3f",
   "metadata": {},
   "outputs": [],
   "source": [
    "def clear_list(l_1,l_2):\n",
    "    reviews_list.clear()\n",
    "    ratings_list.clear()"
   ]
  },
  {
   "cell_type": "code",
   "execution_count": null,
   "id": "5f3c272c",
   "metadata": {},
   "outputs": [],
   "source": [
    "def abstract_review(review_ls):\n",
    "    for i in review_ls:\n",
    "        lenght = 0\n",
    "        for j in i.split():\n",
    "            if j == 'รีวิว':\n",
    "                sentence = ' '.join(i.split()[0:lenght])\n",
    "            lenght +=1\n",
    "        Reviews_list.append(sentence)\n",
    "    return Reviews_list"
   ]
  },
  {
   "cell_type": "code",
   "execution_count": null,
   "id": "34cf9810",
   "metadata": {},
   "outputs": [],
   "source": [
    "def abstract_rating(rating_ls):\n",
    "    for i in ratings_list:\n",
    "        lenght = 0\n",
    "        for j in i.split():\n",
    "            if j == '/5':\n",
    "                rating = ' '.join(i.split()[0:lenght])\n",
    "            lenght +=1\n",
    "        Ratings_list.append(rating)\n",
    "    return Ratings_list"
   ]
  },
  {
   "cell_type": "code",
   "execution_count": null,
   "id": "113d3966",
   "metadata": {},
   "outputs": [],
   "source": [
    "from selenium import webdriver\n",
    "from selenium.webdriver.common.by import By\n",
    "import time\n",
    "from selenium.webdriver.support.select import Select\n",
    "\n",
    "path = \"D:\\python\\Selenium\\edgedriver_win64\\msedgedriver.exe\"\n",
    "url = 'https://www.agoda.com/th-th/le-bonheur-poshtel/hotel/bangkok-th.html?finalPriceView=1&isShowMobileAppPrice=false&cid=1891472&numberOfBedrooms=&familyMode=false&adults=2&children=0&rooms=1&maxRooms=0&checkIn=2023-04-13&isCalendarCallout=false&childAges=&numberOfGuest=0&missingChildAges=false&travellerType=1&showReviewSubmissionEntry=false&currencyCode=THB&isFreeOccSearch=false&tag=b4ef7822-82f3-9df5-be77-0bc9f4c1349e&isCityHaveAsq=false&los=2&searchrequestid=4393e413-fa37-4b63-8a1c-d74e31b951c5'\n",
    "driver = webdriver.Edge(executable_path = path)\n",
    "driver.get(url)\n",
    "\n",
    "Reviews_list, reviews_list = [],[]\n",
    "Ratings_list, ratings_list = [],[]"
   ]
  },
  {
   "cell_type": "code",
   "execution_count": null,
   "id": "4cd6bd42",
   "metadata": {},
   "outputs": [],
   "source": [
    "driver.execute_script(\"window.scrollTo(0,8700)\")"
   ]
  },
  {
   "cell_type": "code",
   "execution_count": null,
   "id": "e322d596",
   "metadata": {},
   "outputs": [],
   "source": [
    "lang = driver.find_element(By.XPATH,\"/html/body/div[9]/div/div[6]/div/div[2]/div/div[8]/div[3]/div[2]/div[1]/div[3]\")\n",
    "lang.click()"
   ]
  },
  {
   "cell_type": "code",
   "execution_count": null,
   "id": "285768f6",
   "metadata": {},
   "outputs": [],
   "source": [
    "time.sleep(2)\n",
    "th = driver.find_element(By.XPATH,\"/html/body/div[9]/div/div[6]/div/div[2]/div/div[8]/div[3]/div[2]/div[1]/div[3]/div/ul/li[3]\")\n",
    "th.click()"
   ]
  },
  {
   "cell_type": "code",
   "execution_count": null,
   "id": "ae647a0b",
   "metadata": {},
   "outputs": [],
   "source": [
    "driver.execute_script(\"window.scrollTo(0,22900)\")"
   ]
  },
  {
   "cell_type": "code",
   "execution_count": null,
   "id": "1dee3ed7",
   "metadata": {},
   "outputs": [],
   "source": [
    "for comement in driver.find_elements(By.CLASS_NAME,'Review-comment-bodyText'):\n",
    "    reviews = comement.text\n",
    "    print(reviews)\n",
    "    reviews_list.append(reviews)\n",
    "    \n",
    "for score in driver.find_elements(By.CLASS_NAME,'Review-comment-leftScore'):\n",
    "    scores = score.text\n",
    "    print(scores)\n",
    "    ratings_list.append(scores)\n",
    "\n",
    "check_list_size(ratings_list,reviews_list)\n",
    "save_comment2mainList(Reviews_list,reviews_list)\n",
    "save_rating2mainList(Ratings_list,ratings_list)"
   ]
  },
  {
   "cell_type": "code",
   "execution_count": null,
   "id": "e0957153",
   "metadata": {},
   "outputs": [],
   "source": [
    "next_page = driver.find_element(By.XPATH,'/html/body/div[9]/div/div[6]/div/div[2]/div/div[8]/div[6]/div/span[3]')\n",
    "next_page.click()"
   ]
  },
  {
   "cell_type": "code",
   "execution_count": null,
   "id": "49784772",
   "metadata": {},
   "outputs": [],
   "source": [
    "driver.execute_script(\"window.scrollTo(0,23000)\")\n",
    "clear_list(ratings_list,reviews_list)\n",
    "\n",
    "time.sleep(3)\n",
    "for comement in driver.find_elements(By.CLASS_NAME,'Review-comment-bodyText'):\n",
    "    reviews = comement.text\n",
    "    print(reviews)\n",
    "    reviews_list.append(reviews)\n",
    "    \n",
    "for score in driver.find_elements(By.CLASS_NAME,'Review-comment-leftScore'):\n",
    "    scores = score.text\n",
    "    print(scores)\n",
    "    ratings_list.append(scores)\n",
    "\n",
    "check_list_size(ratings_list,reviews_list)\n",
    "save_comment2mainList(Reviews_list,reviews_list)\n",
    "save_rating2mainList(Ratings_list,ratings_list)"
   ]
  },
  {
   "cell_type": "code",
   "execution_count": null,
   "id": "a913eccf",
   "metadata": {},
   "outputs": [],
   "source": [
    "print('Ratings_list :',len(Ratings_list))\n",
    "print('Reviews_list :',len(Reviews_list))"
   ]
  },
  {
   "cell_type": "code",
   "execution_count": null,
   "id": "6848bbfc",
   "metadata": {},
   "outputs": [],
   "source": [
    "import pandas as pd\n",
    "import numpy as np\n",
    "\n",
    "table = pd.DataFrame([Reviews_list,Ratings_list]).T"
   ]
  },
  {
   "cell_type": "code",
   "execution_count": null,
   "id": "a7102fc0",
   "metadata": {},
   "outputs": [],
   "source": [
    "table.columns = ['Review', 'Rating']"
   ]
  },
  {
   "cell_type": "code",
   "execution_count": null,
   "id": "772287a8",
   "metadata": {},
   "outputs": [],
   "source": [
    "table['Review'].replace('', np.nan, inplace=True)"
   ]
  },
  {
   "cell_type": "code",
   "execution_count": null,
   "id": "b1799f61",
   "metadata": {},
   "outputs": [],
   "source": [
    "table = table.dropna()\n",
    "table.reset_index(inplace=True)"
   ]
  },
  {
   "cell_type": "code",
   "execution_count": null,
   "id": "7655df8b",
   "metadata": {},
   "outputs": [],
   "source": [
    "table = table.drop(['index'],axis=1)"
   ]
  },
  {
   "cell_type": "code",
   "execution_count": null,
   "id": "22584db0",
   "metadata": {},
   "outputs": [],
   "source": [
    "table.to_csv(\"Unseen_7.csv\", encoding=\"utf-8\") "
   ]
  }
 ],
 "metadata": {
  "kernelspec": {
   "display_name": "Python 3 (ipykernel)",
   "language": "python",
   "name": "python3"
  },
  "language_info": {
   "codemirror_mode": {
    "name": "ipython",
    "version": 3
   },
   "file_extension": ".py",
   "mimetype": "text/x-python",
   "name": "python",
   "nbconvert_exporter": "python",
   "pygments_lexer": "ipython3",
   "version": "3.9.7"
  }
 },
 "nbformat": 4,
 "nbformat_minor": 5
}
