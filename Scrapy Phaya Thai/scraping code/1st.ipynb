{
 "cells": [
  {
   "cell_type": "code",
   "execution_count": 1,
   "id": "6291f010",
   "metadata": {},
   "outputs": [
    {
     "name": "stdout",
     "output_type": "stream",
     "text": [
      "Requirement already satisfied: selenium in c:\\users\\fair\\anaconda3\\lib\\site-packages (4.6.0)\n",
      "Requirement already satisfied: trio-websocket~=0.9 in c:\\users\\fair\\anaconda3\\lib\\site-packages (from selenium) (0.9.2)\n",
      "Requirement already satisfied: trio~=0.17 in c:\\users\\fair\\anaconda3\\lib\\site-packages (from selenium) (0.22.0)\n",
      "Requirement already satisfied: urllib3[socks]~=1.26 in c:\\users\\fair\\anaconda3\\lib\\site-packages (from selenium) (1.26.11)\n",
      "Requirement already satisfied: certifi>=2021.10.8 in c:\\users\\fair\\anaconda3\\lib\\site-packages (from selenium) (2022.9.14)\n",
      "Requirement already satisfied: cffi>=1.14 in c:\\users\\fair\\anaconda3\\lib\\site-packages (from trio~=0.17->selenium) (1.15.1)\n",
      "Requirement already satisfied: outcome in c:\\users\\fair\\anaconda3\\lib\\site-packages (from trio~=0.17->selenium) (1.2.0)\n",
      "Requirement already satisfied: attrs>=19.2.0 in c:\\users\\fair\\anaconda3\\lib\\site-packages (from trio~=0.17->selenium) (21.4.0)\n",
      "Requirement already satisfied: sniffio in c:\\users\\fair\\anaconda3\\lib\\site-packages (from trio~=0.17->selenium) (1.2.0)\n",
      "Requirement already satisfied: exceptiongroup>=1.0.0rc9 in c:\\users\\fair\\anaconda3\\lib\\site-packages (from trio~=0.17->selenium) (1.0.1)\n",
      "Requirement already satisfied: async-generator>=1.9 in c:\\users\\fair\\anaconda3\\lib\\site-packages (from trio~=0.17->selenium) (1.10)\n",
      "Requirement already satisfied: idna in c:\\users\\fair\\anaconda3\\lib\\site-packages (from trio~=0.17->selenium) (3.3)\n",
      "Requirement already satisfied: sortedcontainers in c:\\users\\fair\\anaconda3\\lib\\site-packages (from trio~=0.17->selenium) (2.4.0)\n",
      "Requirement already satisfied: wsproto>=0.14 in c:\\users\\fair\\anaconda3\\lib\\site-packages (from trio-websocket~=0.9->selenium) (1.2.0)\n",
      "Requirement already satisfied: PySocks!=1.5.7,<2.0,>=1.5.6 in c:\\users\\fair\\anaconda3\\lib\\site-packages (from urllib3[socks]~=1.26->selenium) (1.7.1)\n",
      "Requirement already satisfied: pycparser in c:\\users\\fair\\anaconda3\\lib\\site-packages (from cffi>=1.14->trio~=0.17->selenium) (2.21)\n",
      "Requirement already satisfied: h11<1,>=0.9.0 in c:\\users\\fair\\anaconda3\\lib\\site-packages (from wsproto>=0.14->trio-websocket~=0.9->selenium) (0.14.0)\n"
     ]
    }
   ],
   "source": [
    "!pip install selenium"
   ]
  },
  {
   "cell_type": "markdown",
   "id": "ad15bdd9",
   "metadata": {},
   "source": [
    "# Def & Scraping Methods"
   ]
  },
  {
   "cell_type": "code",
   "execution_count": 2,
   "id": "b5022015",
   "metadata": {},
   "outputs": [],
   "source": [
    "def save_comment2mainList(main_comment_List,sub_comment_List):\n",
    "    for item in sub_comment_List:\n",
    "        main_comment_List.append(str(item))\n",
    "        \n",
    "def save_rating2mainList(main_rating_List,sub_rating_List):\n",
    "    for item in sub_rating_List:\n",
    "        main_rating_List.append(str(item))"
   ]
  },
  {
   "cell_type": "code",
   "execution_count": 3,
   "id": "ff8ea950",
   "metadata": {},
   "outputs": [],
   "source": [
    "def check_list_size(list_1,list_2):\n",
    "    if len(list_1) != len(list_2):\n",
    "        if len(list_1) > len(list_2):\n",
    "            list_1.pop(len(list_1)-1)\n",
    "        else:\n",
    "            list_2.pop(len(list_2)-1)\n",
    "    else:\n",
    "      return list_1,list_2"
   ]
  },
  {
   "cell_type": "code",
   "execution_count": 15,
   "id": "0ef53a5a",
   "metadata": {},
   "outputs": [
    {
     "data": {
      "text/plain": [
       "\"\\n    try:\\n        nextP = driver.find_element(By.XPATH,'/html/body/div[1]/div[5]/div[2]/div/div/div[1]/div/div/div[8]/div/div[7]')\\n        nextP.click()\\n        print('-----------------------------------------------------------','\\n')\\n        \\n    except:\\n        last_end = False\\n    time.sleep(5)\\n\""
      ]
     },
     "execution_count": 15,
     "metadata": {},
     "output_type": "execute_result"
    }
   ],
   "source": [
    "def NextPages():\n",
    "    running = True\n",
    "    while running:\n",
    "        try:\n",
    "            try:\n",
    "                try:\n",
    "                    running = driver.find_element(By.XPATH,'/html/body/div[1]/div[5]/div[2]/div/div/div[1]/div/div/div[8]/div/div[7]').click()\n",
    "                except:\n",
    "                    running = driver.find_element(By.XPATH,'/html/body/div[1]/div[5]/div[2]/div/div/div[1]/div/div/div[8]/div/div[8]').click()                       \n",
    "            except:\n",
    "                try:\n",
    "                    running = driver.find_element(By.XPATH,'/html/body/div[1]/div[5]/div[2]/div/div/div[1]/div/div/div[8]/div/div[8]').click()   \n",
    "                except:\n",
    "                    running = driver.find_elementh(By.XPATH,'/html/body/div[1]/div[5]/div[2]/div/div/div[1]/div/div/div[8]/div/div[9]').click() \n",
    "        except:\n",
    "             running = False\n",
    "        print('-----------------------------------------------------------','\\n')\n",
    "\"\"\"\n",
    "    try:\n",
    "        nextP = driver.find_element(By.XPATH,'/html/body/div[1]/div[5]/div[2]/div/div/div[1]/div/div/div[8]/div/div[7]')\n",
    "        nextP.click()\n",
    "        print('-----------------------------------------------------------','\\n')\n",
    "        \n",
    "    except:\n",
    "        last_end = False\n",
    "    time.sleep(5)\n",
    "\"\"\""
   ]
  },
  {
   "cell_type": "code",
   "execution_count": 5,
   "id": "7e351618",
   "metadata": {},
   "outputs": [],
   "source": [
    "def scraping_reviews(l_x1,l_x2,l_y1,l_y2): #scraping_reviews(ratings_list,reviews_list,Ratings_list,Reviews_list)\n",
    "    driver.execute_script(\"window.scrollTo(0,7770)\")\n",
    "    for review in driver.find_elements(By.CSS_SELECTOR,'div.css-1dbjc4n.r-1guathk.r-1yzf0co'):\n",
    "        for score in review.find_elements(By.CSS_SELECTOR,'div.css-901oao.r-1i6uqv8.r-1sixt3s.r-ubezar.r-majxgm.r-135wba7.r-fdjqy7'):\n",
    "            rate = score.text\n",
    "            print(rate)\n",
    "            l_x1.append(rate)\n",
    "\n",
    "        for comment in review.find_elements(By.CSS_SELECTOR,'div.css-1dbjc4n.r-1wzrnnt.r-1udh08x'):\n",
    "            criticism = comment.text\n",
    "            print(criticism)\n",
    "            l_x2.append(criticism)\n",
    "    \n",
    "        check_list_size(l_x1,l_x2)\n",
    "    save_comment2mainList(l_y1, l_x1)\n",
    "    save_rating2mainList(l_y2, l_x2)"
   ]
  },
  {
   "cell_type": "code",
   "execution_count": 8,
   "id": "df1083aa",
   "metadata": {},
   "outputs": [],
   "source": [
    "def clear_list(l_1,l_2):\n",
    "    reviews_list.clear()\n",
    "    ratings_list.clear()"
   ]
  },
  {
   "cell_type": "markdown",
   "id": "93066582",
   "metadata": {},
   "source": [
    "# Redoing Loop"
   ]
  },
  {
   "cell_type": "code",
   "execution_count": 10,
   "id": "7693d875",
   "metadata": {},
   "outputs": [
    {
     "name": "stderr",
     "output_type": "stream",
     "text": [
      "C:\\Users\\FAIR\\AppData\\Local\\Temp\\ipykernel_17884\\2463477540.py:8: DeprecationWarning: executable_path has been deprecated, please pass in a Service object\n",
      "  driver = webdriver.Edge(executable_path = path)\n"
     ]
    },
    {
     "name": "stdout",
     "output_type": "stream",
     "text": [
      "5.9\n",
      "เช็คอินช้าเหมือนทำงานไม่เป็น แจ้งเลขบุ๊คกิ้งก็แล้ว บัตรประชาชน ใบเสร็จต่างๆ ให้ดูหมดแล้ว ทำงานช้าเหมือนงงๆ เอามือถือให้ดูรายละเอียด ก็ถือวิสาสะกดเอง สไลด์เอง ไม่มีมารยาท ไม่ไปอีกแล้ว ที่พักอื่นมีเยอะแยะระแวกนั้น\n",
      "7.5\n",
      "สัญญาณโทรศัพท์เหลือแค่ 3G ค่ายดีแทค บริเวณในห้องพักชั้น 3\n",
      "9.7\n",
      "\n",
      "9.1\n",
      "บริการดี ห้องสะอาด ห้องสวยโทนสีและดีไซน์เรียบง่าย ที่นอนนุ่มสบายมากๆ สระว่ายน้ำสวยมาก\n",
      "8.5\n",
      "\n",
      "10\n",
      "ประทับใจมากๆ ต้องไปอีกแน่นอนค่ะ\n",
      "9.4\n",
      "มาพักที่นี่ตลอดค่า ห้องสวย สะอาดมาก การเดินทางสะดวก\n",
      "9.4\n",
      "ดีมาก โรงเเรมสวย พนักงานน่ารักทุกคน อาหารอร่อย หลับสบายมาก ประทับใจ เดือนหน้าจะไปพักอีก❤️\n",
      "9.7\n",
      "reception บริการดี ห้องสะอาด สบู่หอมค่ะ\n",
      "8.5\n",
      "ดีมากๆค่ะ ชอบโรงแรมสวย พนักงานน่ารักมากค่ะ\n",
      "การตอบกลับจากที่พัก\n",
      "30 MAR 2021\n",
      "ขอบคุณครับ  และยินดีพบกันใหม่อีกครั้งนะครับ  ยินดีบริการครับผม\n",
      "\n",
      "คราฟแมน  ทีม\n"
     ]
    }
   ],
   "source": [
    "from selenium import webdriver\n",
    "from selenium.webdriver.common.by import By\n",
    "import time\n",
    "from selenium.webdriver.support.select import Select\n",
    "\n",
    "path = \"D:\\python\\Selenium\\edgedriver_win64\\msedgedriver.exe\"\n",
    "url = 'https://www.traveloka.com/th-th/hotel/detail?spec=05-11-2022.06-11-2022.1.1.HOTEL.3000020010452.Craftsman%20Bangkok.1&contexts=%7B%22inventoryRateKey%22%3A%22EPSy2lMQRUbs4Z%2BpcPzDIQJS%2FRAEhuHYBZQl71KB9Kg%2BiqGLDk2uWjsyHUapF7H3WsIkBdgyaCd6cEzZvSrR%2F31OY7iP7XDpr8nlh5Tt88s%2FqwP5MiR9z%2FOijQGyMrqm8LFDqJMUAphQFLDVj%2FhuCxn2OOhcThrQtYt65LV3gKgmJ1pdc%2FQdHnwmv%2FNphfULFmeuiTFlP4lz4Cfvx1hdEQFU7aZfCySlLbxy7sg48BPwJtQGJ9zHhs%2FF3KauYQrYAVTtpl8LJKUtvHLuyDjwE85wEA4mUG3V1i%2B1iomrPy5N1ye1a%2FV7BCE7Ocg0TnM3YAOwwyA0tImEpYEuYVhe91voLhfAfwomsGns7pK%2B5YxQRgOy%2FtwhF2ZxaJkSkyJRXya8r1wErXp1FTU3tRyyFMJ5bSNwHLCNpcDdin5vdJqa%2Be3EU3ILQdYN4yLJ4Iyl1YUc1bNQ38M68j%2BaZWeP%2BNGUcfXv6dUCpCILb03z9fUbbKKYapmROdnYU8Z70FEjuikm8GJLDwQsEqfPAhX%2FgzZuuNH1PUmUELxCVefs00FJe2QE48%2FARJb3fooz78txRqqWx00bHxsCXvMbAIEb8%2BjA%2B9z%2F0iNeygbUgF1B%2Bl9j79ctpkSn7rjMyITJtjbrK%2BM5IRfnw7zMKwI4FetNG4Vrr5oThR2EuWyoSJFvAjpygWW9jihZTZE6RCMhINmn%22%7D&prevSearchId=1748564551479094519&loginPromo=1'\n",
    "driver = webdriver.Edge(executable_path = path)\n",
    "driver.get(url)\n",
    "\n",
    "Reviews_list, reviews_list = [],[]\n",
    "Ratings_list, ratings_list = [],[]\n",
    "\n",
    "scraping_reviews(ratings_list,reviews_list,Ratings_list,Reviews_list)        "
   ]
  },
  {
   "cell_type": "code",
   "execution_count": 11,
   "id": "ae525dcd",
   "metadata": {},
   "outputs": [
    {
     "data": {
      "text/plain": [
       "'ค่าห้องพัก Craftsman Bangkok สามเสนใน ตั้งแต่ 07-11-2022 ถึง 08-11-2022'"
      ]
     },
     "execution_count": 11,
     "metadata": {},
     "output_type": "execute_result"
    }
   ],
   "source": [
    "driver.title"
   ]
  },
  {
   "cell_type": "markdown",
   "id": "003e3eb3",
   "metadata": {},
   "source": [
    "# Pagination (NEXT PAGE) UNTIL LAST PAGE"
   ]
  },
  {
   "cell_type": "code",
   "execution_count": 13,
   "id": "805d3721",
   "metadata": {},
   "outputs": [],
   "source": [
    "driver.find_element(By.XPATH,'/html/body/div[1]/div[5]/div[2]/div/div/div[1]/div/div/div[8]/div/div[7]').click()"
   ]
  },
  {
   "cell_type": "markdown",
   "id": "6632d2ae",
   "metadata": {},
   "source": [
    "Change Language to Thai"
   ]
  },
  {
   "cell_type": "code",
   "execution_count": 21,
   "id": "e021b3a7",
   "metadata": {},
   "outputs": [],
   "source": [
    "from selenium.webdriver.support.select import Select\n",
    "\n",
    "sel = driver.find_element(By.XPATH,\"/html/body/div[1]/div[5]/div[2]/div/div/div[1]/div/div/div[4]/div[3]/div/div[1]/div\")\n",
    "sel.click()"
   ]
  },
  {
   "cell_type": "code",
   "execution_count": 22,
   "id": "e29fbe3f",
   "metadata": {},
   "outputs": [],
   "source": [
    "TH = sel.find_element(By.XPATH,'/html/body/div[1]/div[5]/div[2]/div/div/div[1]/div/div/div[4]/div[3]/div/div[2]/div/div/div/div[4]/div')\n",
    "TH.click()"
   ]
  },
  {
   "cell_type": "markdown",
   "id": "d3c8026c",
   "metadata": {},
   "source": [
    "# Notices"
   ]
  },
  {
   "cell_type": "code",
   "execution_count": 6,
   "id": "6e31c074",
   "metadata": {},
   "outputs": [
    {
     "data": {
      "text/plain": [
       "\"\\nratings = driver.find_elements(By.CSS_SELECTOR,'div.css-901oao.r-1i6uqv8.r-1sixt3s.r-ubezar.r-majxgm.r-135wba7.r-fdjqy7')\\nfor i in ratings:\\n    rating = i.text\\n    print(rating)\\n    reviews_list.append(i)\\n    \\nreviews = driver.find_elements(By.CSS_SELECTOR,'div.css-1dbjc4n.r-1wzrnnt.r-1udh08x')\\nfor i in reviews:\\n    review = i.text\\n    print(review)\\n    ratings_list.append(i)\\n\\nReviews_list.append(reviews_list)\\nRatings_list.append(ratings_list)\\n\""
      ]
     },
     "execution_count": 6,
     "metadata": {},
     "output_type": "execute_result"
    }
   ],
   "source": [
    "\"\"\"\n",
    "ratings = driver.find_elements(By.CSS_SELECTOR,'div.css-901oao.r-1i6uqv8.r-1sixt3s.r-ubezar.r-majxgm.r-135wba7.r-fdjqy7')\n",
    "for i in ratings:\n",
    "    rating = i.text\n",
    "    print(rating)\n",
    "    reviews_list.append(i)\n",
    "    \n",
    "reviews = driver.find_elements(By.CSS_SELECTOR,'div.css-1dbjc4n.r-1wzrnnt.r-1udh08x')\n",
    "for i in reviews:\n",
    "    review = i.text\n",
    "    print(review)\n",
    "    ratings_list.append(i)\n",
    "\n",
    "Reviews_list.append(reviews_list)\n",
    "Ratings_list.append(ratings_list)\n",
    "\"\"\""
   ]
  },
  {
   "cell_type": "code",
   "execution_count": 7,
   "id": "92b7792e",
   "metadata": {},
   "outputs": [
    {
     "data": {
      "text/plain": [
       "'\\nfrom selenium import webdriver\\nfrom selenium.webdriver.common.by import By\\nimport time\\n\\nReviews_list, review  s_list = [],[]\\n\\nRatings_list, ratings_list = [],[]\\n\\npath = \"D:\\\\python\\\\Selenium\\\\edgedriver_win64\\\\msedgedriver.exe\"\\nurl = \\'https://www.traveloka.com/th-th/hotel/detail?spec=05-11-2022.06-11-2022.1.1.HOTEL.3000020010452.Craftsman%20Bangkok.1&contexts=%7B%22inventoryRateKey%22%3A%22EPSy2lMQRUbs4Z%2BpcPzDIQJS%2FRAEhuHYBZQl71KB9Kg%2BiqGLDk2uWjsyHUapF7H3WsIkBdgyaCd6cEzZvSrR%2F31OY7iP7XDpr8nlh5Tt88s%2FqwP5MiR9z%2FOijQGyMrqm8LFDqJMUAphQFLDVj%2FhuCxn2OOhcThrQtYt65LV3gKgmJ1pdc%2FQdHnwmv%2FNphfULFmeuiTFlP4lz4Cfvx1hdEQFU7aZfCySlLbxy7sg48BPwJtQGJ9zHhs%2FF3KauYQrYAVTtpl8LJKUtvHLuyDjwE85wEA4mUG3V1i%2B1iomrPy5N1ye1a%2FV7BCE7Ocg0TnM3YAOwwyA0tImEpYEuYVhe91voLhfAfwomsGns7pK%2B5YxQRgOy%2FtwhF2ZxaJkSkyJRXya8r1wErXp1FTU3tRyyFMJ5bSNwHLCNpcDdin5vdJqa%2Be3EU3ILQdYN4yLJ4Iyl1YUc1bNQ38M68j%2BaZWeP%2BNGUcfXv6dUCpCILb03z9fUbbKKYapmROdnYU8Z70FEjuikm8GJLDwQsEqfPAhX%2FgzZuuNH1PUmUELxCVefs00FJe2QE48%2FARJb3fooz78txRqqWx00bHxsCXvMbAIEb8%2BjA%2B9z%2F0iNeygbUgF1B%2Bl9j79ctpkSn7rjMyITJtjbrK%2BM5IRfnw7zMKwI4FetNG4Vrr5oThR2EuWyoSJFvAjpygWW9jihZTZE6RCMhINmn%22%7D&prevSearchId=1748564551479094519&loginPromo=1\\'\\ndriver = webdriver.Edge(executable_path = path)\\ndriver.get(url)\\n#driver.execute_script(\"window.scrollTo(0,7770)\")\\nscraping_reviews(ratings_list,reviews_list,Ratings_list,Reviews_list)\\n'"
      ]
     },
     "execution_count": 7,
     "metadata": {},
     "output_type": "execute_result"
    }
   ],
   "source": [
    "\"\"\"\n",
    "from selenium import webdriver\n",
    "from selenium.webdriver.common.by import By\n",
    "import time\n",
    "\n",
    "Reviews_list, review  s_list = [],[]\n",
    "\n",
    "Ratings_list, ratings_list = [],[]\n",
    "\n",
    "path = \"D:\\python\\Selenium\\edgedriver_win64\\msedgedriver.exe\"\n",
    "url = 'https://www.traveloka.com/th-th/hotel/detail?spec=05-11-2022.06-11-2022.1.1.HOTEL.3000020010452.Craftsman%20Bangkok.1&contexts=%7B%22inventoryRateKey%22%3A%22EPSy2lMQRUbs4Z%2BpcPzDIQJS%2FRAEhuHYBZQl71KB9Kg%2BiqGLDk2uWjsyHUapF7H3WsIkBdgyaCd6cEzZvSrR%2F31OY7iP7XDpr8nlh5Tt88s%2FqwP5MiR9z%2FOijQGyMrqm8LFDqJMUAphQFLDVj%2FhuCxn2OOhcThrQtYt65LV3gKgmJ1pdc%2FQdHnwmv%2FNphfULFmeuiTFlP4lz4Cfvx1hdEQFU7aZfCySlLbxy7sg48BPwJtQGJ9zHhs%2FF3KauYQrYAVTtpl8LJKUtvHLuyDjwE85wEA4mUG3V1i%2B1iomrPy5N1ye1a%2FV7BCE7Ocg0TnM3YAOwwyA0tImEpYEuYVhe91voLhfAfwomsGns7pK%2B5YxQRgOy%2FtwhF2ZxaJkSkyJRXya8r1wErXp1FTU3tRyyFMJ5bSNwHLCNpcDdin5vdJqa%2Be3EU3ILQdYN4yLJ4Iyl1YUc1bNQ38M68j%2BaZWeP%2BNGUcfXv6dUCpCILb03z9fUbbKKYapmROdnYU8Z70FEjuikm8GJLDwQsEqfPAhX%2FgzZuuNH1PUmUELxCVefs00FJe2QE48%2FARJb3fooz78txRqqWx00bHxsCXvMbAIEb8%2BjA%2B9z%2F0iNeygbUgF1B%2Bl9j79ctpkSn7rjMyITJtjbrK%2BM5IRfnw7zMKwI4FetNG4Vrr5oThR2EuWyoSJFvAjpygWW9jihZTZE6RCMhINmn%22%7D&prevSearchId=1748564551479094519&loginPromo=1'\n",
    "driver = webdriver.Edge(executable_path = path)\n",
    "driver.get(url)\n",
    "#driver.execute_script(\"window.scrollTo(0,7770)\")\n",
    "scraping_reviews(ratings_list,reviews_list,Ratings_list,Reviews_list)\n",
    "\"\"\""
   ]
  },
  {
   "cell_type": "markdown",
   "id": "3c9a43da",
   "metadata": {},
   "source": [
    "# Code Working"
   ]
  },
  {
   "cell_type": "code",
   "execution_count": 25,
   "id": "8d08c5ba",
   "metadata": {},
   "outputs": [
    {
     "name": "stderr",
     "output_type": "stream",
     "text": [
      "C:\\Users\\FAIR\\AppData\\Local\\Temp\\ipykernel_17884\\12387871.py:8: DeprecationWarning: executable_path has been deprecated, please pass in a Service object\n",
      "  driver = webdriver.Edge(executable_path = path)\n"
     ]
    },
    {
     "name": "stdout",
     "output_type": "stream",
     "text": [
      "5.9\n",
      "เช็คอินช้าเหมือนทำงานไม่เป็น แจ้งเลขบุ๊คกิ้งก็แล้ว บัตรประชาชน ใบเสร็จต่างๆ ให้ดูหมดแล้ว ทำงานช้าเหมือนงงๆ เอามือถือให้ดูรายละเอียด ก็ถือวิสาสะกดเอง สไลด์เอง ไม่มีมารยาท ไม่ไปอีกแล้ว ที่พักอื่นมีเยอะแยะระแวกนั้น\n",
      "7.5\n",
      "สัญญาณโทรศัพท์เหลือแค่ 3G ค่ายดีแทค บริเวณในห้องพักชั้น 3\n",
      "9.7\n",
      "\n",
      "9.1\n",
      "บริการดี ห้องสะอาด ห้องสวยโทนสีและดีไซน์เรียบง่าย ที่นอนนุ่มสบายมากๆ สระว่ายน้ำสวยมาก\n",
      "8.5\n",
      "\n",
      "10\n",
      "ประทับใจมากๆ ต้องไปอีกแน่นอนค่ะ\n",
      "9.4\n",
      "มาพักที่นี่ตลอดค่า ห้องสวย สะอาดมาก การเดินทางสะดวก\n",
      "9.4\n",
      "ดีมาก โรงเเรมสวย พนักงานน่ารักทุกคน อาหารอร่อย หลับสบายมาก ประทับใจ เดือนหน้าจะไปพักอีก❤️\n",
      "9.7\n",
      "reception บริการดี ห้องสะอาด สบู่หอมค่ะ\n",
      "8.5\n",
      "ดีมากๆค่ะ ชอบโรงแรมสวย พนักงานน่ารักมากค่ะ\n",
      "การตอบกลับจากที่พัก\n",
      "30 MAR 2021\n",
      "ขอบคุณครับ  และยินดีพบกันใหม่อีกครั้งนะครับ  ยินดีบริการครับผม\n",
      "\n",
      "คราฟแมน  ทีม\n"
     ]
    }
   ],
   "source": [
    "from selenium import webdriver\n",
    "from selenium.webdriver.common.by import By\n",
    "import time\n",
    "from selenium.webdriver.support.select import Select\n",
    "\n",
    "path = \"D:\\python\\Selenium\\edgedriver_win64\\msedgedriver.exe\"\n",
    "url = 'https://www.traveloka.com/th-th/hotel/detail?spec=05-11-2022.06-11-2022.1.1.HOTEL.3000020010452.Craftsman%20Bangkok.1&contexts=%7B%22inventoryRateKey%22%3A%22EPSy2lMQRUbs4Z%2BpcPzDIQJS%2FRAEhuHYBZQl71KB9Kg%2BiqGLDk2uWjsyHUapF7H3WsIkBdgyaCd6cEzZvSrR%2F31OY7iP7XDpr8nlh5Tt88s%2FqwP5MiR9z%2FOijQGyMrqm8LFDqJMUAphQFLDVj%2FhuCxn2OOhcThrQtYt65LV3gKgmJ1pdc%2FQdHnwmv%2FNphfULFmeuiTFlP4lz4Cfvx1hdEQFU7aZfCySlLbxy7sg48BPwJtQGJ9zHhs%2FF3KauYQrYAVTtpl8LJKUtvHLuyDjwE85wEA4mUG3V1i%2B1iomrPy5N1ye1a%2FV7BCE7Ocg0TnM3YAOwwyA0tImEpYEuYVhe91voLhfAfwomsGns7pK%2B5YxQRgOy%2FtwhF2ZxaJkSkyJRXya8r1wErXp1FTU3tRyyFMJ5bSNwHLCNpcDdin5vdJqa%2Be3EU3ILQdYN4yLJ4Iyl1YUc1bNQ38M68j%2BaZWeP%2BNGUcfXv6dUCpCILb03z9fUbbKKYapmROdnYU8Z70FEjuikm8GJLDwQsEqfPAhX%2FgzZuuNH1PUmUELxCVefs00FJe2QE48%2FARJb3fooz78txRqqWx00bHxsCXvMbAIEb8%2BjA%2B9z%2F0iNeygbUgF1B%2Bl9j79ctpkSn7rjMyITJtjbrK%2BM5IRfnw7zMKwI4FetNG4Vrr5oThR2EuWyoSJFvAjpygWW9jihZTZE6RCMhINmn%22%7D&prevSearchId=1748564551479094519&loginPromo=1'\n",
    "driver = webdriver.Edge(executable_path = path)\n",
    "driver.get(url)\n",
    "\n",
    "Reviews_list, reviews_list = [],[]\n",
    "Ratings_list, ratings_list = [],[]\n",
    "\n",
    "time.sleep(3)\n",
    "sel = driver.find_element(By.XPATH,\"/html/body/div[1]/div[5]/div[2]/div/div/div[1]/div/div/div[4]/div[3]/div/div[1]\")\n",
    "sel.click()\n",
    "time.sleep(2)\n",
    "TH = sel.find_element(By.XPATH,'/html/body/div[1]/div[5]/div[2]/div/div/div[1]/div/div/div[4]/div[3]/div/div[2]/div/div/div/div[4]')\n",
    "TH.click()\n",
    "time.sleep(3)\n",
    "driver.execute_script(\"window.scrollTo(0,7770)\")\n",
    "\n",
    "for review in driver.find_elements(By.CSS_SELECTOR,'div.css-1dbjc4n.r-1guathk.r-1yzf0co'):\n",
    "    for score in review.find_elements(By.CSS_SELECTOR,'div.css-901oao.r-1i6uqv8.r-1sixt3s.r-ubezar.r-majxgm.r-135wba7.r-fdjqy7'):\n",
    "        rate = score.text\n",
    "        print(rate)\n",
    "        ratings_list.append(rate)\n",
    "\n",
    "    for comment in review.find_elements(By.CSS_SELECTOR,'div.css-1dbjc4n.r-1wzrnnt.r-1udh08x'):\n",
    "        criticism = comment.text\n",
    "        print(criticism)\n",
    "        reviews_list.append(criticism)\n",
    "    \n",
    "    check_list_size(ratings_list,reviews_list)\n",
    "save_comment2mainList(Reviews_list, reviews_list)\n",
    "save_rating2mainList(Ratings_list, ratings_list)"
   ]
  },
  {
   "cell_type": "code",
   "execution_count": 26,
   "id": "00450a45",
   "metadata": {},
   "outputs": [
    {
     "data": {
      "text/plain": [
       "'ค่าห้องพัก Craftsman Bangkok สามเสนใน ตั้งแต่ 07-11-2022 ถึง 08-11-2022'"
      ]
     },
     "execution_count": 26,
     "metadata": {},
     "output_type": "execute_result"
    }
   ],
   "source": [
    "driver.title"
   ]
  },
  {
   "cell_type": "code",
   "execution_count": 27,
   "id": "d00b88f0",
   "metadata": {},
   "outputs": [
    {
     "name": "stdout",
     "output_type": "stream",
     "text": [
      "----------------------------------------------------------- \n",
      "\n",
      "8.5\n",
      "\n",
      "9.4\n",
      "ห้องพักน่าอยู่มาก สะอาด ห้องน้ำเป็นสัดส่วนดี\n",
      "8.5\n",
      "ที่จอดรถน้อยไป พนักงาน ดูแลดี วิวดี สภาพโอค่ะ\n",
      "9.4\n",
      "ที่พักสบายพนักงานต้อนรับบริการดีมากครับ\n",
      "8.8\n",
      "\n",
      "10\n",
      "ดีงามมาก สวย สุดยอด ดีงามทุกมุมถ้าถ่ายรูป\n",
      "9.7\n",
      "โรงแรมสวยตรงปก สะอาดมาก พนักงานบริการดีทุกแผนก เสียนิดเดียวที่จอดรถน้อยไปหน่อยค่ะ\n",
      "9.4\n",
      "ห้องสะอาดมาก สวย ทำเลดี เดินทางสะดวกค่ะ\n",
      "8.8\n",
      "\n",
      "9.4\n",
      "\n"
     ]
    }
   ],
   "source": [
    "NextPages()\n",
    "time.sleep(5)\n",
    "\n",
    "clear_list(reviews_list,ratings_list)\n",
    "time.sleep(5)\n",
    "\n",
    "scraping_reviews(ratings_list,reviews_list,Ratings_list,Reviews_list)"
   ]
  },
  {
   "cell_type": "code",
   "execution_count": 28,
   "id": "5c20bb84",
   "metadata": {},
   "outputs": [
    {
     "name": "stdout",
     "output_type": "stream",
     "text": [
      "----------------------------------------------------------- \n",
      "\n",
      "9.7\n",
      "ห้องพักดีมากๆค่า ประทับใจมาก วิวสระน้ำดีมากๆค่า ห้องสะอาด\n",
      "9.7\n",
      "ดีมาก สะอาด ปลอดภัย นอนหลับฝันดี ราคาน่ารักมากจองผ่านแอป มีโอกาสไปซ้ำแน่นอน อยู่ตรงกลางระหว่าง Bts อารีย์ สะพานควาย\n",
      "8.5\n",
      "ดี เหมาะแก่การพักผ่อน พนักงานน่ารัก วิวสระว่ายน้ำสวยมาก\n",
      "9.4\n",
      "\n",
      "9.7\n",
      "บริการดี ห้องพักสะอาดน่ารัก เงียบสงบดีค่ะ\n",
      "9.7\n",
      "ดีมากค่ะ หมอน เตียง คือ นอนหลับลึกมาก บรรยากาศดี สวย ห้องพักสะอาด\n",
      "9.7\n",
      "โรงแรมดีมากค่ะ เตียงนอนสบายเหมือน รร.5ดาวเลยค่ะ\n",
      "9.4\n",
      "\n",
      "10\n",
      "โรงแรมสวยเก๋มาก สะอาด เหมาะแก่การพักผ่อน บริการดีมาก ทุกระดับประทับใจในราคาที่ไม่แพง อยู่ในเมือง เดินทางสะดวก อยู่ใกล้BTS ถ้ามีโอกาสจะมาพักอีกแน่นอนค่ะ คือดีทุกอย่าง อาหารก็อร่อย\n",
      "9.7\n",
      "สวย สะอาด คลาสิค บรรยากาศดี พนักงานok\n"
     ]
    }
   ],
   "source": [
    "NextPages()\n",
    "time.sleep(5)\n",
    "\n",
    "clear_list(reviews_list,ratings_list)\n",
    "time.sleep(5)\n",
    "\n",
    "scraping_reviews(ratings_list,reviews_list,Ratings_list,Reviews_list)"
   ]
  },
  {
   "cell_type": "code",
   "execution_count": 29,
   "id": "329f5587",
   "metadata": {},
   "outputs": [
    {
     "name": "stdout",
     "output_type": "stream",
     "text": [
      "9.1\n",
      "ภาพรวมโอเค ข้อเสียคือตู้เย็นตั้งค่าไว้ไม่เย็น ปรับไม่ได้ ทำให้แช่ผลไม้หรือของกินอื่นๆ ไม่ได้ อยู่หลายวันค่อนข้างลำบาก\n",
      "9.4\n",
      "พนักงานต้อนรับน่ารัก บรรยากาศดี ห้องสวย สิ่งอำนวยความสะดวกครบครัน มีบาร์ให้นั่งชิลได้ ชอบค่ะ มีโอกาสจะไปพักอีกแน่นอนค่ะ\n",
      "8.5\n",
      "ชอบมาก พนักงานบริการดีมาก ถึงดีที่สุดสะอาดมาก ราคาน่ารัก เซอร์วิสดีพนักงานบริการดีมาก เหมาะกับการมาพักที่สุด\n",
      "9.4\n",
      "เจ้าหน้าที่ให้บริการอย่างดี แม้แต่พนักงานรับรถ ที่พักสะดวกสบาย สวย ไม่อึกทึก\n",
      "8.5\n",
      "ชอบโรมแรมนี้มากเลยคะ มาพัก 2 รอบแล้ว ประทับใจทุกๆด้าน พนักงานน่ารัก ห้องสะอาด บรรยากาศในโรงแรมดี\n",
      "9.1\n",
      "โรงแรมใหม่ สะอาด บริการดี ยิ้มแย้มแจ่มใสทุกคนค่า มีที่จอดรถพร้อม อาหารเช้าอร่อย มีโอกาสจะไปพักอีกค่ะ\n",
      "8.5\n",
      "\n",
      "9.7\n",
      "ดีเกือบทุกอย่าง เสียอย่างเดียวไวไฟไปไม่ถึงห้องทึ่พัก\n",
      "10\n",
      "บริการดีมากเลยค่ะ เหมาะกับมาพักผ่อนเปลี่ยนบรรยากาศที่นอนในเมือง อาหารอร่อยมากๆ ประทับใจมากค่ะ ไว้กลับไปพักอีกนะคะ\n",
      "9.7\n",
      "\n"
     ]
    }
   ],
   "source": [
    "sel = driver.find_element(By.XPATH,'/html/body/div[1]/div[5]/div[2]/div/div/div[1]/div/div/div[8]/div/div[8]')\n",
    "sel.click()\n",
    "time.sleep(2)\n",
    "\n",
    "clear_list(reviews_list,ratings_list)\n",
    "time.sleep(2)\n",
    "\n",
    "scraping_reviews(ratings_list,reviews_list,Ratings_list,Reviews_list)"
   ]
  },
  {
   "cell_type": "code",
   "execution_count": 30,
   "id": "17908a7c",
   "metadata": {},
   "outputs": [
    {
     "name": "stdout",
     "output_type": "stream",
     "text": [
      "9.7\n",
      "บรรยากาศดีค่ะ สะดวกสบาย ห้องใหม่ ที่ถ่ายรูปเยอะหลายจุดเลยค่ะ ติดที่สระน้ำอยู่ใหล้บาร์ ไม่กล้าเล่นน้ำค่ะ\n",
      "9.4\n",
      "โรงแรมบรรยากาศดีมากๆ สวยเหมือนในรูป ห้องพักสะอาด พนักงานบริการดีค่า\n",
      "8.5\n",
      "ห้องพักสบาย บรรยากาศดี เดินทางสะดวก\n",
      "9.7\n",
      "สวยมาก มีที่จอดรถ พนักงานบริการดีมากๆ\n",
      "9.7\n",
      "ที่พักดีมากค่ะ สะอาด ใหม่ พนักงานน่ารักบริการดีค่ะ เข้าซอยพหลโยธิน11 มาไม่มาก เดินทางสะดวกทั้งนำรถมาจอดที่โรงแรมก็มีที่จอดรถ หรือเดินทางไป bts ก็สะดวกค่ะ ด้านล่างโรงแรมมีคาเฟ่สีชมพูน่ารักๆด้วยค่ะ\n",
      "8.5\n",
      "ห้องเหมือนในรูป นอนสบาย ดีทุกอย่าง ยกเว้นผ้าเช็ดตัวเก่าไปหน่อย โดยรวมดีค่ะ\n",
      "9.1\n",
      "บริเวณรอบๆโรงแรมเงียบสงบดีค่ะ ห้องนอน, ห้องน้ำ สวยสะอาดเหมือนในรูป สิ่งอำนวยความสะดวกภายในห้องก็โอเคค่ะ แต่เหมือนไม่มี ภาชนะใส่อาหาร หรือหาไม่เจอไม่รู้ค่ะ555 รวมๆแล้วโอเคเลยค่ะ\n",
      "8.5\n",
      "\n",
      "8.5\n",
      "ที่พักใหม่ สะอาด สระว่ายน้ำสวยค่ะ พนักงานบริการดี check in รวดเร็ว มีที่จอดรถค่ะ สะดวกสบายค่ะ\n",
      "6.2\n",
      "โรงแรมสวย สบายตา แต่ ไม่มีผ้าเช็ดผม ไม่มี slipper พื้นห้องเหนียวไปหมด อาหารตอนเช้า มีความหลากหลายน้อยไปหน่อย ไฟดับ 4ครั้ง ไม่ทราบว่าเป็นนโยบายประหยัดพลังงานหรือเปล่า\n"
     ]
    }
   ],
   "source": [
    "sel = driver.find_element(By.XPATH,'/html/body/div[1]/div[5]/div[2]/div/div/div[1]/div/div/div[8]/div/div[9]')\n",
    "sel.click()\n",
    "time.sleep(2)\n",
    "\n",
    "clear_list(reviews_list,ratings_list)\n",
    "time.sleep(2)\n",
    "\n",
    "scraping_reviews(ratings_list,reviews_list,Ratings_list,Reviews_list)"
   ]
  },
  {
   "cell_type": "code",
   "execution_count": 31,
   "id": "542e19b8",
   "metadata": {},
   "outputs": [
    {
     "name": "stdout",
     "output_type": "stream",
     "text": [
      "10\n",
      "ที่พักดีๆมากๆเลยครับ เหมาะสมกับราคาครับผม\n",
      "6\n",
      "พนักงานค่อนข้างไม่โอเค ช่วงเข้าเช็คอิน เรารบกวนขอยาแก้ปวดไปสองเม็ด ให้แม่บ้านเอาขึ้นไปให้หน่อย เพราะพึ่งลงเครื่องค่อนข้างปวดหัว เราบอกพนักงานก่อนเดินขึ้นห้องไปกะจะนอนพัก พนักงานรับปากบอกโอเค นานแล้วนานเล่าก็ไม่มียามา เราก็เฉยไปคงเป็นเพราะลืมหรืออะไรแหละ ตกกลางคืนมาเราเรียกแกร็บเอายามาให้ ยามก็พูดด้วยน้ำเสียง เนี่ย ปักที่เนี่ยเขาปัก 45 (หมายถึงปักหมุด) ถ้าปักชื่อโรงแรมจะไม่ขึ้น โอเคเราก็ขอโทษแกร็บไปเพราะเป็นความผิดเราเองที่ปักชื่อโรงแรมไป พอตกเช้ามาแม่บ้านก็รีบเก็บห้องจริง เอาจริงๆเก็บห้องไม่มีใครว่าหรอกเค้าทำตามหน้าที่ แต่เสียงเก็บห้องนี่มันแบบตึ้กตั๊กตึ้กตั๊ก เราก็ได้แต่คิดว่าช่วงนี้เราซวยเอง เราซวยเอง ใจจริงๆไม่ข้องอะไรหรอกค่ะแค่เราเสียความรู้สึกนิดหน่อย เราไม่สบายตัวเลยรบกวนขอยาไปถ้าทางโรงแรมไม่มีบริการหรือจะคิดเพิ่มหรือจะไม่สะดวกเราก็ไม่ว่าค่ะ แต่รบกวนช่วยบอกเราได้ไหมว่าเหตุผลที่สามารถนำยามาให้ได้มันคืออะไร สองคือเรื่องยาม ไม่รบกวนอะไรเลยค่ะแค่น้ำเสียงที่แกพูดมันค่อนข้างน่ากลัว พี่ขับแกร็บยังหน้าจืดเลย อยากให้แค่แกลดน้ำเสียงน่ากลัวนิดนึงค่ะ ส่วนเรื่องแม่บ้านเข้าใจค่ะว่าต้องทำหน้าที่ แต่รบกวนช่วยเบาเสียงลงนิดนึงได้ไหมคะ ที่เหลือทุกอย่างดีหมดค่ะ ห้องพักสะอาดหรูหรา ห้องสวยโรงแรมสวยค่ะ บรรยากาศดีมากค่ะ ที่จอดรถก็โอเค\n",
      "8.5\n",
      "ดีมากครับ บรรยากาศดีมากๆ พนักงานยิ้มแย้มแจ่มใส\n",
      "9.4\n",
      "มาพักหลายครั้ง ห้องพักดีมาก อาหารก็อร่อย ถ้ามีโอกาศจะกลับไปพักอีกแน่น่อน\n",
      "10\n",
      "ดีมากโรงแรมสวย สงบ พนักงานบริการดีมากๆคุ้มราคา เหมาะแก่การพักผ่อน บาร์และคาเฟ่ดีมุมถ่ายรูปสวย\n",
      "9.7\n",
      "โรงแรมบริการดีมากกก ห้องสวยมาก เดี๋ยวมาอีก อิอิ\n",
      "9.1\n",
      "โรงแรมสวย พนักงานบริการดี อาหารเช้ามีไม่กี่อย่าง แต่ทานได้ ห้องพักเตียงนอนสบาย เสียอย่างเดียวคือประตูห้องน้ำ ปิดได้ไม่สนิท\n",
      "9.7\n",
      "โรงแรมสะอาดมาก เตียงนอนนอนสบายมาก คุ้มค่ากับราคาค่ะ แนะนำเลยค่ะ\n",
      "8.5\n",
      "สะอาด ใหม่ แต่ห้องร้อนไปหน่อย\n",
      "8.5\n",
      "\n"
     ]
    }
   ],
   "source": [
    "sel = driver.find_element(By.XPATH,'/html/body/div[1]/div[5]/div[2]/div/div/div[1]/div/div/div[8]/div/div[9]')\n",
    "sel.click()\n",
    "time.sleep(2)\n",
    "\n",
    "clear_list(reviews_list,ratings_list)\n",
    "time.sleep(2)\n",
    "\n",
    "scraping_reviews(ratings_list,reviews_list,Ratings_list,Reviews_list)"
   ]
  },
  {
   "cell_type": "code",
   "execution_count": 32,
   "id": "c01f5fb1",
   "metadata": {},
   "outputs": [
    {
     "name": "stdout",
     "output_type": "stream",
     "text": [
      "9.7\n",
      "ห้องหรู ดีมาก เตียงนอนสบายมากๆ ทำเลดี มีโอกาสจะกลับมาพักอีก\n",
      "9.7\n",
      "เคยเข้าพักที่นี่ 2 ครั้งแล้ว บริการดีตั้งแต่รปภที่ดูแลที่จอดรถ รวมถึงพนักงานทุกคนยิ้มแย้ม สุภาพทุกคน ห้องพักสะอาด อุปกรณ์ในห้องมีพร้อมทุกอย่าง ลืมของก็ขึ้นไปเอาให้ ถ้ามีโอกาสได้ไปอีกก็คงเลือกพักที่นี่ค่ะ\n",
      "9.4\n",
      "\n",
      "8.8\n",
      "ทำเลดี บรรยากาศดี wifi เร็ว เตียงนอนสบาย แต่น้ำร้อนไม่ค่อยสม่ำเสมอ\n",
      "8.5\n",
      "สะดวก สะอาด บริการดี ถ้ามีโอกาสจะไปใช้บริการอีก มีที่จอดรถ\n",
      "8.8\n",
      "ทำเลดีใกล้รถไฟฟ้า บรรยากาศเงียบสงบแม้อยู่ใกล้ถนนใหญ่\n",
      "8.5\n",
      "ถ้ามีโอกาสจะกลับมาพักอีก ห้องพักสะอาด ปลอดภัย\n",
      "9.1\n",
      "โรงแรมตั้งอยู่ไม่ไกลจากสถานีbtsมากนัก บรรยากาศเงียบสงบเหมาะกับการนอนพัก\n",
      "9.4\n",
      "ที่พักสวยมาก สมราคาค่ะ ให้ 5 ดาวเลย\n",
      "9.7\n",
      "ทำเลดี ห้องพักสะอาด พนง.บริการดีมาก คุ้มเกินราคา ไว้คราวหน้าจะไปใช้บริการอีกค่ะ\n"
     ]
    }
   ],
   "source": [
    "sel = driver.find_element(By.XPATH,'/html/body/div[1]/div[5]/div[2]/div/div/div[1]/div/div/div[8]/div/div[9]')\n",
    "sel.click()\n",
    "time.sleep(2)\n",
    "\n",
    "clear_list(reviews_list,ratings_list)\n",
    "time.sleep(2)\n",
    "\n",
    "scraping_reviews(ratings_list,reviews_list,Ratings_list,Reviews_list)"
   ]
  },
  {
   "cell_type": "code",
   "execution_count": 34,
   "id": "8677ca90",
   "metadata": {},
   "outputs": [
    {
     "name": "stdout",
     "output_type": "stream",
     "text": [
      "9.6\n",
      "ห้องพักและการบริการดีมาก! อยู่ไม่ไกลจากสถานีรถไฟฟ้าบีทีเอส แต่คุณสามารถเรียกมอเตอร์ไซค์ไปบีทีเอสอารีย์ได้ สถานที่ก็ยอดเยี่ยมและฉันอยากจะพักที่โรงแรมนี้อีก!\n",
      "8.5\n",
      "ห้องพักของโรงแรมสะอาด ห้องของฉันค่อนข้างใหญ่และสะดวกสบาย โรงแรมปลอดภัย บรรยากาศดีมาก พนักงานเป็นกันเองและช่วยเหลือดีมาก สถานที่เหมาะสำหรับรถไฟฟ้าสถานีรถบัสและ 7-11 หากคุณมองไปรอบ ๆ โรงแรมจะใช้เวลาช่วงวันหยุด โรงแรมที่ไม่เหมือนใครแห่งนี้เป็นโรงแรมที่ฉันขอแนะนำ\n",
      "9.7\n",
      "การนอนหลับที่ยอดเยี่ยมเป็นสถานที่ที่ดีสำหรับการพักในกรุงเทพขอขอบคุณสำหรับการอัพเกรดห้องนอนจากขนาดเล็กไปจนถึงขนาดกลาง\n",
      "9.1\n",
      "โรงแรมเพิ่งเปิดตัวครั้งใหญ่ในวันที่ 7 ต.ค. 2561 ดังนั้นทุกอย่างจึงเป็นแบรนด์ใหม่ พนักงานมีความเป็นมิตร และคุณมีน้ำนิ่งฟรีที่ล็อบบี้ (เติมขวดของคุณเอง) ข้อดี - ห้องพักและโรงแรมสะอาดและเป็นระเบียบ - สระว่ายน้ำสวย - สถานการณ์ที่เงียบสงบ (ไม่มีเสียงดัง) - 2 สถานีจากจตุจักร - พนักงานเป็นกันเองข้อเสีย - ช่องทีวีส่วนใหญ่เป็นไทย ดังนั้นฉันไม่เข้าใจเลย อาจเพิ่มบางอย่างเช่น HBO โลกดาราภาพยนตร์จิ้งจอก สิ่งต่างประเทศข้างช่องข่าว - สำหรับฉันมันค่อนข้างไกลจากรถไฟฟ้า ถ้าคุณไม่ชอบเดินมันก็เป็นการออกกำลังกาย อาจจะมีรถรับส่งฟรีไปยังสถานีรถไฟฟ้าบีทีเอสที่ใกล้ที่สุดในครั้งต่อไป? - อาหารเช้าเหมือนเดิมเสมอ (ฉันพัก 4 คืน แต่ก็ดีนะ) ไข่คุณสามารถเลือกได้ 4 แบบทอดต้มไข่เจียวและไข่กวน c. ขนมปังปิ้งหรือครัวซองต์ ไม่กี่ด้านเช่นสลัด, ผลไม้, มันฝรั่ง ฯลฯ e. ไส้กรอกหมูหรือเบคอน นม, น้ำส้ม, น้ำนิ่ง, กาแฟ, ชา (เลือก 2) - ร้านอาหารไม่มี 24 ชั่วโมงดังนั้นหากคุณหิวโหยในเวลากลางคืนคุณต้องออกไปข้างนอก มันมืดและเงียบนิด ๆ ในเวลากลางคืน แต่มี 7/11 ใกล้เคียง อาจจะเป็นในอนาคตคุณสามารถเพิ่มช่องทีวีมากขึ้นตัวเลือกอาหารเช้ามากขึ้นและรถรับส่งฟรีไปยังสถานีรถไฟฟ้าบีทีเอส ขอบคุณ\n",
      "9.4\n",
      "โดยรวมแล้วมันเป็นเวลาที่ดีที่จะใช้เวลากับช่างฝีมือในห้องความสะอาดและพนักงานก็ดี แต่มันก็ยังมีบางอย่างเช่นไม่มีตู้เย็นในห้องและอุณหภูมิของน้ำไม่เสถียร\n",
      "9.3\n",
      "โรงแรมในรายละเอียดของงานฝีมือ การบริการในใจดีมาก ห้องพักสะอาด แต่ไม่มีตู้เย็น ไม่คุ้มกับอาหารเช้า เดินจากรถไฟฟ้าบีทีเอส 15 นาที\n",
      "9.1\n",
      "ฉันชอบพักที่โรงแรมนี้! หาง่ายอยู่ 1 กม. จากตลาดนัดสวนจตุจักร พนักงานน่ารักและช่วยเหลือดี ห้องพักสะอาด ฉันสนุกกับทุกช่วงเวลาที่นี่ จะกลับมาพักที่นี่เมื่ออยู่ในกรุงเทพ!\n",
      "9.4\n",
      "The hotel is great, feeling cozy yet very artistic. I like that even though the room is small but there is a big bathtub that can fit 2 grown-ups. Unfortunately, it was not allowed to use the pool.\n"
     ]
    }
   ],
   "source": [
    "sel = driver.find_element(By.XPATH,'/html/body/div[1]/div[5]/div[2]/div/div/div[1]/div/div/div[8]/div/div[8]')\n",
    "sel.click()\n",
    "time.sleep(2)\n",
    "\n",
    "clear_list(reviews_list,ratings_list)\n",
    "time.sleep(2)\n",
    "\n",
    "scraping_reviews(ratings_list,reviews_list,Ratings_list,Reviews_list)"
   ]
  },
  {
   "cell_type": "code",
   "execution_count": 35,
   "id": "c2e2a225",
   "metadata": {},
   "outputs": [
    {
     "name": "stdout",
     "output_type": "stream",
     "text": [
      "Ratings_list : 88\n",
      "Reviews_list : 88\n"
     ]
    }
   ],
   "source": [
    "print('Ratings_list :',len(Ratings_list))\n",
    "print('Reviews_list :',len(Reviews_list))"
   ]
  },
  {
   "cell_type": "code",
   "execution_count": 36,
   "id": "f62d3e7d",
   "metadata": {},
   "outputs": [
    {
     "data": {
      "text/plain": [
       "['5.9',\n",
       " '7.5',\n",
       " '9.7',\n",
       " '9.1',\n",
       " '8.5',\n",
       " '10',\n",
       " '9.4',\n",
       " '9.4',\n",
       " '9.7',\n",
       " '8.5',\n",
       " '8.5',\n",
       " '9.4',\n",
       " '8.5',\n",
       " '9.4',\n",
       " '8.8',\n",
       " '10',\n",
       " '9.7',\n",
       " '9.4',\n",
       " '8.8',\n",
       " '9.4',\n",
       " '9.7',\n",
       " '9.7',\n",
       " '8.5',\n",
       " '9.4',\n",
       " '9.7',\n",
       " '9.7',\n",
       " '9.7',\n",
       " '9.4',\n",
       " '10',\n",
       " '9.7',\n",
       " '9.1',\n",
       " '9.4',\n",
       " '8.5',\n",
       " '9.4',\n",
       " '8.5',\n",
       " '9.1',\n",
       " '8.5',\n",
       " '9.7',\n",
       " '10',\n",
       " '9.7',\n",
       " '9.7',\n",
       " '9.4',\n",
       " '8.5',\n",
       " '9.7',\n",
       " '9.7',\n",
       " '8.5',\n",
       " '9.1',\n",
       " '8.5',\n",
       " '8.5',\n",
       " '6.2',\n",
       " '10',\n",
       " '6',\n",
       " '8.5',\n",
       " '9.4',\n",
       " '10',\n",
       " '9.7',\n",
       " '9.1',\n",
       " '9.7',\n",
       " '8.5',\n",
       " '8.5',\n",
       " '9.7',\n",
       " '9.7',\n",
       " '9.4',\n",
       " '8.8',\n",
       " '8.5',\n",
       " '8.8',\n",
       " '8.5',\n",
       " '9.1',\n",
       " '9.4',\n",
       " '9.7',\n",
       " '9.7',\n",
       " '8.5',\n",
       " '9.7',\n",
       " '8.5',\n",
       " '9.4',\n",
       " '9.4',\n",
       " '10',\n",
       " '9.7',\n",
       " '9.1',\n",
       " '9.7',\n",
       " '9.6',\n",
       " '8.5',\n",
       " '9.7',\n",
       " '9.1',\n",
       " '9.4',\n",
       " '9.3',\n",
       " '9.1',\n",
       " '9.4']"
      ]
     },
     "execution_count": 36,
     "metadata": {},
     "output_type": "execute_result"
    }
   ],
   "source": [
    "Ratings_list"
   ]
  },
  {
   "cell_type": "code",
   "execution_count": 37,
   "id": "7397448c",
   "metadata": {},
   "outputs": [
    {
     "data": {
      "text/plain": [
       "['เช็คอินช้าเหมือนทำงานไม่เป็น แจ้งเลขบุ๊คกิ้งก็แล้ว บัตรประชาชน ใบเสร็จต่างๆ ให้ดูหมดแล้ว ทำงานช้าเหมือนงงๆ เอามือถือให้ดูรายละเอียด ก็ถือวิสาสะกดเอง สไลด์เอง ไม่มีมารยาท ไม่ไปอีกแล้ว ที่พักอื่นมีเยอะแยะระแวกนั้น',\n",
       " 'สัญญาณโทรศัพท์เหลือแค่ 3G ค่ายดีแทค บริเวณในห้องพักชั้น 3',\n",
       " '',\n",
       " 'บริการดี ห้องสะอาด ห้องสวยโทนสีและดีไซน์เรียบง่าย ที่นอนนุ่มสบายมากๆ สระว่ายน้ำสวยมาก',\n",
       " '',\n",
       " 'ประทับใจมากๆ ต้องไปอีกแน่นอนค่ะ',\n",
       " 'มาพักที่นี่ตลอดค่า ห้องสวย สะอาดมาก การเดินทางสะดวก',\n",
       " 'ดีมาก โรงเเรมสวย พนักงานน่ารักทุกคน อาหารอร่อย หลับสบายมาก ประทับใจ เดือนหน้าจะไปพักอีก❤️',\n",
       " 'reception บริการดี ห้องสะอาด สบู่หอมค่ะ',\n",
       " 'ดีมากๆค่ะ ชอบโรงแรมสวย พนักงานน่ารักมากค่ะ',\n",
       " '',\n",
       " 'ห้องพักน่าอยู่มาก สะอาด ห้องน้ำเป็นสัดส่วนดี',\n",
       " 'ที่จอดรถน้อยไป พนักงาน ดูแลดี วิวดี สภาพโอค่ะ',\n",
       " 'ที่พักสบายพนักงานต้อนรับบริการดีมากครับ',\n",
       " '',\n",
       " 'ดีงามมาก สวย สุดยอด ดีงามทุกมุมถ้าถ่ายรูป',\n",
       " 'โรงแรมสวยตรงปก สะอาดมาก พนักงานบริการดีทุกแผนก เสียนิดเดียวที่จอดรถน้อยไปหน่อยค่ะ',\n",
       " 'ห้องสะอาดมาก สวย ทำเลดี เดินทางสะดวกค่ะ',\n",
       " '',\n",
       " '',\n",
       " 'ห้องพักดีมากๆค่า ประทับใจมาก วิวสระน้ำดีมากๆค่า ห้องสะอาด',\n",
       " 'ดีมาก สะอาด ปลอดภัย นอนหลับฝันดี ราคาน่ารักมากจองผ่านแอป มีโอกาสไปซ้ำแน่นอน อยู่ตรงกลางระหว่าง Bts อารีย์ สะพานควาย',\n",
       " 'ดี เหมาะแก่การพักผ่อน พนักงานน่ารัก วิวสระว่ายน้ำสวยมาก',\n",
       " '',\n",
       " 'บริการดี ห้องพักสะอาดน่ารัก เงียบสงบดีค่ะ',\n",
       " 'ดีมากค่ะ หมอน เตียง คือ นอนหลับลึกมาก บรรยากาศดี สวย ห้องพักสะอาด',\n",
       " 'โรงแรมดีมากค่ะ เตียงนอนสบายเหมือน รร.5ดาวเลยค่ะ',\n",
       " '',\n",
       " 'โรงแรมสวยเก๋มาก สะอาด เหมาะแก่การพักผ่อน บริการดีมาก ทุกระดับประทับใจในราคาที่ไม่แพง อยู่ในเมือง เดินทางสะดวก อยู่ใกล้BTS ถ้ามีโอกาสจะมาพักอีกแน่นอนค่ะ คือดีทุกอย่าง อาหารก็อร่อย',\n",
       " 'สวย สะอาด คลาสิค บรรยากาศดี พนักงานok',\n",
       " 'ภาพรวมโอเค ข้อเสียคือตู้เย็นตั้งค่าไว้ไม่เย็น ปรับไม่ได้ ทำให้แช่ผลไม้หรือของกินอื่นๆ ไม่ได้ อยู่หลายวันค่อนข้างลำบาก',\n",
       " 'พนักงานต้อนรับน่ารัก บรรยากาศดี ห้องสวย สิ่งอำนวยความสะดวกครบครัน มีบาร์ให้นั่งชิลได้ ชอบค่ะ มีโอกาสจะไปพักอีกแน่นอนค่ะ',\n",
       " 'ชอบมาก พนักงานบริการดีมาก ถึงดีที่สุดสะอาดมาก ราคาน่ารัก เซอร์วิสดีพนักงานบริการดีมาก เหมาะกับการมาพักที่สุด',\n",
       " 'เจ้าหน้าที่ให้บริการอย่างดี แม้แต่พนักงานรับรถ ที่พักสะดวกสบาย สวย ไม่อึกทึก',\n",
       " 'ชอบโรมแรมนี้มากเลยคะ มาพัก 2 รอบแล้ว ประทับใจทุกๆด้าน พนักงานน่ารัก ห้องสะอาด บรรยากาศในโรงแรมดี',\n",
       " 'โรงแรมใหม่ สะอาด บริการดี ยิ้มแย้มแจ่มใสทุกคนค่า มีที่จอดรถพร้อม อาหารเช้าอร่อย มีโอกาสจะไปพักอีกค่ะ',\n",
       " '',\n",
       " 'ดีเกือบทุกอย่าง เสียอย่างเดียวไวไฟไปไม่ถึงห้องทึ่พัก',\n",
       " 'บริการดีมากเลยค่ะ เหมาะกับมาพักผ่อนเปลี่ยนบรรยากาศที่นอนในเมือง อาหารอร่อยมากๆ ประทับใจมากค่ะ ไว้กลับไปพักอีกนะคะ',\n",
       " '',\n",
       " 'บรรยากาศดีค่ะ สะดวกสบาย ห้องใหม่ ที่ถ่ายรูปเยอะหลายจุดเลยค่ะ ติดที่สระน้ำอยู่ใหล้บาร์ ไม่กล้าเล่นน้ำค่ะ',\n",
       " 'โรงแรมบรรยากาศดีมากๆ สวยเหมือนในรูป ห้องพักสะอาด พนักงานบริการดีค่า',\n",
       " 'ห้องพักสบาย บรรยากาศดี เดินทางสะดวก',\n",
       " 'สวยมาก มีที่จอดรถ พนักงานบริการดีมากๆ',\n",
       " 'ที่พักดีมากค่ะ สะอาด ใหม่ พนักงานน่ารักบริการดีค่ะ เข้าซอยพหลโยธิน11 มาไม่มาก เดินทางสะดวกทั้งนำรถมาจอดที่โรงแรมก็มีที่จอดรถ หรือเดินทางไป bts ก็สะดวกค่ะ ด้านล่างโรงแรมมีคาเฟ่สีชมพูน่ารักๆด้วยค่ะ',\n",
       " 'ห้องเหมือนในรูป นอนสบาย ดีทุกอย่าง ยกเว้นผ้าเช็ดตัวเก่าไปหน่อย โดยรวมดีค่ะ',\n",
       " 'บริเวณรอบๆโรงแรมเงียบสงบดีค่ะ ห้องนอน, ห้องน้ำ สวยสะอาดเหมือนในรูป สิ่งอำนวยความสะดวกภายในห้องก็โอเคค่ะ แต่เหมือนไม่มี ภาชนะใส่อาหาร หรือหาไม่เจอไม่รู้ค่ะ555 รวมๆแล้วโอเคเลยค่ะ',\n",
       " '',\n",
       " 'ที่พักใหม่ สะอาด สระว่ายน้ำสวยค่ะ พนักงานบริการดี check in รวดเร็ว มีที่จอดรถค่ะ สะดวกสบายค่ะ',\n",
       " 'โรงแรมสวย สบายตา แต่ ไม่มีผ้าเช็ดผม ไม่มี slipper พื้นห้องเหนียวไปหมด อาหารตอนเช้า มีความหลากหลายน้อยไปหน่อย ไฟดับ 4ครั้ง ไม่ทราบว่าเป็นนโยบายประหยัดพลังงานหรือเปล่า',\n",
       " 'ที่พักดีๆมากๆเลยครับ เหมาะสมกับราคาครับผม',\n",
       " 'พนักงานค่อนข้างไม่โอเค ช่วงเข้าเช็คอิน เรารบกวนขอยาแก้ปวดไปสองเม็ด ให้แม่บ้านเอาขึ้นไปให้หน่อย เพราะพึ่งลงเครื่องค่อนข้างปวดหัว เราบอกพนักงานก่อนเดินขึ้นห้องไปกะจะนอนพัก พนักงานรับปากบอกโอเค นานแล้วนานเล่าก็ไม่มียามา เราก็เฉยไปคงเป็นเพราะลืมหรืออะไรแหละ ตกกลางคืนมาเราเรียกแกร็บเอายามาให้ ยามก็พูดด้วยน้ำเสียง เนี่ย ปักที่เนี่ยเขาปัก 45 (หมายถึงปักหมุด) ถ้าปักชื่อโรงแรมจะไม่ขึ้น โอเคเราก็ขอโทษแกร็บไปเพราะเป็นความผิดเราเองที่ปักชื่อโรงแรมไป พอตกเช้ามาแม่บ้านก็รีบเก็บห้องจริง เอาจริงๆเก็บห้องไม่มีใครว่าหรอกเค้าทำตามหน้าที่ แต่เสียงเก็บห้องนี่มันแบบตึ้กตั๊กตึ้กตั๊ก เราก็ได้แต่คิดว่าช่วงนี้เราซวยเอง เราซวยเอง ใจจริงๆไม่ข้องอะไรหรอกค่ะแค่เราเสียความรู้สึกนิดหน่อย เราไม่สบายตัวเลยรบกวนขอยาไปถ้าทางโรงแรมไม่มีบริการหรือจะคิดเพิ่มหรือจะไม่สะดวกเราก็ไม่ว่าค่ะ แต่รบกวนช่วยบอกเราได้ไหมว่าเหตุผลที่สามารถนำยามาให้ได้มันคืออะไร สองคือเรื่องยาม ไม่รบกวนอะไรเลยค่ะแค่น้ำเสียงที่แกพูดมันค่อนข้างน่ากลัว พี่ขับแกร็บยังหน้าจืดเลย อยากให้แค่แกลดน้ำเสียงน่ากลัวนิดนึงค่ะ ส่วนเรื่องแม่บ้านเข้าใจค่ะว่าต้องทำหน้าที่ แต่รบกวนช่วยเบาเสียงลงนิดนึงได้ไหมคะ ที่เหลือทุกอย่างดีหมดค่ะ ห้องพักสะอาดหรูหรา ห้องสวยโรงแรมสวยค่ะ บรรยากาศดีมากค่ะ ที่จอดรถก็โอเค',\n",
       " 'ดีมากครับ บรรยากาศดีมากๆ พนักงานยิ้มแย้มแจ่มใส',\n",
       " 'มาพักหลายครั้ง ห้องพักดีมาก อาหารก็อร่อย ถ้ามีโอกาศจะกลับไปพักอีกแน่น่อน',\n",
       " 'ดีมากโรงแรมสวย สงบ พนักงานบริการดีมากๆคุ้มราคา เหมาะแก่การพักผ่อน บาร์และคาเฟ่ดีมุมถ่ายรูปสวย',\n",
       " 'โรงแรมบริการดีมากกก ห้องสวยมาก เดี๋ยวมาอีก อิอิ',\n",
       " 'โรงแรมสวย พนักงานบริการดี อาหารเช้ามีไม่กี่อย่าง แต่ทานได้ ห้องพักเตียงนอนสบาย เสียอย่างเดียวคือประตูห้องน้ำ ปิดได้ไม่สนิท',\n",
       " 'โรงแรมสะอาดมาก เตียงนอนนอนสบายมาก คุ้มค่ากับราคาค่ะ แนะนำเลยค่ะ',\n",
       " 'สะอาด ใหม่ แต่ห้องร้อนไปหน่อย',\n",
       " '',\n",
       " 'ห้องหรู ดีมาก เตียงนอนสบายมากๆ ทำเลดี มีโอกาสจะกลับมาพักอีก',\n",
       " 'เคยเข้าพักที่นี่ 2 ครั้งแล้ว บริการดีตั้งแต่รปภที่ดูแลที่จอดรถ รวมถึงพนักงานทุกคนยิ้มแย้ม สุภาพทุกคน ห้องพักสะอาด อุปกรณ์ในห้องมีพร้อมทุกอย่าง ลืมของก็ขึ้นไปเอาให้ ถ้ามีโอกาสได้ไปอีกก็คงเลือกพักที่นี่ค่ะ',\n",
       " '',\n",
       " 'ทำเลดี บรรยากาศดี wifi เร็ว เตียงนอนสบาย แต่น้ำร้อนไม่ค่อยสม่ำเสมอ',\n",
       " 'สะดวก สะอาด บริการดี ถ้ามีโอกาสจะไปใช้บริการอีก มีที่จอดรถ',\n",
       " 'ทำเลดีใกล้รถไฟฟ้า บรรยากาศเงียบสงบแม้อยู่ใกล้ถนนใหญ่',\n",
       " 'ถ้ามีโอกาสจะกลับมาพักอีก ห้องพักสะอาด ปลอดภัย',\n",
       " 'โรงแรมตั้งอยู่ไม่ไกลจากสถานีbtsมากนัก บรรยากาศเงียบสงบเหมาะกับการนอนพัก',\n",
       " 'ที่พักสวยมาก สมราคาค่ะ ให้ 5 ดาวเลย',\n",
       " 'ทำเลดี ห้องพักสะอาด พนง.บริการดีมาก คุ้มเกินราคา ไว้คราวหน้าจะไปใช้บริการอีกค่ะ',\n",
       " 'ห้องดูดี สะอาด พนักงานบริการดี สถานที่ตั้งเดินทางสะดวก เยี่ยมมากๆ🤟🤟🤟 แล้วจะกลับไปอีกครับ😄😄😄',\n",
       " 'ห้องพักกว้างกำลังดี ของใช้ดูใหม่ อ่างล้างหน้าอยู่นอกห้องน้ำ ประตูห้องอาบน้ำใช้อันเดียวกันกับห้องน้ำ เลื่อนปิดอย่างใดอย่างหนึ่ง โรงแรมบรรยากาศดี มีสระน้ำ มีระบบรักษาความปลอดภัยดีมาก พนักงานเป็นกันเอง ยิ้มแย้ม สุภาพ',\n",
       " '',\n",
       " 'รร.สะอาด พนักงานเป็นมิตร ใกล้BTS เดินทางสะดวก',\n",
       " 'ห้องดีมากเว่อร์เกินราคา บรรยากาศดีมากก เหมาะกับคู่รักมาฮันนีมูนค่ะ เตียงนี่นุ่มสบายแทบไม่อยากตื่นเลยค่ะ',\n",
       " 'ไม่ไกลมากจากBTSอารีย์ แต่นั่งมอเตอไซค์มาจะดีกว่า โรงแรมดีมากๆ ผิดหวังนิดหน่อยที่จองห้องวิวสระว่ายน้ำมา แต่ถูกอัพเกรดให้ไปอยู่ห้องที่มีขนาดใหญ่กว่าแต่ไม่ใช่วิวสระว่ายน้ำ สระสวยมาก เหมาะแก่การพักผ่อน มาบาร์อยู่ด้านล่างเลย ไม่ต้องไปดื่มที่อื่น สตาฟอัธยาศัยดีมาก อยากให้มีบริการเสริมเตียงหรือลดราคาลงสำหรับแขกท่านที่สาม เนื่องจากปัจจุบันหากต้องการพักสามคนต้องจ่ายเพิ่ม850 แต่ไม่มีบริการอะไรเพิ่มเติม',\n",
       " 'ห้องพักสบาย ใกล้บีทีเอส และร้านอาหารคาเฟ่ต่างไป',\n",
       " '',\n",
       " 'โรงแรมใจกลางอารีย์เก๋ๆ ห้องพักเล็กกะทัดรัด สะอาด ดูใหม่ โรงแรมมีความชิค เหมาะแก่การถ่ายรูป',\n",
       " 'โรงแรมดีมากๆค่ะ ของจริงตรงปกมาก เราเป็นผู้หญิงเดินทางคนเดียวแต่รับรองปลอดภัยและสะดวกสบาย แนะนำเลย รีเซปชั่นช่วยเหลือดี เราของบริการรีดผ้าแต่ทางโรงแรมไม่มี เขาแก้ปัญหาด้วยการหาเตารีดมาให้ในห้อง ประทับใจมากค่ะ',\n",
       " 'ห้องพักและการบริการดีมาก! อยู่ไม่ไกลจากสถานีรถไฟฟ้าบีทีเอส แต่คุณสามารถเรียกมอเตอร์ไซค์ไปบีทีเอสอารีย์ได้ สถานที่ก็ยอดเยี่ยมและฉันอยากจะพักที่โรงแรมนี้อีก!',\n",
       " 'ห้องพักของโรงแรมสะอาด ห้องของฉันค่อนข้างใหญ่และสะดวกสบาย โรงแรมปลอดภัย บรรยากาศดีมาก พนักงานเป็นกันเองและช่วยเหลือดีมาก สถานที่เหมาะสำหรับรถไฟฟ้าสถานีรถบัสและ 7-11 หากคุณมองไปรอบ ๆ โรงแรมจะใช้เวลาช่วงวันหยุด โรงแรมที่ไม่เหมือนใครแห่งนี้เป็นโรงแรมที่ฉันขอแนะนำ',\n",
       " 'การนอนหลับที่ยอดเยี่ยมเป็นสถานที่ที่ดีสำหรับการพักในกรุงเทพขอขอบคุณสำหรับการอัพเกรดห้องนอนจากขนาดเล็กไปจนถึงขนาดกลาง',\n",
       " 'โรงแรมเพิ่งเปิดตัวครั้งใหญ่ในวันที่ 7 ต.ค. 2561 ดังนั้นทุกอย่างจึงเป็นแบรนด์ใหม่ พนักงานมีความเป็นมิตร และคุณมีน้ำนิ่งฟรีที่ล็อบบี้ (เติมขวดของคุณเอง) ข้อดี - ห้องพักและโรงแรมสะอาดและเป็นระเบียบ - สระว่ายน้ำสวย - สถานการณ์ที่เงียบสงบ (ไม่มีเสียงดัง) - 2 สถานีจากจตุจักร - พนักงานเป็นกันเองข้อเสีย - ช่องทีวีส่วนใหญ่เป็นไทย ดังนั้นฉันไม่เข้าใจเลย อาจเพิ่มบางอย่างเช่น HBO โลกดาราภาพยนตร์จิ้งจอก สิ่งต่างประเทศข้างช่องข่าว - สำหรับฉันมันค่อนข้างไกลจากรถไฟฟ้า ถ้าคุณไม่ชอบเดินมันก็เป็นการออกกำลังกาย อาจจะมีรถรับส่งฟรีไปยังสถานีรถไฟฟ้าบีทีเอสที่ใกล้ที่สุดในครั้งต่อไป? - อาหารเช้าเหมือนเดิมเสมอ (ฉันพัก 4 คืน แต่ก็ดีนะ) ไข่คุณสามารถเลือกได้ 4 แบบทอดต้มไข่เจียวและไข่กวน c. ขนมปังปิ้งหรือครัวซองต์ ไม่กี่ด้านเช่นสลัด, ผลไม้, มันฝรั่ง ฯลฯ e. ไส้กรอกหมูหรือเบคอน นม, น้ำส้ม, น้ำนิ่ง, กาแฟ, ชา (เลือก 2) - ร้านอาหารไม่มี 24 ชั่วโมงดังนั้นหากคุณหิวโหยในเวลากลางคืนคุณต้องออกไปข้างนอก มันมืดและเงียบนิด ๆ ในเวลากลางคืน แต่มี 7/11 ใกล้เคียง อาจจะเป็นในอนาคตคุณสามารถเพิ่มช่องทีวีมากขึ้นตัวเลือกอาหารเช้ามากขึ้นและรถรับส่งฟรีไปยังสถานีรถไฟฟ้าบีทีเอส ขอบคุณ',\n",
       " 'โดยรวมแล้วมันเป็นเวลาที่ดีที่จะใช้เวลากับช่างฝีมือในห้องความสะอาดและพนักงานก็ดี แต่มันก็ยังมีบางอย่างเช่นไม่มีตู้เย็นในห้องและอุณหภูมิของน้ำไม่เสถียร',\n",
       " 'โรงแรมในรายละเอียดของงานฝีมือ การบริการในใจดีมาก ห้องพักสะอาด แต่ไม่มีตู้เย็น ไม่คุ้มกับอาหารเช้า เดินจากรถไฟฟ้าบีทีเอส 15 นาที',\n",
       " 'ฉันชอบพักที่โรงแรมนี้! หาง่ายอยู่ 1 กม. จากตลาดนัดสวนจตุจักร พนักงานน่ารักและช่วยเหลือดี ห้องพักสะอาด ฉันสนุกกับทุกช่วงเวลาที่นี่ จะกลับมาพักที่นี่เมื่ออยู่ในกรุงเทพ!',\n",
       " 'The hotel is great, feeling cozy yet very artistic. I like that even though the room is small but there is a big bathtub that can fit 2 grown-ups. Unfortunately, it was not allowed to use the pool.']"
      ]
     },
     "execution_count": 37,
     "metadata": {},
     "output_type": "execute_result"
    }
   ],
   "source": [
    "Reviews_list"
   ]
  },
  {
   "cell_type": "markdown",
   "id": "bc68ba69",
   "metadata": {},
   "source": [
    "# Implement Data To Pandas"
   ]
  },
  {
   "cell_type": "code",
   "execution_count": 38,
   "id": "27364384",
   "metadata": {},
   "outputs": [],
   "source": [
    "import pandas as pd\n",
    "import numpy as np\n",
    "\n",
    "table = pd.DataFrame([Reviews_list,Ratings_list]).T"
   ]
  },
  {
   "cell_type": "code",
   "execution_count": 39,
   "id": "d90998ff",
   "metadata": {},
   "outputs": [],
   "source": [
    "table.columns = ['Review', 'Rating']"
   ]
  },
  {
   "cell_type": "code",
   "execution_count": 40,
   "id": "e9b956ed",
   "metadata": {},
   "outputs": [],
   "source": [
    "table['Review'].replace('', np.nan, inplace=True)"
   ]
  },
  {
   "cell_type": "code",
   "execution_count": 41,
   "id": "ba849aa2",
   "metadata": {},
   "outputs": [
    {
     "data": {
      "text/html": [
       "<div>\n",
       "<style scoped>\n",
       "    .dataframe tbody tr th:only-of-type {\n",
       "        vertical-align: middle;\n",
       "    }\n",
       "\n",
       "    .dataframe tbody tr th {\n",
       "        vertical-align: top;\n",
       "    }\n",
       "\n",
       "    .dataframe thead th {\n",
       "        text-align: right;\n",
       "    }\n",
       "</style>\n",
       "<table border=\"1\" class=\"dataframe\">\n",
       "  <thead>\n",
       "    <tr style=\"text-align: right;\">\n",
       "      <th></th>\n",
       "      <th>Review</th>\n",
       "      <th>Rating</th>\n",
       "    </tr>\n",
       "  </thead>\n",
       "  <tbody>\n",
       "    <tr>\n",
       "      <th>0</th>\n",
       "      <td>เช็คอินช้าเหมือนทำงานไม่เป็น แจ้งเลขบุ๊คกิ้งก็...</td>\n",
       "      <td>5.9</td>\n",
       "    </tr>\n",
       "    <tr>\n",
       "      <th>1</th>\n",
       "      <td>สัญญาณโทรศัพท์เหลือแค่ 3G ค่ายดีแทค บริเวณในห้...</td>\n",
       "      <td>7.5</td>\n",
       "    </tr>\n",
       "    <tr>\n",
       "      <th>2</th>\n",
       "      <td>NaN</td>\n",
       "      <td>9.7</td>\n",
       "    </tr>\n",
       "    <tr>\n",
       "      <th>3</th>\n",
       "      <td>บริการดี ห้องสะอาด ห้องสวยโทนสีและดีไซน์เรียบง...</td>\n",
       "      <td>9.1</td>\n",
       "    </tr>\n",
       "    <tr>\n",
       "      <th>4</th>\n",
       "      <td>NaN</td>\n",
       "      <td>8.5</td>\n",
       "    </tr>\n",
       "    <tr>\n",
       "      <th>...</th>\n",
       "      <td>...</td>\n",
       "      <td>...</td>\n",
       "    </tr>\n",
       "    <tr>\n",
       "      <th>83</th>\n",
       "      <td>โรงแรมเพิ่งเปิดตัวครั้งใหญ่ในวันที่ 7 ต.ค. 256...</td>\n",
       "      <td>9.1</td>\n",
       "    </tr>\n",
       "    <tr>\n",
       "      <th>84</th>\n",
       "      <td>โดยรวมแล้วมันเป็นเวลาที่ดีที่จะใช้เวลากับช่างฝ...</td>\n",
       "      <td>9.4</td>\n",
       "    </tr>\n",
       "    <tr>\n",
       "      <th>85</th>\n",
       "      <td>โรงแรมในรายละเอียดของงานฝีมือ การบริการในใจดีม...</td>\n",
       "      <td>9.3</td>\n",
       "    </tr>\n",
       "    <tr>\n",
       "      <th>86</th>\n",
       "      <td>ฉันชอบพักที่โรงแรมนี้! หาง่ายอยู่ 1 กม. จากตลา...</td>\n",
       "      <td>9.1</td>\n",
       "    </tr>\n",
       "    <tr>\n",
       "      <th>87</th>\n",
       "      <td>The hotel is great, feeling cozy yet very arti...</td>\n",
       "      <td>9.4</td>\n",
       "    </tr>\n",
       "  </tbody>\n",
       "</table>\n",
       "<p>88 rows × 2 columns</p>\n",
       "</div>"
      ],
      "text/plain": [
       "                                               Review Rating\n",
       "0   เช็คอินช้าเหมือนทำงานไม่เป็น แจ้งเลขบุ๊คกิ้งก็...    5.9\n",
       "1   สัญญาณโทรศัพท์เหลือแค่ 3G ค่ายดีแทค บริเวณในห้...    7.5\n",
       "2                                                 NaN    9.7\n",
       "3   บริการดี ห้องสะอาด ห้องสวยโทนสีและดีไซน์เรียบง...    9.1\n",
       "4                                                 NaN    8.5\n",
       "..                                                ...    ...\n",
       "83  โรงแรมเพิ่งเปิดตัวครั้งใหญ่ในวันที่ 7 ต.ค. 256...    9.1\n",
       "84  โดยรวมแล้วมันเป็นเวลาที่ดีที่จะใช้เวลากับช่างฝ...    9.4\n",
       "85  โรงแรมในรายละเอียดของงานฝีมือ การบริการในใจดีม...    9.3\n",
       "86  ฉันชอบพักที่โรงแรมนี้! หาง่ายอยู่ 1 กม. จากตลา...    9.1\n",
       "87  The hotel is great, feeling cozy yet very arti...    9.4\n",
       "\n",
       "[88 rows x 2 columns]"
      ]
     },
     "execution_count": 41,
     "metadata": {},
     "output_type": "execute_result"
    }
   ],
   "source": [
    "table"
   ]
  },
  {
   "cell_type": "code",
   "execution_count": 42,
   "id": "dad3a755",
   "metadata": {},
   "outputs": [
    {
     "data": {
      "text/html": [
       "<div>\n",
       "<style scoped>\n",
       "    .dataframe tbody tr th:only-of-type {\n",
       "        vertical-align: middle;\n",
       "    }\n",
       "\n",
       "    .dataframe tbody tr th {\n",
       "        vertical-align: top;\n",
       "    }\n",
       "\n",
       "    .dataframe thead th {\n",
       "        text-align: right;\n",
       "    }\n",
       "</style>\n",
       "<table border=\"1\" class=\"dataframe\">\n",
       "  <thead>\n",
       "    <tr style=\"text-align: right;\">\n",
       "      <th></th>\n",
       "      <th>index</th>\n",
       "      <th>Review</th>\n",
       "      <th>Rating</th>\n",
       "    </tr>\n",
       "  </thead>\n",
       "  <tbody>\n",
       "    <tr>\n",
       "      <th>0</th>\n",
       "      <td>0</td>\n",
       "      <td>เช็คอินช้าเหมือนทำงานไม่เป็น แจ้งเลขบุ๊คกิ้งก็...</td>\n",
       "      <td>5.9</td>\n",
       "    </tr>\n",
       "    <tr>\n",
       "      <th>1</th>\n",
       "      <td>1</td>\n",
       "      <td>สัญญาณโทรศัพท์เหลือแค่ 3G ค่ายดีแทค บริเวณในห้...</td>\n",
       "      <td>7.5</td>\n",
       "    </tr>\n",
       "    <tr>\n",
       "      <th>2</th>\n",
       "      <td>3</td>\n",
       "      <td>บริการดี ห้องสะอาด ห้องสวยโทนสีและดีไซน์เรียบง...</td>\n",
       "      <td>9.1</td>\n",
       "    </tr>\n",
       "    <tr>\n",
       "      <th>3</th>\n",
       "      <td>5</td>\n",
       "      <td>ประทับใจมากๆ ต้องไปอีกแน่นอนค่ะ</td>\n",
       "      <td>10</td>\n",
       "    </tr>\n",
       "    <tr>\n",
       "      <th>4</th>\n",
       "      <td>6</td>\n",
       "      <td>มาพักที่นี่ตลอดค่า ห้องสวย สะอาดมาก การเดินทาง...</td>\n",
       "      <td>9.4</td>\n",
       "    </tr>\n",
       "    <tr>\n",
       "      <th>...</th>\n",
       "      <td>...</td>\n",
       "      <td>...</td>\n",
       "      <td>...</td>\n",
       "    </tr>\n",
       "    <tr>\n",
       "      <th>68</th>\n",
       "      <td>83</td>\n",
       "      <td>โรงแรมเพิ่งเปิดตัวครั้งใหญ่ในวันที่ 7 ต.ค. 256...</td>\n",
       "      <td>9.1</td>\n",
       "    </tr>\n",
       "    <tr>\n",
       "      <th>69</th>\n",
       "      <td>84</td>\n",
       "      <td>โดยรวมแล้วมันเป็นเวลาที่ดีที่จะใช้เวลากับช่างฝ...</td>\n",
       "      <td>9.4</td>\n",
       "    </tr>\n",
       "    <tr>\n",
       "      <th>70</th>\n",
       "      <td>85</td>\n",
       "      <td>โรงแรมในรายละเอียดของงานฝีมือ การบริการในใจดีม...</td>\n",
       "      <td>9.3</td>\n",
       "    </tr>\n",
       "    <tr>\n",
       "      <th>71</th>\n",
       "      <td>86</td>\n",
       "      <td>ฉันชอบพักที่โรงแรมนี้! หาง่ายอยู่ 1 กม. จากตลา...</td>\n",
       "      <td>9.1</td>\n",
       "    </tr>\n",
       "    <tr>\n",
       "      <th>72</th>\n",
       "      <td>87</td>\n",
       "      <td>The hotel is great, feeling cozy yet very arti...</td>\n",
       "      <td>9.4</td>\n",
       "    </tr>\n",
       "  </tbody>\n",
       "</table>\n",
       "<p>73 rows × 3 columns</p>\n",
       "</div>"
      ],
      "text/plain": [
       "    index                                             Review Rating\n",
       "0       0  เช็คอินช้าเหมือนทำงานไม่เป็น แจ้งเลขบุ๊คกิ้งก็...    5.9\n",
       "1       1  สัญญาณโทรศัพท์เหลือแค่ 3G ค่ายดีแทค บริเวณในห้...    7.5\n",
       "2       3  บริการดี ห้องสะอาด ห้องสวยโทนสีและดีไซน์เรียบง...    9.1\n",
       "3       5                    ประทับใจมากๆ ต้องไปอีกแน่นอนค่ะ     10\n",
       "4       6  มาพักที่นี่ตลอดค่า ห้องสวย สะอาดมาก การเดินทาง...    9.4\n",
       "..    ...                                                ...    ...\n",
       "68     83  โรงแรมเพิ่งเปิดตัวครั้งใหญ่ในวันที่ 7 ต.ค. 256...    9.1\n",
       "69     84  โดยรวมแล้วมันเป็นเวลาที่ดีที่จะใช้เวลากับช่างฝ...    9.4\n",
       "70     85  โรงแรมในรายละเอียดของงานฝีมือ การบริการในใจดีม...    9.3\n",
       "71     86  ฉันชอบพักที่โรงแรมนี้! หาง่ายอยู่ 1 กม. จากตลา...    9.1\n",
       "72     87  The hotel is great, feeling cozy yet very arti...    9.4\n",
       "\n",
       "[73 rows x 3 columns]"
      ]
     },
     "execution_count": 42,
     "metadata": {},
     "output_type": "execute_result"
    }
   ],
   "source": [
    "table = table.dropna()\n",
    "table.reset_index(inplace=True)\n",
    "table"
   ]
  },
  {
   "cell_type": "code",
   "execution_count": 43,
   "id": "dff0423a",
   "metadata": {},
   "outputs": [],
   "source": [
    "table = table.drop(['index'],axis=1)"
   ]
  },
  {
   "cell_type": "code",
   "execution_count": 44,
   "id": "18265b8e",
   "metadata": {},
   "outputs": [
    {
     "data": {
      "text/html": [
       "<div>\n",
       "<style scoped>\n",
       "    .dataframe tbody tr th:only-of-type {\n",
       "        vertical-align: middle;\n",
       "    }\n",
       "\n",
       "    .dataframe tbody tr th {\n",
       "        vertical-align: top;\n",
       "    }\n",
       "\n",
       "    .dataframe thead th {\n",
       "        text-align: right;\n",
       "    }\n",
       "</style>\n",
       "<table border=\"1\" class=\"dataframe\">\n",
       "  <thead>\n",
       "    <tr style=\"text-align: right;\">\n",
       "      <th></th>\n",
       "      <th>Review</th>\n",
       "      <th>Rating</th>\n",
       "    </tr>\n",
       "  </thead>\n",
       "  <tbody>\n",
       "    <tr>\n",
       "      <th>0</th>\n",
       "      <td>เช็คอินช้าเหมือนทำงานไม่เป็น แจ้งเลขบุ๊คกิ้งก็...</td>\n",
       "      <td>5.9</td>\n",
       "    </tr>\n",
       "    <tr>\n",
       "      <th>1</th>\n",
       "      <td>สัญญาณโทรศัพท์เหลือแค่ 3G ค่ายดีแทค บริเวณในห้...</td>\n",
       "      <td>7.5</td>\n",
       "    </tr>\n",
       "    <tr>\n",
       "      <th>2</th>\n",
       "      <td>บริการดี ห้องสะอาด ห้องสวยโทนสีและดีไซน์เรียบง...</td>\n",
       "      <td>9.1</td>\n",
       "    </tr>\n",
       "    <tr>\n",
       "      <th>3</th>\n",
       "      <td>ประทับใจมากๆ ต้องไปอีกแน่นอนค่ะ</td>\n",
       "      <td>10</td>\n",
       "    </tr>\n",
       "    <tr>\n",
       "      <th>4</th>\n",
       "      <td>มาพักที่นี่ตลอดค่า ห้องสวย สะอาดมาก การเดินทาง...</td>\n",
       "      <td>9.4</td>\n",
       "    </tr>\n",
       "    <tr>\n",
       "      <th>...</th>\n",
       "      <td>...</td>\n",
       "      <td>...</td>\n",
       "    </tr>\n",
       "    <tr>\n",
       "      <th>68</th>\n",
       "      <td>โรงแรมเพิ่งเปิดตัวครั้งใหญ่ในวันที่ 7 ต.ค. 256...</td>\n",
       "      <td>9.1</td>\n",
       "    </tr>\n",
       "    <tr>\n",
       "      <th>69</th>\n",
       "      <td>โดยรวมแล้วมันเป็นเวลาที่ดีที่จะใช้เวลากับช่างฝ...</td>\n",
       "      <td>9.4</td>\n",
       "    </tr>\n",
       "    <tr>\n",
       "      <th>70</th>\n",
       "      <td>โรงแรมในรายละเอียดของงานฝีมือ การบริการในใจดีม...</td>\n",
       "      <td>9.3</td>\n",
       "    </tr>\n",
       "    <tr>\n",
       "      <th>71</th>\n",
       "      <td>ฉันชอบพักที่โรงแรมนี้! หาง่ายอยู่ 1 กม. จากตลา...</td>\n",
       "      <td>9.1</td>\n",
       "    </tr>\n",
       "    <tr>\n",
       "      <th>72</th>\n",
       "      <td>The hotel is great, feeling cozy yet very arti...</td>\n",
       "      <td>9.4</td>\n",
       "    </tr>\n",
       "  </tbody>\n",
       "</table>\n",
       "<p>73 rows × 2 columns</p>\n",
       "</div>"
      ],
      "text/plain": [
       "                                               Review Rating\n",
       "0   เช็คอินช้าเหมือนทำงานไม่เป็น แจ้งเลขบุ๊คกิ้งก็...    5.9\n",
       "1   สัญญาณโทรศัพท์เหลือแค่ 3G ค่ายดีแทค บริเวณในห้...    7.5\n",
       "2   บริการดี ห้องสะอาด ห้องสวยโทนสีและดีไซน์เรียบง...    9.1\n",
       "3                     ประทับใจมากๆ ต้องไปอีกแน่นอนค่ะ     10\n",
       "4   มาพักที่นี่ตลอดค่า ห้องสวย สะอาดมาก การเดินทาง...    9.4\n",
       "..                                                ...    ...\n",
       "68  โรงแรมเพิ่งเปิดตัวครั้งใหญ่ในวันที่ 7 ต.ค. 256...    9.1\n",
       "69  โดยรวมแล้วมันเป็นเวลาที่ดีที่จะใช้เวลากับช่างฝ...    9.4\n",
       "70  โรงแรมในรายละเอียดของงานฝีมือ การบริการในใจดีม...    9.3\n",
       "71  ฉันชอบพักที่โรงแรมนี้! หาง่ายอยู่ 1 กม. จากตลา...    9.1\n",
       "72  The hotel is great, feeling cozy yet very arti...    9.4\n",
       "\n",
       "[73 rows x 2 columns]"
      ]
     },
     "execution_count": 44,
     "metadata": {},
     "output_type": "execute_result"
    }
   ],
   "source": [
    "table"
   ]
  },
  {
   "cell_type": "code",
   "execution_count": 46,
   "id": "1ca57a3b",
   "metadata": {},
   "outputs": [],
   "source": [
    "table.to_csv(\"Reviews&Ratings_1st.csv\", encoding=\"utf-8\") "
   ]
  }
 ],
 "metadata": {
  "kernelspec": {
   "display_name": "Python 3 (ipykernel)",
   "language": "python",
   "name": "python3"
  },
  "language_info": {
   "codemirror_mode": {
    "name": "ipython",
    "version": 3
   },
   "file_extension": ".py",
   "mimetype": "text/x-python",
   "name": "python",
   "nbconvert_exporter": "python",
   "pygments_lexer": "ipython3",
   "version": "3.9.13"
  }
 },
 "nbformat": 4,
 "nbformat_minor": 5
}
