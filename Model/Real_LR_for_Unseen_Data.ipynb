{
 "cells": [
  {
   "cell_type": "markdown",
   "metadata": {
    "id": "8XZtmDY4brya"
   },
   "source": [
    "# Import Data"
   ]
  },
  {
   "cell_type": "code",
   "execution_count": 1,
   "metadata": {
    "id": "U_ysTsB9a_po"
   },
   "outputs": [],
   "source": [
    "import pandas as pd\n",
    "import numpy as np"
   ]
  },
  {
   "cell_type": "code",
   "execution_count": 2,
   "metadata": {
    "id": "zUW2EzS-bSrM"
   },
   "outputs": [],
   "source": [
    "df = pd.read_csv('all_data.csv').drop(['Unnamed: 0'],axis=1)"
   ]
  },
  {
   "cell_type": "code",
   "execution_count": 3,
   "metadata": {
    "colab": {
     "base_uri": "https://localhost:8080/",
     "height": 424
    },
    "id": "AWPNMAE1bloD",
    "outputId": "86ed0ad3-dc5f-47e1-c453-a6189cc5d82d"
   },
   "outputs": [
    {
     "data": {
      "text/html": [
       "<div>\n",
       "<style scoped>\n",
       "    .dataframe tbody tr th:only-of-type {\n",
       "        vertical-align: middle;\n",
       "    }\n",
       "\n",
       "    .dataframe tbody tr th {\n",
       "        vertical-align: top;\n",
       "    }\n",
       "\n",
       "    .dataframe thead th {\n",
       "        text-align: right;\n",
       "    }\n",
       "</style>\n",
       "<table border=\"1\" class=\"dataframe\">\n",
       "  <thead>\n",
       "    <tr style=\"text-align: right;\">\n",
       "      <th></th>\n",
       "      <th>Review</th>\n",
       "      <th>Label</th>\n",
       "    </tr>\n",
       "  </thead>\n",
       "  <tbody>\n",
       "    <tr>\n",
       "      <th>0</th>\n",
       "      <td>น่าเกลียดมาก มาก บริการเป็น bitchy bitchy ห้อง...</td>\n",
       "      <td>Negative</td>\n",
       "    </tr>\n",
       "    <tr>\n",
       "      <th>1</th>\n",
       "      <td>ใกล้ตลาดประตูน้ำ หากคุณต้องการซื้อสินค้าในตลาด...</td>\n",
       "      <td>Positive</td>\n",
       "    </tr>\n",
       "    <tr>\n",
       "      <th>2</th>\n",
       "      <td>ไม่ดีมากไม่สะอาดห้องขี้เกียจพนักงาน</td>\n",
       "      <td>Negative</td>\n",
       "    </tr>\n",
       "    <tr>\n",
       "      <th>3</th>\n",
       "      <td>ตลาดที่ดีและใกล้กับห้างสรรพสินค้า</td>\n",
       "      <td>Positive</td>\n",
       "    </tr>\n",
       "    <tr>\n",
       "      <th>4</th>\n",
       "      <td>นอนหลับได้ดีเพียงแค่ต้องการเข้าไปในตรอกและรถตุ...</td>\n",
       "      <td>Negative</td>\n",
       "    </tr>\n",
       "    <tr>\n",
       "      <th>...</th>\n",
       "      <td>...</td>\n",
       "      <td>...</td>\n",
       "    </tr>\n",
       "    <tr>\n",
       "      <th>2953</th>\n",
       "      <td>สถานที่ยุทธศาสตร์ใกล้กับ bts และช้อปปิ้ง</td>\n",
       "      <td>Positive</td>\n",
       "    </tr>\n",
       "    <tr>\n",
       "      <th>2954</th>\n",
       "      <td>ทำเลดีใกล้ bts</td>\n",
       "      <td>Positive</td>\n",
       "    </tr>\n",
       "    <tr>\n",
       "      <th>2955</th>\n",
       "      <td>โรงแรมสบาย ตำแหน่งที่ดีที่สุด ปลอดภัย</td>\n",
       "      <td>Positive</td>\n",
       "    </tr>\n",
       "    <tr>\n",
       "      <th>2956</th>\n",
       "      <td>บริการดีทำเลสะดวก</td>\n",
       "      <td>Positive</td>\n",
       "    </tr>\n",
       "    <tr>\n",
       "      <th>2957</th>\n",
       "      <td>ห้องพักของโรงแรมคับแคบผนังไม้อัดมีเสียงดังมากจ...</td>\n",
       "      <td>Negative</td>\n",
       "    </tr>\n",
       "  </tbody>\n",
       "</table>\n",
       "<p>2958 rows × 2 columns</p>\n",
       "</div>"
      ],
      "text/plain": [
       "                                                 Review     Label\n",
       "0     น่าเกลียดมาก มาก บริการเป็น bitchy bitchy ห้อง...  Negative\n",
       "1     ใกล้ตลาดประตูน้ำ หากคุณต้องการซื้อสินค้าในตลาด...  Positive\n",
       "2                   ไม่ดีมากไม่สะอาดห้องขี้เกียจพนักงาน  Negative\n",
       "3                     ตลาดที่ดีและใกล้กับห้างสรรพสินค้า  Positive\n",
       "4     นอนหลับได้ดีเพียงแค่ต้องการเข้าไปในตรอกและรถตุ...  Negative\n",
       "...                                                 ...       ...\n",
       "2953           สถานที่ยุทธศาสตร์ใกล้กับ bts และช้อปปิ้ง  Positive\n",
       "2954                                     ทำเลดีใกล้ bts  Positive\n",
       "2955              โรงแรมสบาย ตำแหน่งที่ดีที่สุด ปลอดภัย  Positive\n",
       "2956                                  บริการดีทำเลสะดวก  Positive\n",
       "2957  ห้องพักของโรงแรมคับแคบผนังไม้อัดมีเสียงดังมากจ...  Negative\n",
       "\n",
       "[2958 rows x 2 columns]"
      ]
     },
     "execution_count": 3,
     "metadata": {},
     "output_type": "execute_result"
    }
   ],
   "source": [
    "df"
   ]
  },
  {
   "cell_type": "code",
   "execution_count": 4,
   "metadata": {
    "colab": {
     "base_uri": "https://localhost:8080/"
    },
    "id": "BH2nPA8MAA8P",
    "outputId": "0bb47616-7fb4-4285-f9b8-6bc360c22bd1"
   },
   "outputs": [
    {
     "data": {
      "text/plain": [
       "Positive    2005\n",
       "Negative     953\n",
       "Name: Label, dtype: int64"
      ]
     },
     "execution_count": 4,
     "metadata": {},
     "output_type": "execute_result"
    }
   ],
   "source": [
    "df['Label'].value_counts()"
   ]
  },
  {
   "cell_type": "markdown",
   "metadata": {
    "id": "FYuI2sfCb0D9"
   },
   "source": [
    "## ตัดคำ"
   ]
  },
  {
   "cell_type": "code",
   "execution_count": 5,
   "metadata": {
    "id": "nB00mS0WEQ8P"
   },
   "outputs": [],
   "source": [
    "from pythainlp.tokenize import word_tokenize"
   ]
  },
  {
   "cell_type": "code",
   "execution_count": 6,
   "metadata": {
    "id": "bJU3b9hwEQ8P"
   },
   "outputs": [],
   "source": [
    "def tokenize(text):\n",
    "    return word_tokenize(text,engine ='attacut', keep_whitespace=False)"
   ]
  },
  {
   "cell_type": "code",
   "execution_count": 7,
   "metadata": {
    "id": "G9rhHdyJEQ8Q"
   },
   "outputs": [],
   "source": [
    "df_tokened = df['Review'].apply(tokenize)"
   ]
  },
  {
   "cell_type": "code",
   "execution_count": 8,
   "metadata": {
    "colab": {
     "base_uri": "https://localhost:8080/"
    },
    "id": "71AJEVmFEQ8Q",
    "outputId": "4c8c63d0-5cfb-4605-e25f-6e3c433c77c3"
   },
   "outputs": [
    {
     "data": {
      "text/plain": [
       "0       [น่า, เกลียด, มาก, มาก, บริการ, เป็น, bitchy, ...\n",
       "1       [ใกล้, ตลาด, ประตู, น้ำ, หาก, คุณ, ต้องการ, ซื...\n",
       "2       [ไม่, ดี, มาก, ไม่, สะอาด, ห้อง, ขี้, เกียจ, พ...\n",
       "3       [ตลาด, ที่, ดี, และ, ใกล้, กับ, ห้าง, สรรพสินค้า]\n",
       "4       [นอน, หลับ, ได้, ดี, เพียง, แค่, ต้องการ, เข้า...\n",
       "                              ...                        \n",
       "2953    [สถานที่, ยุทธศาสตร์, ใกล้, กับ, bts, และ, ช้อ...\n",
       "2954                                [ทำเล, ดี, ใกล้, bts]\n",
       "2955    [โรงแรม, สบาย, ตำแหน่ง, ที่, ดี, ที่สุด, ปลอด,...\n",
       "2956                            [บริการ, ดี, ทำเล, สะดวก]\n",
       "2957    [ห้อง, พัก, ของ, โรง, แรม, คับแคบ, ผนัง, ไม้, ...\n",
       "Name: Review, Length: 2958, dtype: object"
      ]
     },
     "execution_count": 8,
     "metadata": {},
     "output_type": "execute_result"
    }
   ],
   "source": [
    "df_tokened"
   ]
  },
  {
   "cell_type": "code",
   "execution_count": 9,
   "metadata": {
    "colab": {
     "base_uri": "https://localhost:8080/"
    },
    "id": "3ZCjsqeCEQ8Q",
    "outputId": "ea9760a3-45bf-4d27-db67-c433ec76e9ac"
   },
   "outputs": [
    {
     "name": "stdout",
     "output_type": "stream",
     "text": [
      "['น่า', 'เกลียด', 'มาก', 'มาก', 'บริการ', 'เป็น', 'bitchy', 'bitchy', 'ห้อง', 'ส่ง', 'กลิ่น', 'มี', 'แมลง', 'อยู่', 'ลูก', 'พี่ลูกน้อง', 'มี', 'โรค', 'หัวใจ', 'จนกระทั่ง', 'หายใจ', 'ถี่', 'ขอ', 'ให้', 'ย้าย', 'ไป', 'คืน', 'ที่', 'สอง', 'ก็', 'ไม่', 'ได้', 'รับ', 'แม้ว่า', 'จอง', 'คืน', 'เหตุผล', 'เต็ม', 'แม้', 'ว่า', 'จะ', 'ว่างเปล่า', 'แต่', 'หลาย', 'คน', 'เพิ่ง', 'จอง', 'ทารุณ ซาดิสม์', 'ไม่', 'มี', 'trolly', 'อยู่', 'ไม่', 'มี', 'พนักงาน', 'ยก', 'กระเป๋า', 'ที่', 'ยก', 'มัน', 'ขึ้น', 'มา', 'เตรียม', 'ตัว', 'ให้', 'พร้อม', 'ช้อปปิ้ง', 'มากมาย', 'เตรียม', 'พร้อม', 'ที่', 'จะ', 'นำ', 'ยก', 'ตัว', 'เอง', 'เมื่อ', 'อยู่', 'ที่', 'นี่', 'ไม่', 'มี', 'ครั้ง', 'อยู่', 'ที่', 'นี่', 'นุ่น', 'ของ', 'ต้นนุ่น', 'ไม่', 'แนะนำ', 'จริง']\n",
      "['ใกล้', 'ตลาด', 'ประตู', 'น้ำ', 'หาก', 'คุณ', 'ต้องการ', 'ซื้อ', 'สินค้า', 'ใน', 'ตลาด', 'pretunam', 'เพียง', 'แค่', 'เดิน', 'นี่', 'เป็น', 'ครั้ง', 'ที่', 'สอง', 'ที่', 'เรา', 'มา', 'อยู่', 'ที่', 'นี่']\n",
      "['ไม่', 'ดี', 'มาก', 'ไม่', 'สะอาด', 'ห้อง', 'ขี้', 'เกียจ', 'พนักงาน']\n",
      "['ตลาด', 'ที่', 'ดี', 'และ', 'ใกล้', 'กับ', 'ห้าง', 'สรรพสินค้า']\n",
      "['นอน', 'หลับ', 'ได้', 'ดี', 'เพียง', 'แค่', 'ต้องการ', 'เข้า', 'ไป', 'ใน', 'ตรอก', 'และ', 'รถ', 'ตุ๊กตุ๊ก', 'พวก', 'เขา', 'ไม่', 'รู้', 'ตำแหน่ง', 'ของ', 'โรง', 'แรม', 'อย่าง', 'ชัดเจน', 'โรง', 'แรม', 'ได้', 'รับ', 'การ', 'ทำ', 'ความ', 'สะอาด', 'ทำไม', 'ทุก', 'ครั้ง', 'ที่', 'เรา', 'ต้องการ', 'ออก', 'ไป', 'ช้อปปิ้ง', 'คีย์', 'ห้อง', 'ต้อง', 'ทิ้ง', 'ไว้', 'ที่', 'ล็อบบี้']\n",
      "['อาคาร', 'เก่า', 'เพราะ', 'เป็น', 'โรง', 'แรม', 'ระดับ', 'ดาว', 'wifi', 'อยู่', 'ที่', 'ล็อบบี้', 'บริการ', 'รักษา', 'บ้าน', 'เป็น', 'สิ่ง', 'ที่', 'ดี', 'มาก', 'ห้อง', 'สำหรับ', 'สอง', 'คน', 'มี', 'ผ้า', 'เช็ด', 'ตัว', 'และ', 'สบู่', 'แต่', 'ไม่', 'มี', 'แชมพู', 'และ', 'ยา', 'สี', 'ฟัน', 'ห้อง', 'ให้', 'น้ำ', 'ดื่ม', 'สำหรับ', 'ท่าน', 'และ', 'ให้', 'เรา', 'ขณะ', 'ที่', 'เรา', 'มี', 'ห้อง', 'แต่ง', 'หน้า', 'แผนก', 'ต้อนรับ', 'ส่วน', 'หน้า', 'เป็น', 'เช่น', 'นั้น', 'เธอ', 'เอาใจใส่', 'ผู้', 'หญิง', 'ที่', 'เคร่งขรึมนิดหน่อย', 'เมื่อ', 'ดิฉัน', 'ให้', 'คำ', 'ถาม', 'ที่', 'น่า', 'สนใจ', 'แก่', 'เธอ', 'แต่', 'ลูกเรือ', 'คน', 'อื่น', 'ก็', 'ดี', 'และ', 'ใจดี', 'ไม่', 'ใช่', 'ปัญหา', 'ใหญ่', 'ลูก', 'เรือ', 'คน', 'หนึ่ง', 'พา', 'ฉัน', 'ไป', 'ที่', 'ตลาด', 'ประตู', 'น้ำ', 'โดย', 'สามารถ', 'เดิน', 'ได้', 'ราคา', 'เป็น', 'มูลค่า', 'กับ', 'บริการ']\n",
      "['การ', 'บริการ', 'ที่', 'ดี', 'ใกล้', 'กับ', 'ตลาด', 'และ', 'ตลาด', 'ประตู', 'น้ำ', 'ประตู', 'น้ำ', 'ห้าง', 'สรรพสินค้า', 'แฟชั่น', 'ถ้า', 'คุณ', 'ต้องการ', 'เพื่อ', 'ให้', 'พอดี', 'กับ', 'การ', 'ช้อปปิ้ง', 'ที่', 'นี่', 'เพราะ', 'มี', 'เครื่อง', 'ชั่ง', 'น้ำหนัก', 'ใน', 'โรง', 'แรม', 'ของ', 'เธอ']\n",
      "['จาก', 'การ', 'ขึ้น', 'มา', 'เพื่อ', 'ตรวจสอบ', 'คำ', 'พูด', 'ที่', 'ดี', 'มาก', 'ห้อง', 'พัก', 'โอเค', 'แม้', 'ว่า', 'มัน', 'จะ', 'ต้อง', 'ไป', 'ขึ้น', 'บันได', 'แต่', 'ไม่', 'มี', 'น้ำ', 'ร้อน', 'อย่าง', 'ไร', 'ก็ตาม', 'ยอดเยี่ยม']\n",
      "['โรง', 'แรม', 'สะอาด', 'แผนที่', 'ไม่', 'เคย', 'หาย', 'ไป', 'ผู้', 'เป็น', 'ที่', 'รัก', 'น่ารัก']\n",
      "['แผนก', 'ต้อนรับ', 'ส่วน', 'หน้า', 'อาจ', 'มี', 'ประโยชน์', 'มาก', 'แต่', 'ฉัน', 'พัก', 'แค่', 'คืน', 'เท่า', 'นั้น', 'ห้อง', 'พัก', 'สะอาด', 'แอร์', 'ไม่', 'เย็น', 'ดัง', 'นั้น', 'อาจ', 'จำเป็น', 'ต้อง', 'บำรุงรักษา', 'ส่วน', 'ที่', 'เหลือ', 'ก็', 'โอเค', 'สำหรับ', 'คน', 'โสด', 'เท่า', 'นั้น', 'และ', 'สำหรับ', 'การ', 'นอน', 'หลับ', 'เป็น', 'เวลา', 'หลาย', 'ชั่วโมง', 'เท่า', 'นั้น']\n"
     ]
    }
   ],
   "source": [
    "for i in range(10):\n",
    "    print(df_tokened[i])"
   ]
  },
  {
   "cell_type": "markdown",
   "metadata": {
    "id": "Gd3PVyhyklvH"
   },
   "source": [
    "## TF-IDF"
   ]
  },
  {
   "cell_type": "code",
   "execution_count": 10,
   "metadata": {
    "id": "i1P2jBCsErJ2"
   },
   "outputs": [],
   "source": [
    "from sklearn.feature_extraction.text import TfidfVectorizer\n",
    "from pythainlp.corpus import thai_stopwords"
   ]
  },
  {
   "cell_type": "code",
   "execution_count": 11,
   "metadata": {
    "id": "kIW1OrXUf5aF"
   },
   "outputs": [],
   "source": [
    "# Thai Stop Words\n",
    "TH__stop = list(thai_stopwords())"
   ]
  },
  {
   "cell_type": "code",
   "execution_count": 12,
   "metadata": {
    "colab": {
     "base_uri": "https://localhost:8080/"
    },
    "id": "pE5dUfQpErJ2",
    "outputId": "442afbc6-98d2-4d06-e09e-adf443deaee7"
   },
   "outputs": [
    {
     "data": {
      "text/plain": [
       "TfidfVectorizer(max_features=150000, ngram_range=(1, 2),\n",
       "                stop_words=['แยะ', 'จรด', 'ข้าฯ', 'ซะก่อน', 'จำ', 'เช่นก่อน',\n",
       "                            'เขียน', 'เดียวกัน', 'กลับ', 'มากมาย', 'วันนี้',\n",
       "                            'ดั่ง', 'จัง', 'เท่าใด', 'เชื่อมั่น', 'ทุกเมื่อ',\n",
       "                            'เอา', 'ใครๆ', 'ตลอดศก', 'เพื่อที่', 'สุดๆ',\n",
       "                            'แท้จริง', 'ทุกคน', 'คราที่', 'แต่ที่', 'กำลัง',\n",
       "                            'ละ', 'แม้ว่า', 'ข้างล่าง', 'อย่างนั้น', ...])"
      ]
     },
     "execution_count": 12,
     "metadata": {},
     "output_type": "execute_result"
    }
   ],
   "source": [
    "TfidfVectorizer(stop_words = TH__stop, ngram_range=(1, 2), lowercase=True, max_features=150000)"
   ]
  },
  {
   "cell_type": "code",
   "execution_count": 13,
   "metadata": {
    "id": "YlhMGqRgErJ2"
   },
   "outputs": [],
   "source": [
    "def identity_fun(text):\n",
    "    return text\n",
    "\n",
    "tfidf_vectorizer = TfidfVectorizer(tokenizer=identity_fun, #does no extra tokenizing\n",
    "                                   preprocessor=identity_fun, #no extra preprocessor\n",
    "                                   token_pattern=None)"
   ]
  },
  {
   "cell_type": "code",
   "execution_count": 14,
   "metadata": {
    "colab": {
     "base_uri": "https://localhost:8080/",
     "height": 557
    },
    "id": "DDV4nQKUErJ3",
    "outputId": "40a5635f-238a-45a6-f61c-c2b1ca154df9"
   },
   "outputs": [
    {
     "name": "stderr",
     "output_type": "stream",
     "text": [
      "C:\\Users\\FAIR\\anaconda3\\lib\\site-packages\\sklearn\\utils\\deprecation.py:87: FutureWarning: Function get_feature_names is deprecated; get_feature_names is deprecated in 1.0 and will be removed in 1.2. Please use get_feature_names_out instead.\n",
      "  warnings.warn(msg, category=FutureWarning)\n"
     ]
    },
    {
     "data": {
      "text/html": [
       "<div>\n",
       "<style scoped>\n",
       "    .dataframe tbody tr th:only-of-type {\n",
       "        vertical-align: middle;\n",
       "    }\n",
       "\n",
       "    .dataframe tbody tr th {\n",
       "        vertical-align: top;\n",
       "    }\n",
       "\n",
       "    .dataframe thead th {\n",
       "        text-align: right;\n",
       "    }\n",
       "</style>\n",
       "<table border=\"1\" class=\"dataframe\">\n",
       "  <thead>\n",
       "    <tr style=\"text-align: right;\">\n",
       "      <th></th>\n",
       "      <th>a</th>\n",
       "      <th>abang</th>\n",
       "      <th>abf</th>\n",
       "      <th>ac</th>\n",
       "      <th>accor</th>\n",
       "      <th>ai</th>\n",
       "      <th>aircond</th>\n",
       "      <th>airport</th>\n",
       "      <th>airportlink</th>\n",
       "      <th>aja</th>\n",
       "      <th>...</th>\n",
       "      <th>ไหล</th>\n",
       "      <th>ไหว</th>\n",
       "      <th>ไหว้</th>\n",
       "      <th>ไอ</th>\n",
       "      <th>ไอ้</th>\n",
       "      <th>ไฮเทคโนโลยี</th>\n",
       "      <th>•</th>\n",
       "      <th>•อิสระ</th>\n",
       "      <th>️</th>\n",
       "      <th>️มี</th>\n",
       "    </tr>\n",
       "  </thead>\n",
       "  <tbody>\n",
       "    <tr>\n",
       "      <th>0</th>\n",
       "      <td>0.0</td>\n",
       "      <td>0.0</td>\n",
       "      <td>0.0</td>\n",
       "      <td>0.0</td>\n",
       "      <td>0.0</td>\n",
       "      <td>0.0</td>\n",
       "      <td>0.0</td>\n",
       "      <td>0.0</td>\n",
       "      <td>0.0</td>\n",
       "      <td>0.0</td>\n",
       "      <td>...</td>\n",
       "      <td>0.0</td>\n",
       "      <td>0.0</td>\n",
       "      <td>0.0</td>\n",
       "      <td>0.0</td>\n",
       "      <td>0.0</td>\n",
       "      <td>0.0</td>\n",
       "      <td>0.0</td>\n",
       "      <td>0.0</td>\n",
       "      <td>0.0</td>\n",
       "      <td>0.0</td>\n",
       "    </tr>\n",
       "    <tr>\n",
       "      <th>1</th>\n",
       "      <td>0.0</td>\n",
       "      <td>0.0</td>\n",
       "      <td>0.0</td>\n",
       "      <td>0.0</td>\n",
       "      <td>0.0</td>\n",
       "      <td>0.0</td>\n",
       "      <td>0.0</td>\n",
       "      <td>0.0</td>\n",
       "      <td>0.0</td>\n",
       "      <td>0.0</td>\n",
       "      <td>...</td>\n",
       "      <td>0.0</td>\n",
       "      <td>0.0</td>\n",
       "      <td>0.0</td>\n",
       "      <td>0.0</td>\n",
       "      <td>0.0</td>\n",
       "      <td>0.0</td>\n",
       "      <td>0.0</td>\n",
       "      <td>0.0</td>\n",
       "      <td>0.0</td>\n",
       "      <td>0.0</td>\n",
       "    </tr>\n",
       "    <tr>\n",
       "      <th>2</th>\n",
       "      <td>0.0</td>\n",
       "      <td>0.0</td>\n",
       "      <td>0.0</td>\n",
       "      <td>0.0</td>\n",
       "      <td>0.0</td>\n",
       "      <td>0.0</td>\n",
       "      <td>0.0</td>\n",
       "      <td>0.0</td>\n",
       "      <td>0.0</td>\n",
       "      <td>0.0</td>\n",
       "      <td>...</td>\n",
       "      <td>0.0</td>\n",
       "      <td>0.0</td>\n",
       "      <td>0.0</td>\n",
       "      <td>0.0</td>\n",
       "      <td>0.0</td>\n",
       "      <td>0.0</td>\n",
       "      <td>0.0</td>\n",
       "      <td>0.0</td>\n",
       "      <td>0.0</td>\n",
       "      <td>0.0</td>\n",
       "    </tr>\n",
       "    <tr>\n",
       "      <th>3</th>\n",
       "      <td>0.0</td>\n",
       "      <td>0.0</td>\n",
       "      <td>0.0</td>\n",
       "      <td>0.0</td>\n",
       "      <td>0.0</td>\n",
       "      <td>0.0</td>\n",
       "      <td>0.0</td>\n",
       "      <td>0.0</td>\n",
       "      <td>0.0</td>\n",
       "      <td>0.0</td>\n",
       "      <td>...</td>\n",
       "      <td>0.0</td>\n",
       "      <td>0.0</td>\n",
       "      <td>0.0</td>\n",
       "      <td>0.0</td>\n",
       "      <td>0.0</td>\n",
       "      <td>0.0</td>\n",
       "      <td>0.0</td>\n",
       "      <td>0.0</td>\n",
       "      <td>0.0</td>\n",
       "      <td>0.0</td>\n",
       "    </tr>\n",
       "    <tr>\n",
       "      <th>4</th>\n",
       "      <td>0.0</td>\n",
       "      <td>0.0</td>\n",
       "      <td>0.0</td>\n",
       "      <td>0.0</td>\n",
       "      <td>0.0</td>\n",
       "      <td>0.0</td>\n",
       "      <td>0.0</td>\n",
       "      <td>0.0</td>\n",
       "      <td>0.0</td>\n",
       "      <td>0.0</td>\n",
       "      <td>...</td>\n",
       "      <td>0.0</td>\n",
       "      <td>0.0</td>\n",
       "      <td>0.0</td>\n",
       "      <td>0.0</td>\n",
       "      <td>0.0</td>\n",
       "      <td>0.0</td>\n",
       "      <td>0.0</td>\n",
       "      <td>0.0</td>\n",
       "      <td>0.0</td>\n",
       "      <td>0.0</td>\n",
       "    </tr>\n",
       "    <tr>\n",
       "      <th>...</th>\n",
       "      <td>...</td>\n",
       "      <td>...</td>\n",
       "      <td>...</td>\n",
       "      <td>...</td>\n",
       "      <td>...</td>\n",
       "      <td>...</td>\n",
       "      <td>...</td>\n",
       "      <td>...</td>\n",
       "      <td>...</td>\n",
       "      <td>...</td>\n",
       "      <td>...</td>\n",
       "      <td>...</td>\n",
       "      <td>...</td>\n",
       "      <td>...</td>\n",
       "      <td>...</td>\n",
       "      <td>...</td>\n",
       "      <td>...</td>\n",
       "      <td>...</td>\n",
       "      <td>...</td>\n",
       "      <td>...</td>\n",
       "      <td>...</td>\n",
       "    </tr>\n",
       "    <tr>\n",
       "      <th>2953</th>\n",
       "      <td>0.0</td>\n",
       "      <td>0.0</td>\n",
       "      <td>0.0</td>\n",
       "      <td>0.0</td>\n",
       "      <td>0.0</td>\n",
       "      <td>0.0</td>\n",
       "      <td>0.0</td>\n",
       "      <td>0.0</td>\n",
       "      <td>0.0</td>\n",
       "      <td>0.0</td>\n",
       "      <td>...</td>\n",
       "      <td>0.0</td>\n",
       "      <td>0.0</td>\n",
       "      <td>0.0</td>\n",
       "      <td>0.0</td>\n",
       "      <td>0.0</td>\n",
       "      <td>0.0</td>\n",
       "      <td>0.0</td>\n",
       "      <td>0.0</td>\n",
       "      <td>0.0</td>\n",
       "      <td>0.0</td>\n",
       "    </tr>\n",
       "    <tr>\n",
       "      <th>2954</th>\n",
       "      <td>0.0</td>\n",
       "      <td>0.0</td>\n",
       "      <td>0.0</td>\n",
       "      <td>0.0</td>\n",
       "      <td>0.0</td>\n",
       "      <td>0.0</td>\n",
       "      <td>0.0</td>\n",
       "      <td>0.0</td>\n",
       "      <td>0.0</td>\n",
       "      <td>0.0</td>\n",
       "      <td>...</td>\n",
       "      <td>0.0</td>\n",
       "      <td>0.0</td>\n",
       "      <td>0.0</td>\n",
       "      <td>0.0</td>\n",
       "      <td>0.0</td>\n",
       "      <td>0.0</td>\n",
       "      <td>0.0</td>\n",
       "      <td>0.0</td>\n",
       "      <td>0.0</td>\n",
       "      <td>0.0</td>\n",
       "    </tr>\n",
       "    <tr>\n",
       "      <th>2955</th>\n",
       "      <td>0.0</td>\n",
       "      <td>0.0</td>\n",
       "      <td>0.0</td>\n",
       "      <td>0.0</td>\n",
       "      <td>0.0</td>\n",
       "      <td>0.0</td>\n",
       "      <td>0.0</td>\n",
       "      <td>0.0</td>\n",
       "      <td>0.0</td>\n",
       "      <td>0.0</td>\n",
       "      <td>...</td>\n",
       "      <td>0.0</td>\n",
       "      <td>0.0</td>\n",
       "      <td>0.0</td>\n",
       "      <td>0.0</td>\n",
       "      <td>0.0</td>\n",
       "      <td>0.0</td>\n",
       "      <td>0.0</td>\n",
       "      <td>0.0</td>\n",
       "      <td>0.0</td>\n",
       "      <td>0.0</td>\n",
       "    </tr>\n",
       "    <tr>\n",
       "      <th>2956</th>\n",
       "      <td>0.0</td>\n",
       "      <td>0.0</td>\n",
       "      <td>0.0</td>\n",
       "      <td>0.0</td>\n",
       "      <td>0.0</td>\n",
       "      <td>0.0</td>\n",
       "      <td>0.0</td>\n",
       "      <td>0.0</td>\n",
       "      <td>0.0</td>\n",
       "      <td>0.0</td>\n",
       "      <td>...</td>\n",
       "      <td>0.0</td>\n",
       "      <td>0.0</td>\n",
       "      <td>0.0</td>\n",
       "      <td>0.0</td>\n",
       "      <td>0.0</td>\n",
       "      <td>0.0</td>\n",
       "      <td>0.0</td>\n",
       "      <td>0.0</td>\n",
       "      <td>0.0</td>\n",
       "      <td>0.0</td>\n",
       "    </tr>\n",
       "    <tr>\n",
       "      <th>2957</th>\n",
       "      <td>0.0</td>\n",
       "      <td>0.0</td>\n",
       "      <td>0.0</td>\n",
       "      <td>0.0</td>\n",
       "      <td>0.0</td>\n",
       "      <td>0.0</td>\n",
       "      <td>0.0</td>\n",
       "      <td>0.0</td>\n",
       "      <td>0.0</td>\n",
       "      <td>0.0</td>\n",
       "      <td>...</td>\n",
       "      <td>0.0</td>\n",
       "      <td>0.0</td>\n",
       "      <td>0.0</td>\n",
       "      <td>0.0</td>\n",
       "      <td>0.0</td>\n",
       "      <td>0.0</td>\n",
       "      <td>0.0</td>\n",
       "      <td>0.0</td>\n",
       "      <td>0.0</td>\n",
       "      <td>0.0</td>\n",
       "    </tr>\n",
       "  </tbody>\n",
       "</table>\n",
       "<p>2958 rows × 3843 columns</p>\n",
       "</div>"
      ],
      "text/plain": [
       "        a  abang  abf   ac  accor   ai  aircond  airport  airportlink  aja  \\\n",
       "0     0.0    0.0  0.0  0.0    0.0  0.0      0.0      0.0          0.0  0.0   \n",
       "1     0.0    0.0  0.0  0.0    0.0  0.0      0.0      0.0          0.0  0.0   \n",
       "2     0.0    0.0  0.0  0.0    0.0  0.0      0.0      0.0          0.0  0.0   \n",
       "3     0.0    0.0  0.0  0.0    0.0  0.0      0.0      0.0          0.0  0.0   \n",
       "4     0.0    0.0  0.0  0.0    0.0  0.0      0.0      0.0          0.0  0.0   \n",
       "...   ...    ...  ...  ...    ...  ...      ...      ...          ...  ...   \n",
       "2953  0.0    0.0  0.0  0.0    0.0  0.0      0.0      0.0          0.0  0.0   \n",
       "2954  0.0    0.0  0.0  0.0    0.0  0.0      0.0      0.0          0.0  0.0   \n",
       "2955  0.0    0.0  0.0  0.0    0.0  0.0      0.0      0.0          0.0  0.0   \n",
       "2956  0.0    0.0  0.0  0.0    0.0  0.0      0.0      0.0          0.0  0.0   \n",
       "2957  0.0    0.0  0.0  0.0    0.0  0.0      0.0      0.0          0.0  0.0   \n",
       "\n",
       "      ...  ไหล  ไหว  ไหว้   ไอ  ไอ้  ไฮเทคโนโลยี    •  •อิสระ    ️  ️มี  \n",
       "0     ...  0.0  0.0   0.0  0.0  0.0          0.0  0.0     0.0  0.0  0.0  \n",
       "1     ...  0.0  0.0   0.0  0.0  0.0          0.0  0.0     0.0  0.0  0.0  \n",
       "2     ...  0.0  0.0   0.0  0.0  0.0          0.0  0.0     0.0  0.0  0.0  \n",
       "3     ...  0.0  0.0   0.0  0.0  0.0          0.0  0.0     0.0  0.0  0.0  \n",
       "4     ...  0.0  0.0   0.0  0.0  0.0          0.0  0.0     0.0  0.0  0.0  \n",
       "...   ...  ...  ...   ...  ...  ...          ...  ...     ...  ...  ...  \n",
       "2953  ...  0.0  0.0   0.0  0.0  0.0          0.0  0.0     0.0  0.0  0.0  \n",
       "2954  ...  0.0  0.0   0.0  0.0  0.0          0.0  0.0     0.0  0.0  0.0  \n",
       "2955  ...  0.0  0.0   0.0  0.0  0.0          0.0  0.0     0.0  0.0  0.0  \n",
       "2956  ...  0.0  0.0   0.0  0.0  0.0          0.0  0.0     0.0  0.0  0.0  \n",
       "2957  ...  0.0  0.0   0.0  0.0  0.0          0.0  0.0     0.0  0.0  0.0  \n",
       "\n",
       "[2958 rows x 3843 columns]"
      ]
     },
     "execution_count": 14,
     "metadata": {},
     "output_type": "execute_result"
    }
   ],
   "source": [
    "tfidf_vector= tfidf_vectorizer.fit_transform(df_tokened)\n",
    "features = tfidf_vectorizer.get_feature_names()\n",
    "tfidf_array = np.array(tfidf_vector.todense())\n",
    "\n",
    "df_features = pd.DataFrame(tfidf_array,columns=tfidf_vectorizer.get_feature_names())\n",
    "df_features"
   ]
  },
  {
   "cell_type": "code",
   "execution_count": 15,
   "metadata": {
    "colab": {
     "base_uri": "https://localhost:8080/"
    },
    "id": "nDTTELj3ErJ3",
    "outputId": "b3b74c01-398b-48c6-aabc-57b633f3326a"
   },
   "outputs": [
    {
     "data": {
      "text/plain": [
       "array([[0., 0., 0., ..., 0., 0., 0.],\n",
       "       [0., 0., 0., ..., 0., 0., 0.],\n",
       "       [0., 0., 0., ..., 0., 0., 0.],\n",
       "       ...,\n",
       "       [0., 0., 0., ..., 0., 0., 0.],\n",
       "       [0., 0., 0., ..., 0., 0., 0.],\n",
       "       [0., 0., 0., ..., 0., 0., 0.]])"
      ]
     },
     "execution_count": 15,
     "metadata": {},
     "output_type": "execute_result"
    }
   ],
   "source": [
    "tfidf_array"
   ]
  },
  {
   "cell_type": "markdown",
   "metadata": {
    "id": "4EDupKXtnVEb"
   },
   "source": [
    "### Random OverSampling"
   ]
  },
  {
   "cell_type": "code",
   "execution_count": 16,
   "metadata": {
    "id": "1DR1oAR_gH05"
   },
   "outputs": [],
   "source": [
    "from collections import Counter"
   ]
  },
  {
   "cell_type": "code",
   "execution_count": 17,
   "metadata": {
    "colab": {
     "base_uri": "https://localhost:8080/"
    },
    "id": "jMUIQeRqmTvI",
    "outputId": "d00808e3-9a51-4c10-8d71-5b4e977f3acf"
   },
   "outputs": [
    {
     "name": "stdout",
     "output_type": "stream",
     "text": [
      "Counter({'Negative': 2005, 'Positive': 2005})\n"
     ]
    }
   ],
   "source": [
    "#Over\n",
    "from imblearn.over_sampling import RandomOverSampler\n",
    "# define oversampling strategy\n",
    "oversample = RandomOverSampler(sampling_strategy= 1)\n",
    "# fit and apply the transform\n",
    "X_over, y_over = oversample.fit_resample(tfidf_array, df['Label'])\n",
    "# summarize class distribution\n",
    "print(Counter(y_over))"
   ]
  },
  {
   "cell_type": "code",
   "execution_count": 18,
   "metadata": {
    "colab": {
     "base_uri": "https://localhost:8080/"
    },
    "id": "jwZeb4w7n1rz",
    "outputId": "3b3c2b78-437d-42f9-9597-f09ee401a487"
   },
   "outputs": [
    {
     "data": {
      "text/plain": [
       "0       Negative\n",
       "1       Positive\n",
       "2       Negative\n",
       "3       Positive\n",
       "4       Negative\n",
       "          ...   \n",
       "4005    Negative\n",
       "4006    Negative\n",
       "4007    Negative\n",
       "4008    Negative\n",
       "4009    Negative\n",
       "Name: Label, Length: 4010, dtype: object"
      ]
     },
     "execution_count": 18,
     "metadata": {},
     "output_type": "execute_result"
    }
   ],
   "source": [
    "y_over"
   ]
  },
  {
   "cell_type": "code",
   "execution_count": 19,
   "metadata": {
    "colab": {
     "base_uri": "https://localhost:8080/"
    },
    "id": "iTJ95-0Ln8mQ",
    "outputId": "ba844870-0b6d-4c72-fd88-4eaa0e11306a"
   },
   "outputs": [
    {
     "data": {
      "text/plain": [
       "4010"
      ]
     },
     "execution_count": 19,
     "metadata": {},
     "output_type": "execute_result"
    }
   ],
   "source": [
    "len(X_over)"
   ]
  },
  {
   "cell_type": "markdown",
   "metadata": {
    "id": "kVkco5GHk9Eq"
   },
   "source": [
    "## Model"
   ]
  },
  {
   "cell_type": "code",
   "execution_count": 20,
   "metadata": {
    "id": "WFauNQVKINBI"
   },
   "outputs": [],
   "source": [
    "from sklearn.model_selection import train_test_split\n",
    "X = X_over\n",
    "ground_truth = y_over\n",
    "X_train, X_test, y_train, y_test = train_test_split(X, ground_truth, test_size=0.3, random_state=101)"
   ]
  },
  {
   "cell_type": "code",
   "execution_count": 21,
   "metadata": {
    "colab": {
     "base_uri": "https://localhost:8080/"
    },
    "id": "IQ9xRYxYAP9j",
    "outputId": "58897192-55ff-461c-f70d-b9d816180944"
   },
   "outputs": [
    {
     "data": {
      "text/plain": [
       "Negative    613\n",
       "Positive    590\n",
       "Name: Label, dtype: int64"
      ]
     },
     "execution_count": 21,
     "metadata": {},
     "output_type": "execute_result"
    }
   ],
   "source": [
    "y_test.value_counts()"
   ]
  },
  {
   "cell_type": "code",
   "execution_count": 22,
   "metadata": {
    "colab": {
     "base_uri": "https://localhost:8080/"
    },
    "id": "iCeRJmvEGkrn",
    "outputId": "75682f1f-b378-4183-e80e-f329ec60c659"
   },
   "outputs": [
    {
     "data": {
      "text/plain": [
       "LogisticRegression()"
      ]
     },
     "execution_count": 22,
     "metadata": {},
     "output_type": "execute_result"
    }
   ],
   "source": [
    "from sklearn.linear_model import LogisticRegression\n",
    "lr = LogisticRegression()\n",
    "lr.fit(X_train, y_train)"
   ]
  },
  {
   "cell_type": "code",
   "execution_count": 23,
   "metadata": {
    "id": "gMhYY6mEIqju"
   },
   "outputs": [],
   "source": [
    "from sklearn.metrics import confusion_matrix,classification_report\n",
    "y_pred = lr.predict(X_test)"
   ]
  },
  {
   "cell_type": "code",
   "execution_count": 24,
   "metadata": {
    "colab": {
     "base_uri": "https://localhost:8080/"
    },
    "id": "kCrkKeBZtdOD",
    "outputId": "c1bd4e23-bbac-4fad-8ad0-10b21a8927e3"
   },
   "outputs": [
    {
     "name": "stdout",
     "output_type": "stream",
     "text": [
      "              precision    recall  f1-score   support\n",
      "\n",
      "    Negative       0.97      0.98      0.98       613\n",
      "    Positive       0.98      0.97      0.97       590\n",
      "\n",
      "    accuracy                           0.98      1203\n",
      "   macro avg       0.98      0.97      0.98      1203\n",
      "weighted avg       0.98      0.98      0.98      1203\n",
      "\n"
     ]
    }
   ],
   "source": [
    "print(classification_report(y_test, y_pred))"
   ]
  },
  {
   "cell_type": "code",
   "execution_count": 25,
   "metadata": {
    "colab": {
     "base_uri": "https://localhost:8080/"
    },
    "id": "xzXU7dA0g01l",
    "outputId": "f9ee5405-ea14-48d5-856e-de2a200e62b8"
   },
   "outputs": [
    {
     "data": {
      "text/plain": [
       "Negative    613\n",
       "Positive    590\n",
       "Name: Label, dtype: int64"
      ]
     },
     "execution_count": 25,
     "metadata": {},
     "output_type": "execute_result"
    }
   ],
   "source": [
    "y_test.value_counts()"
   ]
  },
  {
   "cell_type": "markdown",
   "metadata": {
    "id": "jODZJpmquO4z"
   },
   "source": [
    "# Confusion Matrix"
   ]
  },
  {
   "cell_type": "code",
   "execution_count": 26,
   "metadata": {
    "id": "dMzSmeZV4fOj"
   },
   "outputs": [],
   "source": [
    "import numpy as np # linear algebra\n",
    "import pandas as pd # data processing, CSV file I/O (e.g. pd.read_csv)\n",
    "from sklearn import metrics\n",
    "from sklearn.ensemble import RandomForestClassifier\n",
    "from sklearn.model_selection import train_test_split\n",
    "import matplotlib.pyplot as plt\n",
    "import seaborn as sns"
   ]
  },
  {
   "cell_type": "code",
   "execution_count": 27,
   "metadata": {
    "id": "NVLBlFLD4lQQ"
   },
   "outputs": [],
   "source": [
    "# Conf Matrix\n",
    "from matplotlib import pyplot as plt\n",
    "import seaborn as sns\n",
    "cf_matrix = confusion_matrix(y_test, y_pred)"
   ]
  },
  {
   "cell_type": "code",
   "execution_count": 28,
   "metadata": {
    "colab": {
     "base_uri": "https://localhost:8080/",
     "height": 427
    },
    "id": "S8jogUA00fJj",
    "outputId": "a19aba2e-5fb7-40c3-ca6c-11d8258deecd"
   },
   "outputs": [
    {
     "data": {
      "image/png": "[encoded data removed]",
      "text/plain": [
       "<Figure size 1800x800 with 2 Axes>"
      ]
     },
     "metadata": {},
     "output_type": "display_data"
    }
   ],
   "source": [
    "plt.figure(figsize = (18,8))\n",
    "sns.heatmap(cf_matrix, annot = True,fmt='g', xticklabels = ('Negative','Positive'), yticklabels = ('Negative','Positive'))\n",
    "plt.xlabel('Predicted Labels')\n",
    "plt.ylabel('True Labels')\n",
    "plt.show()"
   ]
  },
  {
   "cell_type": "markdown",
   "metadata": {
    "id": "3jWrI8Z609FB"
   },
   "source": [
    "# **Implement with Unseen Data**"
   ]
  },
  {
   "cell_type": "markdown",
   "metadata": {
    "id": "umRlAvlBre93"
   },
   "source": [
    "## Import"
   ]
  },
  {
   "cell_type": "code",
   "execution_count": 29,
   "metadata": {
    "id": "R_rkP0yEqovX"
   },
   "outputs": [],
   "source": [
    "import pandas as pd\n",
    "import numpy as np"
   ]
  },
  {
   "cell_type": "code",
   "execution_count": 30,
   "metadata": {
    "id": "qDGylM2frAdt"
   },
   "outputs": [],
   "source": [
    "df_unseen = pd.read_csv('preprocessed_unseen_data.csv').drop(['Unnamed: 0', 'Rating'],axis=1)"
   ]
  },
  {
   "cell_type": "code",
   "execution_count": 31,
   "metadata": {
    "colab": {
     "base_uri": "https://localhost:8080/",
     "height": 424
    },
    "id": "d-LeSrwArLiO",
    "outputId": "47cdf647-fb6a-4781-ebcb-fb93cfc1d1eb"
   },
   "outputs": [
    {
     "data": {
      "text/html": [
       "<div>\n",
       "<style scoped>\n",
       "    .dataframe tbody tr th:only-of-type {\n",
       "        vertical-align: middle;\n",
       "    }\n",
       "\n",
       "    .dataframe tbody tr th {\n",
       "        vertical-align: top;\n",
       "    }\n",
       "\n",
       "    .dataframe thead th {\n",
       "        text-align: right;\n",
       "    }\n",
       "</style>\n",
       "<table border=\"1\" class=\"dataframe\">\n",
       "  <thead>\n",
       "    <tr style=\"text-align: right;\">\n",
       "      <th></th>\n",
       "      <th>Review</th>\n",
       "    </tr>\n",
       "  </thead>\n",
       "  <tbody>\n",
       "    <tr>\n",
       "      <th>0</th>\n",
       "      <td>มาพักเป็นครั้งที่ แล้วค่ะ ประทับใจตั้งแต่ทำเลข...</td>\n",
       "    </tr>\n",
       "    <tr>\n",
       "      <th>1</th>\n",
       "      <td>บริการดี ประทับใจ เดินทางสะดวกครับ ใกล้แหล่งขอ...</td>\n",
       "    </tr>\n",
       "    <tr>\n",
       "      <th>2</th>\n",
       "      <td>การบริการดีและห้องสวยงามห้องน้ำสะอาดมีที่จอดรถ...</td>\n",
       "    </tr>\n",
       "    <tr>\n",
       "      <th>3</th>\n",
       "      <td>ทำเลโรงแรมดีมากค่ะ ห้องกว้างห้องน้ำก็กว้างสมรา...</td>\n",
       "    </tr>\n",
       "    <tr>\n",
       "      <th>4</th>\n",
       "      <td>ห้องดีมากสะอาดห้องน้ำสะอาดแอร์เย็นฉ่ำพนักงานบร...</td>\n",
       "    </tr>\n",
       "    <tr>\n",
       "      <th>...</th>\n",
       "      <td>...</td>\n",
       "    </tr>\n",
       "    <tr>\n",
       "      <th>1168</th>\n",
       "      <td>จองไว้สามห้อง เพราะเช้าต้องมีไปทำธุระแถวสยาม ก...</td>\n",
       "    </tr>\n",
       "    <tr>\n",
       "      <th>1169</th>\n",
       "      <td>ทำเลดีมาก เดินขึ้น bts ได้เลย ราคาค่อนข้างถูก ...</td>\n",
       "    </tr>\n",
       "    <tr>\n",
       "      <th>1170</th>\n",
       "      <td>น ตามที่แจ้งว่าสามารถเช็คอินได้ แต่เมื่อไปถึง ...</td>\n",
       "    </tr>\n",
       "    <tr>\n",
       "      <th>1171</th>\n",
       "      <td>ห้องพักสะอาด</td>\n",
       "    </tr>\n",
       "    <tr>\n",
       "      <th>1172</th>\n",
       "      <td>อีก เดือนเจอกันนะค่ะ</td>\n",
       "    </tr>\n",
       "  </tbody>\n",
       "</table>\n",
       "<p>1173 rows × 1 columns</p>\n",
       "</div>"
      ],
      "text/plain": [
       "                                                 Review\n",
       "0     มาพักเป็นครั้งที่ แล้วค่ะ ประทับใจตั้งแต่ทำเลข...\n",
       "1     บริการดี ประทับใจ เดินทางสะดวกครับ ใกล้แหล่งขอ...\n",
       "2     การบริการดีและห้องสวยงามห้องน้ำสะอาดมีที่จอดรถ...\n",
       "3     ทำเลโรงแรมดีมากค่ะ ห้องกว้างห้องน้ำก็กว้างสมรา...\n",
       "4     ห้องดีมากสะอาดห้องน้ำสะอาดแอร์เย็นฉ่ำพนักงานบร...\n",
       "...                                                 ...\n",
       "1168  จองไว้สามห้อง เพราะเช้าต้องมีไปทำธุระแถวสยาม ก...\n",
       "1169  ทำเลดีมาก เดินขึ้น bts ได้เลย ราคาค่อนข้างถูก ...\n",
       "1170  น ตามที่แจ้งว่าสามารถเช็คอินได้ แต่เมื่อไปถึง ...\n",
       "1171                                       ห้องพักสะอาด\n",
       "1172                               อีก เดือนเจอกันนะค่ะ\n",
       "\n",
       "[1173 rows x 1 columns]"
      ]
     },
     "execution_count": 31,
     "metadata": {},
     "output_type": "execute_result"
    }
   ],
   "source": [
    "df_unseen"
   ]
  },
  {
   "cell_type": "markdown",
   "metadata": {
    "id": "1OxiYOXuzNQ7"
   },
   "source": [
    "ตัดอักษรเรื่อยเปื่อย"
   ]
  },
  {
   "cell_type": "code",
   "execution_count": 32,
   "metadata": {
    "id": "b6lBi4W9wGys"
   },
   "outputs": [],
   "source": [
    "import re\n",
    "def remove_unvalue(data):\n",
    "    emoj = re.compile(\"[\"\n",
    "        u\"\\U0001F600-\\U0001F64F\"  # emoticons\n",
    "        u\"\\U0001F300-\\U0001F5FF\"  # symbols & pictographs\n",
    "        u\"\\U0001F680-\\U0001F6FF\"  # transport & map symbols\n",
    "        u\"\\U0001F1E0-\\U0001F1FF\"  # flags (iOS)\n",
    "        u\"\\U00002500-\\U00002BEF\"  # chinese char\n",
    "        u\"\\U00002702-\\U000027B0\"\n",
    "        u\"\\U00002702-\\U000027B0\"\n",
    "        u\"\\U000024C2-\\U0001F251\"\n",
    "        u\"\\U0001f926-\\U0001f937\"\n",
    "        u\"\\U00010000-\\U0010ffff\"\n",
    "        u\"\\u2640-\\u2642\" \n",
    "        u\"\\u2600-\\u2B55\"\n",
    "        u\"\\u200d\"\n",
    "        u\"\\u23cf\"\n",
    "        u\"\\u23e9\"\n",
    "        u\"\\u231a\"\n",
    "        u\"\\ufe0f\"  # dingbats\n",
    "        u\"\\u3030\"\n",
    "                      \"]+\", re.UNICODE)\n",
    "    return re.sub(emoj, '', data)"
   ]
  },
  {
   "cell_type": "code",
   "execution_count": 33,
   "metadata": {
    "id": "ft4H74hMz4CJ"
   },
   "outputs": [],
   "source": [
    "def filter_contents(text):\n",
    "    text_filtered = ''.join([i for i in text if not i.isdigit()])\n",
    "    for i in ['...','..','.',\"#\",\"'\",\"%\",\"?\",\"#\",\"@\",\"!\",\"\\xa0\",'/','\"',\")\",\"(\",\"-\",\"_\",'“','”',\"ๆ\",\"'์\",\"ฯลฯ\",\"ฯ\",\"&\",\"<\",\">\",\".\",\"+\",\":\",'\\n']:\n",
    "        text_filtered = text_filtered.replace(i,\"\")\n",
    "        text_filtered = text_filtered.replace(\",\",\" \")\n",
    "    return text_filtered"
   ]
  },
  {
   "cell_type": "code",
   "execution_count": 34,
   "metadata": {
    "id": "o5mZkUl1iZ8b"
   },
   "outputs": [],
   "source": [
    "#df_unseen['Review'] = df_unseen['Review'].apply(filter_contents)\n",
    "#df_unseen['Review'] = df_unseen['Review'].apply(remove_unvalue)"
   ]
  },
  {
   "cell_type": "code",
   "execution_count": 35,
   "metadata": {
    "colab": {
     "base_uri": "https://localhost:8080/",
     "height": 424
    },
    "id": "mRf1LKxfzfTa",
    "outputId": "e297b1bd-2baa-497a-97a9-07ae15c08498"
   },
   "outputs": [
    {
     "data": {
      "text/html": [
       "<div>\n",
       "<style scoped>\n",
       "    .dataframe tbody tr th:only-of-type {\n",
       "        vertical-align: middle;\n",
       "    }\n",
       "\n",
       "    .dataframe tbody tr th {\n",
       "        vertical-align: top;\n",
       "    }\n",
       "\n",
       "    .dataframe thead th {\n",
       "        text-align: right;\n",
       "    }\n",
       "</style>\n",
       "<table border=\"1\" class=\"dataframe\">\n",
       "  <thead>\n",
       "    <tr style=\"text-align: right;\">\n",
       "      <th></th>\n",
       "      <th>Review</th>\n",
       "    </tr>\n",
       "  </thead>\n",
       "  <tbody>\n",
       "    <tr>\n",
       "      <th>0</th>\n",
       "      <td>มาพักเป็นครั้งที่ แล้วค่ะ ประทับใจตั้งแต่ทำเลข...</td>\n",
       "    </tr>\n",
       "    <tr>\n",
       "      <th>1</th>\n",
       "      <td>บริการดี ประทับใจ เดินทางสะดวกครับ ใกล้แหล่งขอ...</td>\n",
       "    </tr>\n",
       "    <tr>\n",
       "      <th>2</th>\n",
       "      <td>การบริการดีและห้องสวยงามห้องน้ำสะอาดมีที่จอดรถ...</td>\n",
       "    </tr>\n",
       "    <tr>\n",
       "      <th>3</th>\n",
       "      <td>ทำเลโรงแรมดีมากค่ะ ห้องกว้างห้องน้ำก็กว้างสมรา...</td>\n",
       "    </tr>\n",
       "    <tr>\n",
       "      <th>4</th>\n",
       "      <td>ห้องดีมากสะอาดห้องน้ำสะอาดแอร์เย็นฉ่ำพนักงานบร...</td>\n",
       "    </tr>\n",
       "    <tr>\n",
       "      <th>...</th>\n",
       "      <td>...</td>\n",
       "    </tr>\n",
       "    <tr>\n",
       "      <th>1168</th>\n",
       "      <td>จองไว้สามห้อง เพราะเช้าต้องมีไปทำธุระแถวสยาม ก...</td>\n",
       "    </tr>\n",
       "    <tr>\n",
       "      <th>1169</th>\n",
       "      <td>ทำเลดีมาก เดินขึ้น bts ได้เลย ราคาค่อนข้างถูก ...</td>\n",
       "    </tr>\n",
       "    <tr>\n",
       "      <th>1170</th>\n",
       "      <td>น ตามที่แจ้งว่าสามารถเช็คอินได้ แต่เมื่อไปถึง ...</td>\n",
       "    </tr>\n",
       "    <tr>\n",
       "      <th>1171</th>\n",
       "      <td>ห้องพักสะอาด</td>\n",
       "    </tr>\n",
       "    <tr>\n",
       "      <th>1172</th>\n",
       "      <td>อีก เดือนเจอกันนะค่ะ</td>\n",
       "    </tr>\n",
       "  </tbody>\n",
       "</table>\n",
       "<p>1173 rows × 1 columns</p>\n",
       "</div>"
      ],
      "text/plain": [
       "                                                 Review\n",
       "0     มาพักเป็นครั้งที่ แล้วค่ะ ประทับใจตั้งแต่ทำเลข...\n",
       "1     บริการดี ประทับใจ เดินทางสะดวกครับ ใกล้แหล่งขอ...\n",
       "2     การบริการดีและห้องสวยงามห้องน้ำสะอาดมีที่จอดรถ...\n",
       "3     ทำเลโรงแรมดีมากค่ะ ห้องกว้างห้องน้ำก็กว้างสมรา...\n",
       "4     ห้องดีมากสะอาดห้องน้ำสะอาดแอร์เย็นฉ่ำพนักงานบร...\n",
       "...                                                 ...\n",
       "1168  จองไว้สามห้อง เพราะเช้าต้องมีไปทำธุระแถวสยาม ก...\n",
       "1169  ทำเลดีมาก เดินขึ้น bts ได้เลย ราคาค่อนข้างถูก ...\n",
       "1170  น ตามที่แจ้งว่าสามารถเช็คอินได้ แต่เมื่อไปถึง ...\n",
       "1171                                       ห้องพักสะอาด\n",
       "1172                               อีก เดือนเจอกันนะค่ะ\n",
       "\n",
       "[1173 rows x 1 columns]"
      ]
     },
     "execution_count": 35,
     "metadata": {},
     "output_type": "execute_result"
    }
   ],
   "source": [
    "df_unseen"
   ]
  },
  {
   "cell_type": "markdown",
   "metadata": {
    "id": "OEQzcRH1rkVf"
   },
   "source": [
    "## ตัดคำ"
   ]
  },
  {
   "cell_type": "code",
   "execution_count": 38,
   "metadata": {
    "id": "Gfq-7iM71EJL"
   },
   "outputs": [],
   "source": [
    "df_tokened_unseen = df_unseen['Review'].apply(tokenize)"
   ]
  },
  {
   "cell_type": "code",
   "execution_count": 39,
   "metadata": {
    "colab": {
     "base_uri": "https://localhost:8080/"
    },
    "id": "DVvk8I_J1EJL",
    "outputId": "b1c047d8-69ee-46e7-a289-42a1bc9f9a2f"
   },
   "outputs": [
    {
     "data": {
      "text/plain": [
       "0       [มา, พัก, เป็น, ครั้ง, ที่, แล้ว, ค่ะ, ประทับใ...\n",
       "1       [บริการ, ดี, ประทับใจ, เดินทาง, สะดวก, ครับ, ใ...\n",
       "2       [การ, บริการ, ดี, และ, ห้อง, สวยงาม, ห้องน้ำ, ...\n",
       "3       [ทำเล, โรง, แรม, ดี, มาก, ค่ะ, ห้อง, กว้าง, ห้...\n",
       "4       [ห้อง, ดี, มาก, สะอาด, ห้องน้ำ, สะอาด, แอร์, เ...\n",
       "                              ...                        \n",
       "1168    [จอง, ไว้, สาม, ห้อง, เพราะ, เช้า, ต้อง, มี, ไ...\n",
       "1169    [ทำเล, ดี, มาก, เดิน, ขึ้น, bts, ได้, เลย, ราค...\n",
       "1170    [น, ตาม, ที่, แจ้ง, ว่า, สามารถ, เช็ค, อิน, ได...\n",
       "1171                                   [ห้อง, พัก, สะอาด]\n",
       "1172                      [อีก, เดือน, เจอ, กัน, นะ, ค่ะ]\n",
       "Name: Review, Length: 1173, dtype: object"
      ]
     },
     "execution_count": 39,
     "metadata": {},
     "output_type": "execute_result"
    }
   ],
   "source": [
    "df_tokened_unseen"
   ]
  },
  {
   "cell_type": "code",
   "execution_count": 40,
   "metadata": {
    "colab": {
     "base_uri": "https://localhost:8080/"
    },
    "id": "SAE735iuYz1N",
    "outputId": "2c3b4f6f-cd86-4730-93fb-53adf7596669"
   },
   "outputs": [
    {
     "name": "stdout",
     "output_type": "stream",
     "text": [
      "['มา', 'พัก', 'เป็น', 'ครั้ง', 'ที่', 'แล้ว', 'ค่ะ', 'ประทับใจ', 'ตั้งแต่', 'ทำเล', 'ของ', 'โรง', 'แรม', 'การ', 'บริการ', 'ห้อง', 'พัก', 'ความ', 'สะอาด']\n",
      "['บริการ', 'ดี', 'ประทับใจ', 'เดินทาง', 'สะดวก', 'ครับ', 'ใกล้', 'แหล่ง', 'ของ', 'กิน', 'ใกล้', 'รถไฟฟ้า', 'มา', 'พัก', 'ครั้ง', 'แล้ว']\n",
      "['การ', 'บริการ', 'ดี', 'และ', 'ห้อง', 'สวยงาม', 'ห้องน้ำ', 'สะอาด', 'มี', 'ที่', 'จอด', 'รถ', 'ใต้', 'ดิน', 'สอง', 'ชั้น']\n",
      "['ทำเล', 'โรง', 'แรม', 'ดี', 'มาก', 'ค่ะ', 'ห้อง', 'กว้าง', 'ห้องน้ำ', 'ก็', 'กว้างสมราคา', 'ทาง', 'เดิน', 'ห้อง', 'อาจ', 'จะ', 'มืด', 'ไป', 'หน่อย', 'แต่', 'ภาย', 'ใน', 'ห้อง', 'สวย', 'ค่ะ', 'ไม่', 'ได้', 'แย่', 'เลย', 'พนักงาน', 'บริการ', 'ดี', 'พูดจา', 'เพราะ', 'ไม่', 'เหวี่ยง', 'ไป', 'ไหน', 'สะดวก', 'มา', 'คน', 'เดียว', 'ก็', 'ไม่', 'น่า', 'กลัว', 'ค่ะ', 'ใกล้', 'สถานที่', 'คาเฟ่', 'ร้าน', 'อาหาร', 'ต่าง', 'ติด', 'ตรง', 'เข้า', 'พัก', 'คืน', 'แรก', 'ที่', 'นอน', 'มี', 'ฝุ่น', 'นิดหน่อย', 'เหมือน', 'ไม่', 'ได้', 'ใช้', 'งาน', 'แต่', 'คืน', 'ต่อ', 'ไป', 'แม่บ้าน', 'ทำ', 'ความ', 'สะอาด', 'คือ', 'ดี', 'มาก', 'ค่ะ', 'ทุก', 'อย่าง', 'สะอาด', 'เอื่ยม', 'แต่', 'เสียดาย', 'สัญญาณ', 'เน็ต', 'ภาย', 'ใน', 'โรง', 'แรม', 'ไม่', 'แรง', 'นอก', 'นั้น', 'ดี', 'หมด']\n",
      "['ห้อง', 'ดี', 'มาก', 'สะอาด', 'ห้องน้ำ', 'สะอาด', 'แอร์', 'เย็น', 'ฉ่ำ', 'พนักงาน', 'บริการ', 'ดี', 'ติด', 'รถ', 'ไฟฟ้า', 'bts']\n",
      "['ห้อง', 'สะอาด', 'แอร์', 'เย็น', 'ไม่', 'หนาว', 'มาก', 'อากาศ', 'ปลอด', 'กลิ่น', 'บุหรี่', 'ปลอด', 'ภัย']\n",
      "['ใกล้bts', 'เดิน', 'ไม่', 'นาน', 'ก็', 'ถึง', 'พนักงาน', 'บริการ', 'ดี', 'สะดวกสบาย', 'ชอบ', 'มาก']\n",
      "['ใช่', 'บริการ', 'ประจำ', 'ห้อง', 'สะอาด', 'เตียง', 'นุ่ม', 'มี', 'ที่', 'จอด', 'รถ', 'มี', 'ร้าน', 'อาหาร', 'เดินทาง', 'สะดวก', 'ใกล้', 'บีทีเอส ️', '️', '️', '️️️️️️️️️️️️️️️️️️️️️️', '️', '️', '️', '️', 'ชอบ', 'มาก', 'ค่ะ', 'ประทับใจ', 'จจจจจจ ️', '️', '️️️️️️️', '️', '️', '️']\n",
      "['โดย', 'รวม', 'ดี', 'มาก', 'คะ', 'ห้อง', 'สะอาด', 'หอง', 'กว้าง', 'เตียง', 'นอน', 'หลับ', 'สบาย', 'แอร์', 'เย็น', 'การ', 'เดินทาง', 'มา', 'รรสะดวก', 'และ', 'ไม่', 'ไกล', 'แนะนำ', 'เลย', 'คะ', 'ว่า', 'ควร', 'กลับ', 'มา', 'พัก', 'อีก']\n",
      "['อยาก', 'ให้', 'ขยาย', 'ที่', 'จอด', 'รถ', 'เพิ่ม', 'ขึ้น', 'ที่', 'จอด', 'น้อย', 'ไป', 'ทุก', 'อย่าง', 'ดี', 'ยกเว้น', 'ที่', 'จอด', 'รถ', 'มี', 'ประโยชน์']\n"
     ]
    }
   ],
   "source": [
    "for i in range(10):\n",
    "    print(df_tokened_unseen[i])"
   ]
  },
  {
   "cell_type": "markdown",
   "metadata": {
    "id": "Qo1Fgqd_0b-b"
   },
   "source": [
    "## TF-IDF"
   ]
  },
  {
   "cell_type": "code",
   "execution_count": 43,
   "metadata": {
    "colab": {
     "base_uri": "https://localhost:8080/",
     "height": 540
    },
    "id": "3zH1iuw71EJM",
    "outputId": "87d42b12-224c-42de-df89-7c504fd68bcd"
   },
   "outputs": [
    {
     "name": "stderr",
     "output_type": "stream",
     "text": [
      "C:\\Users\\FAIR\\anaconda3\\lib\\site-packages\\sklearn\\utils\\deprecation.py:87: FutureWarning: Function get_feature_names is deprecated; get_feature_names is deprecated in 1.0 and will be removed in 1.2. Please use get_feature_names_out instead.\n",
      "  warnings.warn(msg, category=FutureWarning)\n"
     ]
    },
    {
     "data": {
      "text/html": [
       "<div>\n",
       "<style scoped>\n",
       "    .dataframe tbody tr th:only-of-type {\n",
       "        vertical-align: middle;\n",
       "    }\n",
       "\n",
       "    .dataframe tbody tr th {\n",
       "        vertical-align: top;\n",
       "    }\n",
       "\n",
       "    .dataframe thead th {\n",
       "        text-align: right;\n",
       "    }\n",
       "</style>\n",
       "<table border=\"1\" class=\"dataframe\">\n",
       "  <thead>\n",
       "    <tr style=\"text-align: right;\">\n",
       "      <th></th>\n",
       "      <th>a</th>\n",
       "      <th>abloom</th>\n",
       "      <th>activates</th>\n",
       "      <th>agoda</th>\n",
       "      <th>airport</th>\n",
       "      <th>and</th>\n",
       "      <th>areas</th>\n",
       "      <th>arl</th>\n",
       "      <th>asia</th>\n",
       "      <th>bangkok</th>\n",
       "      <th>...</th>\n",
       "      <th>ไอบิส</th>\n",
       "      <th>ไฮซี</th>\n",
       "      <th>…</th>\n",
       "      <th>️</th>\n",
       "      <th>️️️️️️️</th>\n",
       "      <th>️️️️️️️️️</th>\n",
       "      <th>️️️️️️️️️️️️️️️️️️️️️️</th>\n",
       "      <th>￼</th>\n",
       "      <th>🇨</th>\n",
       "      <th>🇳</th>\n",
       "    </tr>\n",
       "  </thead>\n",
       "  <tbody>\n",
       "    <tr>\n",
       "      <th>0</th>\n",
       "      <td>0.0</td>\n",
       "      <td>0.0</td>\n",
       "      <td>0.0</td>\n",
       "      <td>0.0</td>\n",
       "      <td>0.0</td>\n",
       "      <td>0.0</td>\n",
       "      <td>0.0</td>\n",
       "      <td>0.0</td>\n",
       "      <td>0.0</td>\n",
       "      <td>0.0</td>\n",
       "      <td>...</td>\n",
       "      <td>0.0</td>\n",
       "      <td>0.0</td>\n",
       "      <td>0.0</td>\n",
       "      <td>0.0</td>\n",
       "      <td>0.0</td>\n",
       "      <td>0.0</td>\n",
       "      <td>0.0</td>\n",
       "      <td>0.0</td>\n",
       "      <td>0.0</td>\n",
       "      <td>0.0</td>\n",
       "    </tr>\n",
       "    <tr>\n",
       "      <th>1</th>\n",
       "      <td>0.0</td>\n",
       "      <td>0.0</td>\n",
       "      <td>0.0</td>\n",
       "      <td>0.0</td>\n",
       "      <td>0.0</td>\n",
       "      <td>0.0</td>\n",
       "      <td>0.0</td>\n",
       "      <td>0.0</td>\n",
       "      <td>0.0</td>\n",
       "      <td>0.0</td>\n",
       "      <td>...</td>\n",
       "      <td>0.0</td>\n",
       "      <td>0.0</td>\n",
       "      <td>0.0</td>\n",
       "      <td>0.0</td>\n",
       "      <td>0.0</td>\n",
       "      <td>0.0</td>\n",
       "      <td>0.0</td>\n",
       "      <td>0.0</td>\n",
       "      <td>0.0</td>\n",
       "      <td>0.0</td>\n",
       "    </tr>\n",
       "    <tr>\n",
       "      <th>2</th>\n",
       "      <td>0.0</td>\n",
       "      <td>0.0</td>\n",
       "      <td>0.0</td>\n",
       "      <td>0.0</td>\n",
       "      <td>0.0</td>\n",
       "      <td>0.0</td>\n",
       "      <td>0.0</td>\n",
       "      <td>0.0</td>\n",
       "      <td>0.0</td>\n",
       "      <td>0.0</td>\n",
       "      <td>...</td>\n",
       "      <td>0.0</td>\n",
       "      <td>0.0</td>\n",
       "      <td>0.0</td>\n",
       "      <td>0.0</td>\n",
       "      <td>0.0</td>\n",
       "      <td>0.0</td>\n",
       "      <td>0.0</td>\n",
       "      <td>0.0</td>\n",
       "      <td>0.0</td>\n",
       "      <td>0.0</td>\n",
       "    </tr>\n",
       "    <tr>\n",
       "      <th>3</th>\n",
       "      <td>0.0</td>\n",
       "      <td>0.0</td>\n",
       "      <td>0.0</td>\n",
       "      <td>0.0</td>\n",
       "      <td>0.0</td>\n",
       "      <td>0.0</td>\n",
       "      <td>0.0</td>\n",
       "      <td>0.0</td>\n",
       "      <td>0.0</td>\n",
       "      <td>0.0</td>\n",
       "      <td>...</td>\n",
       "      <td>0.0</td>\n",
       "      <td>0.0</td>\n",
       "      <td>0.0</td>\n",
       "      <td>0.0</td>\n",
       "      <td>0.0</td>\n",
       "      <td>0.0</td>\n",
       "      <td>0.0</td>\n",
       "      <td>0.0</td>\n",
       "      <td>0.0</td>\n",
       "      <td>0.0</td>\n",
       "    </tr>\n",
       "    <tr>\n",
       "      <th>4</th>\n",
       "      <td>0.0</td>\n",
       "      <td>0.0</td>\n",
       "      <td>0.0</td>\n",
       "      <td>0.0</td>\n",
       "      <td>0.0</td>\n",
       "      <td>0.0</td>\n",
       "      <td>0.0</td>\n",
       "      <td>0.0</td>\n",
       "      <td>0.0</td>\n",
       "      <td>0.0</td>\n",
       "      <td>...</td>\n",
       "      <td>0.0</td>\n",
       "      <td>0.0</td>\n",
       "      <td>0.0</td>\n",
       "      <td>0.0</td>\n",
       "      <td>0.0</td>\n",
       "      <td>0.0</td>\n",
       "      <td>0.0</td>\n",
       "      <td>0.0</td>\n",
       "      <td>0.0</td>\n",
       "      <td>0.0</td>\n",
       "    </tr>\n",
       "    <tr>\n",
       "      <th>...</th>\n",
       "      <td>...</td>\n",
       "      <td>...</td>\n",
       "      <td>...</td>\n",
       "      <td>...</td>\n",
       "      <td>...</td>\n",
       "      <td>...</td>\n",
       "      <td>...</td>\n",
       "      <td>...</td>\n",
       "      <td>...</td>\n",
       "      <td>...</td>\n",
       "      <td>...</td>\n",
       "      <td>...</td>\n",
       "      <td>...</td>\n",
       "      <td>...</td>\n",
       "      <td>...</td>\n",
       "      <td>...</td>\n",
       "      <td>...</td>\n",
       "      <td>...</td>\n",
       "      <td>...</td>\n",
       "      <td>...</td>\n",
       "      <td>...</td>\n",
       "    </tr>\n",
       "    <tr>\n",
       "      <th>1168</th>\n",
       "      <td>0.0</td>\n",
       "      <td>0.0</td>\n",
       "      <td>0.0</td>\n",
       "      <td>0.0</td>\n",
       "      <td>0.0</td>\n",
       "      <td>0.0</td>\n",
       "      <td>0.0</td>\n",
       "      <td>0.0</td>\n",
       "      <td>0.0</td>\n",
       "      <td>0.0</td>\n",
       "      <td>...</td>\n",
       "      <td>0.0</td>\n",
       "      <td>0.0</td>\n",
       "      <td>0.0</td>\n",
       "      <td>0.0</td>\n",
       "      <td>0.0</td>\n",
       "      <td>0.0</td>\n",
       "      <td>0.0</td>\n",
       "      <td>0.0</td>\n",
       "      <td>0.0</td>\n",
       "      <td>0.0</td>\n",
       "    </tr>\n",
       "    <tr>\n",
       "      <th>1169</th>\n",
       "      <td>0.0</td>\n",
       "      <td>0.0</td>\n",
       "      <td>0.0</td>\n",
       "      <td>0.0</td>\n",
       "      <td>0.0</td>\n",
       "      <td>0.0</td>\n",
       "      <td>0.0</td>\n",
       "      <td>0.0</td>\n",
       "      <td>0.0</td>\n",
       "      <td>0.0</td>\n",
       "      <td>...</td>\n",
       "      <td>0.0</td>\n",
       "      <td>0.0</td>\n",
       "      <td>0.0</td>\n",
       "      <td>0.0</td>\n",
       "      <td>0.0</td>\n",
       "      <td>0.0</td>\n",
       "      <td>0.0</td>\n",
       "      <td>0.0</td>\n",
       "      <td>0.0</td>\n",
       "      <td>0.0</td>\n",
       "    </tr>\n",
       "    <tr>\n",
       "      <th>1170</th>\n",
       "      <td>0.0</td>\n",
       "      <td>0.0</td>\n",
       "      <td>0.0</td>\n",
       "      <td>0.0</td>\n",
       "      <td>0.0</td>\n",
       "      <td>0.0</td>\n",
       "      <td>0.0</td>\n",
       "      <td>0.0</td>\n",
       "      <td>0.0</td>\n",
       "      <td>0.0</td>\n",
       "      <td>...</td>\n",
       "      <td>0.0</td>\n",
       "      <td>0.0</td>\n",
       "      <td>0.0</td>\n",
       "      <td>0.0</td>\n",
       "      <td>0.0</td>\n",
       "      <td>0.0</td>\n",
       "      <td>0.0</td>\n",
       "      <td>0.0</td>\n",
       "      <td>0.0</td>\n",
       "      <td>0.0</td>\n",
       "    </tr>\n",
       "    <tr>\n",
       "      <th>1171</th>\n",
       "      <td>0.0</td>\n",
       "      <td>0.0</td>\n",
       "      <td>0.0</td>\n",
       "      <td>0.0</td>\n",
       "      <td>0.0</td>\n",
       "      <td>0.0</td>\n",
       "      <td>0.0</td>\n",
       "      <td>0.0</td>\n",
       "      <td>0.0</td>\n",
       "      <td>0.0</td>\n",
       "      <td>...</td>\n",
       "      <td>0.0</td>\n",
       "      <td>0.0</td>\n",
       "      <td>0.0</td>\n",
       "      <td>0.0</td>\n",
       "      <td>0.0</td>\n",
       "      <td>0.0</td>\n",
       "      <td>0.0</td>\n",
       "      <td>0.0</td>\n",
       "      <td>0.0</td>\n",
       "      <td>0.0</td>\n",
       "    </tr>\n",
       "    <tr>\n",
       "      <th>1172</th>\n",
       "      <td>0.0</td>\n",
       "      <td>0.0</td>\n",
       "      <td>0.0</td>\n",
       "      <td>0.0</td>\n",
       "      <td>0.0</td>\n",
       "      <td>0.0</td>\n",
       "      <td>0.0</td>\n",
       "      <td>0.0</td>\n",
       "      <td>0.0</td>\n",
       "      <td>0.0</td>\n",
       "      <td>...</td>\n",
       "      <td>0.0</td>\n",
       "      <td>0.0</td>\n",
       "      <td>0.0</td>\n",
       "      <td>0.0</td>\n",
       "      <td>0.0</td>\n",
       "      <td>0.0</td>\n",
       "      <td>0.0</td>\n",
       "      <td>0.0</td>\n",
       "      <td>0.0</td>\n",
       "      <td>0.0</td>\n",
       "    </tr>\n",
       "  </tbody>\n",
       "</table>\n",
       "<p>1173 rows × 2444 columns</p>\n",
       "</div>"
      ],
      "text/plain": [
       "        a  abloom  activates  agoda  airport  and  areas  arl  asia  bangkok  \\\n",
       "0     0.0     0.0        0.0    0.0      0.0  0.0    0.0  0.0   0.0      0.0   \n",
       "1     0.0     0.0        0.0    0.0      0.0  0.0    0.0  0.0   0.0      0.0   \n",
       "2     0.0     0.0        0.0    0.0      0.0  0.0    0.0  0.0   0.0      0.0   \n",
       "3     0.0     0.0        0.0    0.0      0.0  0.0    0.0  0.0   0.0      0.0   \n",
       "4     0.0     0.0        0.0    0.0      0.0  0.0    0.0  0.0   0.0      0.0   \n",
       "...   ...     ...        ...    ...      ...  ...    ...  ...   ...      ...   \n",
       "1168  0.0     0.0        0.0    0.0      0.0  0.0    0.0  0.0   0.0      0.0   \n",
       "1169  0.0     0.0        0.0    0.0      0.0  0.0    0.0  0.0   0.0      0.0   \n",
       "1170  0.0     0.0        0.0    0.0      0.0  0.0    0.0  0.0   0.0      0.0   \n",
       "1171  0.0     0.0        0.0    0.0      0.0  0.0    0.0  0.0   0.0      0.0   \n",
       "1172  0.0     0.0        0.0    0.0      0.0  0.0    0.0  0.0   0.0      0.0   \n",
       "\n",
       "      ...  ไอบิส  ไฮซี    …    ️  ️️️️️️️  ️️️️️️️️️  ️️️️️️️️️️️️️️️️️️️️️️  \\\n",
       "0     ...    0.0   0.0  0.0  0.0      0.0        0.0                     0.0   \n",
       "1     ...    0.0   0.0  0.0  0.0      0.0        0.0                     0.0   \n",
       "2     ...    0.0   0.0  0.0  0.0      0.0        0.0                     0.0   \n",
       "3     ...    0.0   0.0  0.0  0.0      0.0        0.0                     0.0   \n",
       "4     ...    0.0   0.0  0.0  0.0      0.0        0.0                     0.0   \n",
       "...   ...    ...   ...  ...  ...      ...        ...                     ...   \n",
       "1168  ...    0.0   0.0  0.0  0.0      0.0        0.0                     0.0   \n",
       "1169  ...    0.0   0.0  0.0  0.0      0.0        0.0                     0.0   \n",
       "1170  ...    0.0   0.0  0.0  0.0      0.0        0.0                     0.0   \n",
       "1171  ...    0.0   0.0  0.0  0.0      0.0        0.0                     0.0   \n",
       "1172  ...    0.0   0.0  0.0  0.0      0.0        0.0                     0.0   \n",
       "\n",
       "        ￼    🇨    🇳  \n",
       "0     0.0  0.0  0.0  \n",
       "1     0.0  0.0  0.0  \n",
       "2     0.0  0.0  0.0  \n",
       "3     0.0  0.0  0.0  \n",
       "4     0.0  0.0  0.0  \n",
       "...   ...  ...  ...  \n",
       "1168  0.0  0.0  0.0  \n",
       "1169  0.0  0.0  0.0  \n",
       "1170  0.0  0.0  0.0  \n",
       "1171  0.0  0.0  0.0  \n",
       "1172  0.0  0.0  0.0  \n",
       "\n",
       "[1173 rows x 2444 columns]"
      ]
     },
     "execution_count": 43,
     "metadata": {},
     "output_type": "execute_result"
    }
   ],
   "source": [
    "tfidf_vector_unseen = tfidf_vectorizer.fit_transform(df_tokened_unseen)\n",
    "features_unseen = tfidf_vectorizer.get_feature_names()\n",
    "tfidf_array_unseen = np.array(tfidf_vector_unseen.todense())\n",
    "\n",
    "df_features_unseen = pd.DataFrame(tfidf_array_unseen,columns=tfidf_vectorizer.get_feature_names())\n",
    "df_features_unseen"
   ]
  },
  {
   "cell_type": "code",
   "execution_count": 44,
   "metadata": {
    "colab": {
     "base_uri": "https://localhost:8080/"
    },
    "id": "J5jpwotA1EJM",
    "outputId": "d46348ad-5fa0-43a8-a019-88ef14611db4"
   },
   "outputs": [
    {
     "data": {
      "text/plain": [
       "array([[0., 0., 0., ..., 0., 0., 0.],\n",
       "       [0., 0., 0., ..., 0., 0., 0.],\n",
       "       [0., 0., 0., ..., 0., 0., 0.],\n",
       "       ...,\n",
       "       [0., 0., 0., ..., 0., 0., 0.],\n",
       "       [0., 0., 0., ..., 0., 0., 0.],\n",
       "       [0., 0., 0., ..., 0., 0., 0.]])"
      ]
     },
     "execution_count": 44,
     "metadata": {},
     "output_type": "execute_result"
    }
   ],
   "source": [
    "tfidf_array_unseen"
   ]
  },
  {
   "cell_type": "markdown",
   "metadata": {
    "id": "q6_0hi2lk7Se"
   },
   "source": [
    "ปรับ จำนวน feature ของ tfidf_array_unseen ให้เท่ากับ lr model"
   ]
  },
  {
   "cell_type": "code",
   "execution_count": 45,
   "metadata": {
    "id": "SqBjhYq52lt7"
   },
   "outputs": [],
   "source": [
    "not_existing_cols = [c for c in df_features.columns.tolist() if c not in df_features_unseen]\n",
    "# add this columns to the data frame\n",
    "df_features_unseen = df_features_unseen.reindex(df_features_unseen.columns.tolist() + not_existing_cols, axis=1)\n",
    "# new columns dont have values, replace null by 0\n",
    "df_features_unseen.fillna(0, inplace = True)\n",
    "# use the original X structure as mask for the new inference dataframe\n",
    "df_features_unseen = df_features_unseen[df_features.columns.tolist()]"
   ]
  },
  {
   "cell_type": "code",
   "execution_count": 46,
   "metadata": {
    "colab": {
     "base_uri": "https://localhost:8080/",
     "height": 522
    },
    "id": "kF8YuZ1N4ylS",
    "outputId": "05caa215-62b1-4145-981d-8d929722293f"
   },
   "outputs": [
    {
     "data": {
      "text/html": [
       "<div>\n",
       "<style scoped>\n",
       "    .dataframe tbody tr th:only-of-type {\n",
       "        vertical-align: middle;\n",
       "    }\n",
       "\n",
       "    .dataframe tbody tr th {\n",
       "        vertical-align: top;\n",
       "    }\n",
       "\n",
       "    .dataframe thead th {\n",
       "        text-align: right;\n",
       "    }\n",
       "</style>\n",
       "<table border=\"1\" class=\"dataframe\">\n",
       "  <thead>\n",
       "    <tr style=\"text-align: right;\">\n",
       "      <th></th>\n",
       "      <th>a</th>\n",
       "      <th>abang</th>\n",
       "      <th>abf</th>\n",
       "      <th>ac</th>\n",
       "      <th>accor</th>\n",
       "      <th>ai</th>\n",
       "      <th>aircond</th>\n",
       "      <th>airport</th>\n",
       "      <th>airportlink</th>\n",
       "      <th>aja</th>\n",
       "      <th>...</th>\n",
       "      <th>ไหล</th>\n",
       "      <th>ไหว</th>\n",
       "      <th>ไหว้</th>\n",
       "      <th>ไอ</th>\n",
       "      <th>ไอ้</th>\n",
       "      <th>ไฮเทคโนโลยี</th>\n",
       "      <th>•</th>\n",
       "      <th>•อิสระ</th>\n",
       "      <th>️</th>\n",
       "      <th>️มี</th>\n",
       "    </tr>\n",
       "  </thead>\n",
       "  <tbody>\n",
       "    <tr>\n",
       "      <th>0</th>\n",
       "      <td>0.0</td>\n",
       "      <td>0.0</td>\n",
       "      <td>0.0</td>\n",
       "      <td>0.0</td>\n",
       "      <td>0.0</td>\n",
       "      <td>0.0</td>\n",
       "      <td>0.0</td>\n",
       "      <td>0.0</td>\n",
       "      <td>0.0</td>\n",
       "      <td>0.0</td>\n",
       "      <td>...</td>\n",
       "      <td>0.0</td>\n",
       "      <td>0.0</td>\n",
       "      <td>0.0</td>\n",
       "      <td>0.0</td>\n",
       "      <td>0.0</td>\n",
       "      <td>0.0</td>\n",
       "      <td>0.0</td>\n",
       "      <td>0.0</td>\n",
       "      <td>0.0</td>\n",
       "      <td>0.0</td>\n",
       "    </tr>\n",
       "    <tr>\n",
       "      <th>1</th>\n",
       "      <td>0.0</td>\n",
       "      <td>0.0</td>\n",
       "      <td>0.0</td>\n",
       "      <td>0.0</td>\n",
       "      <td>0.0</td>\n",
       "      <td>0.0</td>\n",
       "      <td>0.0</td>\n",
       "      <td>0.0</td>\n",
       "      <td>0.0</td>\n",
       "      <td>0.0</td>\n",
       "      <td>...</td>\n",
       "      <td>0.0</td>\n",
       "      <td>0.0</td>\n",
       "      <td>0.0</td>\n",
       "      <td>0.0</td>\n",
       "      <td>0.0</td>\n",
       "      <td>0.0</td>\n",
       "      <td>0.0</td>\n",
       "      <td>0.0</td>\n",
       "      <td>0.0</td>\n",
       "      <td>0.0</td>\n",
       "    </tr>\n",
       "    <tr>\n",
       "      <th>2</th>\n",
       "      <td>0.0</td>\n",
       "      <td>0.0</td>\n",
       "      <td>0.0</td>\n",
       "      <td>0.0</td>\n",
       "      <td>0.0</td>\n",
       "      <td>0.0</td>\n",
       "      <td>0.0</td>\n",
       "      <td>0.0</td>\n",
       "      <td>0.0</td>\n",
       "      <td>0.0</td>\n",
       "      <td>...</td>\n",
       "      <td>0.0</td>\n",
       "      <td>0.0</td>\n",
       "      <td>0.0</td>\n",
       "      <td>0.0</td>\n",
       "      <td>0.0</td>\n",
       "      <td>0.0</td>\n",
       "      <td>0.0</td>\n",
       "      <td>0.0</td>\n",
       "      <td>0.0</td>\n",
       "      <td>0.0</td>\n",
       "    </tr>\n",
       "    <tr>\n",
       "      <th>3</th>\n",
       "      <td>0.0</td>\n",
       "      <td>0.0</td>\n",
       "      <td>0.0</td>\n",
       "      <td>0.0</td>\n",
       "      <td>0.0</td>\n",
       "      <td>0.0</td>\n",
       "      <td>0.0</td>\n",
       "      <td>0.0</td>\n",
       "      <td>0.0</td>\n",
       "      <td>0.0</td>\n",
       "      <td>...</td>\n",
       "      <td>0.0</td>\n",
       "      <td>0.0</td>\n",
       "      <td>0.0</td>\n",
       "      <td>0.0</td>\n",
       "      <td>0.0</td>\n",
       "      <td>0.0</td>\n",
       "      <td>0.0</td>\n",
       "      <td>0.0</td>\n",
       "      <td>0.0</td>\n",
       "      <td>0.0</td>\n",
       "    </tr>\n",
       "    <tr>\n",
       "      <th>4</th>\n",
       "      <td>0.0</td>\n",
       "      <td>0.0</td>\n",
       "      <td>0.0</td>\n",
       "      <td>0.0</td>\n",
       "      <td>0.0</td>\n",
       "      <td>0.0</td>\n",
       "      <td>0.0</td>\n",
       "      <td>0.0</td>\n",
       "      <td>0.0</td>\n",
       "      <td>0.0</td>\n",
       "      <td>...</td>\n",
       "      <td>0.0</td>\n",
       "      <td>0.0</td>\n",
       "      <td>0.0</td>\n",
       "      <td>0.0</td>\n",
       "      <td>0.0</td>\n",
       "      <td>0.0</td>\n",
       "      <td>0.0</td>\n",
       "      <td>0.0</td>\n",
       "      <td>0.0</td>\n",
       "      <td>0.0</td>\n",
       "    </tr>\n",
       "    <tr>\n",
       "      <th>...</th>\n",
       "      <td>...</td>\n",
       "      <td>...</td>\n",
       "      <td>...</td>\n",
       "      <td>...</td>\n",
       "      <td>...</td>\n",
       "      <td>...</td>\n",
       "      <td>...</td>\n",
       "      <td>...</td>\n",
       "      <td>...</td>\n",
       "      <td>...</td>\n",
       "      <td>...</td>\n",
       "      <td>...</td>\n",
       "      <td>...</td>\n",
       "      <td>...</td>\n",
       "      <td>...</td>\n",
       "      <td>...</td>\n",
       "      <td>...</td>\n",
       "      <td>...</td>\n",
       "      <td>...</td>\n",
       "      <td>...</td>\n",
       "      <td>...</td>\n",
       "    </tr>\n",
       "    <tr>\n",
       "      <th>1168</th>\n",
       "      <td>0.0</td>\n",
       "      <td>0.0</td>\n",
       "      <td>0.0</td>\n",
       "      <td>0.0</td>\n",
       "      <td>0.0</td>\n",
       "      <td>0.0</td>\n",
       "      <td>0.0</td>\n",
       "      <td>0.0</td>\n",
       "      <td>0.0</td>\n",
       "      <td>0.0</td>\n",
       "      <td>...</td>\n",
       "      <td>0.0</td>\n",
       "      <td>0.0</td>\n",
       "      <td>0.0</td>\n",
       "      <td>0.0</td>\n",
       "      <td>0.0</td>\n",
       "      <td>0.0</td>\n",
       "      <td>0.0</td>\n",
       "      <td>0.0</td>\n",
       "      <td>0.0</td>\n",
       "      <td>0.0</td>\n",
       "    </tr>\n",
       "    <tr>\n",
       "      <th>1169</th>\n",
       "      <td>0.0</td>\n",
       "      <td>0.0</td>\n",
       "      <td>0.0</td>\n",
       "      <td>0.0</td>\n",
       "      <td>0.0</td>\n",
       "      <td>0.0</td>\n",
       "      <td>0.0</td>\n",
       "      <td>0.0</td>\n",
       "      <td>0.0</td>\n",
       "      <td>0.0</td>\n",
       "      <td>...</td>\n",
       "      <td>0.0</td>\n",
       "      <td>0.0</td>\n",
       "      <td>0.0</td>\n",
       "      <td>0.0</td>\n",
       "      <td>0.0</td>\n",
       "      <td>0.0</td>\n",
       "      <td>0.0</td>\n",
       "      <td>0.0</td>\n",
       "      <td>0.0</td>\n",
       "      <td>0.0</td>\n",
       "    </tr>\n",
       "    <tr>\n",
       "      <th>1170</th>\n",
       "      <td>0.0</td>\n",
       "      <td>0.0</td>\n",
       "      <td>0.0</td>\n",
       "      <td>0.0</td>\n",
       "      <td>0.0</td>\n",
       "      <td>0.0</td>\n",
       "      <td>0.0</td>\n",
       "      <td>0.0</td>\n",
       "      <td>0.0</td>\n",
       "      <td>0.0</td>\n",
       "      <td>...</td>\n",
       "      <td>0.0</td>\n",
       "      <td>0.0</td>\n",
       "      <td>0.0</td>\n",
       "      <td>0.0</td>\n",
       "      <td>0.0</td>\n",
       "      <td>0.0</td>\n",
       "      <td>0.0</td>\n",
       "      <td>0.0</td>\n",
       "      <td>0.0</td>\n",
       "      <td>0.0</td>\n",
       "    </tr>\n",
       "    <tr>\n",
       "      <th>1171</th>\n",
       "      <td>0.0</td>\n",
       "      <td>0.0</td>\n",
       "      <td>0.0</td>\n",
       "      <td>0.0</td>\n",
       "      <td>0.0</td>\n",
       "      <td>0.0</td>\n",
       "      <td>0.0</td>\n",
       "      <td>0.0</td>\n",
       "      <td>0.0</td>\n",
       "      <td>0.0</td>\n",
       "      <td>...</td>\n",
       "      <td>0.0</td>\n",
       "      <td>0.0</td>\n",
       "      <td>0.0</td>\n",
       "      <td>0.0</td>\n",
       "      <td>0.0</td>\n",
       "      <td>0.0</td>\n",
       "      <td>0.0</td>\n",
       "      <td>0.0</td>\n",
       "      <td>0.0</td>\n",
       "      <td>0.0</td>\n",
       "    </tr>\n",
       "    <tr>\n",
       "      <th>1172</th>\n",
       "      <td>0.0</td>\n",
       "      <td>0.0</td>\n",
       "      <td>0.0</td>\n",
       "      <td>0.0</td>\n",
       "      <td>0.0</td>\n",
       "      <td>0.0</td>\n",
       "      <td>0.0</td>\n",
       "      <td>0.0</td>\n",
       "      <td>0.0</td>\n",
       "      <td>0.0</td>\n",
       "      <td>...</td>\n",
       "      <td>0.0</td>\n",
       "      <td>0.0</td>\n",
       "      <td>0.0</td>\n",
       "      <td>0.0</td>\n",
       "      <td>0.0</td>\n",
       "      <td>0.0</td>\n",
       "      <td>0.0</td>\n",
       "      <td>0.0</td>\n",
       "      <td>0.0</td>\n",
       "      <td>0.0</td>\n",
       "    </tr>\n",
       "  </tbody>\n",
       "</table>\n",
       "<p>1173 rows × 3843 columns</p>\n",
       "</div>"
      ],
      "text/plain": [
       "        a  abang  abf   ac  accor   ai  aircond  airport  airportlink  aja  \\\n",
       "0     0.0    0.0  0.0  0.0    0.0  0.0      0.0      0.0          0.0  0.0   \n",
       "1     0.0    0.0  0.0  0.0    0.0  0.0      0.0      0.0          0.0  0.0   \n",
       "2     0.0    0.0  0.0  0.0    0.0  0.0      0.0      0.0          0.0  0.0   \n",
       "3     0.0    0.0  0.0  0.0    0.0  0.0      0.0      0.0          0.0  0.0   \n",
       "4     0.0    0.0  0.0  0.0    0.0  0.0      0.0      0.0          0.0  0.0   \n",
       "...   ...    ...  ...  ...    ...  ...      ...      ...          ...  ...   \n",
       "1168  0.0    0.0  0.0  0.0    0.0  0.0      0.0      0.0          0.0  0.0   \n",
       "1169  0.0    0.0  0.0  0.0    0.0  0.0      0.0      0.0          0.0  0.0   \n",
       "1170  0.0    0.0  0.0  0.0    0.0  0.0      0.0      0.0          0.0  0.0   \n",
       "1171  0.0    0.0  0.0  0.0    0.0  0.0      0.0      0.0          0.0  0.0   \n",
       "1172  0.0    0.0  0.0  0.0    0.0  0.0      0.0      0.0          0.0  0.0   \n",
       "\n",
       "      ...  ไหล  ไหว  ไหว้   ไอ  ไอ้  ไฮเทคโนโลยี    •  •อิสระ    ️  ️มี  \n",
       "0     ...  0.0  0.0   0.0  0.0  0.0          0.0  0.0     0.0  0.0  0.0  \n",
       "1     ...  0.0  0.0   0.0  0.0  0.0          0.0  0.0     0.0  0.0  0.0  \n",
       "2     ...  0.0  0.0   0.0  0.0  0.0          0.0  0.0     0.0  0.0  0.0  \n",
       "3     ...  0.0  0.0   0.0  0.0  0.0          0.0  0.0     0.0  0.0  0.0  \n",
       "4     ...  0.0  0.0   0.0  0.0  0.0          0.0  0.0     0.0  0.0  0.0  \n",
       "...   ...  ...  ...   ...  ...  ...          ...  ...     ...  ...  ...  \n",
       "1168  ...  0.0  0.0   0.0  0.0  0.0          0.0  0.0     0.0  0.0  0.0  \n",
       "1169  ...  0.0  0.0   0.0  0.0  0.0          0.0  0.0     0.0  0.0  0.0  \n",
       "1170  ...  0.0  0.0   0.0  0.0  0.0          0.0  0.0     0.0  0.0  0.0  \n",
       "1171  ...  0.0  0.0   0.0  0.0  0.0          0.0  0.0     0.0  0.0  0.0  \n",
       "1172  ...  0.0  0.0   0.0  0.0  0.0          0.0  0.0     0.0  0.0  0.0  \n",
       "\n",
       "[1173 rows x 3843 columns]"
      ]
     },
     "execution_count": 46,
     "metadata": {},
     "output_type": "execute_result"
    }
   ],
   "source": [
    "df_features_unseen"
   ]
  },
  {
   "cell_type": "markdown",
   "metadata": {
    "id": "PJgD10xa1JaG"
   },
   "source": [
    "**Use with model**"
   ]
  },
  {
   "cell_type": "code",
   "execution_count": 47,
   "metadata": {
    "colab": {
     "base_uri": "https://localhost:8080/"
    },
    "id": "TguowP5O5FNl",
    "outputId": "3c2bda8f-29f1-40e0-a86b-cf4cc9713918"
   },
   "outputs": [
    {
     "name": "stderr",
     "output_type": "stream",
     "text": [
      "C:\\Users\\FAIR\\anaconda3\\lib\\site-packages\\sklearn\\base.py:443: UserWarning: X has feature names, but LogisticRegression was fitted without feature names\n",
      "  warnings.warn(\n"
     ]
    }
   ],
   "source": [
    "y_pred_unseen = lr.predict(df_features_unseen)"
   ]
  },
  {
   "cell_type": "code",
   "execution_count": 48,
   "metadata": {
    "id": "ZeKJMAD06f-S"
   },
   "outputs": [],
   "source": [
    "new_series = pd.Series(y_pred_unseen)"
   ]
  },
  {
   "cell_type": "code",
   "execution_count": 49,
   "metadata": {
    "id": "53cgg1uI6S_0"
   },
   "outputs": [],
   "source": [
    "df_unseen = pd.concat(([df_unseen,new_series]) , axis=1)"
   ]
  },
  {
   "cell_type": "code",
   "execution_count": 50,
   "metadata": {
    "colab": {
     "base_uri": "https://localhost:8080/",
     "height": 424
    },
    "id": "uHKGRQiN6XHe",
    "outputId": "04b7d495-b3be-43a5-fd83-31b6cf2f6fef"
   },
   "outputs": [
    {
     "data": {
      "text/html": [
       "<div>\n",
       "<style scoped>\n",
       "    .dataframe tbody tr th:only-of-type {\n",
       "        vertical-align: middle;\n",
       "    }\n",
       "\n",
       "    .dataframe tbody tr th {\n",
       "        vertical-align: top;\n",
       "    }\n",
       "\n",
       "    .dataframe thead th {\n",
       "        text-align: right;\n",
       "    }\n",
       "</style>\n",
       "<table border=\"1\" class=\"dataframe\">\n",
       "  <thead>\n",
       "    <tr style=\"text-align: right;\">\n",
       "      <th></th>\n",
       "      <th>Review</th>\n",
       "      <th>Label</th>\n",
       "    </tr>\n",
       "  </thead>\n",
       "  <tbody>\n",
       "    <tr>\n",
       "      <th>0</th>\n",
       "      <td>มาพักเป็นครั้งที่ แล้วค่ะ ประทับใจตั้งแต่ทำเลข...</td>\n",
       "      <td>Positive</td>\n",
       "    </tr>\n",
       "    <tr>\n",
       "      <th>1</th>\n",
       "      <td>บริการดี ประทับใจ เดินทางสะดวกครับ ใกล้แหล่งขอ...</td>\n",
       "      <td>Positive</td>\n",
       "    </tr>\n",
       "    <tr>\n",
       "      <th>2</th>\n",
       "      <td>การบริการดีและห้องสวยงามห้องน้ำสะอาดมีที่จอดรถ...</td>\n",
       "      <td>Positive</td>\n",
       "    </tr>\n",
       "    <tr>\n",
       "      <th>3</th>\n",
       "      <td>ทำเลโรงแรมดีมากค่ะ ห้องกว้างห้องน้ำก็กว้างสมรา...</td>\n",
       "      <td>Negative</td>\n",
       "    </tr>\n",
       "    <tr>\n",
       "      <th>4</th>\n",
       "      <td>ห้องดีมากสะอาดห้องน้ำสะอาดแอร์เย็นฉ่ำพนักงานบร...</td>\n",
       "      <td>Positive</td>\n",
       "    </tr>\n",
       "    <tr>\n",
       "      <th>...</th>\n",
       "      <td>...</td>\n",
       "      <td>...</td>\n",
       "    </tr>\n",
       "    <tr>\n",
       "      <th>1168</th>\n",
       "      <td>จองไว้สามห้อง เพราะเช้าต้องมีไปทำธุระแถวสยาม ก...</td>\n",
       "      <td>Negative</td>\n",
       "    </tr>\n",
       "    <tr>\n",
       "      <th>1169</th>\n",
       "      <td>ทำเลดีมาก เดินขึ้น bts ได้เลย ราคาค่อนข้างถูก ...</td>\n",
       "      <td>Positive</td>\n",
       "    </tr>\n",
       "    <tr>\n",
       "      <th>1170</th>\n",
       "      <td>น ตามที่แจ้งว่าสามารถเช็คอินได้ แต่เมื่อไปถึง ...</td>\n",
       "      <td>Negative</td>\n",
       "    </tr>\n",
       "    <tr>\n",
       "      <th>1171</th>\n",
       "      <td>ห้องพักสะอาด</td>\n",
       "      <td>Positive</td>\n",
       "    </tr>\n",
       "    <tr>\n",
       "      <th>1172</th>\n",
       "      <td>อีก เดือนเจอกันนะค่ะ</td>\n",
       "      <td>Positive</td>\n",
       "    </tr>\n",
       "  </tbody>\n",
       "</table>\n",
       "<p>1173 rows × 2 columns</p>\n",
       "</div>"
      ],
      "text/plain": [
       "                                                 Review     Label\n",
       "0     มาพักเป็นครั้งที่ แล้วค่ะ ประทับใจตั้งแต่ทำเลข...  Positive\n",
       "1     บริการดี ประทับใจ เดินทางสะดวกครับ ใกล้แหล่งขอ...  Positive\n",
       "2     การบริการดีและห้องสวยงามห้องน้ำสะอาดมีที่จอดรถ...  Positive\n",
       "3     ทำเลโรงแรมดีมากค่ะ ห้องกว้างห้องน้ำก็กว้างสมรา...  Negative\n",
       "4     ห้องดีมากสะอาดห้องน้ำสะอาดแอร์เย็นฉ่ำพนักงานบร...  Positive\n",
       "...                                                 ...       ...\n",
       "1168  จองไว้สามห้อง เพราะเช้าต้องมีไปทำธุระแถวสยาม ก...  Negative\n",
       "1169  ทำเลดีมาก เดินขึ้น bts ได้เลย ราคาค่อนข้างถูก ...  Positive\n",
       "1170  น ตามที่แจ้งว่าสามารถเช็คอินได้ แต่เมื่อไปถึง ...  Negative\n",
       "1171                                       ห้องพักสะอาด  Positive\n",
       "1172                               อีก เดือนเจอกันนะค่ะ  Positive\n",
       "\n",
       "[1173 rows x 2 columns]"
      ]
     },
     "execution_count": 50,
     "metadata": {},
     "output_type": "execute_result"
    }
   ],
   "source": [
    "df_unseen = df_unseen.set_axis(['Review','Label'], axis=1)\n",
    "df_unseen\n"
   ]
  },
  {
   "cell_type": "code",
   "execution_count": 51,
   "metadata": {
    "colab": {
     "base_uri": "https://localhost:8080/"
    },
    "id": "0EtTBLM_ZH3X",
    "outputId": "5d08e6d7-b14b-4a0a-b7d8-668819d02c2b"
   },
   "outputs": [
    {
     "data": {
      "text/plain": [
       "Positive    829\n",
       "Negative    344\n",
       "Name: Label, dtype: int64"
      ]
     },
     "execution_count": 51,
     "metadata": {},
     "output_type": "execute_result"
    }
   ],
   "source": [
    "df_unseen['Label'].value_counts()"
   ]
  },
  {
   "cell_type": "markdown",
   "metadata": {
    "id": "u9LPxR7KZZzW"
   },
   "source": [
    "**Merge All Data**"
   ]
  },
  {
   "cell_type": "code",
   "execution_count": 52,
   "metadata": {
    "colab": {
     "base_uri": "https://localhost:8080/",
     "height": 424
    },
    "id": "lbfxqmSi8Fyr",
    "outputId": "aaaba4df-15ac-4190-e053-ac26c9fcb745"
   },
   "outputs": [
    {
     "data": {
      "text/html": [
       "<div>\n",
       "<style scoped>\n",
       "    .dataframe tbody tr th:only-of-type {\n",
       "        vertical-align: middle;\n",
       "    }\n",
       "\n",
       "    .dataframe tbody tr th {\n",
       "        vertical-align: top;\n",
       "    }\n",
       "\n",
       "    .dataframe thead th {\n",
       "        text-align: right;\n",
       "    }\n",
       "</style>\n",
       "<table border=\"1\" class=\"dataframe\">\n",
       "  <thead>\n",
       "    <tr style=\"text-align: right;\">\n",
       "      <th></th>\n",
       "      <th>Review</th>\n",
       "      <th>Label</th>\n",
       "    </tr>\n",
       "  </thead>\n",
       "  <tbody>\n",
       "    <tr>\n",
       "      <th>0</th>\n",
       "      <td>น่าเกลียดมาก มาก บริการเป็น bitchy bitchy ห้อง...</td>\n",
       "      <td>Negative</td>\n",
       "    </tr>\n",
       "    <tr>\n",
       "      <th>1</th>\n",
       "      <td>ใกล้ตลาดประตูน้ำ หากคุณต้องการซื้อสินค้าในตลาด...</td>\n",
       "      <td>Positive</td>\n",
       "    </tr>\n",
       "    <tr>\n",
       "      <th>2</th>\n",
       "      <td>ไม่ดีมากไม่สะอาดห้องขี้เกียจพนักงาน</td>\n",
       "      <td>Negative</td>\n",
       "    </tr>\n",
       "    <tr>\n",
       "      <th>3</th>\n",
       "      <td>ตลาดที่ดีและใกล้กับห้างสรรพสินค้า</td>\n",
       "      <td>Positive</td>\n",
       "    </tr>\n",
       "    <tr>\n",
       "      <th>4</th>\n",
       "      <td>นอนหลับได้ดีเพียงแค่ต้องการเข้าไปในตรอกและรถตุ...</td>\n",
       "      <td>Negative</td>\n",
       "    </tr>\n",
       "    <tr>\n",
       "      <th>...</th>\n",
       "      <td>...</td>\n",
       "      <td>...</td>\n",
       "    </tr>\n",
       "    <tr>\n",
       "      <th>4126</th>\n",
       "      <td>จองไว้สามห้อง เพราะเช้าต้องมีไปทำธุระแถวสยาม ก...</td>\n",
       "      <td>Negative</td>\n",
       "    </tr>\n",
       "    <tr>\n",
       "      <th>4127</th>\n",
       "      <td>ทำเลดีมาก เดินขึ้น bts ได้เลย ราคาค่อนข้างถูก ...</td>\n",
       "      <td>Positive</td>\n",
       "    </tr>\n",
       "    <tr>\n",
       "      <th>4128</th>\n",
       "      <td>น ตามที่แจ้งว่าสามารถเช็คอินได้ แต่เมื่อไปถึง ...</td>\n",
       "      <td>Negative</td>\n",
       "    </tr>\n",
       "    <tr>\n",
       "      <th>4129</th>\n",
       "      <td>ห้องพักสะอาด</td>\n",
       "      <td>Positive</td>\n",
       "    </tr>\n",
       "    <tr>\n",
       "      <th>4130</th>\n",
       "      <td>อีก เดือนเจอกันนะค่ะ</td>\n",
       "      <td>Positive</td>\n",
       "    </tr>\n",
       "  </tbody>\n",
       "</table>\n",
       "<p>4131 rows × 2 columns</p>\n",
       "</div>"
      ],
      "text/plain": [
       "                                                 Review     Label\n",
       "0     น่าเกลียดมาก มาก บริการเป็น bitchy bitchy ห้อง...  Negative\n",
       "1     ใกล้ตลาดประตูน้ำ หากคุณต้องการซื้อสินค้าในตลาด...  Positive\n",
       "2                   ไม่ดีมากไม่สะอาดห้องขี้เกียจพนักงาน  Negative\n",
       "3                     ตลาดที่ดีและใกล้กับห้างสรรพสินค้า  Positive\n",
       "4     นอนหลับได้ดีเพียงแค่ต้องการเข้าไปในตรอกและรถตุ...  Negative\n",
       "...                                                 ...       ...\n",
       "4126  จองไว้สามห้อง เพราะเช้าต้องมีไปทำธุระแถวสยาม ก...  Negative\n",
       "4127  ทำเลดีมาก เดินขึ้น bts ได้เลย ราคาค่อนข้างถูก ...  Positive\n",
       "4128  น ตามที่แจ้งว่าสามารถเช็คอินได้ แต่เมื่อไปถึง ...  Negative\n",
       "4129                                       ห้องพักสะอาด  Positive\n",
       "4130                               อีก เดือนเจอกันนะค่ะ  Positive\n",
       "\n",
       "[4131 rows x 2 columns]"
      ]
     },
     "execution_count": 52,
     "metadata": {},
     "output_type": "execute_result"
    }
   ],
   "source": [
    "df_all = pd.concat([df,df_unseen]).reset_index().drop('index',axis=1)\n",
    "df_all"
   ]
  },
  {
   "cell_type": "code",
   "execution_count": 53,
   "metadata": {
    "colab": {
     "base_uri": "https://localhost:8080/"
    },
    "id": "QgKKHrMXZgV9",
    "outputId": "0d46a7cf-3872-45bf-cde8-f27975871725"
   },
   "outputs": [
    {
     "data": {
      "text/plain": [
       "Positive    2834\n",
       "Negative    1297\n",
       "Name: Label, dtype: int64"
      ]
     },
     "execution_count": 53,
     "metadata": {},
     "output_type": "execute_result"
    }
   ],
   "source": [
    "df_all['Label'].value_counts()"
   ]
  },
  {
   "cell_type": "markdown",
   "metadata": {
    "id": "qrjsGARFZoBg"
   },
   "source": [
    "แยก ข้อมูลออกตาม class เพื่อใช้ในการวิเคราะห์ขั้นต่อไป"
   ]
  },
  {
   "cell_type": "code",
   "execution_count": 54,
   "metadata": {
    "id": "wkH71jLd77Ct"
   },
   "outputs": [],
   "source": [
    "neg_class = df_all.drop(df_all[df_all['Label'] == 'Positive'].index)\n",
    "pos_class = df_all.drop(df_all[df_all['Label'] == 'Negative'].index)"
   ]
  },
  {
   "cell_type": "code",
   "execution_count": 55,
   "metadata": {
    "id": "rmBeToleaHUW"
   },
   "outputs": [],
   "source": [
    "neg_class = neg_class.reset_index().drop(['index'],axis=1)\n",
    "pos_class = pos_class.reset_index().drop(['index'],axis=1)"
   ]
  },
  {
   "cell_type": "code",
   "execution_count": 56,
   "metadata": {
    "colab": {
     "base_uri": "https://localhost:8080/",
     "height": 424
    },
    "id": "N5LN417yfzbX",
    "outputId": "c8f97f6e-ecdd-4a47-985b-6d9ff85fa303"
   },
   "outputs": [
    {
     "data": {
      "text/html": [
       "<div>\n",
       "<style scoped>\n",
       "    .dataframe tbody tr th:only-of-type {\n",
       "        vertical-align: middle;\n",
       "    }\n",
       "\n",
       "    .dataframe tbody tr th {\n",
       "        vertical-align: top;\n",
       "    }\n",
       "\n",
       "    .dataframe thead th {\n",
       "        text-align: right;\n",
       "    }\n",
       "</style>\n",
       "<table border=\"1\" class=\"dataframe\">\n",
       "  <thead>\n",
       "    <tr style=\"text-align: right;\">\n",
       "      <th></th>\n",
       "      <th>Review</th>\n",
       "      <th>Label</th>\n",
       "    </tr>\n",
       "  </thead>\n",
       "  <tbody>\n",
       "    <tr>\n",
       "      <th>0</th>\n",
       "      <td>ใกล้ตลาดประตูน้ำ หากคุณต้องการซื้อสินค้าในตลาด...</td>\n",
       "      <td>Positive</td>\n",
       "    </tr>\n",
       "    <tr>\n",
       "      <th>1</th>\n",
       "      <td>ตลาดที่ดีและใกล้กับห้างสรรพสินค้า</td>\n",
       "      <td>Positive</td>\n",
       "    </tr>\n",
       "    <tr>\n",
       "      <th>2</th>\n",
       "      <td>การบริการที่ดีใกล้กับตลาดและตลาดประตูน้ำประตูน...</td>\n",
       "      <td>Positive</td>\n",
       "    </tr>\n",
       "    <tr>\n",
       "      <th>3</th>\n",
       "      <td>โรงแรมสะอาดแผนที่ไม่เคยหายไป ผู้เป็นที่รักน่ารัก</td>\n",
       "      <td>Positive</td>\n",
       "    </tr>\n",
       "    <tr>\n",
       "      <th>4</th>\n",
       "      <td>นับเป็นครั้งที่เจ็ดในการเข้าพักที่โรงแรมสยามสต...</td>\n",
       "      <td>Positive</td>\n",
       "    </tr>\n",
       "    <tr>\n",
       "      <th>...</th>\n",
       "      <td>...</td>\n",
       "      <td>...</td>\n",
       "    </tr>\n",
       "    <tr>\n",
       "      <th>2829</th>\n",
       "      <td>เดินทางสะดวก ปลอดภัย</td>\n",
       "      <td>Positive</td>\n",
       "    </tr>\n",
       "    <tr>\n",
       "      <th>2830</th>\n",
       "      <td>ปลั๊กน้อยไปหน่อย นอกนั้นดีมาก ทำเลดีมาก</td>\n",
       "      <td>Positive</td>\n",
       "    </tr>\n",
       "    <tr>\n",
       "      <th>2831</th>\n",
       "      <td>ทำเลดีมาก เดินขึ้น bts ได้เลย ราคาค่อนข้างถูก ...</td>\n",
       "      <td>Positive</td>\n",
       "    </tr>\n",
       "    <tr>\n",
       "      <th>2832</th>\n",
       "      <td>ห้องพักสะอาด</td>\n",
       "      <td>Positive</td>\n",
       "    </tr>\n",
       "    <tr>\n",
       "      <th>2833</th>\n",
       "      <td>อีก เดือนเจอกันนะค่ะ</td>\n",
       "      <td>Positive</td>\n",
       "    </tr>\n",
       "  </tbody>\n",
       "</table>\n",
       "<p>2834 rows × 2 columns</p>\n",
       "</div>"
      ],
      "text/plain": [
       "                                                 Review     Label\n",
       "0     ใกล้ตลาดประตูน้ำ หากคุณต้องการซื้อสินค้าในตลาด...  Positive\n",
       "1                     ตลาดที่ดีและใกล้กับห้างสรรพสินค้า  Positive\n",
       "2     การบริการที่ดีใกล้กับตลาดและตลาดประตูน้ำประตูน...  Positive\n",
       "3      โรงแรมสะอาดแผนที่ไม่เคยหายไป ผู้เป็นที่รักน่ารัก  Positive\n",
       "4     นับเป็นครั้งที่เจ็ดในการเข้าพักที่โรงแรมสยามสต...  Positive\n",
       "...                                                 ...       ...\n",
       "2829                               เดินทางสะดวก ปลอดภัย  Positive\n",
       "2830            ปลั๊กน้อยไปหน่อย นอกนั้นดีมาก ทำเลดีมาก  Positive\n",
       "2831  ทำเลดีมาก เดินขึ้น bts ได้เลย ราคาค่อนข้างถูก ...  Positive\n",
       "2832                                       ห้องพักสะอาด  Positive\n",
       "2833                               อีก เดือนเจอกันนะค่ะ  Positive\n",
       "\n",
       "[2834 rows x 2 columns]"
      ]
     },
     "execution_count": 56,
     "metadata": {},
     "output_type": "execute_result"
    }
   ],
   "source": [
    "pos_class"
   ]
  },
  {
   "cell_type": "markdown",
   "metadata": {
    "id": "KeW0P-F_ZwIC"
   },
   "source": [
    "# Apriori"
   ]
  },
  {
   "cell_type": "code",
   "execution_count": 57,
   "metadata": {},
   "outputs": [],
   "source": [
    "# ----------------------------\n",
    "# BASE\n",
    "import numpy as np \n",
    "import pandas as pd \n",
    "import seaborn as sns\n",
    "import matplotlib.pyplot as plt\n",
    "import datetime as dt\n",
    "\n",
    "# ----------------------------\n",
    "# INSTALL\n",
    "#pip install mlxtend\n",
    "\n",
    "# ----------------------------\n",
    "# TRANSACTION ENCODER\n",
    "from mlxtend.preprocessing import TransactionEncoder\n",
    "\n",
    "# ----------------------------\n",
    "# APRIORI FUNCTION \n",
    "from mlxtend.frequent_patterns import apriori, association_rules\n",
    "\n",
    "# ----------------------------\n",
    "# ITERTOOLS \n",
    "import itertools\n",
    "\n",
    "# ----------------------------\n",
    "# CONFIGURATION\n",
    "import warnings\n",
    "warnings.filterwarnings(\"ignore\")\n",
    "warnings.simplefilter(action='ignore', category=FutureWarning)\n",
    "\n",
    "pd.set_option('display.max_columns', None)\n",
    "pd.options.display.float_format = '{:.2f}'.format"
   ]
  },
  {
   "cell_type": "markdown",
   "metadata": {
    "id": "1y8X16McZ9Of"
   },
   "source": [
    "**Transform Data**"
   ]
  },
  {
   "cell_type": "markdown",
   "metadata": {
    "id": "Wm0lPQm0cZNU"
   },
   "source": [
    "Tokenize and Create Bag-of-Words (BoW)\n"
   ]
  },
  {
   "cell_type": "code",
   "execution_count": 58,
   "metadata": {},
   "outputs": [
    {
     "ename": "SyntaxError",
     "evalue": "invalid syntax (2219168521.py, line 1)",
     "output_type": "error",
     "traceback": [
      "\u001b[1;36m  File \u001b[1;32m\"C:\\Users\\FAIR\\AppData\\Local\\Temp\\ipykernel_12964\\2219168521.py\"\u001b[1;36m, line \u001b[1;32m1\u001b[0m\n\u001b[1;33m    print('ssss'sdsaadw)\u001b[0m\n\u001b[1;37m                ^\u001b[0m\n\u001b[1;31mSyntaxError\u001b[0m\u001b[1;31m:\u001b[0m invalid syntax\n"
     ]
    }
   ],
   "source": [
    "#print('ssss'sdsaadw)"
   ]
  },
  {
   "cell_type": "code",
   "execution_count": 84,
   "metadata": {},
   "outputs": [],
   "source": [
    "from pythainlp import word_tokenize\n",
    "def text_process(text):\n",
    "    final = \"\".join(u for u in text if u not in (\"?\", \".\", \";\", \":\", \"!\", '\"', \"ๆ\", \"ฯ\"))\n",
    "    final = word_tokenize(final,engine ='attacut', keep_whitespace=False)\n",
    "    final = \" \".join(word for word in final)\n",
    "    final = \" \".join(word for word in final.split() \n",
    "                     if word.lower not in thai_stopwords)\n",
    "    return final"
   ]
  },
  {
   "cell_type": "code",
   "execution_count": 59,
   "metadata": {
    "id": "o2ozVBNNmfbW"
   },
   "outputs": [],
   "source": [
    "pos_class['Review_token'] = pos_class['Review'].apply(tokenize)"
   ]
  },
  {
   "cell_type": "code",
   "execution_count": 74,
   "metadata": {},
   "outputs": [
    {
     "data": {
      "text/html": [
       "<div>\n",
       "<style scoped>\n",
       "    .dataframe tbody tr th:only-of-type {\n",
       "        vertical-align: middle;\n",
       "    }\n",
       "\n",
       "    .dataframe tbody tr th {\n",
       "        vertical-align: top;\n",
       "    }\n",
       "\n",
       "    .dataframe thead th {\n",
       "        text-align: right;\n",
       "    }\n",
       "</style>\n",
       "<table border=\"1\" class=\"dataframe\">\n",
       "  <thead>\n",
       "    <tr style=\"text-align: right;\">\n",
       "      <th></th>\n",
       "      <th>Review</th>\n",
       "      <th>Label</th>\n",
       "      <th>Review_token</th>\n",
       "    </tr>\n",
       "  </thead>\n",
       "  <tbody>\n",
       "    <tr>\n",
       "      <th>0</th>\n",
       "      <td>ใกล้ตลาดประตูน้ำ หากคุณต้องการซื้อสินค้าในตลาด...</td>\n",
       "      <td>Positive</td>\n",
       "      <td>[ใกล้, ตลาด, ประตู, น้ำ, หาก, คุณ, ต้องการ, ซื...</td>\n",
       "    </tr>\n",
       "    <tr>\n",
       "      <th>1</th>\n",
       "      <td>ตลาดที่ดีและใกล้กับห้างสรรพสินค้า</td>\n",
       "      <td>Positive</td>\n",
       "      <td>[ตลาด, ที่, ดี, และ, ใกล้, กับ, ห้าง, สรรพสินค้า]</td>\n",
       "    </tr>\n",
       "    <tr>\n",
       "      <th>2</th>\n",
       "      <td>การบริการที่ดีใกล้กับตลาดและตลาดประตูน้ำประตูน...</td>\n",
       "      <td>Positive</td>\n",
       "      <td>[การ, บริการ, ที่, ดี, ใกล้, กับ, ตลาด, และ, ต...</td>\n",
       "    </tr>\n",
       "    <tr>\n",
       "      <th>3</th>\n",
       "      <td>โรงแรมสะอาดแผนที่ไม่เคยหายไป ผู้เป็นที่รักน่ารัก</td>\n",
       "      <td>Positive</td>\n",
       "      <td>[โรง, แรม, สะอาด, แผนที่, ไม่, เคย, หาย, ไป, ผ...</td>\n",
       "    </tr>\n",
       "    <tr>\n",
       "      <th>4</th>\n",
       "      <td>นับเป็นครั้งที่เจ็ดในการเข้าพักที่โรงแรมสยามสต...</td>\n",
       "      <td>Positive</td>\n",
       "      <td>[นับ, เป็น, ครั้ง, ที่, เจ็ด, ใน, การ, เข้า, พ...</td>\n",
       "    </tr>\n",
       "    <tr>\n",
       "      <th>...</th>\n",
       "      <td>...</td>\n",
       "      <td>...</td>\n",
       "      <td>...</td>\n",
       "    </tr>\n",
       "    <tr>\n",
       "      <th>2829</th>\n",
       "      <td>เดินทางสะดวก ปลอดภัย</td>\n",
       "      <td>Positive</td>\n",
       "      <td>[เดินทาง, สะดวก, ปลอด, ภัย]</td>\n",
       "    </tr>\n",
       "    <tr>\n",
       "      <th>2830</th>\n",
       "      <td>ปลั๊กน้อยไปหน่อย นอกนั้นดีมาก ทำเลดีมาก</td>\n",
       "      <td>Positive</td>\n",
       "      <td>[ปลั๊ก, น้อย, ไป, หน่อย, นอก, นั้น, ดี, มาก, ท...</td>\n",
       "    </tr>\n",
       "    <tr>\n",
       "      <th>2831</th>\n",
       "      <td>ทำเลดีมาก เดินขึ้น bts ได้เลย ราคาค่อนข้างถูก ...</td>\n",
       "      <td>Positive</td>\n",
       "      <td>[ทำเล, ดี, มาก, เดิน, ขึ้น, bts, ได้, เลย, ราค...</td>\n",
       "    </tr>\n",
       "    <tr>\n",
       "      <th>2832</th>\n",
       "      <td>ห้องพักสะอาด</td>\n",
       "      <td>Positive</td>\n",
       "      <td>[ห้อง, พัก, สะอาด]</td>\n",
       "    </tr>\n",
       "    <tr>\n",
       "      <th>2833</th>\n",
       "      <td>อีก เดือนเจอกันนะค่ะ</td>\n",
       "      <td>Positive</td>\n",
       "      <td>[อีก, เดือน, เจอ, กัน, นะ, ค่ะ]</td>\n",
       "    </tr>\n",
       "  </tbody>\n",
       "</table>\n",
       "<p>2834 rows × 3 columns</p>\n",
       "</div>"
      ],
      "text/plain": [
       "                                                 Review     Label  \\\n",
       "0     ใกล้ตลาดประตูน้ำ หากคุณต้องการซื้อสินค้าในตลาด...  Positive   \n",
       "1                     ตลาดที่ดีและใกล้กับห้างสรรพสินค้า  Positive   \n",
       "2     การบริการที่ดีใกล้กับตลาดและตลาดประตูน้ำประตูน...  Positive   \n",
       "3      โรงแรมสะอาดแผนที่ไม่เคยหายไป ผู้เป็นที่รักน่ารัก  Positive   \n",
       "4     นับเป็นครั้งที่เจ็ดในการเข้าพักที่โรงแรมสยามสต...  Positive   \n",
       "...                                                 ...       ...   \n",
       "2829                               เดินทางสะดวก ปลอดภัย  Positive   \n",
       "2830            ปลั๊กน้อยไปหน่อย นอกนั้นดีมาก ทำเลดีมาก  Positive   \n",
       "2831  ทำเลดีมาก เดินขึ้น bts ได้เลย ราคาค่อนข้างถูก ...  Positive   \n",
       "2832                                       ห้องพักสะอาด  Positive   \n",
       "2833                               อีก เดือนเจอกันนะค่ะ  Positive   \n",
       "\n",
       "                                           Review_token  \n",
       "0     [ใกล้, ตลาด, ประตู, น้ำ, หาก, คุณ, ต้องการ, ซื...  \n",
       "1     [ตลาด, ที่, ดี, และ, ใกล้, กับ, ห้าง, สรรพสินค้า]  \n",
       "2     [การ, บริการ, ที่, ดี, ใกล้, กับ, ตลาด, และ, ต...  \n",
       "3     [โรง, แรม, สะอาด, แผนที่, ไม่, เคย, หาย, ไป, ผ...  \n",
       "4     [นับ, เป็น, ครั้ง, ที่, เจ็ด, ใน, การ, เข้า, พ...  \n",
       "...                                                 ...  \n",
       "2829                        [เดินทาง, สะดวก, ปลอด, ภัย]  \n",
       "2830  [ปลั๊ก, น้อย, ไป, หน่อย, นอก, นั้น, ดี, มาก, ท...  \n",
       "2831  [ทำเล, ดี, มาก, เดิน, ขึ้น, bts, ได้, เลย, ราค...  \n",
       "2832                                 [ห้อง, พัก, สะอาด]  \n",
       "2833                    [อีก, เดือน, เจอ, กัน, นะ, ค่ะ]  \n",
       "\n",
       "[2834 rows x 3 columns]"
      ]
     },
     "execution_count": 74,
     "metadata": {},
     "output_type": "execute_result"
    }
   ],
   "source": [
    "pos_class"
   ]
  },
  {
   "cell_type": "code",
   "execution_count": 82,
   "metadata": {},
   "outputs": [
    {
     "data": {
      "text/html": [
       "<div>\n",
       "<style scoped>\n",
       "    .dataframe tbody tr th:only-of-type {\n",
       "        vertical-align: middle;\n",
       "    }\n",
       "\n",
       "    .dataframe tbody tr th {\n",
       "        vertical-align: top;\n",
       "    }\n",
       "\n",
       "    .dataframe thead th {\n",
       "        text-align: right;\n",
       "    }\n",
       "</style>\n",
       "<table border=\"1\" class=\"dataframe\">\n",
       "  <thead>\n",
       "    <tr style=\"text-align: right;\">\n",
       "      <th></th>\n",
       "      <th>Review</th>\n",
       "      <th>Review_token</th>\n",
       "    </tr>\n",
       "  </thead>\n",
       "  <tbody>\n",
       "    <tr>\n",
       "      <th>0</th>\n",
       "      <td>ใกล้ตลาดประตูน้ำ หากคุณต้องการซื้อสินค้าในตลาด...</td>\n",
       "      <td>[ใกล้, ตลาด, ประตู, น้ำ, หาก, คุณ, ต้องการ, ซื...</td>\n",
       "    </tr>\n",
       "    <tr>\n",
       "      <th>1</th>\n",
       "      <td>ตลาดที่ดีและใกล้กับห้างสรรพสินค้า</td>\n",
       "      <td>[ตลาด, ที่, ดี, และ, ใกล้, กับ, ห้าง, สรรพสินค้า]</td>\n",
       "    </tr>\n",
       "    <tr>\n",
       "      <th>2</th>\n",
       "      <td>การบริการที่ดีใกล้กับตลาดและตลาดประตูน้ำประตูน...</td>\n",
       "      <td>[การ, บริการ, ที่, ดี, ใกล้, กับ, ตลาด, และ, ต...</td>\n",
       "    </tr>\n",
       "    <tr>\n",
       "      <th>3</th>\n",
       "      <td>โรงแรมสะอาดแผนที่ไม่เคยหายไป ผู้เป็นที่รักน่ารัก</td>\n",
       "      <td>[โรง, แรม, สะอาด, แผนที่, ไม่, เคย, หาย, ไป, ผ...</td>\n",
       "    </tr>\n",
       "    <tr>\n",
       "      <th>4</th>\n",
       "      <td>นับเป็นครั้งที่เจ็ดในการเข้าพักที่โรงแรมสยามสต...</td>\n",
       "      <td>[นับ, เป็น, ครั้ง, ที่, เจ็ด, ใน, การ, เข้า, พ...</td>\n",
       "    </tr>\n",
       "    <tr>\n",
       "      <th>...</th>\n",
       "      <td>...</td>\n",
       "      <td>...</td>\n",
       "    </tr>\n",
       "    <tr>\n",
       "      <th>2829</th>\n",
       "      <td>เดินทางสะดวก ปลอดภัย</td>\n",
       "      <td>[เดินทาง, สะดวก, ปลอด, ภัย]</td>\n",
       "    </tr>\n",
       "    <tr>\n",
       "      <th>2830</th>\n",
       "      <td>ปลั๊กน้อยไปหน่อย นอกนั้นดีมาก ทำเลดีมาก</td>\n",
       "      <td>[ปลั๊ก, น้อย, ไป, หน่อย, นอก, นั้น, ดี, มาก, ท...</td>\n",
       "    </tr>\n",
       "    <tr>\n",
       "      <th>2831</th>\n",
       "      <td>ทำเลดีมาก เดินขึ้น bts ได้เลย ราคาค่อนข้างถูก ...</td>\n",
       "      <td>[ทำเล, ดี, มาก, เดิน, ขึ้น, bts, ได้, เลย, ราค...</td>\n",
       "    </tr>\n",
       "    <tr>\n",
       "      <th>2832</th>\n",
       "      <td>ห้องพักสะอาด</td>\n",
       "      <td>[ห้อง, พัก, สะอาด]</td>\n",
       "    </tr>\n",
       "    <tr>\n",
       "      <th>2833</th>\n",
       "      <td>อีก เดือนเจอกันนะค่ะ</td>\n",
       "      <td>[อีก, เดือน, เจอ, กัน, นะ, ค่ะ]</td>\n",
       "    </tr>\n",
       "  </tbody>\n",
       "</table>\n",
       "<p>2834 rows × 2 columns</p>\n",
       "</div>"
      ],
      "text/plain": [
       "                                                 Review  \\\n",
       "0     ใกล้ตลาดประตูน้ำ หากคุณต้องการซื้อสินค้าในตลาด...   \n",
       "1                     ตลาดที่ดีและใกล้กับห้างสรรพสินค้า   \n",
       "2     การบริการที่ดีใกล้กับตลาดและตลาดประตูน้ำประตูน...   \n",
       "3      โรงแรมสะอาดแผนที่ไม่เคยหายไป ผู้เป็นที่รักน่ารัก   \n",
       "4     นับเป็นครั้งที่เจ็ดในการเข้าพักที่โรงแรมสยามสต...   \n",
       "...                                                 ...   \n",
       "2829                               เดินทางสะดวก ปลอดภัย   \n",
       "2830            ปลั๊กน้อยไปหน่อย นอกนั้นดีมาก ทำเลดีมาก   \n",
       "2831  ทำเลดีมาก เดินขึ้น bts ได้เลย ราคาค่อนข้างถูก ...   \n",
       "2832                                       ห้องพักสะอาด   \n",
       "2833                               อีก เดือนเจอกันนะค่ะ   \n",
       "\n",
       "                                           Review_token  \n",
       "0     [ใกล้, ตลาด, ประตู, น้ำ, หาก, คุณ, ต้องการ, ซื...  \n",
       "1     [ตลาด, ที่, ดี, และ, ใกล้, กับ, ห้าง, สรรพสินค้า]  \n",
       "2     [การ, บริการ, ที่, ดี, ใกล้, กับ, ตลาด, และ, ต...  \n",
       "3     [โรง, แรม, สะอาด, แผนที่, ไม่, เคย, หาย, ไป, ผ...  \n",
       "4     [นับ, เป็น, ครั้ง, ที่, เจ็ด, ใน, การ, เข้า, พ...  \n",
       "...                                                 ...  \n",
       "2829                        [เดินทาง, สะดวก, ปลอด, ภัย]  \n",
       "2830  [ปลั๊ก, น้อย, ไป, หน่อย, นอก, นั้น, ดี, มาก, ท...  \n",
       "2831  [ทำเล, ดี, มาก, เดิน, ขึ้น, bts, ได้, เลย, ราค...  \n",
       "2832                                 [ห้อง, พัก, สะอาด]  \n",
       "2833                    [อีก, เดือน, เจอ, กัน, นะ, ค่ะ]  \n",
       "\n",
       "[2834 rows x 2 columns]"
      ]
     },
     "execution_count": 82,
     "metadata": {},
     "output_type": "execute_result"
    }
   ],
   "source": [
    "pop_class_token = pos_class.drop(['Label'],axis=1)\n",
    "pop_class_token"
   ]
  },
  {
   "cell_type": "code",
   "execution_count": 83,
   "metadata": {
    "id": "-7g6Okukaseh"
   },
   "outputs": [
    {
     "ename": "AttributeError",
     "evalue": "'list' object has no attribute 'split'",
     "output_type": "error",
     "traceback": [
      "\u001b[1;31m---------------------------------------------------------------------------\u001b[0m",
      "\u001b[1;31mAttributeError\u001b[0m                            Traceback (most recent call last)",
      "\u001b[1;32m~\\AppData\\Local\\Temp\\ipykernel_12964\\1065520526.py\u001b[0m in \u001b[0;36m<module>\u001b[1;34m\u001b[0m\n\u001b[0;32m      2\u001b[0m \u001b[0mcvec\u001b[0m \u001b[1;33m=\u001b[0m \u001b[0mCountVectorizer\u001b[0m\u001b[1;33m(\u001b[0m\u001b[0manalyzer\u001b[0m\u001b[1;33m=\u001b[0m\u001b[1;32mlambda\u001b[0m \u001b[0mx\u001b[0m\u001b[1;33m:\u001b[0m\u001b[0mx\u001b[0m\u001b[1;33m.\u001b[0m\u001b[0msplit\u001b[0m\u001b[1;33m(\u001b[0m\u001b[1;34m' '\u001b[0m\u001b[1;33m)\u001b[0m\u001b[1;33m)\u001b[0m\u001b[1;33m\u001b[0m\u001b[1;33m\u001b[0m\u001b[0m\n\u001b[0;32m      3\u001b[0m \u001b[1;33m\u001b[0m\u001b[0m\n\u001b[1;32m----> 4\u001b[1;33m \u001b[0mcvec\u001b[0m\u001b[1;33m.\u001b[0m\u001b[0mfit_transform\u001b[0m\u001b[1;33m(\u001b[0m\u001b[0mpop_class_token\u001b[0m\u001b[1;33m[\u001b[0m\u001b[1;34m'Review_token'\u001b[0m\u001b[1;33m]\u001b[0m\u001b[1;33m)\u001b[0m\u001b[1;33m\u001b[0m\u001b[1;33m\u001b[0m\u001b[0m\n\u001b[0m\u001b[0;32m      5\u001b[0m \u001b[0mcvec\u001b[0m\u001b[1;33m.\u001b[0m\u001b[0mvocabulary_\u001b[0m\u001b[1;33m\u001b[0m\u001b[1;33m\u001b[0m\u001b[0m\n",
      "\u001b[1;32m~\\anaconda3\\lib\\site-packages\\sklearn\\feature_extraction\\text.py\u001b[0m in \u001b[0;36mfit_transform\u001b[1;34m(self, raw_documents, y)\u001b[0m\n\u001b[0;32m   1328\u001b[0m                     \u001b[1;32mbreak\u001b[0m\u001b[1;33m\u001b[0m\u001b[1;33m\u001b[0m\u001b[0m\n\u001b[0;32m   1329\u001b[0m \u001b[1;33m\u001b[0m\u001b[0m\n\u001b[1;32m-> 1330\u001b[1;33m         \u001b[0mvocabulary\u001b[0m\u001b[1;33m,\u001b[0m \u001b[0mX\u001b[0m \u001b[1;33m=\u001b[0m \u001b[0mself\u001b[0m\u001b[1;33m.\u001b[0m\u001b[0m_count_vocab\u001b[0m\u001b[1;33m(\u001b[0m\u001b[0mraw_documents\u001b[0m\u001b[1;33m,\u001b[0m \u001b[0mself\u001b[0m\u001b[1;33m.\u001b[0m\u001b[0mfixed_vocabulary_\u001b[0m\u001b[1;33m)\u001b[0m\u001b[1;33m\u001b[0m\u001b[1;33m\u001b[0m\u001b[0m\n\u001b[0m\u001b[0;32m   1331\u001b[0m \u001b[1;33m\u001b[0m\u001b[0m\n\u001b[0;32m   1332\u001b[0m         \u001b[1;32mif\u001b[0m \u001b[0mself\u001b[0m\u001b[1;33m.\u001b[0m\u001b[0mbinary\u001b[0m\u001b[1;33m:\u001b[0m\u001b[1;33m\u001b[0m\u001b[1;33m\u001b[0m\u001b[0m\n",
      "\u001b[1;32m~\\anaconda3\\lib\\site-packages\\sklearn\\feature_extraction\\text.py\u001b[0m in \u001b[0;36m_count_vocab\u001b[1;34m(self, raw_documents, fixed_vocab)\u001b[0m\n\u001b[0;32m   1199\u001b[0m         \u001b[1;32mfor\u001b[0m \u001b[0mdoc\u001b[0m \u001b[1;32min\u001b[0m \u001b[0mraw_documents\u001b[0m\u001b[1;33m:\u001b[0m\u001b[1;33m\u001b[0m\u001b[1;33m\u001b[0m\u001b[0m\n\u001b[0;32m   1200\u001b[0m             \u001b[0mfeature_counter\u001b[0m \u001b[1;33m=\u001b[0m \u001b[1;33m{\u001b[0m\u001b[1;33m}\u001b[0m\u001b[1;33m\u001b[0m\u001b[1;33m\u001b[0m\u001b[0m\n\u001b[1;32m-> 1201\u001b[1;33m             \u001b[1;32mfor\u001b[0m \u001b[0mfeature\u001b[0m \u001b[1;32min\u001b[0m \u001b[0manalyze\u001b[0m\u001b[1;33m(\u001b[0m\u001b[0mdoc\u001b[0m\u001b[1;33m)\u001b[0m\u001b[1;33m:\u001b[0m\u001b[1;33m\u001b[0m\u001b[1;33m\u001b[0m\u001b[0m\n\u001b[0m\u001b[0;32m   1202\u001b[0m                 \u001b[1;32mtry\u001b[0m\u001b[1;33m:\u001b[0m\u001b[1;33m\u001b[0m\u001b[1;33m\u001b[0m\u001b[0m\n\u001b[0;32m   1203\u001b[0m                     \u001b[0mfeature_idx\u001b[0m \u001b[1;33m=\u001b[0m \u001b[0mvocabulary\u001b[0m\u001b[1;33m[\u001b[0m\u001b[0mfeature\u001b[0m\u001b[1;33m]\u001b[0m\u001b[1;33m\u001b[0m\u001b[1;33m\u001b[0m\u001b[0m\n",
      "\u001b[1;32m~\\anaconda3\\lib\\site-packages\\sklearn\\feature_extraction\\text.py\u001b[0m in \u001b[0;36m_analyze\u001b[1;34m(doc, analyzer, tokenizer, ngrams, preprocessor, decoder, stop_words)\u001b[0m\n\u001b[0;32m    108\u001b[0m         \u001b[0mdoc\u001b[0m \u001b[1;33m=\u001b[0m \u001b[0mdecoder\u001b[0m\u001b[1;33m(\u001b[0m\u001b[0mdoc\u001b[0m\u001b[1;33m)\u001b[0m\u001b[1;33m\u001b[0m\u001b[1;33m\u001b[0m\u001b[0m\n\u001b[0;32m    109\u001b[0m     \u001b[1;32mif\u001b[0m \u001b[0manalyzer\u001b[0m \u001b[1;32mis\u001b[0m \u001b[1;32mnot\u001b[0m \u001b[1;32mNone\u001b[0m\u001b[1;33m:\u001b[0m\u001b[1;33m\u001b[0m\u001b[1;33m\u001b[0m\u001b[0m\n\u001b[1;32m--> 110\u001b[1;33m         \u001b[0mdoc\u001b[0m \u001b[1;33m=\u001b[0m \u001b[0manalyzer\u001b[0m\u001b[1;33m(\u001b[0m\u001b[0mdoc\u001b[0m\u001b[1;33m)\u001b[0m\u001b[1;33m\u001b[0m\u001b[1;33m\u001b[0m\u001b[0m\n\u001b[0m\u001b[0;32m    111\u001b[0m     \u001b[1;32melse\u001b[0m\u001b[1;33m:\u001b[0m\u001b[1;33m\u001b[0m\u001b[1;33m\u001b[0m\u001b[0m\n\u001b[0;32m    112\u001b[0m         \u001b[1;32mif\u001b[0m \u001b[0mpreprocessor\u001b[0m \u001b[1;32mis\u001b[0m \u001b[1;32mnot\u001b[0m \u001b[1;32mNone\u001b[0m\u001b[1;33m:\u001b[0m\u001b[1;33m\u001b[0m\u001b[1;33m\u001b[0m\u001b[0m\n",
      "\u001b[1;32m~\\AppData\\Local\\Temp\\ipykernel_12964\\1065520526.py\u001b[0m in \u001b[0;36m<lambda>\u001b[1;34m(x)\u001b[0m\n\u001b[0;32m      1\u001b[0m \u001b[1;32mfrom\u001b[0m \u001b[0msklearn\u001b[0m\u001b[1;33m.\u001b[0m\u001b[0mfeature_extraction\u001b[0m\u001b[1;33m.\u001b[0m\u001b[0mtext\u001b[0m \u001b[1;32mimport\u001b[0m \u001b[0mCountVectorizer\u001b[0m\u001b[1;33m\u001b[0m\u001b[1;33m\u001b[0m\u001b[0m\n\u001b[1;32m----> 2\u001b[1;33m \u001b[0mcvec\u001b[0m \u001b[1;33m=\u001b[0m \u001b[0mCountVectorizer\u001b[0m\u001b[1;33m(\u001b[0m\u001b[0manalyzer\u001b[0m\u001b[1;33m=\u001b[0m\u001b[1;32mlambda\u001b[0m \u001b[0mx\u001b[0m\u001b[1;33m:\u001b[0m\u001b[0mx\u001b[0m\u001b[1;33m.\u001b[0m\u001b[0msplit\u001b[0m\u001b[1;33m(\u001b[0m\u001b[1;34m' '\u001b[0m\u001b[1;33m)\u001b[0m\u001b[1;33m)\u001b[0m\u001b[1;33m\u001b[0m\u001b[1;33m\u001b[0m\u001b[0m\n\u001b[0m\u001b[0;32m      3\u001b[0m \u001b[1;33m\u001b[0m\u001b[0m\n\u001b[0;32m      4\u001b[0m \u001b[0mcvec\u001b[0m\u001b[1;33m.\u001b[0m\u001b[0mfit_transform\u001b[0m\u001b[1;33m(\u001b[0m\u001b[0mpop_class_token\u001b[0m\u001b[1;33m[\u001b[0m\u001b[1;34m'Review_token'\u001b[0m\u001b[1;33m]\u001b[0m\u001b[1;33m)\u001b[0m\u001b[1;33m\u001b[0m\u001b[1;33m\u001b[0m\u001b[0m\n\u001b[0;32m      5\u001b[0m \u001b[0mcvec\u001b[0m\u001b[1;33m.\u001b[0m\u001b[0mvocabulary_\u001b[0m\u001b[1;33m\u001b[0m\u001b[1;33m\u001b[0m\u001b[0m\n",
      "\u001b[1;31mAttributeError\u001b[0m: 'list' object has no attribute 'split'"
     ]
    }
   ],
   "source": [
    "from sklearn.feature_extraction.text import CountVectorizer\n",
    "cvec = CountVectorizer(analyzer=lambda x:x.split(' '))\n",
    "\n",
    "cvec.fit_transform(pop_class_token['Review_token'])\n",
    "cvec.vocabulary_"
   ]
  },
  {
   "cell_type": "code",
   "execution_count": 76,
   "metadata": {
    "colab": {
     "base_uri": "https://localhost:8080/",
     "height": 1000
    },
    "id": "bKxr4KgFmNuj",
    "outputId": "748f1d66-77c6-47bd-a714-2fd390c2e1b4"
   },
   "outputs": [
    {
     "ename": "NameError",
     "evalue": "name 'pos_class_features' is not defined",
     "output_type": "error",
     "traceback": [
      "\u001b[1;31m---------------------------------------------------------------------------\u001b[0m",
      "\u001b[1;31mNameError\u001b[0m                                 Traceback (most recent call last)",
      "\u001b[1;32m~\\AppData\\Local\\Temp\\ipykernel_12964\\3190514133.py\u001b[0m in \u001b[0;36m<module>\u001b[1;34m\u001b[0m\n\u001b[1;32m----> 1\u001b[1;33m \u001b[0mdf_pos_class_features\u001b[0m \u001b[1;33m=\u001b[0m \u001b[0mpd\u001b[0m\u001b[1;33m.\u001b[0m\u001b[0mDataFrame\u001b[0m\u001b[1;33m(\u001b[0m\u001b[0mpos_class_features\u001b[0m\u001b[1;33m.\u001b[0m\u001b[0mtoarray\u001b[0m\u001b[1;33m(\u001b[0m\u001b[1;33m)\u001b[0m\u001b[1;33m,\u001b[0m \u001b[0mcolumns\u001b[0m\u001b[1;33m=\u001b[0m\u001b[0mvectorizer\u001b[0m\u001b[1;33m.\u001b[0m\u001b[0mget_feature_names\u001b[0m\u001b[1;33m(\u001b[0m\u001b[1;33m)\u001b[0m\u001b[1;33m,\u001b[0m \u001b[0mindex\u001b[0m\u001b[1;33m=\u001b[0m\u001b[0mpos_class\u001b[0m\u001b[1;33m[\u001b[0m\u001b[1;34m'Review_token'\u001b[0m\u001b[1;33m]\u001b[0m\u001b[1;33m)\u001b[0m\u001b[1;33m\u001b[0m\u001b[1;33m\u001b[0m\u001b[0m\n\u001b[0m\u001b[0;32m      2\u001b[0m \u001b[0mdf_pos_class_features\u001b[0m\u001b[1;33m\u001b[0m\u001b[1;33m\u001b[0m\u001b[0m\n",
      "\u001b[1;31mNameError\u001b[0m: name 'pos_class_features' is not defined"
     ]
    }
   ],
   "source": [
    "df_pos_class_features = pd.DataFrame(pos_class_features.toarray(), columns=vectorizer.get_feature_names(), index=pos_class['Review_token'])\n",
    "df_pos_class_features"
   ]
  },
  {
   "cell_type": "markdown",
   "metadata": {
    "id": "eRt-MHwJpkBj"
   },
   "source": [
    "**Apply with Apriori (Pattern)**"
   ]
  },
  {
   "cell_type": "code",
   "execution_count": null,
   "metadata": {
    "colab": {
     "base_uri": "https://localhost:8080/"
    },
    "id": "rQIrejmtt5cv",
    "outputId": "51adfb9c-272c-4d77-a4d8-2c11391e574d"
   },
   "outputs": [],
   "source": [
    "pip install apyori"
   ]
  },
  {
   "cell_type": "code",
   "execution_count": null,
   "metadata": {
    "id": "9ISnvLRwpq6H"
   },
   "outputs": [],
   "source": [
    "import numpy as np\n",
    "import matplotlib.pyplot as plt\n",
    "import pandas as pd\n",
    "from apyori import apriori"
   ]
  },
  {
   "cell_type": "code",
   "execution_count": null,
   "metadata": {
    "colab": {
     "base_uri": "https://localhost:8080/",
     "height": 201
    },
    "id": "Sm1OeNJCxwGH",
    "outputId": "99f2cad7-e8ae-48e3-979e-b0d1607a45b3"
   },
   "outputs": [],
   "source": [
    "association_rules = apriori(pos_class['Review_token'], min_support=0.0045, min_confidence=0.2, min_lift=3, min_length=2)\n",
    "association_results = list(association_rules)"
   ]
  },
  {
   "cell_type": "code",
   "execution_count": null,
   "metadata": {
    "colab": {
     "base_uri": "https://localhost:8080/",
     "height": 287
    },
    "id": "PP1Yu3F7t915",
    "outputId": "3f81921a-a29e-4185-b059-8c97b601d63f"
   },
   "outputs": [],
   "source": [
    "records = []\n",
    "for i in range(0, 7501):\n",
    "    records.append([str(store_data.values[i,j]) for j in range(0, 20)])"
   ]
  },
  {
   "cell_type": "markdown",
   "metadata": {
    "id": "QGn_xl8k52w2"
   },
   "source": [
    "# Word Cloud"
   ]
  },
  {
   "cell_type": "code",
   "execution_count": null,
   "metadata": {
    "id": "bSSi4LiJ9GpL"
   },
   "outputs": [],
   "source": []
  },
  {
   "cell_type": "markdown",
   "metadata": {
    "id": "6SGTT8x0qPHV"
   },
   "source": [
    "# **เก็บไว้ก่อน**"
   ]
  },
  {
   "cell_type": "code",
   "execution_count": null,
   "metadata": {
    "colab": {
     "base_uri": "https://localhost:8080/"
    },
    "id": "Oq7HxLbsCq6m",
    "outputId": "a217779c-4c5b-4437-9480-bc30af6887c0"
   },
   "outputs": [],
   "source": [
    "y_test.value_counts()"
   ]
  },
  {
   "cell_type": "code",
   "execution_count": null,
   "metadata": {
    "colab": {
     "base_uri": "https://localhost:8080/"
    },
    "id": "fVN1b2d2Cx0D",
    "outputId": "eb6a2511-1a4f-4b97-cd7b-6c10aa14ced0"
   },
   "outputs": [],
   "source": [
    "test_predictions = pd.Series(test_predictions)\n",
    "test_predictions.value_counts()"
   ]
  },
  {
   "cell_type": "code",
   "execution_count": null,
   "metadata": {
    "colab": {
     "base_uri": "https://localhost:8080/"
    },
    "id": "PRHg4e56-HdT",
    "outputId": "8bdb000e-bc43-47ee-9ab3-34e7830ef464"
   },
   "outputs": [],
   "source": [
    "from sklearn.metrics import confusion_matrix\n",
    " \n",
    "cm = confusion_matrix(y_test,test_predictions)\n",
    "cm"
   ]
  },
  {
   "cell_type": "code",
   "execution_count": null,
   "metadata": {
    "colab": {
     "base_uri": "https://localhost:8080/",
     "height": 517
    },
    "id": "qAj6bElI8YwF",
    "outputId": "57d10609-95d9-4bd5-8dc6-354e0b75ecad"
   },
   "outputs": [],
   "source": [
    "plt.figure(figsize = (18,8))\n",
    "sns.heatmap(metrics.confusion_matrix(y_test, test_predictions), annot = True, xticklabels = y_test.unique(), yticklabels = y_test.unique(), cmap = 'summer')\n",
    "plt.xlabel('Predicted Labels')\n",
    "plt.ylabel('True Labels')\n",
    "plt.show()"
   ]
  },
  {
   "cell_type": "code",
   "execution_count": null,
   "metadata": {
    "colab": {
     "base_uri": "https://localhost:8080/",
     "height": 350
    },
    "id": "ZLjwqKcpy8su",
    "outputId": "76304ed1-6439-4a91-c4df-c977920df692"
   },
   "outputs": [],
   "source": [
    "import matplotlib.pyplot as plt\n",
    "from sklearn.metrics import plot_confusion_matrix\n",
    " \n",
    "color = 'white'\n",
    "matrix = plot_confusion_matrix(lr, X_test, y_test, cmap=plt.cm.Blues)\n",
    "matrix.ax_.set_title('Confusion Matrix', color=color)\n",
    "plt.xlabel('Predicted Label', color=color)\n",
    "plt.ylabel('True Label', color=color)\n",
    "plt.gcf().axes[0].tick_params(colors=color)\n",
    "plt.gcf().axes[1].tick_params(colors=color)\n",
    "plt.show()"
   ]
  }
 ],
 "metadata": {
  "colab": {
   "provenance": [],
   "toc_visible": true
  },
  "kernelspec": {
   "display_name": "Python 3 (ipykernel)",
   "language": "python",
   "name": "python3"
  },
  "language_info": {
   "codemirror_mode": {
    "name": "ipython",
    "version": 3
   },
   "file_extension": ".py",
   "mimetype": "text/x-python",
   "name": "python",
   "nbconvert_exporter": "python",
   "pygments_lexer": "ipython3",
   "version": "3.9.13"
  }
 },
 "nbformat": 4,
 "nbformat_minor": 1
}
